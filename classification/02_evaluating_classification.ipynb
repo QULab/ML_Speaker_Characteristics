{
 "cells": [
  {
   "cell_type": "markdown",
   "metadata": {},
   "source": [
    "## Evaluating regression techniques for speaker characterization\n",
    "### Laura Fernández Gallardo\n",
    "\n",
    "In this notebook, I will evaluate the performance of different classification techniques for characterizing users. The aggregated subjective ratings (approximately normally-distributed) will be thresholded based on percentiles to define 3 classes (\"high\", \"mid\", and \"low\") with approximately the same number of samples.\n",
    "\n",
    "As evaluation metrics, I will consider the per-class accuracy. Less confusions between the \"high\" and the \"low\" class are desired, while low accuracy recognizing the \"middle class\" would be less critical."
   ]
  },
  {
   "cell_type": "code",
   "execution_count": 1,
   "metadata": {
    "collapsed": true
   },
   "outputs": [],
   "source": [
    "import io\n",
    "import requests\n",
    "\n",
    "import numpy as np\n",
    "import pandas as pd\n",
    "\n",
    "from sklearn.preprocessing import StandardScaler\n",
    "from sklearn.decomposition import PCA\n",
    "from sklearn.model_selection import train_test_split\n",
    "from sklearn.model_selection import GridSearchCV\n",
    "from sklearn.metrics import classification_report, confusion_matrix\n",
    "\n",
    "import matplotlib.pyplot as plt\n",
    "import seaborn as sns\n",
    "\n",
    "%matplotlib inline"
   ]
  },
  {
   "cell_type": "code",
   "execution_count": 2,
   "metadata": {
    "collapsed": true
   },
   "outputs": [],
   "source": [
    "# fix random seed for reproducibility\n",
    "seed = 2302\n",
    "np.random.seed(seed)"
   ]
  },
  {
   "cell_type": "markdown",
   "metadata": {},
   "source": [
    "### Speaker characteristics classes\n",
    "\n",
    "We will first pbtain class labels from continuous numeric labels (see ../exploratory_analysis)\n",
    "\n",
    "Let us start by looking at the traits for which listeners had slightly higher agreement: \n",
    "\n",
    "* _intelligent_\n",
    "* _ugly_\n",
    "* _old_\n",
    "* _modest_\n",
    "* _incompetent_\n",
    "\n",
    "The files \"SC_ratings_medians.csv\" and \"SC_ratings_medians.csv\" have been generated in the data folder."
   ]
  },
  {
   "cell_type": "code",
   "execution_count": 4,
   "metadata": {},
   "outputs": [],
   "source": [
    "# load ratings (averaged across listeners)\n",
    "ratings_means = pd.read_csv(\"../data/generated_data/ratings_SC_means.csv\")\n",
    "\n",
    "ratings_class = pd.DataFrame(index = ratings_means.index, columns=ratings_means.columns)\n",
    "\n",
    "# for each trait, assign instances into 3 classes\n",
    "for i in ratings_means.columns[2:]:\n",
    "    # percentiles to threshold\n",
    "    th = np.percentile(ratings_means[i],[33,66])\n",
    "    ratings_class.loc[ratings_means[i]<th[0],i] = \"low\" \n",
    "    ratings_class.loc[ratings_means[i]>=th[0],i] = \"mid\" \n",
    "    ratings_class.loc[ratings_means[i]>th[1],i] = \"high\"\n",
    "    \n",
    "ratings_class.iloc[:,0:2] = ratings_means.iloc[:,0:2]     "
   ]
  },
  {
   "cell_type": "markdown",
   "metadata": {},
   "source": [
    "Speech features have been extracted from the semi-spontaneous dialogs uttered by the 300 speakers of the [NSC corpus](http://www.qu.tu-berlin.de/?id=nsc-corpus). The 88 [eGeMAPS](http://ieeexplore.ieee.org/document/7160715/) speech features have been extracted (see ../feature_extraction) from each dialog. \n",
    "\n",
    "299 speakers recorded 4 semi-spontaneous dialogs, and 1 female speaker recorded 1 semi-spontaneous dialog. Total = 1197 speech files."
   ]
  },
  {
   "cell_type": "markdown",
   "metadata": {},
   "source": [
    "### Speech features"
   ]
  },
  {
   "cell_type": "code",
   "execution_count": 24,
   "metadata": {},
   "outputs": [
    {
     "data": {
      "text/html": [
       "<div>\n",
       "<style>\n",
       "    .dataframe thead tr:only-child th {\n",
       "        text-align: right;\n",
       "    }\n",
       "\n",
       "    .dataframe thead th {\n",
       "        text-align: left;\n",
       "    }\n",
       "\n",
       "    .dataframe tbody tr th {\n",
       "        vertical-align: top;\n",
       "    }\n",
       "</style>\n",
       "<table border=\"1\" class=\"dataframe\">\n",
       "  <thead>\n",
       "    <tr style=\"text-align: right;\">\n",
       "      <th></th>\n",
       "      <th>F0semitoneFrom27.5Hz_sma3nz_amean</th>\n",
       "      <th>F0semitoneFrom27.5Hz_sma3nz_stddevNorm</th>\n",
       "      <th>F0semitoneFrom27.5Hz_sma3nz_percentile20.0</th>\n",
       "      <th>F0semitoneFrom27.5Hz_sma3nz_percentile50.0</th>\n",
       "      <th>F0semitoneFrom27.5Hz_sma3nz_percentile80.0</th>\n",
       "      <th>F0semitoneFrom27.5Hz_sma3nz_pctlrange0-2</th>\n",
       "      <th>F0semitoneFrom27.5Hz_sma3nz_meanRisingSlope</th>\n",
       "      <th>F0semitoneFrom27.5Hz_sma3nz_stddevRisingSlope</th>\n",
       "      <th>F0semitoneFrom27.5Hz_sma3nz_meanFallingSlope</th>\n",
       "      <th>F0semitoneFrom27.5Hz_sma3nz_stddevFallingSlope</th>\n",
       "      <th>...</th>\n",
       "      <th>slopeUV0-500_sma3nz_amean</th>\n",
       "      <th>slopeUV500-1500_sma3nz_amean</th>\n",
       "      <th>spectralFluxUV_sma3nz_amean</th>\n",
       "      <th>loudnessPeaksPerSec</th>\n",
       "      <th>VoicedSegmentsPerSec</th>\n",
       "      <th>MeanVoicedSegmentLengthSec</th>\n",
       "      <th>StddevVoicedSegmentLengthSec</th>\n",
       "      <th>MeanUnvoicedSegmentLength</th>\n",
       "      <th>StddevUnvoicedSegmentLength</th>\n",
       "      <th>equivalentSoundLevel_dBp</th>\n",
       "    </tr>\n",
       "  </thead>\n",
       "  <tbody>\n",
       "    <tr>\n",
       "      <th>count</th>\n",
       "      <td>1197.000000</td>\n",
       "      <td>1197.000000</td>\n",
       "      <td>1197.000000</td>\n",
       "      <td>1197.000000</td>\n",
       "      <td>1197.000000</td>\n",
       "      <td>1197.000000</td>\n",
       "      <td>1197.000000</td>\n",
       "      <td>1197.000000</td>\n",
       "      <td>1197.000000</td>\n",
       "      <td>1197.000000</td>\n",
       "      <td>...</td>\n",
       "      <td>1197.000000</td>\n",
       "      <td>1197.000000</td>\n",
       "      <td>1197.000000</td>\n",
       "      <td>1197.000000</td>\n",
       "      <td>1197.000000</td>\n",
       "      <td>1197.000000</td>\n",
       "      <td>1197.000000</td>\n",
       "      <td>1197.000000</td>\n",
       "      <td>1197.000000</td>\n",
       "      <td>1197.000000</td>\n",
       "    </tr>\n",
       "    <tr>\n",
       "      <th>mean</th>\n",
       "      <td>32.063095</td>\n",
       "      <td>0.167883</td>\n",
       "      <td>29.325017</td>\n",
       "      <td>32.086629</td>\n",
       "      <td>34.977246</td>\n",
       "      <td>5.652228</td>\n",
       "      <td>222.822954</td>\n",
       "      <td>363.513770</td>\n",
       "      <td>184.165744</td>\n",
       "      <td>358.118527</td>\n",
       "      <td>...</td>\n",
       "      <td>0.011332</td>\n",
       "      <td>0.013355</td>\n",
       "      <td>0.070748</td>\n",
       "      <td>2.746759</td>\n",
       "      <td>1.984108</td>\n",
       "      <td>0.221936</td>\n",
       "      <td>0.171029</td>\n",
       "      <td>0.281926</td>\n",
       "      <td>0.430044</td>\n",
       "      <td>-36.235466</td>\n",
       "    </tr>\n",
       "    <tr>\n",
       "      <th>std</th>\n",
       "      <td>5.279860</td>\n",
       "      <td>0.042437</td>\n",
       "      <td>5.572934</td>\n",
       "      <td>5.559050</td>\n",
       "      <td>5.492749</td>\n",
       "      <td>1.488526</td>\n",
       "      <td>84.112705</td>\n",
       "      <td>198.056559</td>\n",
       "      <td>88.143010</td>\n",
       "      <td>220.860099</td>\n",
       "      <td>...</td>\n",
       "      <td>0.015322</td>\n",
       "      <td>0.002160</td>\n",
       "      <td>0.022029</td>\n",
       "      <td>0.360294</td>\n",
       "      <td>0.216519</td>\n",
       "      <td>0.032219</td>\n",
       "      <td>0.031142</td>\n",
       "      <td>0.044972</td>\n",
       "      <td>0.062444</td>\n",
       "      <td>3.519597</td>\n",
       "    </tr>\n",
       "    <tr>\n",
       "      <th>min</th>\n",
       "      <td>19.996970</td>\n",
       "      <td>0.070875</td>\n",
       "      <td>16.151940</td>\n",
       "      <td>18.910790</td>\n",
       "      <td>22.498150</td>\n",
       "      <td>2.454426</td>\n",
       "      <td>43.314990</td>\n",
       "      <td>29.840620</td>\n",
       "      <td>24.406640</td>\n",
       "      <td>16.532470</td>\n",
       "      <td>...</td>\n",
       "      <td>-0.046577</td>\n",
       "      <td>0.004238</td>\n",
       "      <td>0.028813</td>\n",
       "      <td>1.719952</td>\n",
       "      <td>1.207464</td>\n",
       "      <td>0.131270</td>\n",
       "      <td>0.092938</td>\n",
       "      <td>0.173022</td>\n",
       "      <td>0.278871</td>\n",
       "      <td>-47.696250</td>\n",
       "    </tr>\n",
       "    <tr>\n",
       "      <th>25%</th>\n",
       "      <td>26.732420</td>\n",
       "      <td>0.137976</td>\n",
       "      <td>23.723620</td>\n",
       "      <td>26.314940</td>\n",
       "      <td>29.582180</td>\n",
       "      <td>4.654819</td>\n",
       "      <td>159.499600</td>\n",
       "      <td>208.677400</td>\n",
       "      <td>118.515500</td>\n",
       "      <td>175.743900</td>\n",
       "      <td>...</td>\n",
       "      <td>0.000949</td>\n",
       "      <td>0.011995</td>\n",
       "      <td>0.055470</td>\n",
       "      <td>2.505259</td>\n",
       "      <td>1.845700</td>\n",
       "      <td>0.198649</td>\n",
       "      <td>0.148853</td>\n",
       "      <td>0.250000</td>\n",
       "      <td>0.391928</td>\n",
       "      <td>-38.665310</td>\n",
       "    </tr>\n",
       "    <tr>\n",
       "      <th>50%</th>\n",
       "      <td>34.391110</td>\n",
       "      <td>0.159075</td>\n",
       "      <td>31.844520</td>\n",
       "      <td>34.913700</td>\n",
       "      <td>37.634500</td>\n",
       "      <td>5.528358</td>\n",
       "      <td>212.890900</td>\n",
       "      <td>328.966900</td>\n",
       "      <td>172.749000</td>\n",
       "      <td>319.463400</td>\n",
       "      <td>...</td>\n",
       "      <td>0.011202</td>\n",
       "      <td>0.013473</td>\n",
       "      <td>0.067683</td>\n",
       "      <td>2.731145</td>\n",
       "      <td>1.982276</td>\n",
       "      <td>0.219247</td>\n",
       "      <td>0.167914</td>\n",
       "      <td>0.277846</td>\n",
       "      <td>0.430810</td>\n",
       "      <td>-36.300370</td>\n",
       "    </tr>\n",
       "    <tr>\n",
       "      <th>75%</th>\n",
       "      <td>36.529880</td>\n",
       "      <td>0.194119</td>\n",
       "      <td>34.116070</td>\n",
       "      <td>36.815670</td>\n",
       "      <td>39.597080</td>\n",
       "      <td>6.410734</td>\n",
       "      <td>271.711000</td>\n",
       "      <td>480.879600</td>\n",
       "      <td>231.578100</td>\n",
       "      <td>504.927500</td>\n",
       "      <td>...</td>\n",
       "      <td>0.021377</td>\n",
       "      <td>0.014777</td>\n",
       "      <td>0.080935</td>\n",
       "      <td>2.971339</td>\n",
       "      <td>2.128973</td>\n",
       "      <td>0.243026</td>\n",
       "      <td>0.189839</td>\n",
       "      <td>0.308095</td>\n",
       "      <td>0.465424</td>\n",
       "      <td>-34.021020</td>\n",
       "    </tr>\n",
       "    <tr>\n",
       "      <th>max</th>\n",
       "      <td>41.109570</td>\n",
       "      <td>0.366876</td>\n",
       "      <td>38.905880</td>\n",
       "      <td>41.223580</td>\n",
       "      <td>44.217800</td>\n",
       "      <td>14.351590</td>\n",
       "      <td>564.901100</td>\n",
       "      <td>1084.662000</td>\n",
       "      <td>600.417200</td>\n",
       "      <td>1072.631000</td>\n",
       "      <td>...</td>\n",
       "      <td>0.062299</td>\n",
       "      <td>0.019842</td>\n",
       "      <td>0.193831</td>\n",
       "      <td>4.561631</td>\n",
       "      <td>2.729993</td>\n",
       "      <td>0.364091</td>\n",
       "      <td>0.305473</td>\n",
       "      <td>0.506615</td>\n",
       "      <td>1.314669</td>\n",
       "      <td>-24.839340</td>\n",
       "    </tr>\n",
       "  </tbody>\n",
       "</table>\n",
       "<p>8 rows × 88 columns</p>\n",
       "</div>"
      ],
      "text/plain": [
       "       F0semitoneFrom27.5Hz_sma3nz_amean  \\\n",
       "count                        1197.000000   \n",
       "mean                           32.063095   \n",
       "std                             5.279860   \n",
       "min                            19.996970   \n",
       "25%                            26.732420   \n",
       "50%                            34.391110   \n",
       "75%                            36.529880   \n",
       "max                            41.109570   \n",
       "\n",
       "       F0semitoneFrom27.5Hz_sma3nz_stddevNorm  \\\n",
       "count                             1197.000000   \n",
       "mean                                 0.167883   \n",
       "std                                  0.042437   \n",
       "min                                  0.070875   \n",
       "25%                                  0.137976   \n",
       "50%                                  0.159075   \n",
       "75%                                  0.194119   \n",
       "max                                  0.366876   \n",
       "\n",
       "       F0semitoneFrom27.5Hz_sma3nz_percentile20.0  \\\n",
       "count                                 1197.000000   \n",
       "mean                                    29.325017   \n",
       "std                                      5.572934   \n",
       "min                                     16.151940   \n",
       "25%                                     23.723620   \n",
       "50%                                     31.844520   \n",
       "75%                                     34.116070   \n",
       "max                                     38.905880   \n",
       "\n",
       "       F0semitoneFrom27.5Hz_sma3nz_percentile50.0  \\\n",
       "count                                 1197.000000   \n",
       "mean                                    32.086629   \n",
       "std                                      5.559050   \n",
       "min                                     18.910790   \n",
       "25%                                     26.314940   \n",
       "50%                                     34.913700   \n",
       "75%                                     36.815670   \n",
       "max                                     41.223580   \n",
       "\n",
       "       F0semitoneFrom27.5Hz_sma3nz_percentile80.0  \\\n",
       "count                                 1197.000000   \n",
       "mean                                    34.977246   \n",
       "std                                      5.492749   \n",
       "min                                     22.498150   \n",
       "25%                                     29.582180   \n",
       "50%                                     37.634500   \n",
       "75%                                     39.597080   \n",
       "max                                     44.217800   \n",
       "\n",
       "       F0semitoneFrom27.5Hz_sma3nz_pctlrange0-2  \\\n",
       "count                               1197.000000   \n",
       "mean                                   5.652228   \n",
       "std                                    1.488526   \n",
       "min                                    2.454426   \n",
       "25%                                    4.654819   \n",
       "50%                                    5.528358   \n",
       "75%                                    6.410734   \n",
       "max                                   14.351590   \n",
       "\n",
       "       F0semitoneFrom27.5Hz_sma3nz_meanRisingSlope  \\\n",
       "count                                  1197.000000   \n",
       "mean                                    222.822954   \n",
       "std                                      84.112705   \n",
       "min                                      43.314990   \n",
       "25%                                     159.499600   \n",
       "50%                                     212.890900   \n",
       "75%                                     271.711000   \n",
       "max                                     564.901100   \n",
       "\n",
       "       F0semitoneFrom27.5Hz_sma3nz_stddevRisingSlope  \\\n",
       "count                                    1197.000000   \n",
       "mean                                      363.513770   \n",
       "std                                       198.056559   \n",
       "min                                        29.840620   \n",
       "25%                                       208.677400   \n",
       "50%                                       328.966900   \n",
       "75%                                       480.879600   \n",
       "max                                      1084.662000   \n",
       "\n",
       "       F0semitoneFrom27.5Hz_sma3nz_meanFallingSlope  \\\n",
       "count                                   1197.000000   \n",
       "mean                                     184.165744   \n",
       "std                                       88.143010   \n",
       "min                                       24.406640   \n",
       "25%                                      118.515500   \n",
       "50%                                      172.749000   \n",
       "75%                                      231.578100   \n",
       "max                                      600.417200   \n",
       "\n",
       "       F0semitoneFrom27.5Hz_sma3nz_stddevFallingSlope  \\\n",
       "count                                     1197.000000   \n",
       "mean                                       358.118527   \n",
       "std                                        220.860099   \n",
       "min                                         16.532470   \n",
       "25%                                        175.743900   \n",
       "50%                                        319.463400   \n",
       "75%                                        504.927500   \n",
       "max                                       1072.631000   \n",
       "\n",
       "                 ...             slopeUV0-500_sma3nz_amean  \\\n",
       "count            ...                           1197.000000   \n",
       "mean             ...                              0.011332   \n",
       "std              ...                              0.015322   \n",
       "min              ...                             -0.046577   \n",
       "25%              ...                              0.000949   \n",
       "50%              ...                              0.011202   \n",
       "75%              ...                              0.021377   \n",
       "max              ...                              0.062299   \n",
       "\n",
       "       slopeUV500-1500_sma3nz_amean  spectralFluxUV_sma3nz_amean  \\\n",
       "count                   1197.000000                  1197.000000   \n",
       "mean                       0.013355                     0.070748   \n",
       "std                        0.002160                     0.022029   \n",
       "min                        0.004238                     0.028813   \n",
       "25%                        0.011995                     0.055470   \n",
       "50%                        0.013473                     0.067683   \n",
       "75%                        0.014777                     0.080935   \n",
       "max                        0.019842                     0.193831   \n",
       "\n",
       "       loudnessPeaksPerSec  VoicedSegmentsPerSec  MeanVoicedSegmentLengthSec  \\\n",
       "count          1197.000000           1197.000000                 1197.000000   \n",
       "mean              2.746759              1.984108                    0.221936   \n",
       "std               0.360294              0.216519                    0.032219   \n",
       "min               1.719952              1.207464                    0.131270   \n",
       "25%               2.505259              1.845700                    0.198649   \n",
       "50%               2.731145              1.982276                    0.219247   \n",
       "75%               2.971339              2.128973                    0.243026   \n",
       "max               4.561631              2.729993                    0.364091   \n",
       "\n",
       "       StddevVoicedSegmentLengthSec  MeanUnvoicedSegmentLength  \\\n",
       "count                   1197.000000                1197.000000   \n",
       "mean                       0.171029                   0.281926   \n",
       "std                        0.031142                   0.044972   \n",
       "min                        0.092938                   0.173022   \n",
       "25%                        0.148853                   0.250000   \n",
       "50%                        0.167914                   0.277846   \n",
       "75%                        0.189839                   0.308095   \n",
       "max                        0.305473                   0.506615   \n",
       "\n",
       "       StddevUnvoicedSegmentLength  equivalentSoundLevel_dBp  \n",
       "count                  1197.000000               1197.000000  \n",
       "mean                      0.430044                -36.235466  \n",
       "std                       0.062444                  3.519597  \n",
       "min                       0.278871                -47.696250  \n",
       "25%                       0.391928                -38.665310  \n",
       "50%                       0.430810                -36.300370  \n",
       "75%                       0.465424                -34.021020  \n",
       "max                       1.314669                -24.839340  \n",
       "\n",
       "[8 rows x 88 columns]"
      ]
     },
     "execution_count": 24,
     "metadata": {},
     "output_type": "execute_result"
    }
   ],
   "source": [
    "# load speech features\n",
    "\n",
    "path = \"https://raw.githubusercontent.com/laufergall/ML_Speaker_Characteristics/master/data/extracted_features/\"\n",
    "\n",
    "# load subjective questionnaire items and their translations\n",
    "url = path + \"/eGeMAPSv01a_NSC_semispontaneous.csv\"\n",
    "s = requests.get(url).content\n",
    "feats =pd.read_csv(io.StringIO(s.decode('utf-8')), sep = ';')\n",
    "\n",
    "feats.describe()"
   ]
  },
  {
   "cell_type": "markdown",
   "metadata": {
    "collapsed": true
   },
   "source": [
    "Pre-processing features:\n",
    "\n",
    "* center and scale speech features of all data\n",
    "* apply PCA to reduce the number of predictors"
   ]
  },
  {
   "cell_type": "code",
   "execution_count": 25,
   "metadata": {
    "collapsed": true
   },
   "outputs": [],
   "source": [
    "# Standardize speech features  \n",
    "\n",
    "scaler = StandardScaler()\n",
    "scaler.fit(feats.drop(['name'],axis=1))\n",
    "feats_s = scaler.transform(feats.drop(['name'],axis=1)) # numpy 300x88"
   ]
  },
  {
   "cell_type": "code",
   "execution_count": 26,
   "metadata": {},
   "outputs": [
    {
     "data": {
      "text/plain": [
       "array([ 0.2 ,  0.17,  0.1 ,  0.06,  0.04,  0.04,  0.03,  0.03,  0.02,\n",
       "        0.02,  0.02,  0.02,  0.02,  0.01,  0.01,  0.01,  0.01,  0.01,\n",
       "        0.01,  0.01,  0.01,  0.01,  0.01,  0.01,  0.01,  0.01,  0.01,\n",
       "        0.01,  0.01,  0.01,  0.01,  0.01,  0.  ,  0.  ,  0.  ,  0.  ,\n",
       "        0.  ,  0.  ,  0.  ,  0.  ,  0.  ,  0.  ,  0.  ,  0.  ,  0.  ,\n",
       "        0.  ,  0.  ,  0.  ,  0.  ,  0.  ,  0.  ,  0.  ,  0.  ,  0.  ,\n",
       "        0.  ,  0.  ,  0.  ,  0.  ,  0.  ,  0.  ,  0.  ,  0.  ,  0.  ,\n",
       "        0.  ,  0.  ,  0.  ,  0.  ,  0.  ,  0.  ,  0.  ,  0.  ,  0.  ,\n",
       "        0.  ,  0.  ,  0.  ,  0.  ,  0.  ,  0.  ,  0.  ,  0.  ,  0.  ,\n",
       "        0.  ,  0.  ,  0.  ,  0.  ,  0.  ,  0.  ,  0.  ])"
      ]
     },
     "execution_count": 26,
     "metadata": {},
     "output_type": "execute_result"
    }
   ],
   "source": [
    "# Apply PCA and examine how many components to retain\n",
    "\n",
    "pca = PCA()\n",
    "pca.fit(feats_s)\n",
    "feats_pca = pca.transform(feats_s) # np array 300 x n_pca-components\n",
    "np.round(pca.explained_variance_ratio_,2)"
   ]
  },
  {
   "cell_type": "code",
   "execution_count": 27,
   "metadata": {
    "scrolled": true
   },
   "outputs": [
    {
     "data": {
      "image/png": "[encoded data removed]",
      "text/plain": [
       "<matplotlib.figure.Figure at 0x142f01aa630>"
      ]
     },
     "metadata": {},
     "output_type": "display_data"
    }
   ],
   "source": [
    "# Explained variance\n",
    "\n",
    "plt.subplot(2, 1, 1)\n",
    "plt.plot(pca.explained_variance_ratio_)\n",
    "plt.xlabel('number of components -1 ')\n",
    "plt.ylabel('explained variance')\n",
    "\n",
    "plt.subplot(2, 1, 2)\n",
    "plt.plot(np.cumsum(pca.explained_variance_ratio_))\n",
    "plt.xlabel('number of components -1 ')\n",
    "plt.ylabel('cumulative explained variance')\n",
    "\n",
    "plt.show()"
   ]
  },
  {
   "cell_type": "markdown",
   "metadata": {},
   "source": [
    "We will retain the first 4 principal components, which account for 53% of the explained variance."
   ]
  },
  {
   "cell_type": "code",
   "execution_count": 31,
   "metadata": {
    "collapsed": true,
    "scrolled": false
   },
   "outputs": [],
   "source": [
    "# selected pca components as pandas data frame\n",
    "ncomp = 4\n",
    "feats_pca_pd = pd.DataFrame(feats_pca[:,0:ncomp], columns = np.char.mod('PC_%d', np.arange(ncomp)))"
   ]
  },
  {
   "cell_type": "markdown",
   "metadata": {},
   "source": [
    "Unfortunately, no subjective ratings have been collected for the spontaneous dialogs d5, d7, or d8. However, we use the speech features in order to have more instances with which to train and test the models.\n",
    "\n",
    "**I assume** that the speakers' trait classes remain constant across recordings, that is, is a speaker is perceived as 'high' in the _intelligent_ trait for dialog 6 (d6, pizza dialog), then this perception would be the same for the other dialogs uttered by the same speaker."
   ]
  },
  {
   "cell_type": "code",
   "execution_count": 38,
   "metadata": {},
   "outputs": [],
   "source": [
    "# extract speaker ID from speech file name\n",
    "feats_pca_pd['speaker_ID'] = feats['name'].str.slice(2, 5).astype('int') # shape: 1197, 90\n",
    "\n",
    "# appending class label\n",
    "feats_pca_class = feats_pca_pd.merge(ratings_class)"
   ]
  },
  {
   "cell_type": "code",
   "execution_count": 44,
   "metadata": {},
   "outputs": [
    {
     "data": {
      "text/plain": [
       "Text(0,0.5,'PC_1')"
      ]
     },
     "execution_count": 44,
     "metadata": {},
     "output_type": "execute_result"
    },
    {
     "data": {
      "image/png": "[encoded data removed]",
      "text/plain": [
       "<matplotlib.figure.Figure at 0x142f06114a8>"
      ]
     },
     "metadata": {},
     "output_type": "display_data"
    }
   ],
   "source": [
    "# plot first pca components for one trait\n",
    "\n",
    "feats_grouped = feats_pca_pd.groupby(feats_pca_class['intelligent'].astype(\"category\"))\n",
    "\n",
    "fig, ax = plt.subplots()\n",
    "for name, group in feats_grouped:\n",
    "    ax.plot(group.PC_0, group.PC_1, marker='o', linestyle='', ms=8, label=name)\n",
    "ax.legend()\n",
    "ax.set_xlabel('PC_0')\n",
    "ax.set_ylabel('PC_1')"
   ]
  },
  {
   "cell_type": "markdown",
   "metadata": {},
   "source": [
    "It looks like the class separation is going to be challenging!"
   ]
  },
  {
   "cell_type": "markdown",
   "metadata": {
    "collapsed": true
   },
   "source": [
    "### Model tuning\n",
    "\n",
    "Let us go on with:\n",
    "\n",
    "Database partitions: consider train/dev partitions and cross-validation.\n",
    "Test data will be utterances from other dialogues, given the (somewhat strong) assumption that traits stay constant over time.\n",
    "\n",
    "* Split the available data to find the model and its hyperparameters leading to the best performance \n",
    "* Stratified cross-validation for hyperparameter tuning\n",
    "* Check performance in test\n",
    "\n",
    "(Nested hyperparameter tuning inspired by [A. Zheng](http://www.oreilly.com/data/free/evaluating-machine-learning-models.csp))"
   ]
  },
  {
   "cell_type": "code",
   "execution_count": 62,
   "metadata": {},
   "outputs": [
    {
     "data": {
      "text/plain": [
       "Index(['PC_0', 'PC_1', 'PC_2', 'PC_3', 'speaker_ID', 'speaker_gender',\n",
       "       'non_likable', 'secure', 'attractive', 'unsympathetic', 'indecisive',\n",
       "       'unobtrusive', 'distant', 'bored', 'emotional', 'not_irritated',\n",
       "       'active', 'pleasant', 'characterless', 'sociable', 'relaxed',\n",
       "       'affectionate', 'dominant', 'unaffected', 'hearty', 'old', 'personal',\n",
       "       'calm', 'incompetent', 'ugly', 'friendly', 'masculine', 'submissive',\n",
       "       'indifferent', 'interesting', 'cynical', 'artificial', 'intelligent',\n",
       "       'childish', 'modest'],\n",
       "      dtype='object')"
      ]
     },
     "execution_count": 62,
     "metadata": {},
     "output_type": "execute_result"
    }
   ],
   "source": [
    "feats_pca_class.columns"
   ]
  },
  {
   "cell_type": "code",
   "execution_count": 60,
   "metadata": {
    "scrolled": true
   },
   "outputs": [
    {
     "ename": "KeyError",
     "evalue": "'the label [PC_0] is not in the [index]'",
     "output_type": "error",
     "traceback": [
      "\u001b[1;31m---------------------------------------------------------------------------\u001b[0m",
      "\u001b[1;31mKeyError\u001b[0m                                  Traceback (most recent call last)",
      "\u001b[1;32m~\\AppData\\Local\\Continuum\\anaconda3\\lib\\site-packages\\pandas\\core\\indexing.py\u001b[0m in \u001b[0;36m_has_valid_type\u001b[1;34m(self, key, axis)\u001b[0m\n\u001b[0;32m   1433\u001b[0m                 \u001b[1;32mif\u001b[0m \u001b[1;32mnot\u001b[0m \u001b[0max\u001b[0m\u001b[1;33m.\u001b[0m\u001b[0mcontains\u001b[0m\u001b[1;33m(\u001b[0m\u001b[0mkey\u001b[0m\u001b[1;33m)\u001b[0m\u001b[1;33m:\u001b[0m\u001b[1;33m\u001b[0m\u001b[0m\n\u001b[1;32m-> 1434\u001b[1;33m                     \u001b[0merror\u001b[0m\u001b[1;33m(\u001b[0m\u001b[1;33m)\u001b[0m\u001b[1;33m\u001b[0m\u001b[0m\n\u001b[0m\u001b[0;32m   1435\u001b[0m             \u001b[1;32mexcept\u001b[0m \u001b[0mTypeError\u001b[0m \u001b[1;32mas\u001b[0m \u001b[0me\u001b[0m\u001b[1;33m:\u001b[0m\u001b[1;33m\u001b[0m\u001b[0m\n",
      "\u001b[1;32m~\\AppData\\Local\\Continuum\\anaconda3\\lib\\site-packages\\pandas\\core\\indexing.py\u001b[0m in \u001b[0;36merror\u001b[1;34m()\u001b[0m\n\u001b[0;32m   1428\u001b[0m                 raise KeyError(\"the label [%s] is not in the [%s]\" %\n\u001b[1;32m-> 1429\u001b[1;33m                                (key, self.obj._get_axis_name(axis)))\n\u001b[0m\u001b[0;32m   1430\u001b[0m \u001b[1;33m\u001b[0m\u001b[0m\n",
      "\u001b[1;31mKeyError\u001b[0m: 'the label [PC_0] is not in the [index]'",
      "\nDuring handling of the above exception, another exception occurred:\n",
      "\u001b[1;31mKeyError\u001b[0m                                  Traceback (most recent call last)",
      "\u001b[1;32m<ipython-input-60-c16e17446d2c>\u001b[0m in \u001b[0;36m<module>\u001b[1;34m()\u001b[0m\n\u001b[1;32m----> 1\u001b[1;33m \u001b[0mfeats_pca_class\u001b[0m\u001b[1;33m.\u001b[0m\u001b[0mloc\u001b[0m\u001b[1;33m[\u001b[0m\u001b[1;34m'PC_0'\u001b[0m\u001b[1;33m,\u001b[0m\u001b[1;34m'PC_1'\u001b[0m\u001b[1;33m]\u001b[0m\u001b[1;33m\u001b[0m\u001b[0m\n\u001b[0m",
      "\u001b[1;32m~\\AppData\\Local\\Continuum\\anaconda3\\lib\\site-packages\\pandas\\core\\indexing.py\u001b[0m in \u001b[0;36m__getitem__\u001b[1;34m(self, key)\u001b[0m\n\u001b[0;32m   1323\u001b[0m             \u001b[1;32mexcept\u001b[0m \u001b[1;33m(\u001b[0m\u001b[0mKeyError\u001b[0m\u001b[1;33m,\u001b[0m \u001b[0mIndexError\u001b[0m\u001b[1;33m)\u001b[0m\u001b[1;33m:\u001b[0m\u001b[1;33m\u001b[0m\u001b[0m\n\u001b[0;32m   1324\u001b[0m                 \u001b[1;32mpass\u001b[0m\u001b[1;33m\u001b[0m\u001b[0m\n\u001b[1;32m-> 1325\u001b[1;33m             \u001b[1;32mreturn\u001b[0m \u001b[0mself\u001b[0m\u001b[1;33m.\u001b[0m\u001b[0m_getitem_tuple\u001b[0m\u001b[1;33m(\u001b[0m\u001b[0mkey\u001b[0m\u001b[1;33m)\u001b[0m\u001b[1;33m\u001b[0m\u001b[0m\n\u001b[0m\u001b[0;32m   1326\u001b[0m         \u001b[1;32melse\u001b[0m\u001b[1;33m:\u001b[0m\u001b[1;33m\u001b[0m\u001b[0m\n\u001b[0;32m   1327\u001b[0m             \u001b[0mkey\u001b[0m \u001b[1;33m=\u001b[0m \u001b[0mcom\u001b[0m\u001b[1;33m.\u001b[0m\u001b[0m_apply_if_callable\u001b[0m\u001b[1;33m(\u001b[0m\u001b[0mkey\u001b[0m\u001b[1;33m,\u001b[0m \u001b[0mself\u001b[0m\u001b[1;33m.\u001b[0m\u001b[0mobj\u001b[0m\u001b[1;33m)\u001b[0m\u001b[1;33m\u001b[0m\u001b[0m\n",
      "\u001b[1;32m~\\AppData\\Local\\Continuum\\anaconda3\\lib\\site-packages\\pandas\\core\\indexing.py\u001b[0m in \u001b[0;36m_getitem_tuple\u001b[1;34m(self, tup)\u001b[0m\n\u001b[0;32m    834\u001b[0m     \u001b[1;32mdef\u001b[0m \u001b[0m_getitem_tuple\u001b[0m\u001b[1;33m(\u001b[0m\u001b[0mself\u001b[0m\u001b[1;33m,\u001b[0m \u001b[0mtup\u001b[0m\u001b[1;33m)\u001b[0m\u001b[1;33m:\u001b[0m\u001b[1;33m\u001b[0m\u001b[0m\n\u001b[0;32m    835\u001b[0m         \u001b[1;32mtry\u001b[0m\u001b[1;33m:\u001b[0m\u001b[1;33m\u001b[0m\u001b[0m\n\u001b[1;32m--> 836\u001b[1;33m             \u001b[1;32mreturn\u001b[0m \u001b[0mself\u001b[0m\u001b[1;33m.\u001b[0m\u001b[0m_getitem_lowerdim\u001b[0m\u001b[1;33m(\u001b[0m\u001b[0mtup\u001b[0m\u001b[1;33m)\u001b[0m\u001b[1;33m\u001b[0m\u001b[0m\n\u001b[0m\u001b[0;32m    837\u001b[0m         \u001b[1;32mexcept\u001b[0m \u001b[0mIndexingError\u001b[0m\u001b[1;33m:\u001b[0m\u001b[1;33m\u001b[0m\u001b[0m\n\u001b[0;32m    838\u001b[0m             \u001b[1;32mpass\u001b[0m\u001b[1;33m\u001b[0m\u001b[0m\n",
      "\u001b[1;32m~\\AppData\\Local\\Continuum\\anaconda3\\lib\\site-packages\\pandas\\core\\indexing.py\u001b[0m in \u001b[0;36m_getitem_lowerdim\u001b[1;34m(self, tup)\u001b[0m\n\u001b[0;32m    965\u001b[0m         \u001b[1;32mfor\u001b[0m \u001b[0mi\u001b[0m\u001b[1;33m,\u001b[0m \u001b[0mkey\u001b[0m \u001b[1;32min\u001b[0m \u001b[0menumerate\u001b[0m\u001b[1;33m(\u001b[0m\u001b[0mtup\u001b[0m\u001b[1;33m)\u001b[0m\u001b[1;33m:\u001b[0m\u001b[1;33m\u001b[0m\u001b[0m\n\u001b[0;32m    966\u001b[0m             \u001b[1;32mif\u001b[0m \u001b[0mis_label_like\u001b[0m\u001b[1;33m(\u001b[0m\u001b[0mkey\u001b[0m\u001b[1;33m)\u001b[0m \u001b[1;32mor\u001b[0m \u001b[0misinstance\u001b[0m\u001b[1;33m(\u001b[0m\u001b[0mkey\u001b[0m\u001b[1;33m,\u001b[0m \u001b[0mtuple\u001b[0m\u001b[1;33m)\u001b[0m\u001b[1;33m:\u001b[0m\u001b[1;33m\u001b[0m\u001b[0m\n\u001b[1;32m--> 967\u001b[1;33m                 \u001b[0msection\u001b[0m \u001b[1;33m=\u001b[0m \u001b[0mself\u001b[0m\u001b[1;33m.\u001b[0m\u001b[0m_getitem_axis\u001b[0m\u001b[1;33m(\u001b[0m\u001b[0mkey\u001b[0m\u001b[1;33m,\u001b[0m \u001b[0maxis\u001b[0m\u001b[1;33m=\u001b[0m\u001b[0mi\u001b[0m\u001b[1;33m)\u001b[0m\u001b[1;33m\u001b[0m\u001b[0m\n\u001b[0m\u001b[0;32m    968\u001b[0m \u001b[1;33m\u001b[0m\u001b[0m\n\u001b[0;32m    969\u001b[0m                 \u001b[1;31m# we have yielded a scalar ?\u001b[0m\u001b[1;33m\u001b[0m\u001b[1;33m\u001b[0m\u001b[0m\n",
      "\u001b[1;32m~\\AppData\\Local\\Continuum\\anaconda3\\lib\\site-packages\\pandas\\core\\indexing.py\u001b[0m in \u001b[0;36m_getitem_axis\u001b[1;34m(self, key, axis)\u001b[0m\n\u001b[0;32m   1549\u001b[0m \u001b[1;33m\u001b[0m\u001b[0m\n\u001b[0;32m   1550\u001b[0m         \u001b[1;31m# fall thru to straight lookup\u001b[0m\u001b[1;33m\u001b[0m\u001b[1;33m\u001b[0m\u001b[0m\n\u001b[1;32m-> 1551\u001b[1;33m         \u001b[0mself\u001b[0m\u001b[1;33m.\u001b[0m\u001b[0m_has_valid_type\u001b[0m\u001b[1;33m(\u001b[0m\u001b[0mkey\u001b[0m\u001b[1;33m,\u001b[0m \u001b[0maxis\u001b[0m\u001b[1;33m)\u001b[0m\u001b[1;33m\u001b[0m\u001b[0m\n\u001b[0m\u001b[0;32m   1552\u001b[0m         \u001b[1;32mreturn\u001b[0m \u001b[0mself\u001b[0m\u001b[1;33m.\u001b[0m\u001b[0m_get_label\u001b[0m\u001b[1;33m(\u001b[0m\u001b[0mkey\u001b[0m\u001b[1;33m,\u001b[0m \u001b[0maxis\u001b[0m\u001b[1;33m=\u001b[0m\u001b[0maxis\u001b[0m\u001b[1;33m)\u001b[0m\u001b[1;33m\u001b[0m\u001b[0m\n\u001b[0;32m   1553\u001b[0m \u001b[1;33m\u001b[0m\u001b[0m\n",
      "\u001b[1;32m~\\AppData\\Local\\Continuum\\anaconda3\\lib\\site-packages\\pandas\\core\\indexing.py\u001b[0m in \u001b[0;36m_has_valid_type\u001b[1;34m(self, key, axis)\u001b[0m\n\u001b[0;32m   1440\u001b[0m                 \u001b[1;32mraise\u001b[0m\u001b[1;33m\u001b[0m\u001b[0m\n\u001b[0;32m   1441\u001b[0m             \u001b[1;32mexcept\u001b[0m\u001b[1;33m:\u001b[0m\u001b[1;33m\u001b[0m\u001b[0m\n\u001b[1;32m-> 1442\u001b[1;33m                 \u001b[0merror\u001b[0m\u001b[1;33m(\u001b[0m\u001b[1;33m)\u001b[0m\u001b[1;33m\u001b[0m\u001b[0m\n\u001b[0m\u001b[0;32m   1443\u001b[0m \u001b[1;33m\u001b[0m\u001b[0m\n\u001b[0;32m   1444\u001b[0m         \u001b[1;32mreturn\u001b[0m \u001b[1;32mTrue\u001b[0m\u001b[1;33m\u001b[0m\u001b[0m\n",
      "\u001b[1;32m~\\AppData\\Local\\Continuum\\anaconda3\\lib\\site-packages\\pandas\\core\\indexing.py\u001b[0m in \u001b[0;36merror\u001b[1;34m()\u001b[0m\n\u001b[0;32m   1427\u001b[0m                                     \"key\")\n\u001b[0;32m   1428\u001b[0m                 raise KeyError(\"the label [%s] is not in the [%s]\" %\n\u001b[1;32m-> 1429\u001b[1;33m                                (key, self.obj._get_axis_name(axis)))\n\u001b[0m\u001b[0;32m   1430\u001b[0m \u001b[1;33m\u001b[0m\u001b[0m\n\u001b[0;32m   1431\u001b[0m             \u001b[1;32mtry\u001b[0m\u001b[1;33m:\u001b[0m\u001b[1;33m\u001b[0m\u001b[0m\n",
      "\u001b[1;31mKeyError\u001b[0m: 'the label [PC_0] is not in the [index]'"
     ]
    }
   ],
   "source": [
    "feats_pca_class.loc['PC_0','PC_1']"
   ]
  },
  {
   "cell_type": "code",
   "execution_count": 50,
   "metadata": {
    "collapsed": true
   },
   "outputs": [],
   "source": [
    "X = feats_pca_pd.values\n",
    "y = feats_pca_class['intelligent']\n",
    "\n",
    "# for mf in model_family_list:\n",
    "    \n",
    "# split data into 80% and 20% subsets\n",
    "# give subset A to the inner hyperparameter tuner,\n",
    "# save subset B for meta-evaluation\n",
    "AX, BX, Ay, By = train_test_split(X, y, test_size=0.20, random_state=2302)\n"
   ]
  },
  {
   "cell_type": "code",
   "execution_count": 72,
   "metadata": {},
   "outputs": [
    {
     "name": "stdout",
     "output_type": "stream",
     "text": [
      "mean accuracy = 0.466666666667\n",
      "             precision    recall  f1-score   support\n",
      "\n",
      "       high       0.42      0.50      0.46        16\n",
      "        low       0.61      0.44      0.51        25\n",
      "        mid       0.39      0.47      0.43        19\n",
      "\n",
      "avg / total       0.49      0.47      0.47        60\n",
      "\n",
      "[[ 8  3  5]\n",
      " [ 5 11  9]\n",
      " [ 6  4  9]]\n"
     ]
    }
   ],
   "source": [
    "## (quick working example knn)\n",
    "\n",
    "from sklearn.neighbors import KNeighborsClassifier\n",
    "knn2 = KNeighborsClassifier(n_neighbors=1)\n",
    "knn2.fit(AX, Ay)\n",
    "print(\"mean accuracy =\",knn2.score(BX,By)) # this is the same as average recall of classif report\n",
    "pred = knn2.predict(BX)\n",
    "print(classification_report(By,pred))\n",
    "print(confusion_matrix(By, pred)) # i = true / j = predicted\n",
    "#sns.heatmap(cm)"
   ]
  },
  {
   "cell_type": "markdown",
   "metadata": {},
   "source": [
    "Hyperparam tuning using only subset A (AX, Ay) <- GridSearchCV"
   ]
  },
  {
   "cell_type": "code",
   "execution_count": null,
   "metadata": {
    "collapsed": true
   },
   "outputs": [],
   "source": [
    "# all imports (classifiers)\n",
    "\n",
    "from sklearn.neighbors import KNeighborsClassifier"
   ]
  },
  {
   "cell_type": "code",
   "execution_count": 119,
   "metadata": {
    "collapsed": true
   },
   "outputs": [],
   "source": [
    "# init lists\n",
    "\n",
    "classifiers_names = []\n",
    "classifiers = []\n",
    "hparam_grids = []\n",
    "grid_results = []\n",
    "best_accs = [] # on the B set\n",
    "best_hps = [] "
   ]
  },
  {
   "cell_type": "markdown",
   "metadata": {},
   "source": [
    "K Nearest Neighbors"
   ]
  },
  {
   "cell_type": "code",
   "execution_count": 120,
   "metadata": {
    "collapsed": true
   },
   "outputs": [],
   "source": [
    "knn = KNeighborsClassifier()\n",
    "\n",
    "n_neighbors = list(range(1,50))\n",
    "hp = dict(n_neighbors = n_neighbors)\n",
    "\n",
    "# append classifier and parameters to our lists\n",
    "classifiers_names.append(\"K Nearest Neighbors\")\n",
    "classifiers.append(knn)\n",
    "hparam_grids.append(hp)"
   ]
  },
  {
   "cell_type": "markdown",
   "metadata": {},
   "source": [
    "#### Hyperparameter tuning for each classifier"
   ]
  },
  {
   "cell_type": "markdown",
   "metadata": {},
   "source": [
    "Helper functions"
   ]
  },
  {
   "cell_type": "code",
   "execution_count": 125,
   "metadata": {
    "collapsed": true
   },
   "outputs": [],
   "source": [
    "# summarize results given \n",
    "# - classifier name\n",
    "# - gridsearch results for a classifier \n",
    "# - and name of file to write the summary to\n",
    "\n",
    "def summary_tuning(cname, grid_result, file):\n",
    "    means = grid_result.cv_results_['mean_test_score']\n",
    "    stds = grid_result.cv_results_['std_test_score']\n",
    "    params = grid_result.cv_results_['params']\n",
    "\n",
    "    # print best result and append to our lists\n",
    "    print(\"%r -> Best: %f using %s\\n\" % (cname, grid_result.best_score_, grid_result.best_params_))\n",
    "\n",
    "    # write means, stds, params to file\n",
    "    file.write(\"\\n\")\n",
    "    for mean, stdev, param in zip(means, stds, params):\n",
    "        file.write(\"%r, %f (%f) with: %r\\n\" % (cname, mean, stdev, param))"
   ]
  },
  {
   "cell_type": "code",
   "execution_count": 126,
   "metadata": {},
   "outputs": [
    {
     "name": "stdout",
     "output_type": "stream",
     "text": [
      "'K Nearest Neighbors' -> Best: 0.379167 using {'n_neighbors': 3}\n",
      "\n"
     ]
    }
   ],
   "source": [
    "# main loop to tune hyperparameters for each classifier\n",
    "\n",
    "for i in np.arange(len(classifiers)):\n",
    "    \n",
    "    # perform grid search\n",
    "    grid = GridSearchCV(estimator=classifiers[i], \n",
    "                        param_grid=hparam_grids[i], \n",
    "                        n_jobs=1, \n",
    "                        cv=10)\n",
    "    grid_result = grid.fit(AX, Ay) # This takes a while\n",
    "    \n",
    "    # append grid search results to our lists\n",
    "    grid_results.append(grid_result)\n",
    "    \n",
    "    # summary of hp tuning\n",
    "    summary_tuning(classifiers_names[i], \n",
    "                   grid_result, \n",
    "                   open(\"summary_modelTuning.txt\",\"a\"))\n",
    "    \n",
    "    # evaluate classifier on set B\n",
    "    test_score = grid_result.best_estimator_.score(BX, By)\n",
    "    best_accs.append(test_score)\n",
    "    best_hps.append(grid_result.best_params_)\n",
    "    \n",
    "    "
   ]
  },
  {
   "cell_type": "markdown",
   "metadata": {},
   "source": [
    "Cross-validation for partitions A-B: \n",
    "- make an average of best_accs after testing for each classifier\n",
    "\n",
    "\n",
    "Now, select the classifier that gave the maximum acc on B."
   ]
  },
  {
   "cell_type": "code",
   "execution_count": 160,
   "metadata": {
    "scrolled": true
   },
   "outputs": [
    {
     "data": {
      "text/plain": [
       "KNeighborsClassifier(algorithm='auto', leaf_size=30, metric='minkowski',\n",
       "           metric_params=None, n_jobs=1, n_neighbors=3, p=2,\n",
       "           weights='uniform')"
      ]
     },
     "execution_count": 160,
     "metadata": {},
     "output_type": "execute_result"
    }
   ],
   "source": [
    "# select classifier based on max acc on B set\n",
    "index = best_accs.index(max(best_accs))\n",
    "cls = classifiers[index]\n",
    "cls.set_params(**best_hps[index])\n",
    "\n",
    "# train using all data with this classifier\n",
    "cls.fit(X,y)\n",
    "\n",
    "# X,y would be from my train data. \n",
    "# Then, I have test data from other dialogs - let us see the performance"
   ]
  },
  {
   "cell_type": "code",
   "execution_count": null,
   "metadata": {
    "collapsed": true
   },
   "outputs": [],
   "source": []
  },
  {
   "cell_type": "code",
   "execution_count": null,
   "metadata": {
    "collapsed": true
   },
   "outputs": [],
   "source": [
    "# Now, do all this stuff in CV (in each fold, use different A, B data)\n",
    "\n",
    "# I think this would be the way to go:\n",
    "k_fold = StratifiedKFold(n_splits=3)\n",
    "[my_function() for train, test in k_fold.split(X_digits)]\n"
   ]
  },
  {
   "cell_type": "code",
   "execution_count": null,
   "metadata": {
    "collapsed": true
   },
   "outputs": [],
   "source": []
  },
  {
   "cell_type": "code",
   "execution_count": null,
   "metadata": {
    "collapsed": true
   },
   "outputs": [],
   "source": []
  },
  {
   "cell_type": "code",
   "execution_count": null,
   "metadata": {
    "collapsed": true
   },
   "outputs": [],
   "source": []
  },
  {
   "cell_type": "code",
   "execution_count": null,
   "metadata": {
    "collapsed": true
   },
   "outputs": [],
   "source": []
  },
  {
   "cell_type": "code",
   "execution_count": null,
   "metadata": {
    "collapsed": true
   },
   "outputs": [],
   "source": []
  },
  {
   "cell_type": "code",
   "execution_count": null,
   "metadata": {
    "collapsed": true
   },
   "outputs": [],
   "source": []
  },
  {
   "cell_type": "code",
   "execution_count": null,
   "metadata": {
    "collapsed": true
   },
   "outputs": [],
   "source": []
  },
  {
   "cell_type": "code",
   "execution_count": null,
   "metadata": {
    "collapsed": true
   },
   "outputs": [],
   "source": []
  },
  {
   "cell_type": "code",
   "execution_count": null,
   "metadata": {
    "collapsed": true
   },
   "outputs": [],
   "source": [
    "## (pseudocode from Zheng)\n",
    "\n",
    "model_model_family_list=[]\n",
    "perf_list = []\n",
    "hp_list = []\n",
    "\n",
    "X = feats_pca_pd\n",
    "y = ratings_class['intelligent']\n",
    "\n",
    "for mf in model_family_list:\n",
    "    \n",
    "    # split data into 80% and 20% subsets\n",
    "    # give subset A to the inner hyperparameter tuner,\n",
    "    # save subset B for meta-evaluation\n",
    "    X_train, X_test, y_train, y_test = train_test_split(X, \n",
    "                                                        y, \n",
    "                                                        test_size=0.33, \n",
    "                                                        random_state=2302)\n",
    "\n",
    "    # further split A into training and validation sets\n",
    "    C, D = train_test_split(A, 0.8)\n",
    "\n",
    "    # generate_hp_candidates should be a function that knows\n",
    "    # how to generate candidate hyperparameter settings\n",
    "    # for any given model family\n",
    "    hp_settings_list = generate_hp_candidates(mf)\n",
    "\n",
    "    # run hyperparameter tuner to find best hyperparameters\n",
    "    best_hp, best_m = hyperparameter_tuner(C, D,\n",
    "    hp_settings_list)\n",
    "    result = evaluate(best_m, B)\n",
    "    perf_list.append(result)\n",
    "    hp_list.append(best_hp)\n",
    "\n",
    "    # end of inner hyperparameter tuning loop for a single\n",
    "    # model family\n",
    "    \n",
    "# find best model family (max_index is a helper function\n",
    "# that finds the index of the maximum element in a list)\n",
    "best_mf = model_family_list[max_index(perf_list)]\n",
    "best_hp = hp_list[max_index(perf_list)]\n",
    "\n",
    "# train a model from the best model family using all of\n",
    "# the data\n",
    "model = train_mf_model(best_mf, best_hp, data)"
   ]
  },
  {
   "cell_type": "code",
   "execution_count": null,
   "metadata": {
    "collapsed": true
   },
   "outputs": [],
   "source": []
  },
  {
   "cell_type": "code",
   "execution_count": null,
   "metadata": {
    "collapsed": true
   },
   "outputs": [],
   "source": []
  }
 ],
 "metadata": {
  "kernelspec": {
   "display_name": "Python 3",
   "language": "python",
   "name": "python3"
  },
  "language_info": {
   "codemirror_mode": {
    "name": "ipython",
    "version": 3
   },
   "file_extension": ".py",
   "mimetype": "text/x-python",
   "name": "python",
   "nbconvert_exporter": "python",
   "pygments_lexer": "ipython3",
   "version": "3.6.3"
  }
 },
 "nbformat": 4,
 "nbformat_minor": 2
}
