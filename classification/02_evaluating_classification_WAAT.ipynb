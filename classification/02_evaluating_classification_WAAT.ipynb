{
 "cells": [
  {
   "cell_type": "markdown",
   "metadata": {},
   "source": [
    "## Evaluating classification techniques for speaker characterization\n",
    "### Laura Fernández Gallardo\n",
    "\n",
    "In this notebook, I will evaluate the performance of different classification techniques for characterizing users' warmth-attractiveness (WAAT). \n",
    "\n",
    "* Thesholding continuous scores generated from [factor analysis](https://github.com/laufergall/Subjective_Speaker_Characteristics/tree/master/speaker_characteristics/factor_analysis) based on percentiles to define 3 classes (\"high\", \"mid\", and \"low\") with approximately the same number of samples.\n",
    "* Only the \"high\" and \"low\" classes are of interest -> I address **binary classification**.\n",
    "* As evaluation metric, I will consider the average per-class accuracy (average of sensitivity and specificity)"
   ]
  },
  {
   "cell_type": "code",
   "execution_count": 19,
   "metadata": {
    "collapsed": true
   },
   "outputs": [],
   "source": [
    "import io\n",
    "import requests\n",
    "import time # for timestamps\n",
    "import pickle # save models\n",
    "\n",
    "import numpy as np\n",
    "import pandas as pd\n",
    "from ast import literal_eval # parsing hp of gridsearch\n",
    "\n",
    "from sklearn.pipeline import Pipeline\n",
    "from sklearn.feature_selection import SelectKBest, f_classif, mutual_info_classif\n",
    "from sklearn.metrics import recall_score, classification_report, confusion_matrix\n",
    "\n",
    "from sklearn.cluster import KMeans\n",
    "from sklearn.preprocessing import StandardScaler\n",
    "from sklearn.feature_selection import SelectKBest\n",
    "\n",
    "from sklearn.model_selection import train_test_split\n",
    "from sklearn.model_selection import GridSearchCV\n",
    "\n",
    "import matplotlib.pyplot as plt\n",
    "import seaborn as sns\n",
    "\n",
    "%matplotlib inline"
   ]
  },
  {
   "cell_type": "code",
   "execution_count": 2,
   "metadata": {
    "collapsed": true
   },
   "outputs": [],
   "source": [
    "# fix random seed for reproducibility\n",
    "seed = 2302\n",
    "np.random.seed(seed)"
   ]
  },
  {
   "cell_type": "markdown",
   "metadata": {},
   "source": [
    "## Speakers' WAAT\n",
    "\n",
    "WAAT (warmth-attractiveness) can be seen as the first two dimensions of the perceived speaker characteristics. Scaled (with mean = 0 and std = 1) scores of speakers on these dimensions were already extracted in the [subjective analysis](https://github.com/laufergall/Subjective_Speaker_Characteristics), for males and for females separately.\n"
   ]
  },
  {
   "cell_type": "code",
   "execution_count": 3,
   "metadata": {},
   "outputs": [
    {
     "data": {
      "text/html": [
       "<div>\n",
       "<style>\n",
       "    .dataframe thead tr:only-child th {\n",
       "        text-align: right;\n",
       "    }\n",
       "\n",
       "    .dataframe thead th {\n",
       "        text-align: left;\n",
       "    }\n",
       "\n",
       "    .dataframe tbody tr th {\n",
       "        vertical-align: top;\n",
       "    }\n",
       "</style>\n",
       "<table border=\"1\" class=\"dataframe\">\n",
       "  <thead>\n",
       "    <tr style=\"text-align: right;\">\n",
       "      <th></th>\n",
       "      <th>attractiveness</th>\n",
       "      <th>compliance</th>\n",
       "      <th>confidence</th>\n",
       "      <th>maturity</th>\n",
       "      <th>sample_heard</th>\n",
       "      <th>warmth</th>\n",
       "      <th>gender</th>\n",
       "      <th>spkID</th>\n",
       "    </tr>\n",
       "  </thead>\n",
       "  <tbody>\n",
       "    <tr>\n",
       "      <th>0</th>\n",
       "      <td>-0.579301</td>\n",
       "      <td>-0.921918</td>\n",
       "      <td>0.608503</td>\n",
       "      <td>0.276580</td>\n",
       "      <td>m004_linden_stimulus.wav</td>\n",
       "      <td>-0.284638</td>\n",
       "      <td>m</td>\n",
       "      <td>4</td>\n",
       "    </tr>\n",
       "    <tr>\n",
       "      <th>1</th>\n",
       "      <td>0.442865</td>\n",
       "      <td>-0.950212</td>\n",
       "      <td>0.588889</td>\n",
       "      <td>0.630295</td>\n",
       "      <td>m005_nicosia_stimulus.wav</td>\n",
       "      <td>-0.494019</td>\n",
       "      <td>m</td>\n",
       "      <td>5</td>\n",
       "    </tr>\n",
       "    <tr>\n",
       "      <th>2</th>\n",
       "      <td>-0.507534</td>\n",
       "      <td>0.139302</td>\n",
       "      <td>-0.151077</td>\n",
       "      <td>-0.669449</td>\n",
       "      <td>m006_rabat_stimulus.wav</td>\n",
       "      <td>1.533478</td>\n",
       "      <td>m</td>\n",
       "      <td>6</td>\n",
       "    </tr>\n",
       "    <tr>\n",
       "      <th>3</th>\n",
       "      <td>1.180748</td>\n",
       "      <td>-0.108982</td>\n",
       "      <td>0.962166</td>\n",
       "      <td>1.026359</td>\n",
       "      <td>m007_klaksvik_stimulus.wav</td>\n",
       "      <td>0.478983</td>\n",
       "      <td>m</td>\n",
       "      <td>7</td>\n",
       "    </tr>\n",
       "    <tr>\n",
       "      <th>4</th>\n",
       "      <td>1.070247</td>\n",
       "      <td>-0.284278</td>\n",
       "      <td>-0.875589</td>\n",
       "      <td>-1.291311</td>\n",
       "      <td>m016_beirut_stimulus.wav</td>\n",
       "      <td>1.861551</td>\n",
       "      <td>m</td>\n",
       "      <td>16</td>\n",
       "    </tr>\n",
       "  </tbody>\n",
       "</table>\n",
       "</div>"
      ],
      "text/plain": [
       "   attractiveness  compliance  confidence  maturity  \\\n",
       "0       -0.579301   -0.921918    0.608503  0.276580   \n",
       "1        0.442865   -0.950212    0.588889  0.630295   \n",
       "2       -0.507534    0.139302   -0.151077 -0.669449   \n",
       "3        1.180748   -0.108982    0.962166  1.026359   \n",
       "4        1.070247   -0.284278   -0.875589 -1.291311   \n",
       "\n",
       "                 sample_heard    warmth gender  spkID  \n",
       "0    m004_linden_stimulus.wav -0.284638      m      4  \n",
       "1   m005_nicosia_stimulus.wav -0.494019      m      5  \n",
       "2     m006_rabat_stimulus.wav  1.533478      m      6  \n",
       "3  m007_klaksvik_stimulus.wav  0.478983      m      7  \n",
       "4    m016_beirut_stimulus.wav  1.861551      m     16  "
      ]
     },
     "execution_count": 3,
     "metadata": {},
     "output_type": "execute_result"
    }
   ],
   "source": [
    "# load WAAT scores (averaged across listeners)\n",
    "\n",
    "path = \"https://raw.githubusercontent.com/laufergall/Subjective_Speaker_Characteristics/master/data/generated_data/\"\n",
    "\n",
    "url = path + \"factorscores_malespk.csv\"\n",
    "s = requests.get(url).content\n",
    "scores_m =pd.read_csv(io.StringIO(s.decode('utf-8')))\n",
    "\n",
    "url = path + \"factorscores_femalespk.csv\"\n",
    "s = requests.get(url).content\n",
    "scores_f =pd.read_csv(io.StringIO(s.decode('utf-8')))\n",
    "\n",
    "# rename dimensions\n",
    "scores_m.columns = ['sample_heard', 'warmth', 'attractiveness', 'confidence', 'compliance', 'maturity']\n",
    "scores_f.columns = ['sample_heard', 'warmth', 'attractiveness', 'compliance', 'confidence', 'maturity']\n",
    "\n",
    "# join male and feame scores\n",
    "scores = scores_m.append(scores_f)\n",
    "scores['gender'] = scores['sample_heard'].str.slice(0,1)\n",
    "scores['spkID'] = scores['sample_heard'].str.slice(1,4).astype('int')\n",
    "\n",
    "scores.head()"
   ]
  },
  {
   "cell_type": "code",
   "execution_count": 4,
   "metadata": {
    "scrolled": false
   },
   "outputs": [
    {
     "data": {
      "text/plain": [
       "<seaborn.axisgrid.FacetGrid at 0x1c8db7a2828>"
      ]
     },
     "execution_count": 4,
     "metadata": {},
     "output_type": "execute_result"
    },
    {
     "data": {
      "image/png": "[encoded data removed]",
      "text/plain": [
       "<matplotlib.figure.Figure at 0x1c8db84d940>"
      ]
     },
     "metadata": {},
     "output_type": "display_data"
    }
   ],
   "source": [
    "# scatter plot\n",
    "\n",
    "sns.lmplot('warmth', 'attractiveness', data = scores, hue=\"gender\")"
   ]
  },
  {
   "cell_type": "code",
   "execution_count": 5,
   "metadata": {},
   "outputs": [
    {
     "data": {
      "text/plain": [
       "<seaborn.axisgrid.JointGrid at 0x1c8dfd4a5c0>"
      ]
     },
     "execution_count": 5,
     "metadata": {},
     "output_type": "execute_result"
    },
    {
     "data": {
      "image/png": "[encoded data removed]",
      "text/plain": [
       "<matplotlib.figure.Figure at 0x1c8dfd4a748>"
      ]
     },
     "metadata": {},
     "output_type": "display_data"
    }
   ],
   "source": [
    "# histogram, kernel density estimation\n",
    "sns.jointplot('warmth', 'attractiveness', data = scores, kind=\"kde\").set_axis_labels(\"warmth\", \"attractiveness\")"
   ]
  },
  {
   "cell_type": "markdown",
   "metadata": {},
   "source": [
    "Get 3 clusters of speakers based on the WAAT distribution.\n",
    "Each cluster with approx. the same number of instances."
   ]
  },
  {
   "cell_type": "code",
   "execution_count": 6,
   "metadata": {
    "scrolled": true
   },
   "outputs": [
    {
     "name": "stdout",
     "output_type": "stream",
     "text": [
      "mid     117\n",
      "high    104\n",
      "low      79\n",
      "Name: class, dtype: int64\n"
     ]
    },
    {
     "data": {
      "image/png": "[encoded data removed]",
      "text/plain": [
       "<matplotlib.figure.Figure at 0x1c8e0494400>"
      ]
     },
     "metadata": {},
     "output_type": "display_data"
    }
   ],
   "source": [
    "# applying k-means\n",
    "\n",
    "n_clusters=3\n",
    "\n",
    "kmeans = KMeans(n_clusters=n_clusters, random_state=2302).fit(scores[['warmth','attractiveness']])\n",
    "\n",
    "scores['class'] = pd.Categorical(kmeans.labels_).rename_categories(['low','high','mid'])\n",
    "\n",
    "sns.lmplot('warmth', 'attractiveness', data = scores, hue=\"class\",fit_reg=False)\n",
    " \n",
    "print(scores['class'].value_counts())    "
   ]
  },
  {
   "cell_type": "markdown",
   "metadata": {},
   "source": [
    "## Select trait for binary classification and perform data partition"
   ]
  },
  {
   "cell_type": "markdown",
   "metadata": {},
   "source": [
    "**Removing** speakers in the mid class to address binary classification."
   ]
  },
  {
   "cell_type": "code",
   "execution_count": 7,
   "metadata": {
    "scrolled": false
   },
   "outputs": [
    {
     "data": {
      "text/html": [
       "<div>\n",
       "<style>\n",
       "    .dataframe thead tr:only-child th {\n",
       "        text-align: right;\n",
       "    }\n",
       "\n",
       "    .dataframe thead th {\n",
       "        text-align: left;\n",
       "    }\n",
       "\n",
       "    .dataframe tbody tr th {\n",
       "        vertical-align: top;\n",
       "    }\n",
       "</style>\n",
       "<table border=\"1\" class=\"dataframe\">\n",
       "  <thead>\n",
       "    <tr style=\"text-align: right;\">\n",
       "      <th></th>\n",
       "      <th>spkID</th>\n",
       "      <th>gender</th>\n",
       "      <th>class</th>\n",
       "    </tr>\n",
       "  </thead>\n",
       "  <tbody>\n",
       "    <tr>\n",
       "      <th>2</th>\n",
       "      <td>6</td>\n",
       "      <td>m</td>\n",
       "      <td>high</td>\n",
       "    </tr>\n",
       "    <tr>\n",
       "      <th>4</th>\n",
       "      <td>16</td>\n",
       "      <td>m</td>\n",
       "      <td>high</td>\n",
       "    </tr>\n",
       "    <tr>\n",
       "      <th>7</th>\n",
       "      <td>20</td>\n",
       "      <td>m</td>\n",
       "      <td>low</td>\n",
       "    </tr>\n",
       "    <tr>\n",
       "      <th>9</th>\n",
       "      <td>22</td>\n",
       "      <td>m</td>\n",
       "      <td>low</td>\n",
       "    </tr>\n",
       "    <tr>\n",
       "      <th>10</th>\n",
       "      <td>23</td>\n",
       "      <td>m</td>\n",
       "      <td>low</td>\n",
       "    </tr>\n",
       "  </tbody>\n",
       "</table>\n",
       "</div>"
      ],
      "text/plain": [
       "    spkID gender class\n",
       "2       6      m  high\n",
       "4      16      m  high\n",
       "7      20      m   low\n",
       "9      22      m   low\n",
       "10     23      m   low"
      ]
     },
     "execution_count": 7,
     "metadata": {},
     "output_type": "execute_result"
    }
   ],
   "source": [
    "# remove speakers in the mid class\n",
    "\n",
    "scores = scores.loc[ scores['class'] != 'mid', ['spkID','gender','class']]\n",
    "\n",
    "scores.head()\n"
   ]
  },
  {
   "cell_type": "code",
   "execution_count": 8,
   "metadata": {},
   "outputs": [
    {
     "name": "stdout",
     "output_type": "stream",
     "text": [
      "              spkID\n",
      "gender class       \n",
      "m      low       34\n",
      "       high      46\n",
      "w      low       45\n",
      "       high      58\n"
     ]
    }
   ],
   "source": [
    "scores['class'] = pd.Categorical(scores['class'], categories=['low','high'])\n",
    "\n",
    "print(scores.groupby(['gender','class']).count())"
   ]
  },
  {
   "cell_type": "markdown",
   "metadata": {},
   "source": [
    "Split speakers into train (75%) and test (25%) speakers with class and gender balance (stratified) by creating the dummy \"gendertrait\" class."
   ]
  },
  {
   "cell_type": "code",
   "execution_count": 9,
   "metadata": {},
   "outputs": [
    {
     "name": "stdout",
     "output_type": "stream",
     "text": [
      "Number of speakers in Train: 137\n",
      "Number of speakers in Test: 46\n",
      "Number of w-high speakers in Train: 43\n",
      "Number of m-high speakers in Train: 34\n",
      "Number of w-low speakers in Train: 34\n",
      "Number of m-high speakers in Train: 26\n",
      "Number of w-high speakers in Test: 15\n",
      "Number of m-high speakers in Test: 12\n",
      "Number of w-low speakers in Test: 11\n",
      "Number of m-low speakers in Test: 8\n"
     ]
    }
   ],
   "source": [
    "# get stratified random partition for train and test\n",
    "\n",
    "scores['genderclass']=scores[['gender', 'class']].apply(lambda x: ''.join(x), axis=1)\n",
    "\n",
    "indexes = np.arange(0,len(scores))\n",
    "classes = scores['class']\n",
    "train_i, test_i, train_y, test_y = train_test_split(indexes, \n",
    "                                                    classes, \n",
    "                                                    test_size=0.25, \n",
    "                                                    stratify = scores['genderclass'], \n",
    "                                                    random_state=2302)\n",
    "\n",
    "scores_train = scores.iloc[train_i,:] \n",
    "scores_test = scores.iloc[test_i,:] \n",
    "\n",
    "print('Number of speakers in Train:',len(scores_train))\n",
    "print('Number of speakers in Test:',len(scores_test))\n",
    "\n",
    "print('Number of w-high speakers in Train:', len(scores_train.loc[scores_train['genderclass']=='whigh']) )\n",
    "print('Number of m-high speakers in Train:', len(scores_train.loc[scores_train['genderclass']=='mhigh']) )\n",
    "print('Number of w-low speakers in Train:', len(scores_train.loc[scores_train['genderclass']=='wlow']) )\n",
    "print('Number of m-high speakers in Train:', len(scores_train.loc[scores_train['genderclass']=='mlow']) )\n",
    "\n",
    "print('Number of w-high speakers in Test:', len(scores_test.loc[scores_test['genderclass']=='whigh']) )\n",
    "print('Number of m-high speakers in Test:', len(scores_test.loc[scores_test['genderclass']=='mhigh']) )\n",
    "print('Number of w-low speakers in Test:', len(scores_test.loc[scores_test['genderclass']=='wlow']) )\n",
    "print('Number of m-low speakers in Test:', len(scores_test.loc[scores_test['genderclass']=='mlow']) )\n",
    "\n",
    "\n",
    "# # save these data for other evaluations\n",
    "scores_train.iloc[:,0:3].to_csv(r'..\\data\\generated_data\\speakerIDs_cls_WAAT_train.csv', index=False)\n",
    "scores_test.iloc[:,0:3].to_csv(r'..\\data\\generated_data\\speakerIDs_clss_WAAT_test.csv', index=False)"
   ]
  },
  {
   "cell_type": "markdown",
   "metadata": {},
   "source": [
    "## Speech features\n",
    "\n",
    "Speech features have been extracted from the semi-spontaneous dialogs uttered by the 300 speakers of the [NSC corpus](http://www.qu.tu-berlin.de/?id=nsc-corpus). \n",
    "\n",
    "Each semi-spontaneous dialog was splitted into 3 segments of approx. 20s, and the 88 [eGeMAPS](http://ieeexplore.ieee.org/document/7160715/) speech features were extracted from each segment (see ..\\feature_extraction).\n",
    "\n",
    "299 speakers recorded 4 semi-spontaneous dialogs, and 1 female speaker recorded 1 semi-spontaneous dialog. Total = 1197 dialogs * 3 segments = 3591 speech files.\n",
    "\n",
    "Unfortunately, no subjective ratings have been collected for the spontaneous dialogs d5, d7, or d8. However, we use the speech features in order to have more instances with which to train and test the models.\n",
    "\n",
    "**I assume** that the speakers' trait classes remain constant across recordings, that is, is a speaker is perceived as 'high' in the _intelligent_ trait for dialog 6 (d6, pizza dialog), then this perception would be the same for the other dialogs uttered by the same speaker."
   ]
  },
  {
   "cell_type": "code",
   "execution_count": 10,
   "metadata": {},
   "outputs": [
    {
     "data": {
      "text/html": [
       "<div>\n",
       "<style>\n",
       "    .dataframe thead tr:only-child th {\n",
       "        text-align: right;\n",
       "    }\n",
       "\n",
       "    .dataframe thead th {\n",
       "        text-align: left;\n",
       "    }\n",
       "\n",
       "    .dataframe tbody tr th {\n",
       "        vertical-align: top;\n",
       "    }\n",
       "</style>\n",
       "<table border=\"1\" class=\"dataframe\">\n",
       "  <thead>\n",
       "    <tr style=\"text-align: right;\">\n",
       "      <th></th>\n",
       "      <th>F0semitoneFrom27.5Hz_sma3nz_amean</th>\n",
       "      <th>F0semitoneFrom27.5Hz_sma3nz_stddevNorm</th>\n",
       "      <th>F0semitoneFrom27.5Hz_sma3nz_percentile20.0</th>\n",
       "      <th>F0semitoneFrom27.5Hz_sma3nz_percentile50.0</th>\n",
       "      <th>F0semitoneFrom27.5Hz_sma3nz_percentile80.0</th>\n",
       "      <th>F0semitoneFrom27.5Hz_sma3nz_pctlrange0-2</th>\n",
       "      <th>F0semitoneFrom27.5Hz_sma3nz_meanRisingSlope</th>\n",
       "      <th>F0semitoneFrom27.5Hz_sma3nz_stddevRisingSlope</th>\n",
       "      <th>F0semitoneFrom27.5Hz_sma3nz_meanFallingSlope</th>\n",
       "      <th>F0semitoneFrom27.5Hz_sma3nz_stddevFallingSlope</th>\n",
       "      <th>...</th>\n",
       "      <th>slopeUV0-500_sma3nz_amean</th>\n",
       "      <th>slopeUV500-1500_sma3nz_amean</th>\n",
       "      <th>spectralFluxUV_sma3nz_amean</th>\n",
       "      <th>loudnessPeaksPerSec</th>\n",
       "      <th>VoicedSegmentsPerSec</th>\n",
       "      <th>MeanVoicedSegmentLengthSec</th>\n",
       "      <th>StddevVoicedSegmentLengthSec</th>\n",
       "      <th>MeanUnvoicedSegmentLength</th>\n",
       "      <th>StddevUnvoicedSegmentLength</th>\n",
       "      <th>equivalentSoundLevel_dBp</th>\n",
       "    </tr>\n",
       "  </thead>\n",
       "  <tbody>\n",
       "    <tr>\n",
       "      <th>count</th>\n",
       "      <td>3591.000000</td>\n",
       "      <td>3591.000000</td>\n",
       "      <td>3591.000000</td>\n",
       "      <td>3591.000000</td>\n",
       "      <td>3591.000000</td>\n",
       "      <td>3591.000000</td>\n",
       "      <td>3591.000000</td>\n",
       "      <td>3591.000000</td>\n",
       "      <td>3591.000000</td>\n",
       "      <td>3591.000000</td>\n",
       "      <td>...</td>\n",
       "      <td>3591.000000</td>\n",
       "      <td>3591.000000</td>\n",
       "      <td>3591.000000</td>\n",
       "      <td>3591.000000</td>\n",
       "      <td>3591.000000</td>\n",
       "      <td>3591.000000</td>\n",
       "      <td>3591.000000</td>\n",
       "      <td>3591.000000</td>\n",
       "      <td>3591.000000</td>\n",
       "      <td>3591.000000</td>\n",
       "    </tr>\n",
       "    <tr>\n",
       "      <th>mean</th>\n",
       "      <td>32.074811</td>\n",
       "      <td>0.164822</td>\n",
       "      <td>29.331234</td>\n",
       "      <td>32.116749</td>\n",
       "      <td>34.979195</td>\n",
       "      <td>5.647962</td>\n",
       "      <td>214.705528</td>\n",
       "      <td>295.668503</td>\n",
       "      <td>169.914992</td>\n",
       "      <td>275.787170</td>\n",
       "      <td>...</td>\n",
       "      <td>0.010479</td>\n",
       "      <td>0.013236</td>\n",
       "      <td>0.071767</td>\n",
       "      <td>2.886362</td>\n",
       "      <td>2.007963</td>\n",
       "      <td>0.221566</td>\n",
       "      <td>0.165240</td>\n",
       "      <td>0.284134</td>\n",
       "      <td>0.417329</td>\n",
       "      <td>-36.338693</td>\n",
       "    </tr>\n",
       "    <tr>\n",
       "      <th>std</th>\n",
       "      <td>5.328665</td>\n",
       "      <td>0.048619</td>\n",
       "      <td>5.607906</td>\n",
       "      <td>5.591671</td>\n",
       "      <td>5.569061</td>\n",
       "      <td>1.795868</td>\n",
       "      <td>125.960017</td>\n",
       "      <td>250.885566</td>\n",
       "      <td>127.855815</td>\n",
       "      <td>271.865651</td>\n",
       "      <td>...</td>\n",
       "      <td>0.021249</td>\n",
       "      <td>0.002613</td>\n",
       "      <td>0.026480</td>\n",
       "      <td>0.582544</td>\n",
       "      <td>0.352177</td>\n",
       "      <td>0.043843</td>\n",
       "      <td>0.043784</td>\n",
       "      <td>0.076922</td>\n",
       "      <td>0.088756</td>\n",
       "      <td>3.655192</td>\n",
       "    </tr>\n",
       "    <tr>\n",
       "      <th>min</th>\n",
       "      <td>18.653170</td>\n",
       "      <td>0.042523</td>\n",
       "      <td>15.820370</td>\n",
       "      <td>17.475750</td>\n",
       "      <td>21.539220</td>\n",
       "      <td>1.861065</td>\n",
       "      <td>-1.284895</td>\n",
       "      <td>8.829769</td>\n",
       "      <td>-88.358820</td>\n",
       "      <td>5.645364</td>\n",
       "      <td>...</td>\n",
       "      <td>-0.081376</td>\n",
       "      <td>-0.003725</td>\n",
       "      <td>0.024064</td>\n",
       "      <td>1.254826</td>\n",
       "      <td>1.003764</td>\n",
       "      <td>0.100800</td>\n",
       "      <td>0.045621</td>\n",
       "      <td>0.114545</td>\n",
       "      <td>0.109176</td>\n",
       "      <td>-49.664970</td>\n",
       "    </tr>\n",
       "    <tr>\n",
       "      <th>25%</th>\n",
       "      <td>26.739480</td>\n",
       "      <td>0.130898</td>\n",
       "      <td>23.757365</td>\n",
       "      <td>26.487690</td>\n",
       "      <td>29.599050</td>\n",
       "      <td>4.400768</td>\n",
       "      <td>123.712800</td>\n",
       "      <td>118.036100</td>\n",
       "      <td>79.464975</td>\n",
       "      <td>81.877190</td>\n",
       "      <td>...</td>\n",
       "      <td>-0.003275</td>\n",
       "      <td>0.011667</td>\n",
       "      <td>0.053619</td>\n",
       "      <td>2.456779</td>\n",
       "      <td>1.758794</td>\n",
       "      <td>0.190541</td>\n",
       "      <td>0.134932</td>\n",
       "      <td>0.229104</td>\n",
       "      <td>0.361183</td>\n",
       "      <td>-38.860995</td>\n",
       "    </tr>\n",
       "    <tr>\n",
       "      <th>50%</th>\n",
       "      <td>34.306000</td>\n",
       "      <td>0.156014</td>\n",
       "      <td>31.710540</td>\n",
       "      <td>34.792220</td>\n",
       "      <td>37.338260</td>\n",
       "      <td>5.419893</td>\n",
       "      <td>185.773900</td>\n",
       "      <td>210.748100</td>\n",
       "      <td>130.231600</td>\n",
       "      <td>164.244500</td>\n",
       "      <td>...</td>\n",
       "      <td>0.011492</td>\n",
       "      <td>0.013374</td>\n",
       "      <td>0.066551</td>\n",
       "      <td>2.835696</td>\n",
       "      <td>2.007528</td>\n",
       "      <td>0.217083</td>\n",
       "      <td>0.159807</td>\n",
       "      <td>0.276333</td>\n",
       "      <td>0.417081</td>\n",
       "      <td>-36.402810</td>\n",
       "    </tr>\n",
       "    <tr>\n",
       "      <th>75%</th>\n",
       "      <td>36.630120</td>\n",
       "      <td>0.191418</td>\n",
       "      <td>34.186190</td>\n",
       "      <td>36.802260</td>\n",
       "      <td>39.593045</td>\n",
       "      <td>6.535017</td>\n",
       "      <td>273.657000</td>\n",
       "      <td>393.345000</td>\n",
       "      <td>225.026900</td>\n",
       "      <td>383.648100</td>\n",
       "      <td>...</td>\n",
       "      <td>0.025134</td>\n",
       "      <td>0.015017</td>\n",
       "      <td>0.083654</td>\n",
       "      <td>3.264876</td>\n",
       "      <td>2.225413</td>\n",
       "      <td>0.246432</td>\n",
       "      <td>0.189568</td>\n",
       "      <td>0.330000</td>\n",
       "      <td>0.472313</td>\n",
       "      <td>-34.025370</td>\n",
       "    </tr>\n",
       "    <tr>\n",
       "      <th>max</th>\n",
       "      <td>41.767930</td>\n",
       "      <td>0.391718</td>\n",
       "      <td>39.079370</td>\n",
       "      <td>42.096060</td>\n",
       "      <td>45.941690</td>\n",
       "      <td>18.397280</td>\n",
       "      <td>942.694600</td>\n",
       "      <td>1651.011000</td>\n",
       "      <td>1074.595000</td>\n",
       "      <td>1698.962000</td>\n",
       "      <td>...</td>\n",
       "      <td>0.077525</td>\n",
       "      <td>0.021781</td>\n",
       "      <td>0.226448</td>\n",
       "      <td>5.505506</td>\n",
       "      <td>3.355705</td>\n",
       "      <td>0.411176</td>\n",
       "      <td>0.447600</td>\n",
       "      <td>0.695000</td>\n",
       "      <td>1.885223</td>\n",
       "      <td>-24.326250</td>\n",
       "    </tr>\n",
       "  </tbody>\n",
       "</table>\n",
       "<p>8 rows × 88 columns</p>\n",
       "</div>"
      ],
      "text/plain": [
       "       F0semitoneFrom27.5Hz_sma3nz_amean  \\\n",
       "count                        3591.000000   \n",
       "mean                           32.074811   \n",
       "std                             5.328665   \n",
       "min                            18.653170   \n",
       "25%                            26.739480   \n",
       "50%                            34.306000   \n",
       "75%                            36.630120   \n",
       "max                            41.767930   \n",
       "\n",
       "       F0semitoneFrom27.5Hz_sma3nz_stddevNorm  \\\n",
       "count                             3591.000000   \n",
       "mean                                 0.164822   \n",
       "std                                  0.048619   \n",
       "min                                  0.042523   \n",
       "25%                                  0.130898   \n",
       "50%                                  0.156014   \n",
       "75%                                  0.191418   \n",
       "max                                  0.391718   \n",
       "\n",
       "       F0semitoneFrom27.5Hz_sma3nz_percentile20.0  \\\n",
       "count                                 3591.000000   \n",
       "mean                                    29.331234   \n",
       "std                                      5.607906   \n",
       "min                                     15.820370   \n",
       "25%                                     23.757365   \n",
       "50%                                     31.710540   \n",
       "75%                                     34.186190   \n",
       "max                                     39.079370   \n",
       "\n",
       "       F0semitoneFrom27.5Hz_sma3nz_percentile50.0  \\\n",
       "count                                 3591.000000   \n",
       "mean                                    32.116749   \n",
       "std                                      5.591671   \n",
       "min                                     17.475750   \n",
       "25%                                     26.487690   \n",
       "50%                                     34.792220   \n",
       "75%                                     36.802260   \n",
       "max                                     42.096060   \n",
       "\n",
       "       F0semitoneFrom27.5Hz_sma3nz_percentile80.0  \\\n",
       "count                                 3591.000000   \n",
       "mean                                    34.979195   \n",
       "std                                      5.569061   \n",
       "min                                     21.539220   \n",
       "25%                                     29.599050   \n",
       "50%                                     37.338260   \n",
       "75%                                     39.593045   \n",
       "max                                     45.941690   \n",
       "\n",
       "       F0semitoneFrom27.5Hz_sma3nz_pctlrange0-2  \\\n",
       "count                               3591.000000   \n",
       "mean                                   5.647962   \n",
       "std                                    1.795868   \n",
       "min                                    1.861065   \n",
       "25%                                    4.400768   \n",
       "50%                                    5.419893   \n",
       "75%                                    6.535017   \n",
       "max                                   18.397280   \n",
       "\n",
       "       F0semitoneFrom27.5Hz_sma3nz_meanRisingSlope  \\\n",
       "count                                  3591.000000   \n",
       "mean                                    214.705528   \n",
       "std                                     125.960017   \n",
       "min                                      -1.284895   \n",
       "25%                                     123.712800   \n",
       "50%                                     185.773900   \n",
       "75%                                     273.657000   \n",
       "max                                     942.694600   \n",
       "\n",
       "       F0semitoneFrom27.5Hz_sma3nz_stddevRisingSlope  \\\n",
       "count                                    3591.000000   \n",
       "mean                                      295.668503   \n",
       "std                                       250.885566   \n",
       "min                                         8.829769   \n",
       "25%                                       118.036100   \n",
       "50%                                       210.748100   \n",
       "75%                                       393.345000   \n",
       "max                                      1651.011000   \n",
       "\n",
       "       F0semitoneFrom27.5Hz_sma3nz_meanFallingSlope  \\\n",
       "count                                   3591.000000   \n",
       "mean                                     169.914992   \n",
       "std                                      127.855815   \n",
       "min                                      -88.358820   \n",
       "25%                                       79.464975   \n",
       "50%                                      130.231600   \n",
       "75%                                      225.026900   \n",
       "max                                     1074.595000   \n",
       "\n",
       "       F0semitoneFrom27.5Hz_sma3nz_stddevFallingSlope  \\\n",
       "count                                     3591.000000   \n",
       "mean                                       275.787170   \n",
       "std                                        271.865651   \n",
       "min                                          5.645364   \n",
       "25%                                         81.877190   \n",
       "50%                                        164.244500   \n",
       "75%                                        383.648100   \n",
       "max                                       1698.962000   \n",
       "\n",
       "                 ...             slopeUV0-500_sma3nz_amean  \\\n",
       "count            ...                           3591.000000   \n",
       "mean             ...                              0.010479   \n",
       "std              ...                              0.021249   \n",
       "min              ...                             -0.081376   \n",
       "25%              ...                             -0.003275   \n",
       "50%              ...                              0.011492   \n",
       "75%              ...                              0.025134   \n",
       "max              ...                              0.077525   \n",
       "\n",
       "       slopeUV500-1500_sma3nz_amean  spectralFluxUV_sma3nz_amean  \\\n",
       "count                   3591.000000                  3591.000000   \n",
       "mean                       0.013236                     0.071767   \n",
       "std                        0.002613                     0.026480   \n",
       "min                       -0.003725                     0.024064   \n",
       "25%                        0.011667                     0.053619   \n",
       "50%                        0.013374                     0.066551   \n",
       "75%                        0.015017                     0.083654   \n",
       "max                        0.021781                     0.226448   \n",
       "\n",
       "       loudnessPeaksPerSec  VoicedSegmentsPerSec  MeanVoicedSegmentLengthSec  \\\n",
       "count          3591.000000           3591.000000                 3591.000000   \n",
       "mean              2.886362              2.007963                    0.221566   \n",
       "std               0.582544              0.352177                    0.043843   \n",
       "min               1.254826              1.003764                    0.100800   \n",
       "25%               2.456779              1.758794                    0.190541   \n",
       "50%               2.835696              2.007528                    0.217083   \n",
       "75%               3.264876              2.225413                    0.246432   \n",
       "max               5.505506              3.355705                    0.411176   \n",
       "\n",
       "       StddevVoicedSegmentLengthSec  MeanUnvoicedSegmentLength  \\\n",
       "count                   3591.000000                3591.000000   \n",
       "mean                       0.165240                   0.284134   \n",
       "std                        0.043784                   0.076922   \n",
       "min                        0.045621                   0.114545   \n",
       "25%                        0.134932                   0.229104   \n",
       "50%                        0.159807                   0.276333   \n",
       "75%                        0.189568                   0.330000   \n",
       "max                        0.447600                   0.695000   \n",
       "\n",
       "       StddevUnvoicedSegmentLength  equivalentSoundLevel_dBp  \n",
       "count                  3591.000000               3591.000000  \n",
       "mean                      0.417329                -36.338693  \n",
       "std                       0.088756                  3.655192  \n",
       "min                       0.109176                -49.664970  \n",
       "25%                       0.361183                -38.860995  \n",
       "50%                       0.417081                -36.402810  \n",
       "75%                       0.472313                -34.025370  \n",
       "max                       1.885223                -24.326250  \n",
       "\n",
       "[8 rows x 88 columns]"
      ]
     },
     "execution_count": 10,
     "metadata": {},
     "output_type": "execute_result"
    }
   ],
   "source": [
    "# load speech features\n",
    "\n",
    "path = \"https://raw.githubusercontent.com/laufergall/ML_Speaker_Characteristics/master/data/extracted_features/\"\n",
    "\n",
    "url = path + \"/eGeMAPSv01a_semispontaneous_splitted.csv\"\n",
    "s = requests.get(url).content\n",
    "feats =pd.read_csv(io.StringIO(s.decode('utf-8')), sep = ';') # shape: 3591, 89\n",
    "\n",
    "feats.describe()"
   ]
  },
  {
   "cell_type": "markdown",
   "metadata": {
    "collapsed": true
   },
   "source": [
    "Pre-processing features with the transformation **learnt with training data**:\n",
    "\n",
    "* center and scale speech features"
   ]
  },
  {
   "cell_type": "code",
   "execution_count": 11,
   "metadata": {
    "scrolled": true
   },
   "outputs": [
    {
     "name": "stdout",
     "output_type": "stream",
     "text": [
      "Number of high instances in Train: 924\n",
      "Number of low instances in Train: 720\n",
      "Number of high instances in Test: 324\n",
      "Number of low instances in Test: 228\n"
     ]
    },
    {
     "data": {
      "text/html": [
       "<div>\n",
       "<style>\n",
       "    .dataframe thead tr:only-child th {\n",
       "        text-align: right;\n",
       "    }\n",
       "\n",
       "    .dataframe thead th {\n",
       "        text-align: left;\n",
       "    }\n",
       "\n",
       "    .dataframe tbody tr th {\n",
       "        vertical-align: top;\n",
       "    }\n",
       "</style>\n",
       "<table border=\"1\" class=\"dataframe\">\n",
       "  <thead>\n",
       "    <tr style=\"text-align: right;\">\n",
       "      <th></th>\n",
       "      <th>name</th>\n",
       "      <th>F0semitoneFrom27.5Hz_sma3nz_amean</th>\n",
       "      <th>F0semitoneFrom27.5Hz_sma3nz_stddevNorm</th>\n",
       "      <th>F0semitoneFrom27.5Hz_sma3nz_percentile20.0</th>\n",
       "      <th>F0semitoneFrom27.5Hz_sma3nz_percentile50.0</th>\n",
       "      <th>F0semitoneFrom27.5Hz_sma3nz_percentile80.0</th>\n",
       "      <th>F0semitoneFrom27.5Hz_sma3nz_pctlrange0-2</th>\n",
       "      <th>F0semitoneFrom27.5Hz_sma3nz_meanRisingSlope</th>\n",
       "      <th>F0semitoneFrom27.5Hz_sma3nz_stddevRisingSlope</th>\n",
       "      <th>F0semitoneFrom27.5Hz_sma3nz_meanFallingSlope</th>\n",
       "      <th>...</th>\n",
       "      <th>loudnessPeaksPerSec</th>\n",
       "      <th>VoicedSegmentsPerSec</th>\n",
       "      <th>MeanVoicedSegmentLengthSec</th>\n",
       "      <th>StddevVoicedSegmentLengthSec</th>\n",
       "      <th>MeanUnvoicedSegmentLength</th>\n",
       "      <th>StddevUnvoicedSegmentLength</th>\n",
       "      <th>equivalentSoundLevel_dBp</th>\n",
       "      <th>spkID</th>\n",
       "      <th>genderclass</th>\n",
       "      <th>class</th>\n",
       "    </tr>\n",
       "  </thead>\n",
       "  <tbody>\n",
       "    <tr>\n",
       "      <th>0</th>\n",
       "      <td>'m006_rabat_d5_01.wav'</td>\n",
       "      <td>31.23358</td>\n",
       "      <td>0.262306</td>\n",
       "      <td>26.59388</td>\n",
       "      <td>30.09026</td>\n",
       "      <td>34.11197</td>\n",
       "      <td>7.518097</td>\n",
       "      <td>316.59510</td>\n",
       "      <td>610.79350</td>\n",
       "      <td>267.6818</td>\n",
       "      <td>...</td>\n",
       "      <td>2.910414</td>\n",
       "      <td>2.643574</td>\n",
       "      <td>0.201035</td>\n",
       "      <td>0.209331</td>\n",
       "      <td>0.180400</td>\n",
       "      <td>0.286503</td>\n",
       "      <td>-30.14587</td>\n",
       "      <td>6</td>\n",
       "      <td>mhigh</td>\n",
       "      <td>high</td>\n",
       "    </tr>\n",
       "    <tr>\n",
       "      <th>1</th>\n",
       "      <td>'m006_rabat_d5_02.wav'</td>\n",
       "      <td>31.31265</td>\n",
       "      <td>0.205003</td>\n",
       "      <td>27.27562</td>\n",
       "      <td>31.13765</td>\n",
       "      <td>34.80304</td>\n",
       "      <td>7.527420</td>\n",
       "      <td>90.15386</td>\n",
       "      <td>78.50047</td>\n",
       "      <td>223.4587</td>\n",
       "      <td>...</td>\n",
       "      <td>2.228286</td>\n",
       "      <td>1.550388</td>\n",
       "      <td>0.253529</td>\n",
       "      <td>0.187034</td>\n",
       "      <td>0.405807</td>\n",
       "      <td>0.462146</td>\n",
       "      <td>-30.21316</td>\n",
       "      <td>6</td>\n",
       "      <td>mhigh</td>\n",
       "      <td>high</td>\n",
       "    </tr>\n",
       "    <tr>\n",
       "      <th>2</th>\n",
       "      <td>'m006_rabat_d5_03.wav'</td>\n",
       "      <td>32.08952</td>\n",
       "      <td>0.210413</td>\n",
       "      <td>27.79275</td>\n",
       "      <td>31.72719</td>\n",
       "      <td>35.72678</td>\n",
       "      <td>7.934029</td>\n",
       "      <td>277.98860</td>\n",
       "      <td>632.48160</td>\n",
       "      <td>139.8396</td>\n",
       "      <td>...</td>\n",
       "      <td>2.590194</td>\n",
       "      <td>2.132591</td>\n",
       "      <td>0.233043</td>\n",
       "      <td>0.190101</td>\n",
       "      <td>0.229767</td>\n",
       "      <td>0.381140</td>\n",
       "      <td>-29.06304</td>\n",
       "      <td>6</td>\n",
       "      <td>mhigh</td>\n",
       "      <td>high</td>\n",
       "    </tr>\n",
       "    <tr>\n",
       "      <th>3</th>\n",
       "      <td>'m006_rabat_d6_01.wav'</td>\n",
       "      <td>32.86148</td>\n",
       "      <td>0.209119</td>\n",
       "      <td>28.24504</td>\n",
       "      <td>32.85449</td>\n",
       "      <td>37.06210</td>\n",
       "      <td>8.817057</td>\n",
       "      <td>299.96070</td>\n",
       "      <td>709.52120</td>\n",
       "      <td>171.5547</td>\n",
       "      <td>...</td>\n",
       "      <td>3.178340</td>\n",
       "      <td>1.770956</td>\n",
       "      <td>0.304667</td>\n",
       "      <td>0.248820</td>\n",
       "      <td>0.247241</td>\n",
       "      <td>0.419860</td>\n",
       "      <td>-27.91848</td>\n",
       "      <td>6</td>\n",
       "      <td>mhigh</td>\n",
       "      <td>high</td>\n",
       "    </tr>\n",
       "    <tr>\n",
       "      <th>4</th>\n",
       "      <td>'m006_rabat_d6_02.wav'</td>\n",
       "      <td>31.04583</td>\n",
       "      <td>0.249890</td>\n",
       "      <td>26.29376</td>\n",
       "      <td>29.80590</td>\n",
       "      <td>33.76602</td>\n",
       "      <td>7.472261</td>\n",
       "      <td>191.92640</td>\n",
       "      <td>177.29000</td>\n",
       "      <td>113.4793</td>\n",
       "      <td>...</td>\n",
       "      <td>2.354326</td>\n",
       "      <td>1.890136</td>\n",
       "      <td>0.239687</td>\n",
       "      <td>0.185363</td>\n",
       "      <td>0.317407</td>\n",
       "      <td>0.477544</td>\n",
       "      <td>-29.62095</td>\n",
       "      <td>6</td>\n",
       "      <td>mhigh</td>\n",
       "      <td>high</td>\n",
       "    </tr>\n",
       "  </tbody>\n",
       "</table>\n",
       "<p>5 rows × 92 columns</p>\n",
       "</div>"
      ],
      "text/plain": [
       "                     name  F0semitoneFrom27.5Hz_sma3nz_amean  \\\n",
       "0  'm006_rabat_d5_01.wav'                           31.23358   \n",
       "1  'm006_rabat_d5_02.wav'                           31.31265   \n",
       "2  'm006_rabat_d5_03.wav'                           32.08952   \n",
       "3  'm006_rabat_d6_01.wav'                           32.86148   \n",
       "4  'm006_rabat_d6_02.wav'                           31.04583   \n",
       "\n",
       "   F0semitoneFrom27.5Hz_sma3nz_stddevNorm  \\\n",
       "0                                0.262306   \n",
       "1                                0.205003   \n",
       "2                                0.210413   \n",
       "3                                0.209119   \n",
       "4                                0.249890   \n",
       "\n",
       "   F0semitoneFrom27.5Hz_sma3nz_percentile20.0  \\\n",
       "0                                    26.59388   \n",
       "1                                    27.27562   \n",
       "2                                    27.79275   \n",
       "3                                    28.24504   \n",
       "4                                    26.29376   \n",
       "\n",
       "   F0semitoneFrom27.5Hz_sma3nz_percentile50.0  \\\n",
       "0                                    30.09026   \n",
       "1                                    31.13765   \n",
       "2                                    31.72719   \n",
       "3                                    32.85449   \n",
       "4                                    29.80590   \n",
       "\n",
       "   F0semitoneFrom27.5Hz_sma3nz_percentile80.0  \\\n",
       "0                                    34.11197   \n",
       "1                                    34.80304   \n",
       "2                                    35.72678   \n",
       "3                                    37.06210   \n",
       "4                                    33.76602   \n",
       "\n",
       "   F0semitoneFrom27.5Hz_sma3nz_pctlrange0-2  \\\n",
       "0                                  7.518097   \n",
       "1                                  7.527420   \n",
       "2                                  7.934029   \n",
       "3                                  8.817057   \n",
       "4                                  7.472261   \n",
       "\n",
       "   F0semitoneFrom27.5Hz_sma3nz_meanRisingSlope  \\\n",
       "0                                    316.59510   \n",
       "1                                     90.15386   \n",
       "2                                    277.98860   \n",
       "3                                    299.96070   \n",
       "4                                    191.92640   \n",
       "\n",
       "   F0semitoneFrom27.5Hz_sma3nz_stddevRisingSlope  \\\n",
       "0                                      610.79350   \n",
       "1                                       78.50047   \n",
       "2                                      632.48160   \n",
       "3                                      709.52120   \n",
       "4                                      177.29000   \n",
       "\n",
       "   F0semitoneFrom27.5Hz_sma3nz_meanFallingSlope  ...    loudnessPeaksPerSec  \\\n",
       "0                                      267.6818  ...               2.910414   \n",
       "1                                      223.4587  ...               2.228286   \n",
       "2                                      139.8396  ...               2.590194   \n",
       "3                                      171.5547  ...               3.178340   \n",
       "4                                      113.4793  ...               2.354326   \n",
       "\n",
       "   VoicedSegmentsPerSec  MeanVoicedSegmentLengthSec  \\\n",
       "0              2.643574                    0.201035   \n",
       "1              1.550388                    0.253529   \n",
       "2              2.132591                    0.233043   \n",
       "3              1.770956                    0.304667   \n",
       "4              1.890136                    0.239687   \n",
       "\n",
       "   StddevVoicedSegmentLengthSec  MeanUnvoicedSegmentLength  \\\n",
       "0                      0.209331                   0.180400   \n",
       "1                      0.187034                   0.405807   \n",
       "2                      0.190101                   0.229767   \n",
       "3                      0.248820                   0.247241   \n",
       "4                      0.185363                   0.317407   \n",
       "\n",
       "   StddevUnvoicedSegmentLength  equivalentSoundLevel_dBp  spkID  genderclass  \\\n",
       "0                     0.286503                 -30.14587      6        mhigh   \n",
       "1                     0.462146                 -30.21316      6        mhigh   \n",
       "2                     0.381140                 -29.06304      6        mhigh   \n",
       "3                     0.419860                 -27.91848      6        mhigh   \n",
       "4                     0.477544                 -29.62095      6        mhigh   \n",
       "\n",
       "   class  \n",
       "0   high  \n",
       "1   high  \n",
       "2   high  \n",
       "3   high  \n",
       "4   high  \n",
       "\n",
       "[5 rows x 92 columns]"
      ]
     },
     "execution_count": 11,
     "metadata": {},
     "output_type": "execute_result"
    }
   ],
   "source": [
    "# Separate instances according to the train and test partition\n",
    "# instances corresponding to speakers in the mid class will be left out\n",
    "\n",
    "# extract speaker ID from speech file name\n",
    "feats['spkID'] = feats['name'].str.slice(2, 5).astype('int')\n",
    "\n",
    "# appending class label\n",
    "feats_class_train = pd.merge(feats, scores_train[['spkID','genderclass','class']], how='inner')\n",
    "feats_class_test = pd.merge(feats, scores_test[['spkID','genderclass','class']], how='inner')\n",
    "\n",
    "print('Number of high instances in Train:', len(feats_class_train.loc[feats_class_train['class']=='high']) )\n",
    "print('Number of low instances in Train:', len(feats_class_train.loc[feats_class_train['class']=='low']) )\n",
    "print('Number of high instances in Test:', len(feats_class_test.loc[feats_class_test['class']=='high']) )\n",
    "print('Number of low instances in Test:', len(feats_class_test.loc[feats_class_test['class']=='low']) )\n",
    "\n",
    "feats_class_train.head()"
   ]
  },
  {
   "cell_type": "code",
   "execution_count": 12,
   "metadata": {
    "collapsed": true
   },
   "outputs": [],
   "source": [
    "# Standardize speech features  \n",
    "\n",
    "# save feature names\n",
    "feats_names = list(feats_class_train.drop(['name','spkID','genderclass','class'],axis=1))\n",
    "\n",
    "myfile = open(r'.\\data_while_tuning\\feats_names.csv', 'w')\n",
    "for item in feats_names:\n",
    "    myfile.write(\"%r\\n\" % item)\n",
    "\n",
    "# learn transformation on training data\n",
    "scaler = StandardScaler()\n",
    "scaler.fit(feats_class_train.drop(['name','spkID','genderclass','class'],axis=1))\n",
    "\n",
    "# numpy n_instances x n_feats\n",
    "feats_s_train = scaler.transform(feats_class_train.drop(['name','spkID','genderclass','class'],axis=1))\n",
    "feats_s_test = scaler.transform(feats_class_test.drop(['name','spkID','genderclass','class'],axis=1)) "
   ]
  },
  {
   "cell_type": "markdown",
   "metadata": {
    "collapsed": true
   },
   "source": [
    "## Model tuning with feature selection\n",
    "\n",
    "Use the train data to find the classifier and its hyperparameters leading to the best performance. \n",
    "\n",
    "Perform feature selection with \"SelectKBest\": selecting best k features based on ANOVA F-value computed between class label and feature. k ranging from 2 to total number of features in intervals of 5."
   ]
  },
  {
   "cell_type": "code",
   "execution_count": 169,
   "metadata": {},
   "outputs": [],
   "source": [
    "\"\"\"\n",
    "Summarize results of cross-validation on set A for hyperparameter tuning\n",
    "\n",
    "Inputs:\n",
    "- cname: classifier name\n",
    "- grid_result: gridsearch results for this classifier, output of grid.fit(AX, Ay)  \n",
    "- filename: filename with path to write the summary to\n",
    "\"\"\"\n",
    "def summary_tuning(cname, grid_result, filename):\n",
    "    \n",
    "    means = grid_result.cv_results_['mean_test_score']\n",
    "    stds = grid_result.cv_results_['std_test_score']\n",
    "    params = grid_result.cv_results_['params']\n",
    "\n",
    "    # print best result and append to our lists\n",
    "    print(\"%r -> Best cross-val score on A set: %f using %s\" % (cname, grid_result.best_score_, grid_result.best_params_))\n",
    "    \n",
    "    # dataframe with summary    \n",
    "    d = {\n",
    "        'model': cname, \n",
    "        'mean_acc_A': means, \n",
    "        'stdev_acc_A': stds, \n",
    "        'params': params, \n",
    "    }\n",
    "    df = pd.DataFrame(data = d) \n",
    "    df.to_csv(filename, index=False)\n",
    "      \n",
    "                           \n",
    "        \n",
    "\n",
    "\"\"\"\n",
    "Perform nested hyperparameter tuning.\n",
    "Given training data splitted into A, B sets and for each classifier type:\n",
    "Stratified cross-validation for feature selection and hyperparameter tuning using set A\n",
    "Generates csv file with summary of hp tuning (set A)\n",
    "Evaluate the performance on set B and return accs\n",
    "\n",
    "Input:\n",
    "- AX and BX: features of the train set, splitted\n",
    "- Ay and By: labels of the train set, splitted\n",
    "- get_cls_functions: list of functions tho get classifier and dict of hp to tune\n",
    "\n",
    "Output: \n",
    "- cls_acc_hps: pandas dataframe with:\n",
    "    - classifiers names\n",
    "    - classifiers hyperparameters\n",
    "    - selected features\n",
    "    - accuracies on B set\n",
    "    of each tuned classifier corresponding to get_cls_functions\n",
    "- trained_cls_list: list of classifiers tuned and trained on (AX+BX)\n",
    "\"\"\"    \n",
    "\n",
    "def hp_tuner(AX, BX, Ay, By, get_cls_functions):\n",
    "\n",
    "    # init lists (there will be one element per classifier in get_cls_functions)\n",
    "    \n",
    "    classifiers_names = []\n",
    "    classifiers = []\n",
    "    hparam_grids = []\n",
    "    best_accs = [] # on the B set\n",
    "    best_hps = [] # determined with CV on A\n",
    "    sel_feats_i = [] # indexes of selected features\n",
    "    sel_feats = [] # names of selected features\n",
    "    trained_cls_list = [] # tuned classifier trained on X,y\n",
    "    \n",
    "    # iterate over list of functions \n",
    "    # to get classifiers and parameters and append to our lists\n",
    "\n",
    "    for fn in get_cls_functions:     \n",
    "        clsname, cls, hp = fn()\n",
    "        classifiers_names.append(clsname)\n",
    "        classifiers.append(cls)\n",
    "        hparam_grids.append(hp)\n",
    "        \n",
    "    # tune hyperparameters with GridSearchCV for each classifier\n",
    "    \n",
    "    for i in np.arange(len(classifiers)):\n",
    "\n",
    "        # create pipeline\n",
    "        pipe = Pipeline([\n",
    "            ('selecter', SelectKBest(f_classif, k=4)),\n",
    "            ('classifier', classifiers[i])\n",
    "        ])\n",
    "        \n",
    "        # feature selection params\n",
    "        fsel_params = dict(\n",
    "            selecter__k = np.arange(2, AX.shape[1], 5)\n",
    "        )\n",
    "\n",
    "        # feature selection params and classifier's params for param_grid: \n",
    "        all_params = {**fsel_params, **hparam_grids[i]}\n",
    "        \n",
    "        # perform grid search\n",
    "        grid = GridSearchCV(estimator=pipe,\n",
    "                            param_grid=all_params,\n",
    "                            scoring='recall_macro', # average per-class accuracy \n",
    "                            n_jobs=1,\n",
    "                            cv=10)\n",
    "        \n",
    "        # This might take a while:\n",
    "        grid_result = grid.fit(AX, Ay) \n",
    "        \n",
    "        # summary of hp tuning on set A\n",
    "        # generate one csv file per classifier\n",
    "        summary_tuning(classifiers_names[i], \n",
    "                       grid_result, \n",
    "                       r'.\\data_while_tuning\\%s_tuning.csv' % classifiers_names[i])\n",
    "\n",
    "        # get selected features on set A\n",
    "        sel_i = grid_result.best_estimator_.named_steps['selecter'].get_support()\n",
    "        selected = [i for indx, i in enumerate(feats_names) if sel_i[indx]]\n",
    "        print(\"%r -> Selected features: %r\" % (classifiers_names[i], selected))\n",
    "        sel_feats_i.append(sel_i)\n",
    "        sel_feats.append(selected)\n",
    "        \n",
    "        # evaluate classifier on set B\n",
    "        By_pred = grid_result.best_estimator_.predict(BX)\n",
    "        score_on_B = recall_score(By, By_pred, average='macro')\n",
    "        print(\"%r -> Average per-class accuracy on B set: %f\\n\" % (classifiers_names[i], score_on_B))\n",
    "        \n",
    "        # add score on B and hyperparams for output\n",
    "        best_accs.append(score_on_B)\n",
    "        best_hps.append(grid_result.best_params_)\n",
    "        \n",
    "        # train classifier using all training data with this classifier\n",
    "        X = np.concatenate((AX, BX), axis=0)\n",
    "        y = np.concatenate((Ay, By), axis=0)\n",
    "        trained_cls = grid_result.best_estimator_.fit(X,y)\n",
    "        trained_cls_list.append(trained_cls)\n",
    "    \n",
    "    # create the output dataframe    \n",
    "    d = {\n",
    "        'classifiers_names': classifiers_names, \n",
    "        'best_accs': best_accs, \n",
    "        'best_hps': best_hps, \n",
    "        'sel_feats': sel_feats, \n",
    "        'sel_feats_i': sel_feats_i\n",
    "    }\n",
    "    cls_acc_hps = pd.DataFrame(data = d) \n",
    "    \n",
    "    return cls_acc_hps, trained_cls_list"
   ]
  },
  {
   "cell_type": "markdown",
   "metadata": {},
   "source": [
    "Main code snippet to evaluate classification accuracy:\n",
    "    \n",
    "* Choose data (feature and labels) for train X and y and test Xt and yt\n",
    "* Split train data into A and B sets\n",
    "* Hyperparameter tuner using A and B sets data by calling hp_tuner()\n",
    "    * For each classifier type:\n",
    "        * Stratified cross-validation for hyperparameter tuning using set A\n",
    "        * Evaluate the performance on set B\n",
    "* Select classifier based on the best performance on set B and train it using all training data   \n",
    "* Get performance on test set\n",
    "\n",
    "(Nested hyperparameter tuning inspired by [A. Zheng](http://www.oreilly.com/data/free/evaluating-machine-learning-models.csp))\n"
   ]
  },
  {
   "cell_type": "code",
   "execution_count": 14,
   "metadata": {},
   "outputs": [
    {
     "name": "stdout",
     "output_type": "stream",
     "text": [
      "Number of instances in A (hyperparameter tuning): 1315\n",
      "Number of instances in B (meta-evaluation): 329\n"
     ]
    }
   ],
   "source": [
    "# training data. Features and labels\n",
    "X = feats_s_train\n",
    "y = feats_class_train['class'].cat.codes\n",
    "\n",
    "# test data. Features and labels\n",
    "Xt = feats_s_test\n",
    "yt = feats_class_test['class'].cat.codes\n",
    "\n",
    "# split train data into 80% and 20% subsets - with balance in trait and gender\n",
    "# give subset A to the inner hyperparameter tuner\n",
    "# and hold out subset B for meta-evaluation\n",
    "AX, BX, Ay, By = train_test_split(X, y, test_size=0.20, stratify = feats_class_train['genderclass'], random_state=2302)\n",
    "\n",
    "print('Number of instances in A (hyperparameter tuning):',AX.shape[0])\n",
    "print('Number of instances in B (meta-evaluation):',BX.shape[0])\n",
    "    "
   ]
  },
  {
   "cell_type": "code",
   "execution_count": 70,
   "metadata": {
    "collapsed": true
   },
   "outputs": [],
   "source": [
    "# dataframe with results from hp tuner to be appended\n",
    "tuning_all = pd.DataFrame()\n",
    "\n",
    "# list with tuned classifiers trained on training data, to be appended\n",
    "trained_all = []"
   ]
  },
  {
   "cell_type": "code",
   "execution_count": 16,
   "metadata": {},
   "outputs": [],
   "source": [
    "# save splits\n",
    "\n",
    "import csv\n",
    "\n",
    "# original features and class\n",
    "feats_class_train.to_csv(r'.\\data_while_tuning\\feats_class_train.csv', index=False)\n",
    "feats_class_test.to_csv(r'.\\data_while_tuning\\feats_class_test.csv', index=False)\n",
    "\n",
    "# train/test partitions, features and labels\n",
    "np.save(r'.\\data_while_tuning\\X.npy', X)\n",
    "np.save(r'.\\data_while_tuning\\y.npy', y)\n",
    "np.save(r'.\\data_while_tuning\\Xt.npy', Xt)\n",
    "np.save(r'.\\data_while_tuning\\yt.npy', yt)\n",
    "\n",
    "# # A/B splits, features and labels\n",
    "np.save(r'.\\data_while_tuning\\AX.npy', AX)\n",
    "np.save(r'.\\data_while_tuning\\BX.npy', BX)\n",
    "np.save(r'.\\data_while_tuning\\Ay.npy', Ay)\n",
    "np.save(r'.\\data_while_tuning\\By.npy', By)\n",
    "\n"
   ]
  },
  {
   "cell_type": "code",
   "execution_count": 17,
   "metadata": {
    "collapsed": true
   },
   "outputs": [],
   "source": [
    "\"\"\"\n",
    "Saving outpus of hp tuning to disk\n",
    "Called after tuning each classifier\n",
    "\n",
    "Input:\n",
    "- tuning_all: pandas df with tuning results\n",
    "- trained_all: list of all classifiers trained on training data\n",
    "\"\"\" \n",
    "def save_tuning(tuning_all, trained_all):\n",
    "    \n",
    "    # save tuning_all\n",
    "    tuning_all.to_csv(r'.\\data_while_tuning\\tuning_all.csv', index=False)\n",
    "    \n",
    "    # save trained_all\n",
    "    for i in np.arange(len(trained_all)):\n",
    "        filename = r'.\\data_while_tuning\\trained_' + tuning_all.loc[i, 'classifiers_names'] + '.sav'\n",
    "        pickle.dump(trained_all[i], open(filename, 'wb'))\n",
    "        \n",
    "\"\"\"\n",
    "Loading outpus of hp tuning from disk\n",
    "Called to recover what was tuned and trained in previous sessions\n",
    "\n",
    "Output:\n",
    "- tuning_all: pandas df with tuning results\n",
    "- trained_all: list of all classifiers trained on training data\n",
    "\"\"\" \n",
    "def load_tuning():\n",
    "    \n",
    "    # load tuning_all\n",
    "    tuning_all = pd.read_csv(r'.\\data_while_tuning\\tuning_all.csv')\n",
    "    \n",
    "    # load trained_all\n",
    "    trained_all=[]\n",
    "    for i in np.arange(len(tuning_all)):\n",
    "        filename = r'.\\data_while_tuning\\trained_' + tuning_all.loc[i, 'classifiers_names'] + '.sav'\n",
    "        loaded_model = pickle.load(open(filename, 'rb'))\n",
    "        trained_all.append(loaded_model)\n",
    "        \n",
    "    return tuning_all, trained_all"
   ]
  },
  {
   "cell_type": "markdown",
   "metadata": {},
   "source": [
    "### Calling hp_tuner() for each classifier individually"
   ]
  },
  {
   "cell_type": "markdown",
   "metadata": {},
   "source": [
    "** Recover ** when new ipynb session started\n",
    "(Workaround for working with hyperparameter tuning during several days)"
   ]
  },
  {
   "cell_type": "code",
   "execution_count": null,
   "metadata": {},
   "outputs": [],
   "source": [
    "\n",
    "# original features and class\n",
    "feats_class_train = pd.read_csv(r'.\\data_while_tuning\\feats_class_train.csv')\n",
    "feats_class_test = pd.read_csv(r'.\\data_while_tuning\\feats_class_test.csv')\n",
    "\n",
    "# train/test partitions, features and labels\n",
    "X = np.load(r'.\\data_while_tuning\\X.npy')\n",
    "y = np.load(r'.\\data_while_tuning\\y.npy')\n",
    "Xt = np.load(r'.\\data_while_tuning\\Xt.npy')\n",
    "yt = np.load(r'.\\data_while_tuning\\yt.npy')\n",
    "\n",
    "# # A/B splits, features and labels\n",
    "AX = np.load(r'.\\data_while_tuning\\AX.npy')\n",
    "BX = np.load(r'.\\data_while_tuning\\BX.npy')\n",
    "Ay = np.load(r'.\\data_while_tuning\\Ay.npy')\n",
    "By = np.load(r'.\\data_while_tuning\\By.npy')\n"
   ]
  },
  {
   "cell_type": "code",
   "execution_count": 69,
   "metadata": {
    "collapsed": true
   },
   "outputs": [],
   "source": [
    "# Loading outpus of hp tuning from disk\n",
    "tuning_all, trained_all = load_tuning()"
   ]
  },
  {
   "cell_type": "markdown",
   "metadata": {},
   "source": [
    "Call this after each experiment: "
   ]
  },
  {
   "cell_type": "code",
   "execution_count": 46,
   "metadata": {
    "collapsed": true
   },
   "outputs": [],
   "source": [
    "# save tuning_all (.csv) and trained_all (nameclassifier.sav)\n",
    "save_tuning(tuning_all, trained_all)"
   ]
  },
  {
   "cell_type": "markdown",
   "metadata": {},
   "source": [
    "#### GaussianNB\n",
    "\n",
    "*class sklearn.naive_bayes.GaussianNB(priors=None)*\n",
    "\n",
    "No parameters to tune for this classifier. Priors not specified, so they will be adjusted given the data."
   ]
  },
  {
   "cell_type": "code",
   "execution_count": 95,
   "metadata": {
    "scrolled": true
   },
   "outputs": [
    {
     "name": "stdout",
     "output_type": "stream",
     "text": [
      "'GaussianNB' -> Best cross-val score on A set: 0.685354 using {'selecter': SelectKBest(k=37, score_func=<function f_classif at 0x000001C8DECC10D0>), 'selecter__k': 37}\n",
      "'GaussianNB' -> Selected features: ['F0semitoneFrom27.5Hz_sma3nz_stddevNorm', 'F0semitoneFrom27.5Hz_sma3nz_percentile80.0', 'F0semitoneFrom27.5Hz_sma3nz_pctlrange0-2', 'F0semitoneFrom27.5Hz_sma3nz_meanFallingSlope', 'F0semitoneFrom27.5Hz_sma3nz_stddevFallingSlope', 'loudness_sma3_stddevRisingSlope', 'spectralFlux_sma3_stddevNorm', 'mfcc4_sma3_amean', 'jitterLocal_sma3nz_amean', 'jitterLocal_sma3nz_stddevNorm', 'shimmerLocaldB_sma3nz_amean', 'shimmerLocaldB_sma3nz_stddevNorm', 'HNRdBACF_sma3nz_stddevNorm', 'logRelF0-H1-A3_sma3nz_amean', 'logRelF0-H1-A3_sma3nz_stddevNorm', 'F1frequency_sma3nz_amean', 'F1frequency_sma3nz_stddevNorm', 'F2frequency_sma3nz_amean', 'F2bandwidth_sma3nz_stddevNorm', 'F3frequency_sma3nz_amean', 'F3frequency_sma3nz_stddevNorm', 'F3bandwidth_sma3nz_amean', 'alphaRatioV_sma3nz_stddevNorm', 'hammarbergIndexV_sma3nz_stddevNorm', 'slopeV0-500_sma3nz_amean', 'slopeV500-1500_sma3nz_amean', 'spectralFluxV_sma3nz_stddevNorm', 'mfcc1V_sma3nz_amean', 'mfcc1V_sma3nz_stddevNorm', 'mfcc4V_sma3nz_amean', 'alphaRatioUV_sma3nz_amean', 'hammarbergIndexUV_sma3nz_amean', 'slopeUV500-1500_sma3nz_amean', 'VoicedSegmentsPerSec', 'MeanVoicedSegmentLengthSec', 'MeanUnvoicedSegmentLength', 'StddevUnvoicedSegmentLength']\n",
      "'GaussianNB' -> Average per-class accuracy on B set: 0.690090\n",
      "\n"
     ]
    }
   ],
   "source": [
    "from sklearn.naive_bayes import GaussianNB\n",
    "\n",
    "\"\"\"\n",
    "Naive Bayes Classifier\n",
    "\"\"\"\n",
    "def get_GaussianNB2tune():\n",
    "\n",
    "    model = GaussianNB()\n",
    "    hp = dict()\n",
    "    return 'GaussianNB', model, hp\n",
    "\n",
    "# Hyperparameter tuning with this model\n",
    "tuning, trained = hp_tuner(AX, BX, Ay, By, [get_GaussianNB2tune])\n",
    "\n",
    "# update lists of tuning info and trained classifiers\n",
    "tuning_all = tuning_all.append(tuning, ignore_index=True)\n",
    "trained_all.append(trained)"
   ]
  },
  {
   "cell_type": "code",
   "execution_count": 155,
   "metadata": {},
   "outputs": [
    {
     "name": "stdout",
     "output_type": "stream",
     "text": [
      "0    {'selecter': SelectKBest(k=37, score_func=<fun...\n",
      "1    {'selecter': SelectKBest(k=37, score_func=<fun...\n",
      "2    {'selecter': SelectKBest(k=37, score_func=<fun...\n",
      "3    {'selecter': SelectKBest(k=37, score_func=<fun...\n",
      "4    {'selecter': SelectKBest(k=37, score_func=<fun...\n",
      "Name: params, dtype: object\n"
     ]
    },
    {
     "data": {
      "text/plain": [
       "<matplotlib.axes._subplots.AxesSubplot at 0x1c8e04c4b70>"
      ]
     },
     "execution_count": 155,
     "metadata": {},
     "output_type": "execute_result"
    },
    {
     "data": {
      "image/png": "[encoded data removed]",
      "text/plain": [
       "<matplotlib.figure.Figure at 0x1c8e24e37b8>"
      ]
     },
     "metadata": {},
     "output_type": "display_data"
    }
   ],
   "source": [
    "# open generated file with results of fitting GridSearchCV\n",
    " \n",
    "sgrid = pd.read_csv(r'.\\data_while_tuning\\GaussianNB_tuning.csv')\n",
    "print(sgrid['params'].head())\n",
    "\n",
    "# get number of k from each row\n",
    "params_splitted = sgrid['params'].str.split(':')\n",
    "sgrid['k'] = params_splitted.apply(lambda x: int(x[-1][1:-1]))\n",
    "\n",
    "# plot acc vs. k\n",
    "sns.pointplot(x='k', y='mean_acc_A', data=sgrid) # hue"
   ]
  },
  {
   "cell_type": "markdown",
   "metadata": {},
   "source": [
    "#### LogisticRegression\n",
    "\n",
    "*class sklearn.linear_model.LogisticRegression(penalty=’l2’, dual=False, tol=0.0001, C=1.0, fit_intercept=True, intercept_scaling=1, class_weight=None, random_state=None, solver=’liblinear’, max_iter=100, multi_class=’ovr’, verbose=0, warm_start=False, n_jobs=1)*\n",
    "\n",
    "Tuning C (inverse of regularization strength). The 'liblinear' solver (a good choice for small datasets) handles L1 penalty.\n"
   ]
  },
  {
   "cell_type": "code",
   "execution_count": 170,
   "metadata": {},
   "outputs": [
    {
     "name": "stdout",
     "output_type": "stream",
     "text": [
      "'LogisticRegression' -> Best cross-val score on A set: 0.756037 using {'classifier__C': 10.0, 'selecter__k': 87}\n",
      "'LogisticRegression' -> Selected features: ['F0semitoneFrom27.5Hz_sma3nz_amean', 'F0semitoneFrom27.5Hz_sma3nz_stddevNorm', 'F0semitoneFrom27.5Hz_sma3nz_percentile20.0', 'F0semitoneFrom27.5Hz_sma3nz_percentile50.0', 'F0semitoneFrom27.5Hz_sma3nz_percentile80.0', 'F0semitoneFrom27.5Hz_sma3nz_pctlrange0-2', 'F0semitoneFrom27.5Hz_sma3nz_meanRisingSlope', 'F0semitoneFrom27.5Hz_sma3nz_stddevRisingSlope', 'F0semitoneFrom27.5Hz_sma3nz_meanFallingSlope', 'F0semitoneFrom27.5Hz_sma3nz_stddevFallingSlope', 'loudness_sma3_stddevNorm', 'loudness_sma3_percentile20.0', 'loudness_sma3_percentile50.0', 'loudness_sma3_percentile80.0', 'loudness_sma3_pctlrange0-2', 'loudness_sma3_meanRisingSlope', 'loudness_sma3_stddevRisingSlope', 'loudness_sma3_meanFallingSlope', 'loudness_sma3_stddevFallingSlope', 'spectralFlux_sma3_amean', 'spectralFlux_sma3_stddevNorm', 'mfcc1_sma3_amean', 'mfcc1_sma3_stddevNorm', 'mfcc2_sma3_amean', 'mfcc2_sma3_stddevNorm', 'mfcc3_sma3_amean', 'mfcc3_sma3_stddevNorm', 'mfcc4_sma3_amean', 'mfcc4_sma3_stddevNorm', 'jitterLocal_sma3nz_amean', 'jitterLocal_sma3nz_stddevNorm', 'shimmerLocaldB_sma3nz_amean', 'shimmerLocaldB_sma3nz_stddevNorm', 'HNRdBACF_sma3nz_amean', 'HNRdBACF_sma3nz_stddevNorm', 'logRelF0-H1-H2_sma3nz_amean', 'logRelF0-H1-H2_sma3nz_stddevNorm', 'logRelF0-H1-A3_sma3nz_amean', 'logRelF0-H1-A3_sma3nz_stddevNorm', 'F1frequency_sma3nz_amean', 'F1frequency_sma3nz_stddevNorm', 'F1bandwidth_sma3nz_amean', 'F1bandwidth_sma3nz_stddevNorm', 'F1amplitudeLogRelF0_sma3nz_amean', 'F1amplitudeLogRelF0_sma3nz_stddevNorm', 'F2frequency_sma3nz_amean', 'F2frequency_sma3nz_stddevNorm', 'F2bandwidth_sma3nz_amean', 'F2bandwidth_sma3nz_stddevNorm', 'F2amplitudeLogRelF0_sma3nz_amean', 'F2amplitudeLogRelF0_sma3nz_stddevNorm', 'F3frequency_sma3nz_amean', 'F3frequency_sma3nz_stddevNorm', 'F3bandwidth_sma3nz_amean', 'F3bandwidth_sma3nz_stddevNorm', 'F3amplitudeLogRelF0_sma3nz_amean', 'F3amplitudeLogRelF0_sma3nz_stddevNorm', 'alphaRatioV_sma3nz_amean', 'alphaRatioV_sma3nz_stddevNorm', 'hammarbergIndexV_sma3nz_amean', 'hammarbergIndexV_sma3nz_stddevNorm', 'slopeV0-500_sma3nz_amean', 'slopeV0-500_sma3nz_stddevNorm', 'slopeV500-1500_sma3nz_amean', 'slopeV500-1500_sma3nz_stddevNorm', 'spectralFluxV_sma3nz_amean', 'spectralFluxV_sma3nz_stddevNorm', 'mfcc1V_sma3nz_amean', 'mfcc1V_sma3nz_stddevNorm', 'mfcc2V_sma3nz_amean', 'mfcc2V_sma3nz_stddevNorm', 'mfcc3V_sma3nz_amean', 'mfcc3V_sma3nz_stddevNorm', 'mfcc4V_sma3nz_amean', 'mfcc4V_sma3nz_stddevNorm', 'alphaRatioUV_sma3nz_amean', 'hammarbergIndexUV_sma3nz_amean', 'slopeUV0-500_sma3nz_amean', 'slopeUV500-1500_sma3nz_amean', 'spectralFluxUV_sma3nz_amean', 'loudnessPeaksPerSec', 'VoicedSegmentsPerSec', 'MeanVoicedSegmentLengthSec', 'StddevVoicedSegmentLengthSec', 'MeanUnvoicedSegmentLength', 'StddevUnvoicedSegmentLength', 'equivalentSoundLevel_dBp']\n",
      "'LogisticRegression' -> Average per-class accuracy on B set: 0.753022\n",
      "\n"
     ]
    }
   ],
   "source": [
    "from sklearn.linear_model import LogisticRegression\n",
    "\n",
    "\"\"\"\n",
    "Logistic Regression\n",
    "\"\"\"\n",
    "def get_LogisticRegression2tune():\n",
    "\n",
    "    model = LogisticRegression()\n",
    "    hp = dict(\n",
    "        #classifier__penalty = ['l1','l2'],\n",
    "        classifier__C = np.logspace(-3,3,num=7)\n",
    "    )\n",
    "    return 'LogisticRegression', model, hp\n",
    "\n",
    "# Hyperparameter tuning with this model\n",
    "tuning, trained = hp_tuner(AX, BX, Ay, By, [get_LogisticRegression2tune])\n",
    "\n",
    "# update lists of tuning info and trained classifiers\n",
    "tuning_all = tuning_all.append(tuning, ignore_index=True)\n",
    "trained_all.append(trained)"
   ]
  },
  {
   "cell_type": "markdown",
   "metadata": {},
   "source": [
    "Including more features is beneficial for the performance of logistic regression. Similar behavior for C >=0.1"
   ]
  },
  {
   "cell_type": "code",
   "execution_count": 198,
   "metadata": {},
   "outputs": [
    {
     "name": "stdout",
     "output_type": "stream",
     "text": [
      "   classifier__C  selecter__k\n",
      "0          0.001          2.0\n",
      "1          0.001          7.0\n",
      "2          0.001         12.0\n",
      "3          0.001         17.0\n",
      "4          0.001         22.0\n"
     ]
    },
    {
     "data": {
      "text/plain": [
       "<matplotlib.axes._subplots.AxesSubplot at 0x1c8e29ca358>"
      ]
     },
     "execution_count": 198,
     "metadata": {},
     "output_type": "execute_result"
    },
    {
     "data": {
      "image/png": "[encoded data removed]",
      "text/plain": [
       "<matplotlib.figure.Figure at 0x1c8e26a0278>"
      ]
     },
     "metadata": {},
     "output_type": "display_data"
    }
   ],
   "source": [
    "# open generated file with results of fitting GridSearchCV\n",
    " \n",
    "sgrid = pd.read_csv(r'.\\data_while_tuning\\LogisticRegression_tuning.csv')\n",
    "\n",
    "# params to dataframe\n",
    "params_dict = sgrid['params'].apply(lambda x: literal_eval(x) ).to_dict()\n",
    "params_df = pd.DataFrame(data = params_dict).transpose()\n",
    "\n",
    "# plot acc vs. params\n",
    "sns.pointplot(x='selecter__k', y='mean_acc_A',hue='classifier__C', data=sgrid.join(params_df)) # "
   ]
  },
  {
   "cell_type": "code",
   "execution_count": null,
   "metadata": {
    "collapsed": true
   },
   "outputs": [],
   "source": []
  },
  {
   "cell_type": "code",
   "execution_count": null,
   "metadata": {
    "collapsed": true
   },
   "outputs": [],
   "source": []
  },
  {
   "cell_type": "code",
   "execution_count": null,
   "metadata": {
    "collapsed": true
   },
   "outputs": [],
   "source": []
  },
  {
   "cell_type": "code",
   "execution_count": null,
   "metadata": {
    "collapsed": true
   },
   "outputs": [],
   "source": []
  },
  {
   "cell_type": "markdown",
   "metadata": {},
   "source": [
    "#### K Nearest Neighbors"
   ]
  },
  {
   "cell_type": "code",
   "execution_count": null,
   "metadata": {
    "collapsed": true
   },
   "outputs": [],
   "source": [
    "from sklearn.neighbors import KNeighborsClassifier\n",
    "\n",
    "\"\"\"\n",
    "K Nearest Neighbors\n",
    "\"\"\"\n",
    "def get_KNeighborsClassifier2tune():\n",
    "\n",
    "    model = KNeighborsClassifier()\n",
    "    hp = dict(\n",
    "        classifier__n_neighbors = list(range(1,50))\n",
    "    )\n",
    "    return 'KNeighborsClassifier', model, hp\n",
    "\n",
    "# Hyperparameter tuning with this model\n",
    "tuning, trained = hp_tuner(AX, BX, Ay, By, [get_KNeighborsClassifier2tune])\n",
    "\n",
    "# # update lists of tuning info and trained classifiers\n",
    "# tuning_all = tuning_all.append(tuning, ignore_index=True)\n",
    "# trained_all.append(trained)"
   ]
  },
  {
   "cell_type": "markdown",
   "metadata": {},
   "source": [
    "#### Support Vector Machines"
   ]
  },
  {
   "cell_type": "code",
   "execution_count": null,
   "metadata": {
    "collapsed": true
   },
   "outputs": [],
   "source": [
    "from sklearn.svm import SVC\n",
    "\n",
    "\"\"\"\n",
    "Support Vector Machines\n",
    "\"\"\"\n",
    "def get_SVC2tune():\n",
    "    \n",
    "    model = SVC()\n",
    "    hp = dict(\n",
    "        classifier__C = np.logspace(-5,3,num=9),\n",
    "        classifier__kernel = ['poly'], #['linear', 'poly', 'rbf', 'sigmoid'],\n",
    "        classifier__degree = [2] #, # only 'poly' kernel\n",
    "        #classifier__gamma = np.logspace(-5,3,num=9)\n",
    "    )\n",
    "    return 'SVC', model, hp\n",
    "\n",
    "# Hyperparameter tuning with this model\n",
    "tuning, trained = hp_tuner(AX, BX, Ay, By, [get_SVC2tune])\n",
    "\n",
    "# # update lists of tuning info and trained classifiers\n",
    "# tuning_all = tuning_all.append(tuning, ignore_index=True)\n",
    "# trained_all.append(trained)"
   ]
  },
  {
   "cell_type": "markdown",
   "metadata": {},
   "source": [
    "#### DecisionTreeClassifier"
   ]
  },
  {
   "cell_type": "code",
   "execution_count": null,
   "metadata": {
    "collapsed": true
   },
   "outputs": [],
   "source": [
    "from sklearn.tree import DecisionTreeClassifier\n",
    "\n",
    "\"\"\"\n",
    "Decision Trees\n",
    "\"\"\"\n",
    "def get_DecisionTreeClassifier2tune():\n",
    "    \n",
    "    model = DecisionTreeClassifier()\n",
    "    hp = dict(\n",
    "        classifier__max_depth = np.arange(2,4)#np.arange(2,11)\n",
    "    )\n",
    "    return 'DecisionTreeClassifier', model, hp\n",
    "\n",
    "# Hyperparameter tuning with this model\n",
    "tuning, trained = hp_tuner(AX, BX, Ay, By, [get_DecisionTreeClassifier2tune])\n",
    "\n",
    "# # update lists of tuning info and trained classifiers\n",
    "# tuning_all = tuning_all.append(tuning, ignore_index=True)\n",
    "# trained_all.append(trained)"
   ]
  },
  {
   "cell_type": "markdown",
   "metadata": {},
   "source": [
    "#### RandomForestClassifier"
   ]
  },
  {
   "cell_type": "code",
   "execution_count": null,
   "metadata": {
    "collapsed": true
   },
   "outputs": [],
   "source": [
    "from sklearn.ensemble import RandomForestClassifier\n",
    "\n",
    "\"\"\"\n",
    "Random Forest\n",
    "\"\"\"\n",
    "def get_RandomForestClassifier2tune():\n",
    "    \n",
    "    model = RandomForestClassifier()\n",
    "    hp = dict(\n",
    "        classifier__n_estimators = np.arange(2,4)#np.arange(2,51)\n",
    "    )\n",
    "    return 'RandomForestClassifier', model, hp\n",
    "\n",
    "# Hyperparameter tuning with this model\n",
    "tuning, trained = hp_tuner(AX, BX, Ay, By, [get_RandomForestClassifier2tune])\n",
    "\n",
    "# # update lists of tuning info and trained classifiers\n",
    "# tuning_all = tuning_all.append(tuning, ignore_index=True)\n",
    "# trained_all.append(trained)"
   ]
  },
  {
   "cell_type": "code",
   "execution_count": null,
   "metadata": {
    "collapsed": true
   },
   "outputs": [],
   "source": []
  },
  {
   "cell_type": "code",
   "execution_count": null,
   "metadata": {
    "collapsed": true
   },
   "outputs": [],
   "source": []
  },
  {
   "cell_type": "code",
   "execution_count": null,
   "metadata": {
    "collapsed": true
   },
   "outputs": [],
   "source": []
  },
  {
   "cell_type": "code",
   "execution_count": null,
   "metadata": {
    "collapsed": true
   },
   "outputs": [],
   "source": []
  },
  {
   "cell_type": "code",
   "execution_count": null,
   "metadata": {
    "collapsed": true
   },
   "outputs": [],
   "source": []
  },
  {
   "cell_type": "code",
   "execution_count": null,
   "metadata": {
    "collapsed": true
   },
   "outputs": [],
   "source": []
  },
  {
   "cell_type": "code",
   "execution_count": null,
   "metadata": {
    "collapsed": true
   },
   "outputs": [],
   "source": []
  },
  {
   "cell_type": "code",
   "execution_count": null,
   "metadata": {
    "collapsed": true
   },
   "outputs": [],
   "source": []
  },
  {
   "cell_type": "code",
   "execution_count": null,
   "metadata": {
    "collapsed": true
   },
   "outputs": [],
   "source": []
  },
  {
   "cell_type": "code",
   "execution_count": null,
   "metadata": {
    "collapsed": true
   },
   "outputs": [],
   "source": []
  },
  {
   "cell_type": "code",
   "execution_count": null,
   "metadata": {
    "collapsed": true
   },
   "outputs": [],
   "source": []
  },
  {
   "cell_type": "code",
   "execution_count": null,
   "metadata": {
    "collapsed": true
   },
   "outputs": [],
   "source": []
  },
  {
   "cell_type": "code",
   "execution_count": null,
   "metadata": {
    "collapsed": true
   },
   "outputs": [],
   "source": []
  },
  {
   "cell_type": "code",
   "execution_count": null,
   "metadata": {
    "collapsed": true
   },
   "outputs": [],
   "source": []
  },
  {
   "cell_type": "code",
   "execution_count": null,
   "metadata": {
    "collapsed": true
   },
   "outputs": [],
   "source": []
  },
  {
   "cell_type": "code",
   "execution_count": null,
   "metadata": {
    "collapsed": true
   },
   "outputs": [],
   "source": []
  },
  {
   "cell_type": "code",
   "execution_count": null,
   "metadata": {
    "collapsed": true
   },
   "outputs": [],
   "source": []
  },
  {
   "cell_type": "code",
   "execution_count": null,
   "metadata": {
    "collapsed": true
   },
   "outputs": [],
   "source": []
  },
  {
   "cell_type": "code",
   "execution_count": null,
   "metadata": {
    "collapsed": true
   },
   "outputs": [],
   "source": []
  },
  {
   "cell_type": "code",
   "execution_count": null,
   "metadata": {},
   "outputs": [],
   "source": [
    "# select the classifier that gave the maximum acc on B set\n",
    "best_accs = tuning_all['best_accs']\n",
    "i_best = best_accs.idxmax()\n",
    "\n",
    "print('Selected classifier based on the best performance on B: %r (accB = %0.2f)' % (tuning_all.loc[i_best,'classifiers_names'], round(best_accs[i_best],2)))"
   ]
  },
  {
   "cell_type": "code",
   "execution_count": null,
   "metadata": {},
   "outputs": [],
   "source": [
    "# predictions on the test set \n",
    "# feat sel on Xt is performed by the classifier\n",
    "yt_pred = trained_all[i_best][0].predict(Xt)\n",
    "\n",
    "score_on_test = recall_score(yt, yt_pred, average='macro')\n",
    "\n",
    "print(\"Average per-class accuracy on test: %f\" % score_on_test) \n",
    "\n",
    "cm = confusion_matrix(yt, yt_pred)\n",
    "print(classification_report(yt, yt_pred, digits = 2))\n",
    "print(cm)\n",
    " "
   ]
  },
  {
   "cell_type": "code",
   "execution_count": null,
   "metadata": {
    "collapsed": true
   },
   "outputs": [],
   "source": []
  },
  {
   "cell_type": "code",
   "execution_count": null,
   "metadata": {
    "collapsed": true
   },
   "outputs": [],
   "source": []
  },
  {
   "cell_type": "code",
   "execution_count": null,
   "metadata": {
    "collapsed": true
   },
   "outputs": [],
   "source": []
  },
  {
   "cell_type": "code",
   "execution_count": null,
   "metadata": {
    "collapsed": true
   },
   "outputs": [],
   "source": []
  },
  {
   "cell_type": "code",
   "execution_count": null,
   "metadata": {
    "collapsed": true
   },
   "outputs": [],
   "source": []
  },
  {
   "cell_type": "code",
   "execution_count": null,
   "metadata": {
    "collapsed": true
   },
   "outputs": [],
   "source": []
  },
  {
   "cell_type": "code",
   "execution_count": null,
   "metadata": {
    "collapsed": true
   },
   "outputs": [],
   "source": []
  },
  {
   "cell_type": "code",
   "execution_count": null,
   "metadata": {
    "collapsed": true
   },
   "outputs": [],
   "source": []
  },
  {
   "cell_type": "code",
   "execution_count": null,
   "metadata": {
    "collapsed": true
   },
   "outputs": [],
   "source": []
  },
  {
   "cell_type": "code",
   "execution_count": null,
   "metadata": {
    "collapsed": true
   },
   "outputs": [],
   "source": []
  },
  {
   "cell_type": "code",
   "execution_count": null,
   "metadata": {
    "collapsed": true
   },
   "outputs": [],
   "source": []
  },
  {
   "cell_type": "code",
   "execution_count": null,
   "metadata": {
    "collapsed": true
   },
   "outputs": [],
   "source": []
  },
  {
   "cell_type": "code",
   "execution_count": null,
   "metadata": {
    "collapsed": true
   },
   "outputs": [],
   "source": []
  },
  {
   "cell_type": "code",
   "execution_count": null,
   "metadata": {
    "collapsed": true
   },
   "outputs": [],
   "source": []
  },
  {
   "cell_type": "code",
   "execution_count": null,
   "metadata": {
    "collapsed": true
   },
   "outputs": [],
   "source": []
  },
  {
   "cell_type": "code",
   "execution_count": null,
   "metadata": {
    "collapsed": true
   },
   "outputs": [],
   "source": []
  },
  {
   "cell_type": "code",
   "execution_count": null,
   "metadata": {
    "collapsed": true
   },
   "outputs": [],
   "source": []
  },
  {
   "cell_type": "code",
   "execution_count": null,
   "metadata": {
    "collapsed": true
   },
   "outputs": [],
   "source": []
  },
  {
   "cell_type": "code",
   "execution_count": null,
   "metadata": {
    "collapsed": true
   },
   "outputs": [],
   "source": []
  },
  {
   "cell_type": "code",
   "execution_count": null,
   "metadata": {
    "collapsed": true
   },
   "outputs": [],
   "source": []
  }
 ],
 "metadata": {
  "kernelspec": {
   "display_name": "Python 3",
   "language": "python",
   "name": "python3"
  },
  "language_info": {
   "codemirror_mode": {
    "name": "ipython",
    "version": 3
   },
   "file_extension": ".py",
   "mimetype": "text/x-python",
   "name": "python",
   "nbconvert_exporter": "python",
   "pygments_lexer": "ipython3",
   "version": "3.6.3"
  }
 },
 "nbformat": 4,
 "nbformat_minor": 2
}
