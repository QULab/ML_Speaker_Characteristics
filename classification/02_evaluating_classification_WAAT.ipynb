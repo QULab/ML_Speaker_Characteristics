{
 "cells": [
  {
   "cell_type": "markdown",
   "metadata": {},
   "source": [
    "## Evaluating classification techniques for speaker characterization\n",
    "### Laura Fernández Gallardo\n",
    "\n",
    "In this notebook, I will evaluate the performance of different classification techniques for characterizing users' warmth-attractiveness (WAAT). \n",
    "\n",
    "* Thesholding continuous scores generated from [factor analysis](https://github.com/laufergall/Subjective_Speaker_Characteristics/tree/master/speaker_characteristics/factor_analysis) based on percentiles to define 3 classes (\"high\", \"mid\", and \"low\") with approximately the same number of samples.\n",
    "* Only the \"high\" and \"low\" classes are of interest -> I address **binary classification**.\n",
    "* As evaluation metric, I will consider the average per-class accuracy (average of sensitivity and specificity)"
   ]
  },
  {
   "cell_type": "code",
   "execution_count": 1,
   "metadata": {
    "collapsed": true
   },
   "outputs": [],
   "source": [
    "import io\n",
    "import requests\n",
    "import time # for timestamps\n",
    "import pickle # save models\n",
    "\n",
    "import numpy as np\n",
    "import pandas as pd\n",
    "from ast import literal_eval # parsing hp of gridsearch\n",
    "\n",
    "from cls_tuning import * # my helper functions\n",
    "\n",
    "from sklearn.metrics import recall_score, classification_report, confusion_matrix\n",
    "\n",
    "from sklearn.cluster import KMeans\n",
    "from sklearn.preprocessing import StandardScaler\n",
    "from sklearn.feature_selection import SelectKBest\n",
    "\n",
    "from sklearn.model_selection import train_test_split\n",
    "\n",
    "import matplotlib.pyplot as plt\n",
    "import seaborn as sns\n",
    "\n",
    "%matplotlib inline"
   ]
  },
  {
   "cell_type": "code",
   "execution_count": 2,
   "metadata": {
    "collapsed": true
   },
   "outputs": [],
   "source": [
    "# fix random seed for reproducibility\n",
    "seed = 2302\n",
    "np.random.seed(seed)"
   ]
  },
  {
   "cell_type": "markdown",
   "metadata": {},
   "source": [
    "## Speakers' WAAT\n",
    "\n",
    "WAAT (warmth-attractiveness) can be seen as the first two dimensions of the perceived speaker characteristics. Scaled (with mean = 0 and std = 1) scores of speakers on these dimensions were already extracted in the [subjective analysis](https://github.com/laufergall/Subjective_Speaker_Characteristics), for males and for females separately.\n"
   ]
  },
  {
   "cell_type": "code",
   "execution_count": 3,
   "metadata": {},
   "outputs": [
    {
     "data": {
      "text/html": [
       "<div>\n",
       "<style>\n",
       "    .dataframe thead tr:only-child th {\n",
       "        text-align: right;\n",
       "    }\n",
       "\n",
       "    .dataframe thead th {\n",
       "        text-align: left;\n",
       "    }\n",
       "\n",
       "    .dataframe tbody tr th {\n",
       "        vertical-align: top;\n",
       "    }\n",
       "</style>\n",
       "<table border=\"1\" class=\"dataframe\">\n",
       "  <thead>\n",
       "    <tr style=\"text-align: right;\">\n",
       "      <th></th>\n",
       "      <th>attractiveness</th>\n",
       "      <th>compliance</th>\n",
       "      <th>confidence</th>\n",
       "      <th>maturity</th>\n",
       "      <th>sample_heard</th>\n",
       "      <th>warmth</th>\n",
       "      <th>gender</th>\n",
       "      <th>spkID</th>\n",
       "    </tr>\n",
       "  </thead>\n",
       "  <tbody>\n",
       "    <tr>\n",
       "      <th>0</th>\n",
       "      <td>-0.579301</td>\n",
       "      <td>-0.921918</td>\n",
       "      <td>0.608503</td>\n",
       "      <td>0.276580</td>\n",
       "      <td>m004_linden_stimulus.wav</td>\n",
       "      <td>-0.284638</td>\n",
       "      <td>m</td>\n",
       "      <td>4</td>\n",
       "    </tr>\n",
       "    <tr>\n",
       "      <th>1</th>\n",
       "      <td>0.442865</td>\n",
       "      <td>-0.950212</td>\n",
       "      <td>0.588889</td>\n",
       "      <td>0.630295</td>\n",
       "      <td>m005_nicosia_stimulus.wav</td>\n",
       "      <td>-0.494019</td>\n",
       "      <td>m</td>\n",
       "      <td>5</td>\n",
       "    </tr>\n",
       "    <tr>\n",
       "      <th>2</th>\n",
       "      <td>-0.507534</td>\n",
       "      <td>0.139302</td>\n",
       "      <td>-0.151077</td>\n",
       "      <td>-0.669449</td>\n",
       "      <td>m006_rabat_stimulus.wav</td>\n",
       "      <td>1.533478</td>\n",
       "      <td>m</td>\n",
       "      <td>6</td>\n",
       "    </tr>\n",
       "    <tr>\n",
       "      <th>3</th>\n",
       "      <td>1.180748</td>\n",
       "      <td>-0.108982</td>\n",
       "      <td>0.962166</td>\n",
       "      <td>1.026359</td>\n",
       "      <td>m007_klaksvik_stimulus.wav</td>\n",
       "      <td>0.478983</td>\n",
       "      <td>m</td>\n",
       "      <td>7</td>\n",
       "    </tr>\n",
       "    <tr>\n",
       "      <th>4</th>\n",
       "      <td>1.070247</td>\n",
       "      <td>-0.284278</td>\n",
       "      <td>-0.875589</td>\n",
       "      <td>-1.291311</td>\n",
       "      <td>m016_beirut_stimulus.wav</td>\n",
       "      <td>1.861551</td>\n",
       "      <td>m</td>\n",
       "      <td>16</td>\n",
       "    </tr>\n",
       "  </tbody>\n",
       "</table>\n",
       "</div>"
      ],
      "text/plain": [
       "   attractiveness  compliance  confidence  maturity  \\\n",
       "0       -0.579301   -0.921918    0.608503  0.276580   \n",
       "1        0.442865   -0.950212    0.588889  0.630295   \n",
       "2       -0.507534    0.139302   -0.151077 -0.669449   \n",
       "3        1.180748   -0.108982    0.962166  1.026359   \n",
       "4        1.070247   -0.284278   -0.875589 -1.291311   \n",
       "\n",
       "                 sample_heard    warmth gender  spkID  \n",
       "0    m004_linden_stimulus.wav -0.284638      m      4  \n",
       "1   m005_nicosia_stimulus.wav -0.494019      m      5  \n",
       "2     m006_rabat_stimulus.wav  1.533478      m      6  \n",
       "3  m007_klaksvik_stimulus.wav  0.478983      m      7  \n",
       "4    m016_beirut_stimulus.wav  1.861551      m     16  "
      ]
     },
     "execution_count": 3,
     "metadata": {},
     "output_type": "execute_result"
    }
   ],
   "source": [
    "# load WAAT scores (averaged across listeners)\n",
    "\n",
    "path = \"https://raw.githubusercontent.com/laufergall/Subjective_Speaker_Characteristics/master/data/generated_data/\"\n",
    "\n",
    "url = path + \"factorscores_malespk.csv\"\n",
    "s = requests.get(url).content\n",
    "scores_m =pd.read_csv(io.StringIO(s.decode('utf-8')))\n",
    "\n",
    "url = path + \"factorscores_femalespk.csv\"\n",
    "s = requests.get(url).content\n",
    "scores_f =pd.read_csv(io.StringIO(s.decode('utf-8')))\n",
    "\n",
    "# rename dimensions\n",
    "scores_m.columns = ['sample_heard', 'warmth', 'attractiveness', 'confidence', 'compliance', 'maturity']\n",
    "scores_f.columns = ['sample_heard', 'warmth', 'attractiveness', 'compliance', 'confidence', 'maturity']\n",
    "\n",
    "# join male and feame scores\n",
    "scores = scores_m.append(scores_f)\n",
    "scores['gender'] = scores['sample_heard'].str.slice(0,1)\n",
    "scores['spkID'] = scores['sample_heard'].str.slice(1,4).astype('int')\n",
    "\n",
    "scores.head()"
   ]
  },
  {
   "cell_type": "code",
   "execution_count": 4,
   "metadata": {
    "scrolled": false
   },
   "outputs": [
    {
     "data": {
      "text/plain": [
       "<seaborn.axisgrid.FacetGrid at 0x1b0da5c9e80>"
      ]
     },
     "execution_count": 4,
     "metadata": {},
     "output_type": "execute_result"
    },
    {
     "data": {
      "image/png": "[encoded data removed]",
      "text/plain": [
       "<matplotlib.figure.Figure at 0x1b0d619d6d8>"
      ]
     },
     "metadata": {},
     "output_type": "display_data"
    }
   ],
   "source": [
    "# scatter plot\n",
    "\n",
    "sns.lmplot('warmth', 'attractiveness', data = scores, hue=\"gender\")"
   ]
  },
  {
   "cell_type": "code",
   "execution_count": 5,
   "metadata": {},
   "outputs": [
    {
     "data": {
      "text/plain": [
       "<seaborn.axisgrid.JointGrid at 0x1b0da60cac8>"
      ]
     },
     "execution_count": 5,
     "metadata": {},
     "output_type": "execute_result"
    },
    {
     "data": {
      "image/png": "[encoded data removed]",
      "text/plain": [
       "<matplotlib.figure.Figure at 0x1b0da60c0b8>"
      ]
     },
     "metadata": {},
     "output_type": "display_data"
    }
   ],
   "source": [
    "# histogram, kernel density estimation\n",
    "sns.jointplot('warmth', 'attractiveness', data = scores, kind=\"kde\").set_axis_labels(\"warmth\", \"attractiveness\")"
   ]
  },
  {
   "cell_type": "markdown",
   "metadata": {},
   "source": [
    "Get 3 clusters of speakers based on the WAAT distribution.\n",
    "Each cluster with approx. the same number of instances."
   ]
  },
  {
   "cell_type": "code",
   "execution_count": 4,
   "metadata": {
    "scrolled": true
   },
   "outputs": [
    {
     "name": "stdout",
     "output_type": "stream",
     "text": [
      "mid     117\n",
      "high    104\n",
      "low      79\n",
      "Name: class, dtype: int64\n"
     ]
    },
    {
     "data": {
      "image/png": "[encoded data removed]",
      "text/plain": [
       "<matplotlib.figure.Figure at 0x22275bd3278>"
      ]
     },
     "metadata": {},
     "output_type": "display_data"
    }
   ],
   "source": [
    "# applying k-means\n",
    "\n",
    "n_clusters=3\n",
    "\n",
    "kmeans = KMeans(n_clusters=n_clusters, random_state=2302).fit(scores[['warmth','attractiveness']])\n",
    "\n",
    "scores['class'] = pd.Categorical(kmeans.labels_).rename_categories(['low','high','mid'])\n",
    "\n",
    "sns.lmplot('warmth', 'attractiveness', data = scores, hue=\"class\",fit_reg=False)\n",
    " \n",
    "print(scores['class'].value_counts())    "
   ]
  },
  {
   "cell_type": "markdown",
   "metadata": {},
   "source": [
    "## Select trait for binary classification and perform data partition"
   ]
  },
  {
   "cell_type": "markdown",
   "metadata": {},
   "source": [
    "**Removing** speakers in the mid class to address binary classification.\n",
    "\n",
    "**Split speakers** into train (75%) and test (25%) speakers with class and gender balance (stratified) by creating the dummy \"gendertrait\" class."
   ]
  },
  {
   "cell_type": "code",
   "execution_count": 8,
   "metadata": {
    "scrolled": false
   },
   "outputs": [
    {
     "name": "stdout",
     "output_type": "stream",
     "text": [
      "    spkID gender class\n",
      "2       6      m  high\n",
      "4      16      m  high\n",
      "7      20      m   low\n",
      "9      22      m   low\n",
      "10     23      m   low\n",
      "              spkID\n",
      "gender class       \n",
      "m      low       34\n",
      "       high      46\n",
      "w      low       45\n",
      "       high      58\n"
     ]
    }
   ],
   "source": [
    "# remove speakers in the mid class\n",
    "\n",
    "scores = scores.loc[ scores['class'] != 'mid', ['spkID','gender','class']]\n",
    "\n",
    "scores['class'] = pd.Categorical(scores['class'], categories=['low','high'])\n",
    "\n",
    "print(scores.head())\n",
    "\n",
    "print(scores.groupby(['gender','class']).count())"
   ]
  },
  {
   "cell_type": "code",
   "execution_count": 10,
   "metadata": {},
   "outputs": [
    {
     "name": "stdout",
     "output_type": "stream",
     "text": [
      "Number of speakers in Train: 137\n",
      "Number of speakers in Test: 46\n",
      "Number of w-high speakers in Train: 43\n",
      "Number of m-high speakers in Train: 34\n",
      "Number of w-low speakers in Train: 34\n",
      "Number of m-high speakers in Train: 26\n",
      "Number of w-high speakers in Test: 15\n",
      "Number of m-high speakers in Test: 12\n",
      "Number of w-low speakers in Test: 11\n",
      "Number of m-low speakers in Test: 8\n"
     ]
    }
   ],
   "source": [
    "# get stratified random partition for train and test\n",
    "\n",
    "scores['genderclass']=scores[['gender', 'class']].apply(lambda x: ''.join(x), axis=1)\n",
    "\n",
    "indexes = np.arange(0,len(scores))\n",
    "classes = scores['class']\n",
    "train_i, test_i, train_y, test_y = train_test_split(indexes, \n",
    "                                                    classes, \n",
    "                                                    test_size=0.25, \n",
    "                                                    stratify = scores['genderclass'], \n",
    "                                                    random_state=2302)\n",
    "\n",
    "scores_train = scores.iloc[train_i,:] \n",
    "scores_test = scores.iloc[test_i,:] \n",
    "\n",
    "print('Number of speakers in Train:',len(scores_train))\n",
    "print('Number of speakers in Test:',len(scores_test))\n",
    "\n",
    "print('Number of w-high speakers in Train:', len(scores_train.loc[scores_train['genderclass']=='whigh']) )\n",
    "print('Number of m-high speakers in Train:', len(scores_train.loc[scores_train['genderclass']=='mhigh']) )\n",
    "print('Number of w-low speakers in Train:', len(scores_train.loc[scores_train['genderclass']=='wlow']) )\n",
    "print('Number of m-high speakers in Train:', len(scores_train.loc[scores_train['genderclass']=='mlow']) )\n",
    "\n",
    "print('Number of w-high speakers in Test:', len(scores_test.loc[scores_test['genderclass']=='whigh']) )\n",
    "print('Number of m-high speakers in Test:', len(scores_test.loc[scores_test['genderclass']=='mhigh']) )\n",
    "print('Number of w-low speakers in Test:', len(scores_test.loc[scores_test['genderclass']=='wlow']) )\n",
    "print('Number of m-low speakers in Test:', len(scores_test.loc[scores_test['genderclass']=='mlow']) )\n",
    "\n",
    "\n",
    "# # save these data for other evaluations\n",
    "scores.iloc[:,0:3].to_csv(r'..\\data\\generated_data\\speakerIDs_cls_WAAT_all.csv', index=False)\n",
    "scores_train.iloc[:,0:3].to_csv(r'..\\data\\generated_data\\speakerIDs_cls_WAAT_train.csv', index=False)\n",
    "scores_test.iloc[:,0:3].to_csv(r'..\\data\\generated_data\\speakerIDs_cls_WAAT_test.csv', index=False)"
   ]
  },
  {
   "cell_type": "markdown",
   "metadata": {},
   "source": [
    "## Speech features\n",
    "\n",
    "Speech features have been extracted from the semi-spontaneous dialogs uttered by the 300 speakers of the [NSC corpus](http://www.qu.tu-berlin.de/?id=nsc-corpus). \n",
    "\n",
    "Each semi-spontaneous dialog was splitted into 3 segments of approx. 20s, and the 88 [eGeMAPS](http://ieeexplore.ieee.org/document/7160715/) speech features were extracted from each segment (see ..\\feature_extraction).\n",
    "\n",
    "299 speakers recorded 4 semi-spontaneous dialogs, and 1 female speaker recorded 1 semi-spontaneous dialog. Total = 1197 dialogs * 3 segments = 3591 speech files.\n",
    "\n",
    "Unfortunately, no subjective ratings have been collected for the spontaneous dialogs d5, d7, or d8. However, we use the speech features in order to have more instances with which to train and test the models.\n",
    "\n",
    "**I assume** that the speakers' trait classes remain constant across recordings, that is, is a speaker is perceived as 'high' in the _intelligent_ trait for dialog 6 (d6, pizza dialog), then this perception would be the same for the other dialogs uttered by the same speaker."
   ]
  },
  {
   "cell_type": "code",
   "execution_count": null,
   "metadata": {
    "collapsed": true
   },
   "outputs": [],
   "source": [
    "# load speech features\n",
    "\n",
    "path = \"https://raw.githubusercontent.com/laufergall/ML_Speaker_Characteristics/master/data/extracted_features/\"\n",
    "\n",
    "url = path + \"/eGeMAPSv01a_semispontaneous_splitted.csv\"\n",
    "s = requests.get(url).content\n",
    "feats =pd.read_csv(io.StringIO(s.decode('utf-8')), sep = ';') # shape: 3591, 89\n",
    "\n",
    "feats.describe()"
   ]
  },
  {
   "cell_type": "markdown",
   "metadata": {
    "collapsed": true
   },
   "source": [
    "Pre-processing features with the transformation **learnt with training data**:\n",
    "\n",
    "* center and scale speech features"
   ]
  },
  {
   "cell_type": "code",
   "execution_count": null,
   "metadata": {
    "collapsed": true,
    "scrolled": true
   },
   "outputs": [],
   "source": [
    "# Separate instances according to the train and test partition\n",
    "# instances corresponding to speakers in the mid class will be left out\n",
    "\n",
    "# extract speaker ID from speech file name\n",
    "feats['spkID'] = feats['name'].str.slice(2, 5).astype('int')\n",
    "\n",
    "# appending class label\n",
    "feats_class_train = pd.merge(feats, scores_train[['spkID','genderclass','class']], how='inner')\n",
    "feats_class_test = pd.merge(feats, scores_test[['spkID','genderclass','class']], how='inner')\n",
    "\n",
    "print('Number of high instances in Train:', len(feats_class_train.loc[feats_class_train['class']=='high']) )\n",
    "print('Number of low instances in Train:', len(feats_class_train.loc[feats_class_train['class']=='low']) )\n",
    "print('Number of high instances in Test:', len(feats_class_test.loc[feats_class_test['class']=='high']) )\n",
    "print('Number of low instances in Test:', len(feats_class_test.loc[feats_class_test['class']=='low']) )\n",
    "\n",
    "feats_class_train.head()\n",
    "\n",
    "# save feature names\n",
    "feats_names = list(feats_class_train.drop(['name','spkID','genderclass','class'],axis=1))\n",
    "\n",
    "myfile = open(r'.\\data_while_tuning\\feats_names.csv', 'w')\n",
    "for item in feats_names:\n",
    "    myfile.write(\"%r\\n\" % item)"
   ]
  },
  {
   "cell_type": "code",
   "execution_count": null,
   "metadata": {
    "collapsed": true
   },
   "outputs": [],
   "source": [
    "# Standardize speech features  \n",
    "\n",
    "dropcolumns=['name','spkID','genderclass','class']\n",
    "\n",
    "# learn transformation on training data\n",
    "scaler = StandardScaler()\n",
    "scaler.fit(feats_class_train.drop(dropcolumns, axis=1))\n",
    "\n",
    "# numpy n_instances x n_feats\n",
    "feats_s_train = scaler.transform(feats_class_train.drop(dropcolumns, axis=1))\n",
    "feats_s_test = scaler.transform(feats_class_test.drop(dropcolumns, axis=1)) "
   ]
  },
  {
   "cell_type": "markdown",
   "metadata": {
    "collapsed": true
   },
   "source": [
    "## Model tuning with feature selection\n",
    "\n",
    "Use the train data to find the classifier and its hyperparameters leading to the best performance. \n",
    "\n",
    "Perform feature selection with \"SelectKBest\": selecting best k features based on ANOVA F-value computed between class label and feature. k ranging from 2 to total number of features in intervals of 5.\n",
    "\n",
    "My procedure:\n",
    "\n",
    "* Choose data (feature and labels) for train X and y and test Xt and yt\n",
    "* Split train data into A and B sets\n",
    "* Hyperparameter tuner using A and B sets data by calling hp_tuner()\n",
    "    * For each classifier type:\n",
    "        * Stratified cross-validation for hyperparameter tuning using set A\n",
    "        * Evaluate the performance on set B\n",
    "* Select classifier based on the best performance on set B and train it using all training data   \n",
    "* Get performance on test set\n",
    "\n",
    "(Nested hyperparameter tuning inspired by [A. Zheng](http://www.oreilly.com/data/free/evaluating-machine-learning-models.csp))\n",
    "\n",
    "(hp_tuner() in cls_tuning.py)"
   ]
  },
  {
   "cell_type": "code",
   "execution_count": null,
   "metadata": {
    "collapsed": true
   },
   "outputs": [],
   "source": [
    "# training data. Features and labels\n",
    "X = feats_s_train\n",
    "y = feats_class_train['class'].cat.codes\n",
    "\n",
    "# test data. Features and labels\n",
    "Xt = feats_s_test\n",
    "yt = feats_class_test['class'].cat.codes\n",
    "\n",
    "# split train data into 80% and 20% subsets - with balance in trait and gender\n",
    "# give subset A to the inner hyperparameter tuner\n",
    "# and hold out subset B for meta-evaluation\n",
    "AX, BX, Ay, By = train_test_split(X, y, test_size=0.20, stratify = feats_class_train['genderclass'], random_state=2302)\n",
    "\n",
    "print('Number of instances in A (hyperparameter tuning):',AX.shape[0])\n",
    "print('Number of instances in B (meta-evaluation):',BX.shape[0])\n",
    "    "
   ]
  },
  {
   "cell_type": "code",
   "execution_count": 10,
   "metadata": {
    "collapsed": true
   },
   "outputs": [],
   "source": [
    "# dataframe with results from hp tuner to be appended\n",
    "tuning_all = pd.DataFrame()\n",
    "\n",
    "# list with tuned classifiers trained on training data, to be appended\n",
    "trained_all = []"
   ]
  },
  {
   "cell_type": "code",
   "execution_count": null,
   "metadata": {
    "collapsed": true
   },
   "outputs": [],
   "source": [
    "# save splits\n",
    "\n",
    "import csv\n",
    "\n",
    "# original features and class\n",
    "feats_class_train.to_csv(r'.\\data_while_tuning\\feats_class_train.csv', index=False)\n",
    "feats_class_test.to_csv(r'.\\data_while_tuning\\feats_class_test.csv', index=False)\n",
    "\n",
    "# train/test partitions, features and labels\n",
    "np.save(r'.\\data_while_tuning\\X.npy', X)\n",
    "np.save(r'.\\data_while_tuning\\y.npy', y)\n",
    "np.save(r'.\\data_while_tuning\\Xt.npy', Xt)\n",
    "np.save(r'.\\data_while_tuning\\yt.npy', yt)\n",
    "\n",
    "# # A/B splits, features and labels\n",
    "np.save(r'.\\data_while_tuning\\AX.npy', AX)\n",
    "np.save(r'.\\data_while_tuning\\BX.npy', BX)\n",
    "np.save(r'.\\data_while_tuning\\Ay.npy', Ay)\n",
    "np.save(r'.\\data_while_tuning\\By.npy', By)\n",
    "\n"
   ]
  },
  {
   "cell_type": "markdown",
   "metadata": {},
   "source": [
    "### Calling hp_tuner() for each classifier individually"
   ]
  },
  {
   "cell_type": "markdown",
   "metadata": {},
   "source": [
    "** Recover ** when new ipynb session started.\n",
    "\n",
    "(Workaround for working with hyperparameter tuning during several days)"
   ]
  },
  {
   "cell_type": "code",
   "execution_count": 3,
   "metadata": {
    "collapsed": true
   },
   "outputs": [],
   "source": [
    "\n",
    "# original features and class\n",
    "feats_class_train = pd.read_csv(r'.\\data_while_tuning\\feats_class_train.csv')\n",
    "feats_class_test = pd.read_csv(r'.\\data_while_tuning\\feats_class_test.csv')\n",
    "feats_names = pd.read_csv(r'.\\data_while_tuning\\feats_names.csv')\n",
    "\n",
    "# train/test partitions, features and labels\n",
    "X = np.load(r'.\\data_while_tuning\\X.npy')\n",
    "y = np.load(r'.\\data_while_tuning\\y.npy')\n",
    "Xt = np.load(r'.\\data_while_tuning\\Xt.npy')\n",
    "yt = np.load(r'.\\data_while_tuning\\yt.npy')\n",
    "\n",
    "# A/B splits, features and labels\n",
    "AX = np.load(r'.\\data_while_tuning\\AX.npy')\n",
    "BX = np.load(r'.\\data_while_tuning\\BX.npy')\n",
    "Ay = np.load(r'.\\data_while_tuning\\Ay.npy')\n",
    "By = np.load(r'.\\data_while_tuning\\By.npy')\n"
   ]
  },
  {
   "cell_type": "code",
   "execution_count": 4,
   "metadata": {},
   "outputs": [],
   "source": [
    "# Loading outpus of hp tuning from disk\n",
    "tuning_all, trained_all = load_tuning()"
   ]
  },
  {
   "cell_type": "markdown",
   "metadata": {},
   "source": [
    "Call this after each experiment: "
   ]
  },
  {
   "cell_type": "code",
   "execution_count": 10,
   "metadata": {
    "collapsed": true
   },
   "outputs": [],
   "source": [
    "# save tuning_all (.csv) and trained_all (nameclassifier.sav)\n",
    "save_tuning(tuning_all, trained_all)"
   ]
  },
  {
   "cell_type": "markdown",
   "metadata": {},
   "source": [
    "#### GaussianNB\n",
    "\n",
    "*class sklearn.naive_bayes.GaussianNB(priors=None)*\n",
    "\n",
    "No parameters to tune for this classifier. Priors not specified, so they will be adjusted given the data."
   ]
  },
  {
   "cell_type": "code",
   "execution_count": 14,
   "metadata": {
    "scrolled": true
   },
   "outputs": [
    {
     "name": "stdout",
     "output_type": "stream",
     "text": [
      "'GaussianNB' -> Best cross-val score on A set: 0.685354 using {'selecter__k': 37}\n",
      "'GaussianNB' -> Selected features: []\n",
      "'GaussianNB' -> Average per-class accuracy on B set: 0.690090\n",
      "\n"
     ]
    }
   ],
   "source": [
    "from sklearn.naive_bayes import GaussianNB\n",
    "\n",
    "\"\"\"\n",
    "Naive Bayes Classifier\n",
    "\"\"\"\n",
    "def get_GaussianNB2tune():\n",
    "\n",
    "    model = GaussianNB()\n",
    "    hp = dict()\n",
    "    return 'GaussianNB', model, hp\n",
    "\n",
    "# Hyperparameter tuning with this model\n",
    "tuning, trained = hp_tuner(AX, BX, Ay, By, [get_GaussianNB2tune], feats_names)\n",
    "\n",
    "# update lists of tuning info and trained classifiers\n",
    "tuning_all = tuning_all.append(tuning, ignore_index=True)\n",
    "trained_all.append(trained)"
   ]
  },
  {
   "cell_type": "code",
   "execution_count": 15,
   "metadata": {
    "scrolled": true
   },
   "outputs": [
    {
     "name": "stdout",
     "output_type": "stream",
     "text": [
      "0     {'selecter__k': 2}\n",
      "1     {'selecter__k': 7}\n",
      "2    {'selecter__k': 12}\n",
      "3    {'selecter__k': 17}\n",
      "4    {'selecter__k': 22}\n",
      "Name: params, dtype: object\n"
     ]
    },
    {
     "data": {
      "text/plain": [
       "<matplotlib.axes._subplots.AxesSubplot at 0x1b0db2dc160>"
      ]
     },
     "execution_count": 15,
     "metadata": {},
     "output_type": "execute_result"
    },
    {
     "data": {
      "image/png": "[encoded data removed]",
      "text/plain": [
       "<matplotlib.figure.Figure at 0x1b0db2c9550>"
      ]
     },
     "metadata": {},
     "output_type": "display_data"
    }
   ],
   "source": [
    "# open generated file with results of fitting GridSearchCV\n",
    " \n",
    "sgrid = pd.read_csv(r'.\\data_while_tuning\\GaussianNB_tuning.csv')\n",
    "print(sgrid['params'].head())\n",
    "\n",
    "# params to dataframe\n",
    "params_dict = sgrid['params'].apply(lambda x: literal_eval(x) ).to_dict()\n",
    "params_df = pd.DataFrame(data = params_dict).transpose()\n",
    "\n",
    "# plot acc vs. k\n",
    "sns.pointplot(x='selecter__k', y='mean_acc_A', data=sgrid.join(params_df)) "
   ]
  },
  {
   "cell_type": "markdown",
   "metadata": {},
   "source": [
    "Not so good performance with naive bayes, and no trend can be seen to detect which number of selected features is better."
   ]
  },
  {
   "cell_type": "markdown",
   "metadata": {},
   "source": [
    "#### LogisticRegression\n",
    "\n",
    "*class sklearn.linear_model.LogisticRegression(penalty=’l2’, dual=False, tol=0.0001, C=1.0, fit_intercept=True, intercept_scaling=1, class_weight=None, random_state=None, solver=’liblinear’, max_iter=100, multi_class=’ovr’, verbose=0, warm_start=False, n_jobs=1)*\n",
    "\n",
    "Tuning C (inverse of regularization strength). The 'liblinear' solver (a good choice for small datasets) handles L1 penalty.\n"
   ]
  },
  {
   "cell_type": "code",
   "execution_count": 16,
   "metadata": {},
   "outputs": [
    {
     "name": "stdout",
     "output_type": "stream",
     "text": [
      "'LogisticRegression' -> Best cross-val score on A set: 0.756037 using {'classifier__C': 10.0, 'selecter__k': 87}\n",
      "'LogisticRegression' -> Selected features: [\"'F0semitoneFrom27.5Hz_sma3nz_amean'\"]\n",
      "'LogisticRegression' -> Average per-class accuracy on B set: 0.753022\n",
      "\n"
     ]
    }
   ],
   "source": [
    "from sklearn.linear_model import LogisticRegression\n",
    "\n",
    "\"\"\"\n",
    "Logistic Regression\n",
    "\"\"\"\n",
    "def get_LogisticRegression2tune():\n",
    "\n",
    "    model = LogisticRegression()\n",
    "    hp = dict(\n",
    "        #classifier__penalty = ['l1','l2'],\n",
    "        classifier__C = np.logspace(-3,3,num=7)\n",
    "    )\n",
    "    return 'LogisticRegression', model, hp\n",
    "\n",
    "# Hyperparameter tuning with this model\n",
    "tuning, trained = hp_tuner(AX, BX, Ay, By, [get_LogisticRegression2tune], feats_names)\n",
    "\n",
    "# update lists of tuning info and trained classifiers\n",
    "tuning_all = tuning_all.append(tuning, ignore_index=True)\n",
    "trained_all.append(trained)"
   ]
  },
  {
   "cell_type": "code",
   "execution_count": 17,
   "metadata": {},
   "outputs": [
    {
     "data": {
      "text/plain": [
       "<matplotlib.axes._subplots.AxesSubplot at 0x1b0db4e9780>"
      ]
     },
     "execution_count": 17,
     "metadata": {},
     "output_type": "execute_result"
    },
    {
     "data": {
      "image/png": "[encoded data removed]",
      "text/plain": [
       "<matplotlib.figure.Figure at 0x1b0db2780f0>"
      ]
     },
     "metadata": {},
     "output_type": "display_data"
    }
   ],
   "source": [
    "# open generated file with results of fitting GridSearchCV\n",
    " \n",
    "sgrid = pd.read_csv(r'.\\data_while_tuning\\LogisticRegression_tuning.csv')\n",
    "\n",
    "# params to dataframe\n",
    "params_dict = sgrid['params'].apply(lambda x: literal_eval(x) ).to_dict()\n",
    "params_df = pd.DataFrame(data = params_dict).transpose()\n",
    "\n",
    "# plot acc vs. params\n",
    "sns.pointplot(x='selecter__k', y='mean_acc_A',hue='classifier__C', data=sgrid.join(params_df)) "
   ]
  },
  {
   "cell_type": "markdown",
   "metadata": {},
   "source": [
    "Including more features is beneficial for the performance of logistic regression. Similar behavior when C >= 0.1"
   ]
  },
  {
   "cell_type": "markdown",
   "metadata": {},
   "source": [
    "#### K Nearest Neighbors"
   ]
  },
  {
   "cell_type": "code",
   "execution_count": 18,
   "metadata": {},
   "outputs": [
    {
     "name": "stdout",
     "output_type": "stream",
     "text": [
      "'KNeighborsClassifier' -> Best cross-val score on A set: 0.901192 using {'classifier__n_neighbors': 4, 'selecter__k': 67}\n",
      "'KNeighborsClassifier' -> Selected features: [\"'F0semitoneFrom27.5Hz_sma3nz_amean'\"]\n",
      "'KNeighborsClassifier' -> Average per-class accuracy on B set: 0.870721\n",
      "\n"
     ]
    }
   ],
   "source": [
    "from sklearn.neighbors import KNeighborsClassifier\n",
    "\n",
    "\"\"\"\n",
    "K Nearest Neighbors\n",
    "\"\"\"\n",
    "def get_KNeighborsClassifier2tune():\n",
    "\n",
    "    model = KNeighborsClassifier()\n",
    "    hp = dict(\n",
    "        classifier__n_neighbors = list(range(1,40))\n",
    "    )\n",
    "    return 'KNeighborsClassifier', model, hp\n",
    "\n",
    "# Hyperparameter tuning with this model\n",
    "tuning, trained = hp_tuner(AX, BX, Ay, By, [get_KNeighborsClassifier2tune], feats_names)\n",
    "\n",
    "# update lists of tuning info and trained classifiers\n",
    "tuning_all = tuning_all.append(tuning, ignore_index=True)\n",
    "trained_all.append(trained)"
   ]
  },
  {
   "cell_type": "code",
   "execution_count": 19,
   "metadata": {},
   "outputs": [
    {
     "data": {
      "text/plain": [
       "<matplotlib.axes._subplots.AxesSubplot at 0x1b0dbd58ef0>"
      ]
     },
     "execution_count": 19,
     "metadata": {},
     "output_type": "execute_result"
    },
    {
     "data": {
      "image/png": "[encoded data removed]",
      "text/plain": [
       "<matplotlib.figure.Figure at 0x1b0dbd58198>"
      ]
     },
     "metadata": {},
     "output_type": "display_data"
    }
   ],
   "source": [
    "# open generated file with results of fitting GridSearchCV\n",
    " \n",
    "sgrid = pd.read_csv(r'.\\data_while_tuning\\KNeighborsClassifier_tuning.csv')\n",
    "\n",
    "# params to dataframe\n",
    "params_dict = sgrid['params'].apply(lambda x: literal_eval(x) ).to_dict()\n",
    "params_df = pd.DataFrame(data = params_dict).transpose()\n",
    "\n",
    "# plot acc vs. params\n",
    "params_df = params_df.loc[params_df['classifier__n_neighbors']<10,:] # selecting only lower k\n",
    "sns.pointplot(x='selecter__k', y='mean_acc_A',hue='classifier__n_neighbors', data=sgrid.join(params_df)) "
   ]
  },
  {
   "cell_type": "markdown",
   "metadata": {},
   "source": [
    "The performance of KNN classifiction tends to be better with more features with 6 neighbors or less."
   ]
  },
  {
   "cell_type": "markdown",
   "metadata": {},
   "source": [
    "#### Support Vector Machines"
   ]
  },
  {
   "cell_type": "code",
   "execution_count": 14,
   "metadata": {},
   "outputs": [],
   "source": [
    "from sklearn.svm import SVC\n",
    "\n",
    "\"\"\"\n",
    "Support Vector Machines\n",
    "\"\"\"\n",
    "def get_SVClinear2tune():\n",
    "    \n",
    "    model = SVC()\n",
    "    hp = dict(\n",
    "        classifier__C = np.logspace(-5,3,num=9),\n",
    "        classifier__kernel = ['linear']\n",
    "    )\n",
    "    return 'SVClinear', model, hp\n",
    "\n",
    "def get_SVCpoly2tune():\n",
    "    \n",
    "    model = SVC()\n",
    "    hp = dict(\n",
    "        classifier__C = np.logspace(-4,2,num=7),\n",
    "        classifier__kernel = ['poly'],\n",
    "        classifier__degree = [2,3,4,5], \n",
    "        classifier__gamma = ['auto']#,np.logspace(-5,2,num=8)]\n",
    "    )\n",
    "    return 'SVCpoly', model, hp\n",
    "\n",
    "def get_SVCrbf2tune():\n",
    "    \n",
    "    model = SVC()\n",
    "    hp = dict(\n",
    "        classifier__C = np.logspace(-5,3,num=9),\n",
    "        classifier__kernel = ['rbf'],\n",
    "        classifier__gamma = ['auto',np.logspace(-5,3,num=9)]\n",
    "    )\n",
    "    return 'SVCrbf', model, hp\n",
    "\n",
    "def get_SVCsigmoid2tune():\n",
    "    \n",
    "    model = SVC()\n",
    "    hp = dict(\n",
    "        classifier__C = np.logspace(-5,3,num=9),\n",
    "        classifier__kernel = ['sigmoid'],\n",
    "        classifier__gamma = ['auto',np.logspace(-5,3,num=9)]\n",
    "    )\n",
    "    return 'SVCsigmoid', model, hp\n"
   ]
  },
  {
   "cell_type": "code",
   "execution_count": null,
   "metadata": {
    "collapsed": true
   },
   "outputs": [],
   "source": [
    "# Hyperparameter tuning with SVM with different kernels\n",
    "tuning, trained = hp_tuner(AX, BX, Ay, By, [get_SVClinear2tune], feats_names)\n",
    "\n",
    "# update lists of tuning info and trained classifiers\n",
    "tuning_all = tuning_all.append(tuning, ignore_index=True)\n",
    "trained_all.append(trained)"
   ]
  },
  {
   "cell_type": "code",
   "execution_count": 15,
   "metadata": {},
   "outputs": [
    {
     "name": "stdout",
     "output_type": "stream",
     "text": [
      "'SVCpoly' -> Best cross-val score on A set: 0.878826 using {'classifier__C': 10.0, 'classifier__degree': 3, 'classifier__gamma': 'auto', 'classifier__kernel': 'poly', 'selecter__k': 62}\n",
      "'SVCpoly' -> Selected features: [\"'F0semitoneFrom27.5Hz_sma3nz_amean'\"]\n",
      "'SVCpoly' -> Average per-class accuracy on B set: 0.850282\n",
      "\n"
     ]
    }
   ],
   "source": [
    "# tune with poly kernel\n",
    "tuning, trained = hp_tuner(AX, BX, Ay, By, [get_SVCpoly2tune], feats_names)\n",
    "\n",
    "# update lists of tuning info and trained classifiers\n",
    "tuning_all = tuning_all.append(tuning, ignore_index=True)\n",
    "trained_all.append(trained)\n",
    "\n",
    "# save tuning_all (.csv) and trained_all (nameclassifier.sav)\n",
    "save_tuning(tuning_all, trained_all)"
   ]
  },
  {
   "cell_type": "code",
   "execution_count": null,
   "metadata": {
    "collapsed": true
   },
   "outputs": [],
   "source": []
  },
  {
   "cell_type": "code",
   "execution_count": null,
   "metadata": {
    "collapsed": true
   },
   "outputs": [],
   "source": []
  },
  {
   "cell_type": "code",
   "execution_count": null,
   "metadata": {
    "collapsed": true
   },
   "outputs": [],
   "source": []
  },
  {
   "cell_type": "code",
   "execution_count": null,
   "metadata": {
    "collapsed": true
   },
   "outputs": [],
   "source": []
  },
  {
   "cell_type": "markdown",
   "metadata": {},
   "source": [
    "#### DecisionTreeClassifier"
   ]
  },
  {
   "cell_type": "code",
   "execution_count": null,
   "metadata": {
    "collapsed": true
   },
   "outputs": [],
   "source": [
    "from sklearn.tree import DecisionTreeClassifier\n",
    "\n",
    "\"\"\"\n",
    "Decision Trees\n",
    "\"\"\"\n",
    "def get_DecisionTreeClassifier2tune():\n",
    "    \n",
    "    model = DecisionTreeClassifier()\n",
    "    hp = dict(\n",
    "        classifier__max_depth = np.arange(2,4)#np.arange(2,11)\n",
    "    )\n",
    "    return 'DecisionTreeClassifier', model, hp\n",
    "\n",
    "# Hyperparameter tuning with this model\n",
    "tuning, trained = hp_tuner(AX, BX, Ay, By, [get_DecisionTreeClassifier2tune], feats_names)\n",
    "\n",
    "# # update lists of tuning info and trained classifiers\n",
    "# tuning_all = tuning_all.append(tuning, ignore_index=True)\n",
    "# trained_all.append(trained)"
   ]
  },
  {
   "cell_type": "markdown",
   "metadata": {},
   "source": [
    "#### RandomForestClassifier"
   ]
  },
  {
   "cell_type": "code",
   "execution_count": null,
   "metadata": {
    "collapsed": true
   },
   "outputs": [],
   "source": [
    "from sklearn.ensemble import RandomForestClassifier\n",
    "\n",
    "\"\"\"\n",
    "Random Forest\n",
    "\"\"\"\n",
    "def get_RandomForestClassifier2tune():\n",
    "    \n",
    "    model = RandomForestClassifier()\n",
    "    hp = dict(\n",
    "        classifier__n_estimators = np.arange(2,4)#np.arange(2,51)\n",
    "    )\n",
    "    return 'RandomForestClassifier', model, hp\n",
    "\n",
    "# Hyperparameter tuning with this model\n",
    "tuning, trained = hp_tuner(AX, BX, Ay, By, [get_RandomForestClassifier2tune], feats_names)\n",
    "\n",
    "# # update lists of tuning info and trained classifiers\n",
    "# tuning_all = tuning_all.append(tuning, ignore_index=True)\n",
    "# trained_all.append(trained)"
   ]
  },
  {
   "cell_type": "code",
   "execution_count": null,
   "metadata": {
    "collapsed": true
   },
   "outputs": [],
   "source": []
  },
  {
   "cell_type": "code",
   "execution_count": null,
   "metadata": {
    "collapsed": true
   },
   "outputs": [],
   "source": []
  },
  {
   "cell_type": "code",
   "execution_count": null,
   "metadata": {
    "collapsed": true
   },
   "outputs": [],
   "source": []
  },
  {
   "cell_type": "code",
   "execution_count": null,
   "metadata": {
    "collapsed": true
   },
   "outputs": [],
   "source": []
  },
  {
   "cell_type": "code",
   "execution_count": null,
   "metadata": {
    "collapsed": true
   },
   "outputs": [],
   "source": []
  },
  {
   "cell_type": "code",
   "execution_count": null,
   "metadata": {
    "collapsed": true
   },
   "outputs": [],
   "source": []
  },
  {
   "cell_type": "code",
   "execution_count": null,
   "metadata": {
    "collapsed": true
   },
   "outputs": [],
   "source": []
  },
  {
   "cell_type": "code",
   "execution_count": null,
   "metadata": {
    "collapsed": true
   },
   "outputs": [],
   "source": []
  },
  {
   "cell_type": "code",
   "execution_count": null,
   "metadata": {
    "collapsed": true
   },
   "outputs": [],
   "source": []
  },
  {
   "cell_type": "code",
   "execution_count": null,
   "metadata": {
    "collapsed": true
   },
   "outputs": [],
   "source": []
  },
  {
   "cell_type": "code",
   "execution_count": null,
   "metadata": {
    "collapsed": true
   },
   "outputs": [],
   "source": []
  },
  {
   "cell_type": "code",
   "execution_count": null,
   "metadata": {
    "collapsed": true
   },
   "outputs": [],
   "source": []
  },
  {
   "cell_type": "code",
   "execution_count": null,
   "metadata": {
    "collapsed": true
   },
   "outputs": [],
   "source": []
  },
  {
   "cell_type": "code",
   "execution_count": null,
   "metadata": {
    "collapsed": true
   },
   "outputs": [],
   "source": []
  },
  {
   "cell_type": "code",
   "execution_count": null,
   "metadata": {
    "collapsed": true
   },
   "outputs": [],
   "source": []
  },
  {
   "cell_type": "code",
   "execution_count": null,
   "metadata": {
    "collapsed": true
   },
   "outputs": [],
   "source": []
  },
  {
   "cell_type": "code",
   "execution_count": null,
   "metadata": {
    "collapsed": true
   },
   "outputs": [],
   "source": []
  },
  {
   "cell_type": "code",
   "execution_count": null,
   "metadata": {
    "collapsed": true
   },
   "outputs": [],
   "source": []
  },
  {
   "cell_type": "code",
   "execution_count": null,
   "metadata": {
    "collapsed": true
   },
   "outputs": [],
   "source": []
  },
  {
   "cell_type": "code",
   "execution_count": null,
   "metadata": {
    "collapsed": true
   },
   "outputs": [],
   "source": [
    "# select the classifier that gave the maximum acc on B set\n",
    "best_accs = tuning_all['best_accs']\n",
    "i_best = best_accs.idxmax()\n",
    "\n",
    "print('Selected classifier based on the best performance on B: %r (accB = %0.2f)' % (tuning_all.loc[i_best,'classifiers_names'], round(best_accs[i_best],2)))"
   ]
  },
  {
   "cell_type": "code",
   "execution_count": null,
   "metadata": {
    "collapsed": true
   },
   "outputs": [],
   "source": [
    "# predictions on the test set \n",
    "# feat sel on Xt is performed by the classifier\n",
    "yt_pred = trained_all[i_best][0].predict(Xt)\n",
    "\n",
    "score_on_test = recall_score(yt, yt_pred, average='macro')\n",
    "\n",
    "print(\"Average per-class accuracy on test: %f\" % score_on_test) \n",
    "\n",
    "cm = confusion_matrix(yt, yt_pred)\n",
    "print(classification_report(yt, yt_pred, digits = 2))\n",
    "print(cm)\n",
    " "
   ]
  },
  {
   "cell_type": "code",
   "execution_count": null,
   "metadata": {
    "collapsed": true
   },
   "outputs": [],
   "source": []
  },
  {
   "cell_type": "code",
   "execution_count": null,
   "metadata": {
    "collapsed": true
   },
   "outputs": [],
   "source": []
  },
  {
   "cell_type": "code",
   "execution_count": null,
   "metadata": {
    "collapsed": true
   },
   "outputs": [],
   "source": []
  },
  {
   "cell_type": "code",
   "execution_count": null,
   "metadata": {
    "collapsed": true
   },
   "outputs": [],
   "source": []
  },
  {
   "cell_type": "code",
   "execution_count": null,
   "metadata": {
    "collapsed": true
   },
   "outputs": [],
   "source": []
  },
  {
   "cell_type": "code",
   "execution_count": null,
   "metadata": {
    "collapsed": true
   },
   "outputs": [],
   "source": []
  },
  {
   "cell_type": "code",
   "execution_count": null,
   "metadata": {
    "collapsed": true
   },
   "outputs": [],
   "source": []
  },
  {
   "cell_type": "code",
   "execution_count": null,
   "metadata": {
    "collapsed": true
   },
   "outputs": [],
   "source": []
  },
  {
   "cell_type": "code",
   "execution_count": null,
   "metadata": {
    "collapsed": true
   },
   "outputs": [],
   "source": []
  },
  {
   "cell_type": "code",
   "execution_count": null,
   "metadata": {
    "collapsed": true
   },
   "outputs": [],
   "source": []
  },
  {
   "cell_type": "code",
   "execution_count": null,
   "metadata": {
    "collapsed": true
   },
   "outputs": [],
   "source": []
  },
  {
   "cell_type": "code",
   "execution_count": null,
   "metadata": {
    "collapsed": true
   },
   "outputs": [],
   "source": []
  },
  {
   "cell_type": "code",
   "execution_count": null,
   "metadata": {
    "collapsed": true
   },
   "outputs": [],
   "source": []
  },
  {
   "cell_type": "code",
   "execution_count": null,
   "metadata": {
    "collapsed": true
   },
   "outputs": [],
   "source": []
  },
  {
   "cell_type": "code",
   "execution_count": null,
   "metadata": {
    "collapsed": true
   },
   "outputs": [],
   "source": []
  },
  {
   "cell_type": "code",
   "execution_count": null,
   "metadata": {
    "collapsed": true
   },
   "outputs": [],
   "source": []
  },
  {
   "cell_type": "code",
   "execution_count": null,
   "metadata": {
    "collapsed": true
   },
   "outputs": [],
   "source": []
  },
  {
   "cell_type": "code",
   "execution_count": null,
   "metadata": {
    "collapsed": true
   },
   "outputs": [],
   "source": []
  },
  {
   "cell_type": "code",
   "execution_count": null,
   "metadata": {
    "collapsed": true
   },
   "outputs": [],
   "source": []
  },
  {
   "cell_type": "code",
   "execution_count": null,
   "metadata": {
    "collapsed": true
   },
   "outputs": [],
   "source": []
  }
 ],
 "metadata": {
  "kernelspec": {
   "display_name": "Python 3",
   "language": "python",
   "name": "python3"
  },
  "language_info": {
   "codemirror_mode": {
    "name": "ipython",
    "version": 3
   },
   "file_extension": ".py",
   "mimetype": "text/x-python",
   "name": "python",
   "nbconvert_exporter": "python",
   "pygments_lexer": "ipython3",
   "version": "3.6.3"
  }
 },
 "nbformat": 4,
 "nbformat_minor": 2
}
