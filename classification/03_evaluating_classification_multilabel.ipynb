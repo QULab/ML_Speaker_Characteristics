{
 "cells": [
  {
   "cell_type": "markdown",
   "metadata": {},
   "source": [
    "## Multilabel binary classification of speaker traits\n",
    "### Laura Fernández Gallardo\n",
    "\n",
    "After evaluating the binary classification of speakers' warmth-attractiveness (WAAT), I examine in this notebook multilabel classification, that is, predicting several traits attributed to speakers, which are not mutually exclusive.   \n",
    "\n",
    "* For each perceptive speaker interpersonal dimension generated from [factor analysis](https://github.com/laufergall/Subjective_Speaker_Characteristics/tree/master/speaker_characteristics/factor_analysis) thresholding scores based on percentiles to define 3 classes (\"high\", \"mid\", and \"low\") with approximately the same number of samples. These dimensions are: *warmth*, *attractiveness*, *confidence*, *compliance*, and *maturity*.\n",
    "* \"high\", \"mid\", and \"low\" classes -> **multilabel multiclass classification**.\n",
    "* As evaluation metric, I will consider the average per-class accuracy (average of sensitivity and specificity)"
   ]
  },
  {
   "cell_type": "code",
   "execution_count": 1,
   "metadata": {
    "collapsed": true
   },
   "outputs": [],
   "source": [
    "import io\n",
    "import requests\n",
    "\n",
    "import numpy as np\n",
    "import pandas as pd\n",
    "\n",
    "from sklearn.preprocessing import StandardScaler\n",
    "from sklearn.metrics import confusion_matrix, recall_score\n",
    "\n",
    "%matplotlib inline"
   ]
  },
  {
   "cell_type": "markdown",
   "metadata": {},
   "source": [
    "## Load features and labels\n",
    "\n",
    "Different speakers in train and test sets."
   ]
  },
  {
   "cell_type": "code",
   "execution_count": 2,
   "metadata": {},
   "outputs": [],
   "source": [
    "path = 'https://raw.githubusercontent.com/laufergall/ML_Speaker_Characteristics/master/data/generated_data/'\n",
    "\n",
    "url = path + \"feats_ratings_scores_train.csv\"\n",
    "s = requests.get(url).content\n",
    "feats_ratings_scores_train = pd.read_csv(io.StringIO(s.decode('utf-8')))\n",
    "\n",
    "url = path + \"feats_ratings_scores_test.csv\"\n",
    "s = requests.get(url).content\n",
    "feats_ratings_scores_test = pd.read_csv(io.StringIO(s.decode('utf-8')))\n",
    "\n",
    "with open(r'..\\data\\generated_data\\feats_names.txt') as f:\n",
    "    feats_names = f.readlines()\n",
    "feats_names = [x.strip().strip('\\'') for x in feats_names] \n",
    "\n",
    "with open(r'..\\data\\generated_data\\items_names.txt') as f:\n",
    "    items_names = f.readlines()\n",
    "items_names = [x.strip().strip('\\'') for x in items_names] \n",
    "\n",
    "with open(r'..\\data\\generated_data\\traits_names.txt') as f:\n",
    "    traits_names = f.readlines()\n",
    "traits_names = [x.strip().strip('\\'') for x in traits_names] \n",
    "\n",
    "# read speaker trait classes\n",
    "url = path + \"classes_train.csv\"\n",
    "s = requests.get(url).content\n",
    "classes_train = pd.read_csv(io.StringIO(s.decode('utf-8')))\n",
    "\n",
    "url = path + \"classes_test.csv\"\n",
    "s = requests.get(url).content\n",
    "classes_test = pd.read_csv(io.StringIO(s.decode('utf-8')))"
   ]
  },
  {
   "cell_type": "code",
   "execution_count": 3,
   "metadata": {},
   "outputs": [
    {
     "data": {
      "text/html": [
       "<div>\n",
       "<style>\n",
       "    .dataframe thead tr:only-child th {\n",
       "        text-align: right;\n",
       "    }\n",
       "\n",
       "    .dataframe thead th {\n",
       "        text-align: left;\n",
       "    }\n",
       "\n",
       "    .dataframe tbody tr th {\n",
       "        vertical-align: top;\n",
       "    }\n",
       "</style>\n",
       "<table border=\"1\" class=\"dataframe\">\n",
       "  <thead>\n",
       "    <tr style=\"text-align: right;\">\n",
       "      <th></th>\n",
       "      <th>sample_heard</th>\n",
       "      <th>warmth</th>\n",
       "      <th>attractiveness</th>\n",
       "      <th>confidence</th>\n",
       "      <th>compliance</th>\n",
       "      <th>maturity</th>\n",
       "      <th>gender</th>\n",
       "      <th>spkID</th>\n",
       "    </tr>\n",
       "  </thead>\n",
       "  <tbody>\n",
       "    <tr>\n",
       "      <th>0</th>\n",
       "      <td>w282_gizo_stimulus.wav</td>\n",
       "      <td>high</td>\n",
       "      <td>high</td>\n",
       "      <td>high</td>\n",
       "      <td>high</td>\n",
       "      <td>high</td>\n",
       "      <td>w</td>\n",
       "      <td>282</td>\n",
       "    </tr>\n",
       "    <tr>\n",
       "      <th>1</th>\n",
       "      <td>w252_thessaloniki_stimulus.wav</td>\n",
       "      <td>high</td>\n",
       "      <td>high</td>\n",
       "      <td>low</td>\n",
       "      <td>high</td>\n",
       "      <td>low</td>\n",
       "      <td>w</td>\n",
       "      <td>252</td>\n",
       "    </tr>\n",
       "    <tr>\n",
       "      <th>2</th>\n",
       "      <td>w296_avarua_d5.wav</td>\n",
       "      <td>mid</td>\n",
       "      <td>low</td>\n",
       "      <td>mid</td>\n",
       "      <td>high</td>\n",
       "      <td>mid</td>\n",
       "      <td>w</td>\n",
       "      <td>296</td>\n",
       "    </tr>\n",
       "    <tr>\n",
       "      <th>3</th>\n",
       "      <td>m155_blantyre_stimulus.wav</td>\n",
       "      <td>high</td>\n",
       "      <td>mid</td>\n",
       "      <td>low</td>\n",
       "      <td>high</td>\n",
       "      <td>low</td>\n",
       "      <td>m</td>\n",
       "      <td>155</td>\n",
       "    </tr>\n",
       "    <tr>\n",
       "      <th>4</th>\n",
       "      <td>m298_copenhagen_stimulus.wav</td>\n",
       "      <td>low</td>\n",
       "      <td>mid</td>\n",
       "      <td>low</td>\n",
       "      <td>low</td>\n",
       "      <td>high</td>\n",
       "      <td>m</td>\n",
       "      <td>298</td>\n",
       "    </tr>\n",
       "  </tbody>\n",
       "</table>\n",
       "</div>"
      ],
      "text/plain": [
       "                     sample_heard warmth attractiveness confidence compliance  \\\n",
       "0          w282_gizo_stimulus.wav   high           high       high       high   \n",
       "1  w252_thessaloniki_stimulus.wav   high           high        low       high   \n",
       "2              w296_avarua_d5.wav    mid            low        mid       high   \n",
       "3      m155_blantyre_stimulus.wav   high            mid        low       high   \n",
       "4    m298_copenhagen_stimulus.wav    low            mid        low        low   \n",
       "\n",
       "  maturity gender  spkID  \n",
       "0     high      w    282  \n",
       "1      low      w    252  \n",
       "2      mid      w    296  \n",
       "3      low      m    155  \n",
       "4     high      m    298  "
      ]
     },
     "execution_count": 3,
     "metadata": {},
     "output_type": "execute_result"
    }
   ],
   "source": [
    "# Looking at the target classes\n",
    "\n",
    "classes_test.head()"
   ]
  },
  {
   "cell_type": "code",
   "execution_count": 4,
   "metadata": {
    "collapsed": true
   },
   "outputs": [],
   "source": [
    "# appending classes to features\n",
    "\n",
    "dropcolumns = ['name','speaker_gender'] + items_names + traits_names # 'spkID' in for the merge\n",
    "feats_train = feats_ratings_scores_train.drop(dropcolumns, axis=1) # shape (2700, 88)\n",
    "feats_test = feats_ratings_scores_test.drop(dropcolumns, axis=1) # shape (2700, 88)\n",
    "\n",
    "feats_class_train = pd.merge(feats_train, classes_train.drop(['sample_heard','gender',], axis=1)) # shape (2700, 94)\n",
    "feats_class_test = pd.merge(feats_test, classes_test.drop(['sample_heard','gender',], axis=1)) # shape (891, 94)\n",
    "\n",
    "# classes as categorical\n",
    "for col in traits_names:\n",
    "    feats_class_train[col]=feats_class_train[col].astype('category')\n",
    "    feats_class_test[col]=feats_class_test[col].astype('category')"
   ]
  },
  {
   "cell_type": "code",
   "execution_count": 5,
   "metadata": {
    "collapsed": true
   },
   "outputs": [],
   "source": [
    "# Standardize speech features  \n",
    "\n",
    "dropcolumns2 = ['spkID'] + traits_names\n",
    "\n",
    "# learn transformation on training data\n",
    "scaler = StandardScaler()\n",
    "scaler.fit(feats_class_train.drop(dropcolumns2, axis=1))\n",
    "\n",
    " \n",
    "# numpy n_instances x n_feats\n",
    "feats_s_train = scaler.transform(feats_class_train.drop(dropcolumns2, axis=1))\n",
    "feats_s_test = scaler.transform(feats_class_test.drop(dropcolumns2, axis=1)) "
   ]
  },
  {
   "cell_type": "markdown",
   "metadata": {},
   "source": [
    "### quick example\n",
    "\n",
    "With KNeighborsClassifier(), no model tuning, no feature selection."
   ]
  },
  {
   "cell_type": "markdown",
   "metadata": {},
   "source": [
    "#### model training\n",
    "\n",
    "Categorization of classes: high = 0; low = 1; mid = 2."
   ]
  },
  {
   "cell_type": "code",
   "execution_count": 6,
   "metadata": {},
   "outputs": [],
   "source": [
    "X = feats_s_train\n",
    "Y = feats_class_train[traits_names].apply(lambda x: x.cat.codes).as_matrix()"
   ]
  },
  {
   "cell_type": "code",
   "execution_count": 7,
   "metadata": {},
   "outputs": [
    {
     "data": {
      "text/html": [
       "<div>\n",
       "<style>\n",
       "    .dataframe thead tr:only-child th {\n",
       "        text-align: right;\n",
       "    }\n",
       "\n",
       "    .dataframe thead th {\n",
       "        text-align: left;\n",
       "    }\n",
       "\n",
       "    .dataframe tbody tr th {\n",
       "        vertical-align: top;\n",
       "    }\n",
       "</style>\n",
       "<table border=\"1\" class=\"dataframe\">\n",
       "  <thead>\n",
       "    <tr style=\"text-align: right;\">\n",
       "      <th></th>\n",
       "      <th>warmth</th>\n",
       "      <th>attractiveness</th>\n",
       "      <th>compliance</th>\n",
       "      <th>confidence</th>\n",
       "      <th>maturity</th>\n",
       "    </tr>\n",
       "  </thead>\n",
       "  <tbody>\n",
       "    <tr>\n",
       "      <th>0</th>\n",
       "      <td>mid</td>\n",
       "      <td>mid</td>\n",
       "      <td>low</td>\n",
       "      <td>high</td>\n",
       "      <td>mid</td>\n",
       "    </tr>\n",
       "    <tr>\n",
       "      <th>1</th>\n",
       "      <td>mid</td>\n",
       "      <td>mid</td>\n",
       "      <td>low</td>\n",
       "      <td>high</td>\n",
       "      <td>mid</td>\n",
       "    </tr>\n",
       "    <tr>\n",
       "      <th>2</th>\n",
       "      <td>mid</td>\n",
       "      <td>mid</td>\n",
       "      <td>low</td>\n",
       "      <td>high</td>\n",
       "      <td>mid</td>\n",
       "    </tr>\n",
       "    <tr>\n",
       "      <th>3</th>\n",
       "      <td>mid</td>\n",
       "      <td>mid</td>\n",
       "      <td>low</td>\n",
       "      <td>high</td>\n",
       "      <td>mid</td>\n",
       "    </tr>\n",
       "    <tr>\n",
       "      <th>4</th>\n",
       "      <td>mid</td>\n",
       "      <td>mid</td>\n",
       "      <td>low</td>\n",
       "      <td>high</td>\n",
       "      <td>mid</td>\n",
       "    </tr>\n",
       "  </tbody>\n",
       "</table>\n",
       "</div>"
      ],
      "text/plain": [
       "  warmth attractiveness compliance confidence maturity\n",
       "0    mid            mid        low       high      mid\n",
       "1    mid            mid        low       high      mid\n",
       "2    mid            mid        low       high      mid\n",
       "3    mid            mid        low       high      mid\n",
       "4    mid            mid        low       high      mid"
      ]
     },
     "execution_count": 7,
     "metadata": {},
     "output_type": "execute_result"
    }
   ],
   "source": [
    "feats_class_train[traits_names].head()"
   ]
  },
  {
   "cell_type": "code",
   "execution_count": 8,
   "metadata": {},
   "outputs": [
    {
     "data": {
      "text/plain": [
       "array([[2, 2, 1, 0, 2],\n",
       "       [2, 2, 1, 0, 2],\n",
       "       [2, 2, 1, 0, 2],\n",
       "       ..., \n",
       "       [0, 0, 2, 2, 2],\n",
       "       [0, 0, 2, 2, 2],\n",
       "       [0, 0, 2, 2, 2]], dtype=int8)"
      ]
     },
     "execution_count": 8,
     "metadata": {},
     "output_type": "execute_result"
    }
   ],
   "source": [
    "Y"
   ]
  },
  {
   "cell_type": "code",
   "execution_count": 9,
   "metadata": {},
   "outputs": [
    {
     "data": {
      "text/plain": [
       "KNeighborsClassifier(algorithm='auto', leaf_size=30, metric='minkowski',\n",
       "           metric_params=None, n_jobs=1, n_neighbors=5, p=2,\n",
       "           weights='uniform')"
      ]
     },
     "execution_count": 9,
     "metadata": {},
     "output_type": "execute_result"
    }
   ],
   "source": [
    "from sklearn.neighbors import KNeighborsClassifier\n",
    "\n",
    "model = KNeighborsClassifier()\n",
    "\n",
    "model.fit(X, Y)"
   ]
  },
  {
   "cell_type": "markdown",
   "metadata": {
    "collapsed": true
   },
   "source": [
    "#### testing performance"
   ]
  },
  {
   "cell_type": "code",
   "execution_count": 10,
   "metadata": {
    "collapsed": true
   },
   "outputs": [],
   "source": [
    "Xt = feats_s_test\n",
    "Yt = feats_class_test[traits_names].apply(lambda x: x.cat.codes).as_matrix()"
   ]
  },
  {
   "cell_type": "code",
   "execution_count": 11,
   "metadata": {
    "collapsed": true
   },
   "outputs": [],
   "source": [
    "Y_pred = model.predict(Xt)"
   ]
  },
  {
   "cell_type": "code",
   "execution_count": 12,
   "metadata": {},
   "outputs": [
    {
     "data": {
      "text/html": [
       "<div>\n",
       "<style>\n",
       "    .dataframe thead tr:only-child th {\n",
       "        text-align: right;\n",
       "    }\n",
       "\n",
       "    .dataframe thead th {\n",
       "        text-align: left;\n",
       "    }\n",
       "\n",
       "    .dataframe tbody tr th {\n",
       "        vertical-align: top;\n",
       "    }\n",
       "</style>\n",
       "<table border=\"1\" class=\"dataframe\">\n",
       "  <thead>\n",
       "    <tr style=\"text-align: right;\">\n",
       "      <th></th>\n",
       "      <th>warmth</th>\n",
       "      <th>attractiveness</th>\n",
       "      <th>compliance</th>\n",
       "      <th>confidence</th>\n",
       "      <th>maturity</th>\n",
       "    </tr>\n",
       "  </thead>\n",
       "  <tbody>\n",
       "    <tr>\n",
       "      <th>0</th>\n",
       "      <td>low</td>\n",
       "      <td>mid</td>\n",
       "      <td>low</td>\n",
       "      <td>high</td>\n",
       "      <td>low</td>\n",
       "    </tr>\n",
       "    <tr>\n",
       "      <th>1</th>\n",
       "      <td>low</td>\n",
       "      <td>mid</td>\n",
       "      <td>low</td>\n",
       "      <td>high</td>\n",
       "      <td>low</td>\n",
       "    </tr>\n",
       "    <tr>\n",
       "      <th>2</th>\n",
       "      <td>low</td>\n",
       "      <td>mid</td>\n",
       "      <td>low</td>\n",
       "      <td>high</td>\n",
       "      <td>low</td>\n",
       "    </tr>\n",
       "    <tr>\n",
       "      <th>3</th>\n",
       "      <td>low</td>\n",
       "      <td>mid</td>\n",
       "      <td>low</td>\n",
       "      <td>high</td>\n",
       "      <td>low</td>\n",
       "    </tr>\n",
       "    <tr>\n",
       "      <th>4</th>\n",
       "      <td>low</td>\n",
       "      <td>mid</td>\n",
       "      <td>low</td>\n",
       "      <td>high</td>\n",
       "      <td>low</td>\n",
       "    </tr>\n",
       "  </tbody>\n",
       "</table>\n",
       "</div>"
      ],
      "text/plain": [
       "  warmth attractiveness compliance confidence maturity\n",
       "0    low            mid        low       high      low\n",
       "1    low            mid        low       high      low\n",
       "2    low            mid        low       high      low\n",
       "3    low            mid        low       high      low\n",
       "4    low            mid        low       high      low"
      ]
     },
     "execution_count": 12,
     "metadata": {},
     "output_type": "execute_result"
    }
   ],
   "source": [
    "feats_class_test[traits_names].head()"
   ]
  },
  {
   "cell_type": "code",
   "execution_count": 13,
   "metadata": {},
   "outputs": [
    {
     "data": {
      "text/plain": [
       "array([[1, 2, 1, 0, 1],\n",
       "       [1, 2, 1, 0, 1],\n",
       "       [1, 2, 1, 0, 1],\n",
       "       ..., \n",
       "       [2, 1, 0, 2, 2],\n",
       "       [2, 1, 0, 2, 2],\n",
       "       [2, 1, 0, 2, 2]], dtype=int8)"
      ]
     },
     "execution_count": 13,
     "metadata": {},
     "output_type": "execute_result"
    }
   ],
   "source": [
    "Yt"
   ]
  },
  {
   "cell_type": "code",
   "execution_count": 14,
   "metadata": {
    "scrolled": true
   },
   "outputs": [
    {
     "data": {
      "text/plain": [
       "array([[2, 0, 2, 0, 2],\n",
       "       [2, 0, 2, 0, 2],\n",
       "       [0, 0, 2, 0, 2],\n",
       "       ..., \n",
       "       [1, 2, 2, 1, 2],\n",
       "       [0, 0, 0, 0, 0],\n",
       "       [1, 1, 0, 2, 1]], dtype=int8)"
      ]
     },
     "execution_count": 14,
     "metadata": {},
     "output_type": "execute_result"
    }
   ],
   "source": [
    "Y_pred"
   ]
  },
  {
   "cell_type": "markdown",
   "metadata": {},
   "source": [
    "#### confusion matrix for each of the labels\n",
    "\n",
    "Treating each pair of classes separately: high vs. low, high vs. mid, and low vs. mid as in the binary case: \n",
    "\n",
    "spec = tn / (tn + fp)\n",
    "\n",
    "sens = tp / (tp + fn)"
   ]
  },
  {
   "cell_type": "code",
   "execution_count": 15,
   "metadata": {},
   "outputs": [
    {
     "name": "stdout",
     "output_type": "stream",
     "text": [
      "warmth\n",
      "rate of correctly classifing speakers as high WAAT (vs. low WAAT): 0.83\n",
      "rate of correctly classifing speakers as low WAAT (vs. high WAAT): 0.51\n",
      "rate of correctly classifing speakers as high WAAT (vs. mid WAAT): 0.71\n",
      "rate of correctly classifing speakers as mid WAAT (vs. high WAAT): 0.46\n",
      "rate of correctly classifing speakers as low WAAT (vs. mid WAAT): 0.48\n",
      "rate of correctly classifing speakers as mid WAAT (vs. low WAAT): 0.58\n",
      "Average per-class accuracy high WAAT vs. low WAAT: 0.67\n",
      "attractiveness\n",
      "rate of correctly classifing speakers as high WAAT (vs. low WAAT): 0.80\n",
      "rate of correctly classifing speakers as low WAAT (vs. high WAAT): 0.42\n",
      "rate of correctly classifing speakers as high WAAT (vs. mid WAAT): 0.75\n",
      "rate of correctly classifing speakers as mid WAAT (vs. high WAAT): 0.28\n",
      "rate of correctly classifing speakers as low WAAT (vs. mid WAAT): 0.40\n",
      "rate of correctly classifing speakers as mid WAAT (vs. low WAAT): 0.47\n",
      "Average per-class accuracy high WAAT vs. low WAAT: 0.61\n",
      "compliance\n",
      "rate of correctly classifing speakers as high WAAT (vs. low WAAT): 0.70\n",
      "rate of correctly classifing speakers as low WAAT (vs. high WAAT): 0.52\n",
      "rate of correctly classifing speakers as high WAAT (vs. mid WAAT): 0.73\n",
      "rate of correctly classifing speakers as mid WAAT (vs. high WAAT): 0.36\n",
      "rate of correctly classifing speakers as low WAAT (vs. mid WAAT): 0.56\n",
      "rate of correctly classifing speakers as mid WAAT (vs. low WAAT): 0.41\n",
      "Average per-class accuracy high WAAT vs. low WAAT: 0.61\n",
      "confidence\n",
      "rate of correctly classifing speakers as high WAAT (vs. low WAAT): 0.68\n",
      "rate of correctly classifing speakers as low WAAT (vs. high WAAT): 0.38\n",
      "rate of correctly classifing speakers as high WAAT (vs. mid WAAT): 0.73\n",
      "rate of correctly classifing speakers as mid WAAT (vs. high WAAT): 0.41\n",
      "rate of correctly classifing speakers as low WAAT (vs. mid WAAT): 0.48\n",
      "rate of correctly classifing speakers as mid WAAT (vs. low WAAT): 0.48\n",
      "Average per-class accuracy high WAAT vs. low WAAT: 0.53\n",
      "maturity\n",
      "rate of correctly classifing speakers as high WAAT (vs. low WAAT): 0.56\n",
      "rate of correctly classifing speakers as low WAAT (vs. high WAAT): 0.44\n",
      "rate of correctly classifing speakers as high WAAT (vs. mid WAAT): 0.63\n",
      "rate of correctly classifing speakers as mid WAAT (vs. high WAAT): 0.47\n",
      "rate of correctly classifing speakers as low WAAT (vs. mid WAAT): 0.45\n",
      "rate of correctly classifing speakers as mid WAAT (vs. low WAAT): 0.51\n",
      "Average per-class accuracy high WAAT vs. low WAAT: 0.50\n"
     ]
    }
   ],
   "source": [
    "for i in range(len(traits_names)): \n",
    "\n",
    "    print(traits_names[i])\n",
    "\n",
    "    # get true/false positives and true/false negatives for high vs. low, high vs. mid, and low vs. mid\n",
    "\n",
    "    tph, fnlh, fnmh, fplh, tpl, fnlm, fpmh, fplm, tpm = confusion_matrix(Yt[:,i], Y_pred[:,i]).ravel()\n",
    "\n",
    "    # high vs. low\n",
    "\n",
    "    sens_hl = tph / (tph + fnlh)\n",
    "    spec_hl = tpl / (tpl + fplh)\n",
    "\n",
    "    print('rate of correctly classifing speakers as high (vs. low): %.2f' % sens_hl)\n",
    "    print('rate of correctly classifing speakers as low (vs. high): %.2f' % spec_hl)\n",
    "\n",
    "    # high vs. mid\n",
    "\n",
    "    sens_mh = tph / (tph + fnmh)\n",
    "    spec_mh = tpm / (tpm + fpmh)\n",
    "\n",
    "    print('rate of correctly classifing speakers as high (vs. mid): %.2f' % sens_mh)\n",
    "    print('rate of correctly classifing speakers as mid (vs. high): %.2f' % spec_mh)\n",
    "\n",
    "    # low vs. mid\n",
    "\n",
    "    sens_lm = tpl / (tpl + fnlm)\n",
    "    spec_lm = tpm / (tpm + fplm)\n",
    "\n",
    "    print('rate of correctly classifing speakers as low (vs. mid): %.2f' % sens_lm)\n",
    "    print('rate of correctly classifing speakers as mid (vs. low): %.2f' % spec_lm)\n",
    "\n",
    "\n",
    "    avg_pc_acc = (sens_hl+spec_hl)/2\n",
    "    print('Average per-class accuracy high WAAT vs. low WAAT: %.2f' % avg_pc_acc )"
   ]
  },
  {
   "cell_type": "markdown",
   "metadata": {
    "collapsed": true
   },
   "source": [
    "#### Future work:\n",
    "    \n",
    "* Better performance metrics can be defined.\n",
    "    * Interesting to take a look at the [Hamming score](http://stackoverflow.com/q/32239577/395857).\n",
    "    * Also, this article by Zhang and Zhou (2014): \"A Review on Multi-Label Learning Algorithms\".\n",
    "* try different classifiers and model tuning according to the performance metrics of interest. \n",
    "    * As done for binary classification, nested hyperparameter tuning with feature selection can be performed.\n",
    "    * Classifiers that support multiclass-multioutput:\n",
    "sklearn.tree.DecisionTreeClassifier\n",
    "sklearn.tree.ExtraTreeClassifier\n",
    "sklearn.ensemble.ExtraTreesClassifier\n",
    "sklearn.neighbors.KNeighborsClassifier\n",
    "sklearn.neighbors.RadiusNeighborsClassifier\n",
    "sklearn.ensemble.RandomForestClassifier\n",
    "http://scikit-learn.org/stable/modules/multiclass.html\n"
   ]
  }
 ],
 "metadata": {
  "kernelspec": {
   "display_name": "Python 3",
   "language": "python",
   "name": "python3"
  },
  "language_info": {
   "codemirror_mode": {
    "name": "ipython",
    "version": 3
   },
   "file_extension": ".py",
   "mimetype": "text/x-python",
   "name": "python",
   "nbconvert_exporter": "python",
   "pygments_lexer": "ipython3",
   "version": "3.6.3"
  }
 },
 "nbformat": 4,
 "nbformat_minor": 2
}
