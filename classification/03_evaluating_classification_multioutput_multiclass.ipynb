{
 "cells": [
  {
   "cell_type": "markdown",
   "metadata": {},
   "source": [
    "## Evaluating classification techniques for speaker characterization\n",
    "### Laura Fernández Gallardo\n",
    "\n",
    "After evluating the binary classification of speakers' warmth-attractiveness (WAAT), I examine in this notebook multilabel classification, that is, predicting several traits attributed to speakers, which are not mutually exclusive.   \n",
    "\n",
    "* For each perceptive speaker interpersonal dimension generated from [factor analysis](https://github.com/laufergall/Subjective_Speaker_Characteristics/tree/master/speaker_characteristics/factor_analysis) thrsholding scores based on percentiles to define 3 classes (\"high\", \"mid\", and \"low\") with approximately the same number of samples. These dimensions are: *warmth*, *attractiveness*, *confidence*, *compliance*, and *maturity*.\n",
    "* Only the \"high\" and \"low\" classes are of interest -> I address **multilabel binary classification**.\n",
    "* As evaluation metric, I will consider the average per-class accuracy (average of sensitivity and specificity)"
   ]
  },
  {
   "cell_type": "code",
   "execution_count": 1,
   "metadata": {
    "collapsed": true
   },
   "outputs": [],
   "source": [
    "import io\n",
    "import requests\n",
    "\n",
    "import numpy as np\n",
    "import pandas as pd\n",
    "\n",
    "from sklearn.preprocessing import StandardScaler\n",
    "from sklearn.model_selection import train_test_split\n",
    "\n",
    "import matplotlib.pyplot as plt\n",
    "import seaborn as sns\n",
    "\n",
    "%matplotlib inline"
   ]
  },
  {
   "cell_type": "markdown",
   "metadata": {},
   "source": [
    "## Dimensions of interpersonal speaker characteristics"
   ]
  },
  {
   "cell_type": "code",
   "execution_count": 2,
   "metadata": {
    "collapsed": true
   },
   "outputs": [],
   "source": [
    "# load scores (averaged across listeners)\n",
    "\n",
    "path = \"https://raw.githubusercontent.com/laufergall/Subjective_Speaker_Characteristics/master/data/generated_data/\"\n",
    "\n",
    "url = path + \"factorscores_malespk.csv\"\n",
    "s = requests.get(url).content\n",
    "scores_m =pd.read_csv(io.StringIO(s.decode('utf-8')))\n",
    "\n",
    "url = path + \"factorscores_femalespk.csv\"\n",
    "s = requests.get(url).content\n",
    "scores_f =pd.read_csv(io.StringIO(s.decode('utf-8')))\n",
    "\n",
    "# rename dimensions\n",
    "scores_m.columns = ['sample_heard', 'warmth', 'attractiveness', 'confidence', 'compliance', 'maturity']\n",
    "scores_f.columns = ['sample_heard', 'warmth', 'attractiveness', 'compliance', 'confidence', 'maturity']\n",
    "dim_names = ['warmth', 'attractiveness', 'confidence', 'compliance', 'maturity']"
   ]
  },
  {
   "cell_type": "markdown",
   "metadata": {},
   "source": [
    "Thresholding each trait into \"low\", \"mid\", \"high\", separately for each speaker gender."
   ]
  },
  {
   "cell_type": "code",
   "execution_count": 3,
   "metadata": {
    "collapsed": true
   },
   "outputs": [],
   "source": [
    "# for each trait, assign instances into 3 classes\n",
    "\n",
    "classes_m = pd.DataFrame(data = scores_m['sample_heard'])\n",
    "classes_f = pd.DataFrame(data = scores_f['sample_heard'])\n",
    "\n",
    "# male speakers\n",
    "for i in dim_names:\n",
    "    th = np.percentile(scores_m[i],[33,66])\n",
    "    classes_m.loc[scores_m[i]<th[0],i] = 'low'\n",
    "    classes_m.loc[scores_m[i]>=th[0],i] = 'mid'\n",
    "    classes_m.loc[scores_m[i]>th[1],i] = 'high'\n",
    "\n",
    "# female speakers\n",
    "for i in dim_names:\n",
    "    th = np.percentile(scores_f[i],[33,66])\n",
    "    classes_f.loc[scores_f[i]<th[0],i] = 'low'\n",
    "    classes_f.loc[scores_f[i]>=th[0],i] = 'mid'\n",
    "    classes_f.loc[scores_f[i]>th[1],i] = 'high'"
   ]
  },
  {
   "cell_type": "code",
   "execution_count": 4,
   "metadata": {},
   "outputs": [
    {
     "data": {
      "text/html": [
       "<div>\n",
       "<style>\n",
       "    .dataframe thead tr:only-child th {\n",
       "        text-align: right;\n",
       "    }\n",
       "\n",
       "    .dataframe thead th {\n",
       "        text-align: left;\n",
       "    }\n",
       "\n",
       "    .dataframe tbody tr th {\n",
       "        vertical-align: top;\n",
       "    }\n",
       "</style>\n",
       "<table border=\"1\" class=\"dataframe\">\n",
       "  <thead>\n",
       "    <tr style=\"text-align: right;\">\n",
       "      <th></th>\n",
       "      <th>sample_heard</th>\n",
       "      <th>warmth</th>\n",
       "      <th>attractiveness</th>\n",
       "      <th>confidence</th>\n",
       "      <th>compliance</th>\n",
       "      <th>maturity</th>\n",
       "      <th>gender</th>\n",
       "      <th>spkID</th>\n",
       "    </tr>\n",
       "  </thead>\n",
       "  <tbody>\n",
       "    <tr>\n",
       "      <th>0</th>\n",
       "      <td>m004_linden_stimulus.wav</td>\n",
       "      <td>mid</td>\n",
       "      <td>mid</td>\n",
       "      <td>high</td>\n",
       "      <td>low</td>\n",
       "      <td>mid</td>\n",
       "      <td>m</td>\n",
       "      <td>4</td>\n",
       "    </tr>\n",
       "    <tr>\n",
       "      <th>1</th>\n",
       "      <td>m005_nicosia_stimulus.wav</td>\n",
       "      <td>mid</td>\n",
       "      <td>mid</td>\n",
       "      <td>high</td>\n",
       "      <td>low</td>\n",
       "      <td>high</td>\n",
       "      <td>m</td>\n",
       "      <td>5</td>\n",
       "    </tr>\n",
       "    <tr>\n",
       "      <th>2</th>\n",
       "      <td>m006_rabat_stimulus.wav</td>\n",
       "      <td>high</td>\n",
       "      <td>mid</td>\n",
       "      <td>mid</td>\n",
       "      <td>mid</td>\n",
       "      <td>low</td>\n",
       "      <td>m</td>\n",
       "      <td>6</td>\n",
       "    </tr>\n",
       "    <tr>\n",
       "      <th>3</th>\n",
       "      <td>m007_klaksvik_stimulus.wav</td>\n",
       "      <td>mid</td>\n",
       "      <td>high</td>\n",
       "      <td>high</td>\n",
       "      <td>mid</td>\n",
       "      <td>high</td>\n",
       "      <td>m</td>\n",
       "      <td>7</td>\n",
       "    </tr>\n",
       "    <tr>\n",
       "      <th>4</th>\n",
       "      <td>m016_beirut_stimulus.wav</td>\n",
       "      <td>high</td>\n",
       "      <td>high</td>\n",
       "      <td>low</td>\n",
       "      <td>low</td>\n",
       "      <td>low</td>\n",
       "      <td>m</td>\n",
       "      <td>16</td>\n",
       "    </tr>\n",
       "  </tbody>\n",
       "</table>\n",
       "</div>"
      ],
      "text/plain": [
       "                 sample_heard warmth attractiveness confidence compliance  \\\n",
       "0    m004_linden_stimulus.wav    mid            mid       high        low   \n",
       "1   m005_nicosia_stimulus.wav    mid            mid       high        low   \n",
       "2     m006_rabat_stimulus.wav   high            mid        mid        mid   \n",
       "3  m007_klaksvik_stimulus.wav    mid           high       high        mid   \n",
       "4    m016_beirut_stimulus.wav   high           high        low        low   \n",
       "\n",
       "  maturity gender  spkID  \n",
       "0      mid      m      4  \n",
       "1     high      m      5  \n",
       "2      low      m      6  \n",
       "3     high      m      7  \n",
       "4      low      m     16  "
      ]
     },
     "execution_count": 4,
     "metadata": {},
     "output_type": "execute_result"
    }
   ],
   "source": [
    "# join male and female classes\n",
    "\n",
    "classes = classes_m.append(classes_f)\n",
    "classes['gender'] = classes['sample_heard'].str.slice(0,1)\n",
    "classes['spkID'] = classes['sample_heard'].str.slice(1,4).astype('int')\n",
    "classes.head()"
   ]
  },
  {
   "cell_type": "markdown",
   "metadata": {},
   "source": [
    "Stratified partition speakers into train/test, according to gender "
   ]
  },
  {
   "cell_type": "code",
   "execution_count": 8,
   "metadata": {
    "collapsed": true
   },
   "outputs": [],
   "source": [
    "# get stratified random partition for train and test\n",
    "\n",
    "indexes = np.arange(0,len(classes))\n",
    "train_i, test_i, train_y, test_y = train_test_split(indexes, \n",
    "                                                    indexes, # dummy classes\n",
    "                                                    test_size=0.25, \n",
    "                                                    stratify = classes['gender'], \n",
    "                                                    random_state=2302)\n",
    "\n",
    "classes_train = classes.iloc[train_i,:] # 225 instances\n",
    "classes_test = classes.iloc[test_i,:] # 75 instances\n",
    "\n",
    "# save these data for other evaluations\n",
    "classes_train.to_csv(r'..\\data\\generated_data\\classes_train.csv', index=False)\n",
    "classes_test.to_csv(r'..\\data\\generated_data\\classes_test.csv', index=False)"
   ]
  },
  {
   "cell_type": "markdown",
   "metadata": {},
   "source": [
    "## Speech features\n",
    "\n",
    "Same feature set as in Part II."
   ]
  },
  {
   "cell_type": "code",
   "execution_count": 6,
   "metadata": {
    "collapsed": true
   },
   "outputs": [],
   "source": [
    "path = \"https://raw.githubusercontent.com/laufergall/ML_Speaker_Characteristics/master/data/extracted_features/\"\n",
    "\n",
    "url = path + \"/eGeMAPSv01a_semispontaneous_splitted.csv\"\n",
    "s = requests.get(url).content\n",
    "feats =pd.read_csv(io.StringIO(s.decode('utf-8')), sep = ';') # shape: 3591, 89"
   ]
  },
  {
   "cell_type": "code",
   "execution_count": 7,
   "metadata": {
    "collapsed": true
   },
   "outputs": [],
   "source": [
    "# extract speaker ID from speech file name\n",
    "feats['spkID'] = feats['name'].str.slice(2, 5).astype('int')\n",
    "\n",
    "# appending multilabels to features\n",
    "feats_class_train = pd.merge(feats, classes_train) # shape (2700, 97)\n",
    "feats_class_test = pd.merge(feats, classes_test) # shape (891, 97)\n",
    "\n",
    "# classes as categorical\n",
    "for col in dim_names:\n",
    "    feats_class_train[col]=feats_class_train[col].astype('category')\n",
    "    feats_class_test[col]=feats_class_test[col].astype('category')"
   ]
  },
  {
   "cell_type": "code",
   "execution_count": 8,
   "metadata": {
    "collapsed": true
   },
   "outputs": [],
   "source": [
    "# Standardize speech features  \n",
    "\n",
    "dropcolumns = ['name','spkID','sample_heard', 'warmth', 'attractiveness', 'confidence', 'compliance', 'maturity', 'gender']\n",
    "\n",
    "# learn transformation on training data\n",
    "scaler = StandardScaler()\n",
    "scaler.fit(feats_class_train.drop(dropcolumns, axis=1))\n",
    "\n",
    " \n",
    "# numpy n_instances x n_feats\n",
    "feats_s_train = scaler.transform(feats_class_train.drop(dropcolumns, axis=1))\n",
    "feats_s_test = scaler.transform(feats_class_test.drop(dropcolumns, axis=1)) "
   ]
  },
  {
   "cell_type": "code",
   "execution_count": null,
   "metadata": {
    "collapsed": true
   },
   "outputs": [],
   "source": []
  },
  {
   "cell_type": "code",
   "execution_count": null,
   "metadata": {
    "collapsed": true
   },
   "outputs": [],
   "source": []
  },
  {
   "cell_type": "code",
   "execution_count": null,
   "metadata": {
    "collapsed": true
   },
   "outputs": [],
   "source": []
  },
  {
   "cell_type": "code",
   "execution_count": null,
   "metadata": {
    "collapsed": true
   },
   "outputs": [],
   "source": []
  },
  {
   "cell_type": "markdown",
   "metadata": {},
   "source": [
    "### quick working example"
   ]
  },
  {
   "cell_type": "markdown",
   "metadata": {},
   "source": [
    "#### model training"
   ]
  },
  {
   "cell_type": "code",
   "execution_count": 9,
   "metadata": {
    "collapsed": true
   },
   "outputs": [],
   "source": [
    "X = feats_s_train\n",
    "Y = feats_class_train[dim_names].apply(lambda x: x.cat.codes).as_matrix()"
   ]
  },
  {
   "cell_type": "code",
   "execution_count": 11,
   "metadata": {},
   "outputs": [
    {
     "data": {
      "text/plain": [
       "KNeighborsClassifier(algorithm='auto', leaf_size=30, metric='minkowski',\n",
       "           metric_params=None, n_jobs=1, n_neighbors=5, p=2,\n",
       "           weights='uniform')"
      ]
     },
     "execution_count": 11,
     "metadata": {},
     "output_type": "execute_result"
    }
   ],
   "source": [
    "from sklearn.neighbors import KNeighborsClassifier\n",
    "\n",
    "model = KNeighborsClassifier()\n",
    "\n",
    "model.fit(X, Y)"
   ]
  },
  {
   "cell_type": "code",
   "execution_count": null,
   "metadata": {
    "collapsed": true
   },
   "outputs": [],
   "source": []
  },
  {
   "cell_type": "markdown",
   "metadata": {
    "collapsed": true
   },
   "source": [
    "#### testing performance"
   ]
  },
  {
   "cell_type": "code",
   "execution_count": 13,
   "metadata": {
    "collapsed": true
   },
   "outputs": [],
   "source": [
    "Xt = feats_s_test\n",
    "Yt = feats_class_test[dim_names].apply(lambda x: x.cat.codes).as_matrix()"
   ]
  },
  {
   "cell_type": "code",
   "execution_count": 15,
   "metadata": {
    "collapsed": true
   },
   "outputs": [],
   "source": [
    "Y_pred = model.predict(Xt)"
   ]
  },
  {
   "cell_type": "code",
   "execution_count": 29,
   "metadata": {},
   "outputs": [
    {
     "data": {
      "text/plain": [
       "array([[1, 2, 0, 1, 1],\n",
       "       [1, 2, 0, 1, 1],\n",
       "       [1, 2, 0, 1, 1],\n",
       "       ..., \n",
       "       [2, 1, 2, 0, 2],\n",
       "       [2, 1, 2, 0, 2],\n",
       "       [2, 1, 2, 0, 2]], dtype=int8)"
      ]
     },
     "execution_count": 29,
     "metadata": {},
     "output_type": "execute_result"
    }
   ],
   "source": [
    "Yt"
   ]
  },
  {
   "cell_type": "code",
   "execution_count": 17,
   "metadata": {
    "scrolled": true
   },
   "outputs": [
    {
     "data": {
      "text/plain": [
       "array([[2, 0, 0, 2, 2],\n",
       "       [2, 0, 0, 2, 2],\n",
       "       [0, 0, 0, 2, 2],\n",
       "       ..., \n",
       "       [1, 2, 1, 2, 2],\n",
       "       [0, 0, 0, 0, 0],\n",
       "       [1, 1, 2, 0, 1]], dtype=int8)"
      ]
     },
     "execution_count": 17,
     "metadata": {},
     "output_type": "execute_result"
    }
   ],
   "source": [
    "Y_pred"
   ]
  },
  {
   "cell_type": "code",
   "execution_count": 23,
   "metadata": {
    "collapsed": true
   },
   "outputs": [],
   "source": [
    "def hamming_score(y_true, y_pred, normalize=True, sample_weight=None):\n",
    "    '''\n",
    "    Compute the Hamming score (a.k.a. label-based accuracy) for the multi-label case\n",
    "    http://stackoverflow.com/q/32239577/395857\n",
    "    '''\n",
    "    acc_list = []\n",
    "    for i in range(y_true.shape[0]):\n",
    "        set_true = set( np.where(y_true[i])[0] )\n",
    "        set_pred = set( np.where(y_pred[i])[0] )\n",
    "        #print('\\nset_true: {0}'.format(set_true))\n",
    "        #print('set_pred: {0}'.format(set_pred))\n",
    "        tmp_a = None\n",
    "        if len(set_true) == 0 and len(set_pred) == 0:\n",
    "            tmp_a = 1\n",
    "        else:\n",
    "            tmp_a = len(set_true.intersection(set_pred))/\\\n",
    "                    float( len(set_true.union(set_pred)) )\n",
    "        #print('tmp_a: {0}'.format(tmp_a))\n",
    "        acc_list.append(tmp_a)\n",
    "    return np.mean(acc_list)"
   ]
  },
  {
   "cell_type": "code",
   "execution_count": 26,
   "metadata": {},
   "outputs": [
    {
     "data": {
      "text/plain": [
       "0.48466142910587351"
      ]
     },
     "execution_count": 26,
     "metadata": {},
     "output_type": "execute_result"
    }
   ],
   "source": [
    "\n",
    "score = hamming_score(Yt, Y_pred)\n",
    "score"
   ]
  },
  {
   "cell_type": "markdown",
   "metadata": {
    "collapsed": true
   },
   "source": [
    "TODO:\n",
    "    \n",
    "* define performance metric\n",
    "* model tuning\n",
    "* try different classifiers\n",
    "    * Support multiclass-multioutput:\n",
    "sklearn.tree.DecisionTreeClassifier\n",
    "sklearn.tree.ExtraTreeClassifier\n",
    "sklearn.ensemble.ExtraTreesClassifier\n",
    "sklearn.neighbors.KNeighborsClassifier\n",
    "sklearn.neighbors.RadiusNeighborsClassifier\n",
    "sklearn.ensemble.RandomForestClassifier\n",
    "http://scikit-learn.org/stable/modules/multiclass.html"
   ]
  }
 ],
 "metadata": {
  "kernelspec": {
   "display_name": "Python 3",
   "language": "python",
   "name": "python3"
  },
  "language_info": {
   "codemirror_mode": {
    "name": "ipython",
    "version": 3
   },
   "file_extension": ".py",
   "mimetype": "text/x-python",
   "name": "python",
   "nbconvert_exporter": "python",
   "pygments_lexer": "ipython3",
   "version": "3.6.3"
  }
 },
 "nbformat": 4,
 "nbformat_minor": 2
}
