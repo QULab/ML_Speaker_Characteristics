{
 "cells": [
  {
   "cell_type": "markdown",
   "metadata": {},
   "source": [
    "## Evaluating classification techniques for speaker characterization\n",
    "### Laura Fernández Gallardo\n",
    "\n",
    "Using the models trained with clean speech, analyze the effects of testing with distorted speech on the classification performance.\n",
    "\n",
    "* WAAT classification\n",
    "* multilabel classification\n",
    "\n",
    "As done when tuning models, the evaluation metric considered is the **average per-class accuracy**."
   ]
  },
  {
   "cell_type": "code",
   "execution_count": 1,
   "metadata": {
    "collapsed": true
   },
   "outputs": [],
   "source": [
    "import io\n",
    "import requests\n",
    "import pickle # save / load models\n",
    "from ast import literal_eval # parsing hp of gridsearch\n",
    "\n",
    "import numpy as np\n",
    "import pandas as pd\n",
    "\n",
    "from cls_tuning import * # my helper functions\n",
    "\n",
    "from sklearn.preprocessing import StandardScaler\n",
    "from sklearn.model_selection import train_test_split\n",
    "from sklearn.metrics import recall_score\n",
    "\n",
    "import matplotlib.pyplot as plt\n",
    "import seaborn as sns\n",
    "\n",
    "%matplotlib inline"
   ]
  },
  {
   "cell_type": "code",
   "execution_count": 2,
   "metadata": {
    "collapsed": true
   },
   "outputs": [],
   "source": [
    "# fix random seed for reproducibility\n",
    "seed = 2302\n",
    "np.random.seed(seed)"
   ]
  },
  {
   "cell_type": "markdown",
   "metadata": {},
   "source": [
    "## Features from degraded and distorted speech\n",
    "\n",
    "**Speech degradations:** The [NSC](http://www.qu.tu-berlin.de/?id=nsc-corpus) stimuli files (shortened semi-spontaneous dialog 6) have been transmitted through 53 channel degradations (see [readme](https://github.com/laufergall/ML_Speaker_Characteristics/tree/master/data/distortions)). This makes a total of 15900 files, corresponding to 53 degradations x 300 speakers. \n",
    "\n",
    "**Speech distortions:** 4 packet loss and 2 jitter conditions were then applied to the 15900 files, resulting in a maximum of 4 x 2 x 15900 = 127200 files. Regrettably, about 7% of the transmission simulations were unsuccessfull (the received speech files were corrupt). Each successfully transmitted file was splitted into two and OpenSMILE speech features were [extracted](https://github.com/laufergall/ML_Speaker_Characteristics/tree/master/feature_extraction) from each of the halves. Speech features are available from a total of 235709 instances, coded by the speaker and distortions applied.  \n",
    "\n",
    "The same set of speech features was also extracted from clean speech (all semi-spontaneous dialogs, see previous jupyter notebooks in this folder), from the 300 clean speech files corresponding to stimuli segments, and from the 15900 files of degraded stimuli segments (no packet loss or jitter conditions). "
   ]
  },
  {
   "cell_type": "code",
   "execution_count": 3,
   "metadata": {},
   "outputs": [
    {
     "data": {
      "text/html": [
       "<div>\n",
       "<style>\n",
       "    .dataframe thead tr:only-child th {\n",
       "        text-align: right;\n",
       "    }\n",
       "\n",
       "    .dataframe thead th {\n",
       "        text-align: left;\n",
       "    }\n",
       "\n",
       "    .dataframe tbody tr th {\n",
       "        vertical-align: top;\n",
       "    }\n",
       "</style>\n",
       "<table border=\"1\" class=\"dataframe\">\n",
       "  <thead>\n",
       "    <tr style=\"text-align: right;\">\n",
       "      <th></th>\n",
       "      <th>name</th>\n",
       "      <th>F0semitoneFrom27.5Hz_sma3nz_amean</th>\n",
       "      <th>F0semitoneFrom27.5Hz_sma3nz_stddevNorm</th>\n",
       "      <th>F0semitoneFrom27.5Hz_sma3nz_percentile20.0</th>\n",
       "      <th>F0semitoneFrom27.5Hz_sma3nz_percentile50.0</th>\n",
       "      <th>F0semitoneFrom27.5Hz_sma3nz_percentile80.0</th>\n",
       "      <th>F0semitoneFrom27.5Hz_sma3nz_pctlrange0-2</th>\n",
       "      <th>F0semitoneFrom27.5Hz_sma3nz_meanRisingSlope</th>\n",
       "      <th>F0semitoneFrom27.5Hz_sma3nz_stddevRisingSlope</th>\n",
       "      <th>F0semitoneFrom27.5Hz_sma3nz_meanFallingSlope</th>\n",
       "      <th>...</th>\n",
       "      <th>VoicedSegmentsPerSec</th>\n",
       "      <th>MeanVoicedSegmentLengthSec</th>\n",
       "      <th>StddevVoicedSegmentLengthSec</th>\n",
       "      <th>MeanUnvoicedSegmentLength</th>\n",
       "      <th>StddevUnvoicedSegmentLength</th>\n",
       "      <th>equivalentSoundLevel_dBp</th>\n",
       "      <th>spkID</th>\n",
       "      <th>dialog</th>\n",
       "      <th>gender</th>\n",
       "      <th>class</th>\n",
       "    </tr>\n",
       "  </thead>\n",
       "  <tbody>\n",
       "    <tr>\n",
       "      <th>0</th>\n",
       "      <td>'m006_rabat_d5_01.wav'</td>\n",
       "      <td>31.23358</td>\n",
       "      <td>0.262306</td>\n",
       "      <td>26.59388</td>\n",
       "      <td>30.09026</td>\n",
       "      <td>34.11197</td>\n",
       "      <td>7.518097</td>\n",
       "      <td>316.59510</td>\n",
       "      <td>610.79350</td>\n",
       "      <td>267.6818</td>\n",
       "      <td>...</td>\n",
       "      <td>2.643574</td>\n",
       "      <td>0.201035</td>\n",
       "      <td>0.209331</td>\n",
       "      <td>0.180400</td>\n",
       "      <td>0.286503</td>\n",
       "      <td>-30.14587</td>\n",
       "      <td>6</td>\n",
       "      <td>5</td>\n",
       "      <td>m</td>\n",
       "      <td>high</td>\n",
       "    </tr>\n",
       "    <tr>\n",
       "      <th>1</th>\n",
       "      <td>'m006_rabat_d5_02.wav'</td>\n",
       "      <td>31.31265</td>\n",
       "      <td>0.205003</td>\n",
       "      <td>27.27562</td>\n",
       "      <td>31.13765</td>\n",
       "      <td>34.80304</td>\n",
       "      <td>7.527420</td>\n",
       "      <td>90.15386</td>\n",
       "      <td>78.50047</td>\n",
       "      <td>223.4587</td>\n",
       "      <td>...</td>\n",
       "      <td>1.550388</td>\n",
       "      <td>0.253529</td>\n",
       "      <td>0.187034</td>\n",
       "      <td>0.405807</td>\n",
       "      <td>0.462146</td>\n",
       "      <td>-30.21316</td>\n",
       "      <td>6</td>\n",
       "      <td>5</td>\n",
       "      <td>m</td>\n",
       "      <td>high</td>\n",
       "    </tr>\n",
       "    <tr>\n",
       "      <th>2</th>\n",
       "      <td>'m006_rabat_d5_03.wav'</td>\n",
       "      <td>32.08952</td>\n",
       "      <td>0.210413</td>\n",
       "      <td>27.79275</td>\n",
       "      <td>31.72719</td>\n",
       "      <td>35.72678</td>\n",
       "      <td>7.934029</td>\n",
       "      <td>277.98860</td>\n",
       "      <td>632.48160</td>\n",
       "      <td>139.8396</td>\n",
       "      <td>...</td>\n",
       "      <td>2.132591</td>\n",
       "      <td>0.233043</td>\n",
       "      <td>0.190101</td>\n",
       "      <td>0.229767</td>\n",
       "      <td>0.381140</td>\n",
       "      <td>-29.06304</td>\n",
       "      <td>6</td>\n",
       "      <td>5</td>\n",
       "      <td>m</td>\n",
       "      <td>high</td>\n",
       "    </tr>\n",
       "    <tr>\n",
       "      <th>3</th>\n",
       "      <td>'m006_rabat_d6_01.wav'</td>\n",
       "      <td>32.86148</td>\n",
       "      <td>0.209119</td>\n",
       "      <td>28.24504</td>\n",
       "      <td>32.85449</td>\n",
       "      <td>37.06210</td>\n",
       "      <td>8.817057</td>\n",
       "      <td>299.96070</td>\n",
       "      <td>709.52120</td>\n",
       "      <td>171.5547</td>\n",
       "      <td>...</td>\n",
       "      <td>1.770956</td>\n",
       "      <td>0.304667</td>\n",
       "      <td>0.248820</td>\n",
       "      <td>0.247241</td>\n",
       "      <td>0.419860</td>\n",
       "      <td>-27.91848</td>\n",
       "      <td>6</td>\n",
       "      <td>6</td>\n",
       "      <td>m</td>\n",
       "      <td>high</td>\n",
       "    </tr>\n",
       "    <tr>\n",
       "      <th>4</th>\n",
       "      <td>'m006_rabat_d6_02.wav'</td>\n",
       "      <td>31.04583</td>\n",
       "      <td>0.249890</td>\n",
       "      <td>26.29376</td>\n",
       "      <td>29.80590</td>\n",
       "      <td>33.76602</td>\n",
       "      <td>7.472261</td>\n",
       "      <td>191.92640</td>\n",
       "      <td>177.29000</td>\n",
       "      <td>113.4793</td>\n",
       "      <td>...</td>\n",
       "      <td>1.890136</td>\n",
       "      <td>0.239687</td>\n",
       "      <td>0.185363</td>\n",
       "      <td>0.317407</td>\n",
       "      <td>0.477544</td>\n",
       "      <td>-29.62095</td>\n",
       "      <td>6</td>\n",
       "      <td>6</td>\n",
       "      <td>m</td>\n",
       "      <td>high</td>\n",
       "    </tr>\n",
       "  </tbody>\n",
       "</table>\n",
       "<p>5 rows × 93 columns</p>\n",
       "</div>"
      ],
      "text/plain": [
       "                     name  F0semitoneFrom27.5Hz_sma3nz_amean  \\\n",
       "0  'm006_rabat_d5_01.wav'                           31.23358   \n",
       "1  'm006_rabat_d5_02.wav'                           31.31265   \n",
       "2  'm006_rabat_d5_03.wav'                           32.08952   \n",
       "3  'm006_rabat_d6_01.wav'                           32.86148   \n",
       "4  'm006_rabat_d6_02.wav'                           31.04583   \n",
       "\n",
       "   F0semitoneFrom27.5Hz_sma3nz_stddevNorm  \\\n",
       "0                                0.262306   \n",
       "1                                0.205003   \n",
       "2                                0.210413   \n",
       "3                                0.209119   \n",
       "4                                0.249890   \n",
       "\n",
       "   F0semitoneFrom27.5Hz_sma3nz_percentile20.0  \\\n",
       "0                                    26.59388   \n",
       "1                                    27.27562   \n",
       "2                                    27.79275   \n",
       "3                                    28.24504   \n",
       "4                                    26.29376   \n",
       "\n",
       "   F0semitoneFrom27.5Hz_sma3nz_percentile50.0  \\\n",
       "0                                    30.09026   \n",
       "1                                    31.13765   \n",
       "2                                    31.72719   \n",
       "3                                    32.85449   \n",
       "4                                    29.80590   \n",
       "\n",
       "   F0semitoneFrom27.5Hz_sma3nz_percentile80.0  \\\n",
       "0                                    34.11197   \n",
       "1                                    34.80304   \n",
       "2                                    35.72678   \n",
       "3                                    37.06210   \n",
       "4                                    33.76602   \n",
       "\n",
       "   F0semitoneFrom27.5Hz_sma3nz_pctlrange0-2  \\\n",
       "0                                  7.518097   \n",
       "1                                  7.527420   \n",
       "2                                  7.934029   \n",
       "3                                  8.817057   \n",
       "4                                  7.472261   \n",
       "\n",
       "   F0semitoneFrom27.5Hz_sma3nz_meanRisingSlope  \\\n",
       "0                                    316.59510   \n",
       "1                                     90.15386   \n",
       "2                                    277.98860   \n",
       "3                                    299.96070   \n",
       "4                                    191.92640   \n",
       "\n",
       "   F0semitoneFrom27.5Hz_sma3nz_stddevRisingSlope  \\\n",
       "0                                      610.79350   \n",
       "1                                       78.50047   \n",
       "2                                      632.48160   \n",
       "3                                      709.52120   \n",
       "4                                      177.29000   \n",
       "\n",
       "   F0semitoneFrom27.5Hz_sma3nz_meanFallingSlope  ...    VoicedSegmentsPerSec  \\\n",
       "0                                      267.6818  ...                2.643574   \n",
       "1                                      223.4587  ...                1.550388   \n",
       "2                                      139.8396  ...                2.132591   \n",
       "3                                      171.5547  ...                1.770956   \n",
       "4                                      113.4793  ...                1.890136   \n",
       "\n",
       "   MeanVoicedSegmentLengthSec  StddevVoicedSegmentLengthSec  \\\n",
       "0                    0.201035                      0.209331   \n",
       "1                    0.253529                      0.187034   \n",
       "2                    0.233043                      0.190101   \n",
       "3                    0.304667                      0.248820   \n",
       "4                    0.239687                      0.185363   \n",
       "\n",
       "   MeanUnvoicedSegmentLength  StddevUnvoicedSegmentLength  \\\n",
       "0                   0.180400                     0.286503   \n",
       "1                   0.405807                     0.462146   \n",
       "2                   0.229767                     0.381140   \n",
       "3                   0.247241                     0.419860   \n",
       "4                   0.317407                     0.477544   \n",
       "\n",
       "   equivalentSoundLevel_dBp  spkID  dialog  gender  class  \n",
       "0                 -30.14587      6       5       m   high  \n",
       "1                 -30.21316      6       5       m   high  \n",
       "2                 -29.06304      6       5       m   high  \n",
       "3                 -27.91848      6       6       m   high  \n",
       "4                 -29.62095      6       6       m   high  \n",
       "\n",
       "[5 rows x 93 columns]"
      ]
     },
     "execution_count": 3,
     "metadata": {},
     "output_type": "execute_result"
    }
   ],
   "source": [
    "# load features from clean speech\n",
    "\n",
    "path = \"https://raw.githubusercontent.com/laufergall/ML_Speaker_Characteristics/master/data/extracted_features/\"\n",
    "\n",
    "url = path + \"/eGeMAPSv01a_semispontaneous_splitted.csv\"\n",
    "s = requests.get(url).content\n",
    "feats_clean =pd.read_csv(io.StringIO(s.decode('utf-8')), sep = ';') # shape: 3591, 89\n",
    "\n",
    "# extract speaker ID and dialog number from speech file name\n",
    "feats_clean['spkID'] = feats_clean['name'].str.slice(2, 5).astype('int')\n",
    "feats_clean['dialog'] = feats_clean['name'].str.slice(-9,-8)\n",
    "\n",
    "# appending class label\n",
    "scores = pd.read_csv(r'..\\data\\generated_data\\speakerIDs_cls_WAAT_all.csv') # only high/low WAAT\n",
    "feats_clean_class = pd.merge(feats_clean, scores, how='inner')\n",
    "feats_clean_class.head()"
   ]
  },
  {
   "cell_type": "code",
   "execution_count": 4,
   "metadata": {
    "collapsed": true
   },
   "outputs": [],
   "source": [
    "# load features from clean stimuli \n",
    "# used as clean condition when evaluating test performance \n",
    "\n",
    "# (gitignored file)\n",
    "file_feats = r'..\\data\\extracted_features\\eGeMAPSv01a_stimuli_splitted.csv'\n",
    "feats_clean = pd.read_csv(file_feats, sep=';') # shape (600, 89)\n",
    "\n",
    "# extract speaker ID from speech file name\n",
    "feats_clean['spkID'] = feats_clean['name'].str.slice(2, 5).astype('int')\n",
    "\n",
    "# distortion code\n",
    "feats_clean['distnum'] = '00'\n",
    "\n",
    "# add column with packet loss info\n",
    "feats_clean['packetlossrate'] = '0'\n",
    "\n",
    "## add column with jitter info\n",
    "feats_clean['jitterms'] = '0'"
   ]
  },
  {
   "cell_type": "code",
   "execution_count": 5,
   "metadata": {
    "collapsed": true
   },
   "outputs": [],
   "source": [
    "# load features from degraded stimuli\n",
    "\n",
    "# (gitignored file)\n",
    "file_feats = r'..\\data\\extracted_features\\eGeMAPSv01a_stimuli_splitted_degraded.csv'\n",
    "feats_deg = pd.read_csv(file_feats, sep=';') # shape (31800, 89)\n",
    "\n",
    "# extract speaker ID from speech file name\n",
    "feats_deg['spkID'] = feats_deg['name'].str.slice(1, 4).astype('int')\n",
    "\n",
    "# distortion code\n",
    "feats_deg['distnum'] = feats_deg['name'].str.slice(5,7)\n",
    "\n",
    "# add column with packet loss info\n",
    "feats_deg['packetlossrate'] = '0'\n",
    "\n",
    "## add column with jitter info\n",
    "feats_deg['jitterms'] = '0'\n"
   ]
  },
  {
   "cell_type": "code",
   "execution_count": 6,
   "metadata": {
    "collapsed": true
   },
   "outputs": [],
   "source": [
    "# load features from degraded+distorted stimuli (packet loss and jitter)\n",
    "\n",
    "# (gitignored file)\n",
    "file_feats = r'..\\data\\extracted_features\\eGeMAPSv01a_stimuli_splitted_distorted.csv'\n",
    "feats_dist = pd.read_csv(file_feats) # shape (235709, 89)\n",
    "\n",
    "# extract speaker ID from speech file name\n",
    "feats_dist['spkID'] = feats_dist['name'].str.slice(1, 4).astype('int')\n",
    "\n",
    "# distortion code\n",
    "feats_dist['distnum'] = feats_dist['name'].str.slice(5,7)\n",
    "\n",
    "# add column with packet loss info\n",
    "feats_dist['packetlossrate'] = feats_dist['name'].str.extract('(?<=P)(.*?)(?=-)', expand=False)\n",
    "\n",
    "## add column with jitter info\n",
    "feats_dist['jitterms'] = feats_dist['name'].str.extract('(?<=J)(.*?)(?=%)', expand=False)\n"
   ]
  },
  {
   "cell_type": "code",
   "execution_count": 7,
   "metadata": {
    "collapsed": true
   },
   "outputs": [],
   "source": [
    "# join degraded with degraded+distorted stimuli instances\n",
    "feats_dist = feats_dist.append(feats_deg) # shape (267509, 93)\n",
    "\n",
    "# join degraded and degraded+distorted with clean stimuli instances\n",
    "feats_dist = feats_dist.append(feats_clean) # shape (268109, 93)"
   ]
  },
  {
   "cell_type": "code",
   "execution_count": 9,
   "metadata": {
    "collapsed": true,
    "scrolled": false
   },
   "outputs": [],
   "source": [
    "# load mapping of degradation names\n",
    "path = \"https://raw.githubusercontent.com/laufergall/ML_Speaker_Characteristics/master/data/distortions/\"\n",
    "url = path + \"dist_mapping.csv\"\n",
    "s = requests.get(url).content\n",
    "dist_mapping =pd.read_csv(io.StringIO(s.decode('utf-8')), sep = ';')\n",
    "\n",
    "# padding distortion codes with zeroes\n",
    "dist_mapping['distnum'] = dist_mapping['distnum'].astype(str).str.zfill(2)\n",
    "\n",
    "# merge feats with distmapping to know name of distortions\n",
    "feats_dist = feats_dist.merge(dist_mapping)\n",
    "\n",
    "# appending class label\n",
    "feats_dist_class = pd.merge(feats_dist, scores, how='inner')"
   ]
  },
  {
   "cell_type": "code",
   "execution_count": 10,
   "metadata": {},
   "outputs": [
    {
     "name": "stdout",
     "output_type": "stream",
     "text": [
      "4964.981481481482\n",
      "54\n",
      "1     61382\n",
      "3     59997\n",
      "5     58761\n",
      "10    55569\n",
      "0     32400\n",
      "Name: packetlossrate, dtype: int64\n"
     ]
    }
   ],
   "source": [
    "# how many degradations\n",
    "print(feats_dist['distcode'].value_counts().mean()) # around 5000 instances for each degradation\n",
    "print(len(feats_dist['distcode'].value_counts())) # 53 degradations\n",
    "print(feats_dist['packetlossrate'].value_counts()) # around 30K instances for each packet loss rate * 2 jitter conditions"
   ]
  },
  {
   "cell_type": "markdown",
   "metadata": {},
   "source": [
    "## WAAT classification\n",
    "\n",
    "The WAAT (warmth-attractiveness) score distribution was already explored in Part I.\n",
    "\n",
    "This notebook: binary classification with data partitions:\n",
    "\n",
    "* train: clean speech data from semi-spontaneous dialogs: 5, 7, and 8.\n",
    "* test: degraded/distorted data from NSC stimuli (shortened semi-spontaneous dialog 6). \n",
    "\n",
    "(different from the splitting speakers strategy of Part I)."
   ]
  },
  {
   "cell_type": "code",
   "execution_count": 11,
   "metadata": {
    "collapsed": true
   },
   "outputs": [],
   "source": [
    "# train data\n",
    "dialogs_train = ['5', '7', '8']\n",
    "feats_clean_class_train = feats_clean_class.loc[feats_clean_class['dialog'].isin(dialogs_train)] # shape (1647, 93)\n",
    "\n",
    "# test data: each degradation / distortion in feats_dist_class"
   ]
  },
  {
   "cell_type": "markdown",
   "metadata": {
    "collapsed": true
   },
   "source": [
    "### Model tuning\n",
    "\n",
    "Pick the classifiers that worked best in Part I and tune with train data folling the same approach for nested hp tuning."
   ]
  },
  {
   "cell_type": "code",
   "execution_count": 12,
   "metadata": {
    "collapsed": true
   },
   "outputs": [],
   "source": [
    "# Standardize speech features  \n",
    "\n",
    "# learn transformation on training data\n",
    "scaler = StandardScaler()\n",
    "scaler.fit(feats_clean_class_train.drop(['name','spkID','dialog','gender','class'],axis=1))\n",
    "\n",
    "# numpy n_instances x n_feats\n",
    "feats_s_train = scaler.transform(feats_clean_class_train.drop(['name','spkID','dialog','gender','class'],axis=1))"
   ]
  },
  {
   "cell_type": "code",
   "execution_count": 13,
   "metadata": {},
   "outputs": [
    {
     "name": "stderr",
     "output_type": "stream",
     "text": [
      "D:\\Users\\fernandez.laura\\AppData\\Local\\Continuum\\anaconda3\\lib\\site-packages\\ipykernel_launcher.py:5: SettingWithCopyWarning: \n",
      "A value is trying to be set on a copy of a slice from a DataFrame.\n",
      "Try using .loc[row_indexer,col_indexer] = value instead\n",
      "\n",
      "See the caveats in the documentation: http://pandas.pydata.org/pandas-docs/stable/indexing.html#indexing-view-versus-copy\n",
      "  \"\"\"\n"
     ]
    }
   ],
   "source": [
    "# training data. Features and labels\n",
    "X = feats_s_train\n",
    "y = feats_clean_class_train['class'].astype('category').cat.codes\n",
    "\n",
    "feats_clean_class_train['genderclass']= feats_clean_class_train[['gender', 'class']].apply(lambda x: ''.join(x), axis=1)\n",
    "\n",
    "feats_names = pd.read_csv(r'.\\data_while_tuning\\feats_names.csv', header = None)\n",
    "feats_names = feats_names.values.tolist()"
   ]
  },
  {
   "cell_type": "code",
   "execution_count": 14,
   "metadata": {},
   "outputs": [
    {
     "name": "stdout",
     "output_type": "stream",
     "text": [
      "Number of instances in A (hyperparameter tuning): 1317\n",
      "Number of instances in B (meta-evaluation): 330\n"
     ]
    }
   ],
   "source": [
    "# split train data into 80% and 20% subsets - with balance in trait and gender\n",
    "# give subset A to the inner hyperparameter tuner\n",
    "# and hold out subset B for meta-evaluation\n",
    "\n",
    "\n",
    "AX, BX, Ay, By = train_test_split(X, y, test_size=0.20, stratify = feats_clean_class_train['genderclass'], random_state=2302)\n",
    "\n",
    "print('Number of instances in A (hyperparameter tuning):',AX.shape[0])\n",
    "print('Number of instances in B (meta-evaluation):',BX.shape[0])"
   ]
  },
  {
   "cell_type": "code",
   "execution_count": 15,
   "metadata": {
    "collapsed": true
   },
   "outputs": [],
   "source": [
    "# dataframe with results from hp tuner to be appended\n",
    "tuning_all = pd.DataFrame()\n",
    "\n",
    "# list with tuned classifiers trained on training data, to be appended\n",
    "trained_all = []"
   ]
  },
  {
   "cell_type": "code",
   "execution_count": 16,
   "metadata": {},
   "outputs": [
    {
     "name": "stdout",
     "output_type": "stream",
     "text": [
      "'KNeighborsClassifier_clean' -> Best cross-val score on A set: 0.872616 using {'classifier__n_neighbors': 1, 'selecter__k': 87}\n",
      "'KNeighborsClassifier_clean' -> Selected features: [\"'F0semitoneFrom27.5Hz_sma3nz_amean'\"]\n",
      "'KNeighborsClassifier_clean' -> Average per-class accuracy on B set: 0.825367\n",
      "\n"
     ]
    }
   ],
   "source": [
    "from sklearn.neighbors import KNeighborsClassifier\n",
    "\n",
    "\"\"\"\n",
    "K Nearest Neighbors\n",
    "\"\"\"\n",
    "def get_KNeighborsClassifier2tune():\n",
    "\n",
    "    model = KNeighborsClassifier()\n",
    "    hp = dict(\n",
    "        classifier__n_neighbors = [1] #list(range(1,20))\n",
    "    )\n",
    "    return 'KNeighborsClassifier_clean', model, hp\n",
    "\n",
    "# Hyperparameter tuning with this model\n",
    "tuning, trained = hp_tuner(AX, BX, Ay, By, [get_KNeighborsClassifier2tune], feats_names)\n",
    "\n",
    "# update lists of tuning info and trained classifiers\n",
    "tuning_all = tuning_all.append(tuning, ignore_index=True)\n",
    "trained_all.append(trained)"
   ]
  },
  {
   "cell_type": "code",
   "execution_count": 12,
   "metadata": {},
   "outputs": [
    {
     "data": {
      "text/plain": [
       "<matplotlib.axes._subplots.AxesSubplot at 0x1a90c3a2080>"
      ]
     },
     "execution_count": 12,
     "metadata": {},
     "output_type": "execute_result"
    },
    {
     "data": {
      "image/png": "[encoded data removed]",
      "text/plain": [
       "<matplotlib.figure.Figure at 0x1a90c3a2940>"
      ]
     },
     "metadata": {},
     "output_type": "display_data"
    }
   ],
   "source": [
    "# open generated file with results of fitting GridSearchCV\n",
    " \n",
    "sgrid = pd.read_csv(r'.\\data_while_tuning\\KNeighborsClassifier_clean_tuning.csv')\n",
    "\n",
    "# params to dataframe\n",
    "params_dict = sgrid['params'].apply(lambda x: literal_eval(x) ).to_dict()\n",
    "params_df = pd.DataFrame(data = params_dict).transpose()\n",
    "\n",
    "# plot acc vs. params\n",
    "params_df = params_df.loc[params_df['classifier__n_neighbors']<10,:] # selecting only lower k\n",
    "sns.pointplot(x='selecter__k', y='mean_acc_A',hue='classifier__n_neighbors', data=sgrid.join(params_df)) "
   ]
  },
  {
   "cell_type": "markdown",
   "metadata": {
    "collapsed": true
   },
   "source": [
    "### Testing across channel degradations and distortions"
   ]
  },
  {
   "cell_type": "code",
   "execution_count": 17,
   "metadata": {},
   "outputs": [
    {
     "name": "stdout",
     "output_type": "stream",
     "text": [
      "Selected classifier based on the best performance on B: 'KNeighborsClassifier_clean' (accB = 0.83)\n"
     ]
    }
   ],
   "source": [
    "# select the classifier that gave the maximum acc on B set\n",
    "best_accs = tuning_all['best_accs']\n",
    "i_best = best_accs.idxmax()\n",
    "\n",
    "print('Selected classifier based on the best performance on B: %r (accB = %0.2f)' % (tuning_all.loc[i_best,'classifiers_names'], round(best_accs[i_best],2)))"
   ]
  },
  {
   "cell_type": "code",
   "execution_count": 26,
   "metadata": {
    "collapsed": true
   },
   "outputs": [],
   "source": [
    "dist_codes = dist_mapping['distcode']\n",
    "packetlossrate_codes = feats_dist_class['packetlossrate'].unique()\n",
    "jitterms_codes = feats_dist_class['jitterms'].unique()\n",
    "\n",
    "test_performance = pd.DataFrame() # append results for each condition\n",
    "\n",
    "\n",
    "# loop over each degradations / distortions in feats_dist_class\n",
    "\n",
    "for i in np.arange(0,len(dist_codes)):\n",
    "    for j in np.arange(0,len(packetlossrate_codes)):\n",
    "        for k in np.arange(0,len(jitterms_codes)):\n",
    "\n",
    "            # selecting features of one condition given by i, j, k\n",
    "            cond1 = feats_dist_class['distcode']==dist_codes[i] \n",
    "            cond2 = feats_dist_class['packetlossrate']==packetlossrate_codes[j] \n",
    "            cond3 = feats_dist_class['jitterms']==jitterms_codes[k] \n",
    "            feats_cond_class = feats_dist_class.loc[cond1 & cond2 & cond3]\n",
    "\n",
    "            if feats_cond_class.shape[0] > 0:\n",
    "            \n",
    "                # scaling test features with the transformation learnt in training\n",
    "                dropcolumns=['name','spkID','distnum','packetlossrate','jitterms','distcode','gender','class']\n",
    "                feats_s_test = scaler.transform(feats_cond_class.drop(dropcolumns,axis=1)) \n",
    "\n",
    "                # test data. Features and labels\n",
    "                Xt = feats_s_test\n",
    "                yt = feats_cond_class['class'].astype('category').cat.codes\n",
    "\n",
    "                # predictions on the test set \n",
    "                # feat sel on Xt is performed by the classifier\n",
    "                yt_pred = trained_all[i_best][0].predict(Xt)\n",
    "\n",
    "                recallscore = recall_score(yt, yt_pred, average='macro')\n",
    "                \n",
    "                # create the output dataframe\n",
    "                d = {\n",
    "                    'degradation': dist_codes[i],\n",
    "                    'packetlossrate': packetlossrate_codes[j],\n",
    "                    'jitterms': jitterms_codes[k],\n",
    "                    'average per-class accuracy': round(float(recallscore),2),\n",
    "                }\n",
    "                res = pd.DataFrame(data = d, index=[0])\n",
    "\n",
    "                test_performance = test_performance.append(res, ignore_index=True)"
   ]
  },
  {
   "cell_type": "code",
   "execution_count": 35,
   "metadata": {
    "collapsed": true
   },
   "outputs": [],
   "source": [
    "test_performance['distortion']= test_performance[['packetlossrate', 'jitterms']].apply(lambda x: 'P'+x[0].zfill(2)+'J'+x[1].zfill(2), axis=1)\n",
    "\n",
    "test_performance.to_csv(r'.\\performance_channels\\cls_test_distortionsdegradations_'+tuning_all.loc[i_best,'classifiers_names']+'.csv', index=False)"
   ]
  },
  {
   "cell_type": "code",
   "execution_count": null,
   "metadata": {
    "collapsed": true
   },
   "outputs": [],
   "source": []
  },
  {
   "cell_type": "code",
   "execution_count": null,
   "metadata": {
    "collapsed": true
   },
   "outputs": [],
   "source": []
  },
  {
   "cell_type": "code",
   "execution_count": 2,
   "metadata": {
    "collapsed": true
   },
   "outputs": [],
   "source": [
    "test_performance = pd.read_csv(r'.\\performance_channels\\cls_test_distortionsdegradations_KNeighborsClassifier_clean.csv')"
   ]
  },
  {
   "cell_type": "code",
   "execution_count": 3,
   "metadata": {},
   "outputs": [
    {
     "data": {
      "text/plain": [
       "0    0.6\n",
       "Name: average per-class accuracy, dtype: float64"
      ]
     },
     "execution_count": 3,
     "metadata": {},
     "output_type": "execute_result"
    }
   ],
   "source": [
    "testacc_clean = test_performance.loc[test_performance['degradation']=='Clean','average per-class accuracy']\n",
    "testacc_clean"
   ]
  },
  {
   "cell_type": "code",
   "execution_count": 36,
   "metadata": {},
   "outputs": [],
   "source": [
    "test_performance['bandwidth']=test_performance['degradation'].str.slice(0,2)\n",
    "\n",
    "test_performance['codec'] = test_performance['degradation'].str.extract('(?<=B_)(.*?)(?=_)', expand=False)\n"
   ]
  },
  {
   "cell_type": "code",
   "execution_count": 39,
   "metadata": {},
   "outputs": [
    {
     "data": {
      "image/png": "[encoded data removed]",
      "text/plain": [
       "<matplotlib.figure.Figure at 0x264683f4400>"
      ]
     },
     "metadata": {},
     "output_type": "display_data"
    }
   ],
   "source": [
    "# visualize performance across NB degradations and distortions\n",
    "\n",
    "fig, ax = plt.subplots(figsize=[15, 8])\n",
    "\n",
    "# data to plot\n",
    "mdata = test_performance[test_performance['bandwidth']=='NB']\n",
    "mdata = mdata[mdata['jitterms']==0]\n",
    "ndegs = len(mdata['degradation'].unique())\n",
    "\n",
    "# pointplot\n",
    "myfig = sns.pointplot(\n",
    "    x='degradation', \n",
    "    y='average per-class accuracy',\n",
    "    hue='codec', # distortion\n",
    "    data=mdata\n",
    ") \n",
    "\n",
    "# add dashed line indicating test performance with clean data\n",
    "plt.plot(np.linspace(0,ndegs,1000), [testacc_clean]*1000, 'k--')\n",
    "plt.text(0, testacc_clean-0.005, 'Clean test data')\n",
    "        \n",
    "# rotate x axis and limit y axis\n",
    "for item in myfig.get_xticklabels():\n",
    "    item.set_rotation(90)\n",
    "plt.ylim(0.40, 0.65)\n",
    "    \n",
    "ax.legend_.remove()\n",
    "\n",
    "# filename = r'\\cls_test_distortionsdegradations_'+tuning_all.loc[i_best,'classifiers_names']+'_NB_J00ms.png'\n",
    "# myfig.get_figure().savefig(r'.\\figures' + filename, bbox_inches = 'tight')    "
   ]
  },
  {
   "cell_type": "code",
   "execution_count": 40,
   "metadata": {
    "scrolled": false
   },
   "outputs": [
    {
     "data": {
      "image/png": "[encoded data removed]",
      "text/plain": [
       "<matplotlib.figure.Figure at 0x26464fd8080>"
      ]
     },
     "metadata": {},
     "output_type": "display_data"
    }
   ],
   "source": [
    "# visualize performance across WB degradations and distortions\n",
    "\n",
    "fig, ax = plt.subplots(figsize=[15, 8])\n",
    "\n",
    "# data to plot\n",
    "mdata = test_performance[test_performance['bandwidth']=='WB']\n",
    "mdata = mdata[mdata['jitterms']==0]\n",
    "ndegs = len(mdata['degradation'].unique())\n",
    "\n",
    "# pointplot\n",
    "myfig = sns.pointplot(\n",
    "    x='degradation', \n",
    "    y='average per-class accuracy',\n",
    "    hue='codec', # distortion\n",
    "    data=mdata\n",
    ") \n",
    "\n",
    "# add dashed line indicating test performance with clean data\n",
    "plt.plot(np.linspace(0,ndegs,1000), [testacc_clean]*1000, 'k--')\n",
    "plt.text(0, testacc_clean-0.005, 'Clean test data')\n",
    "        \n",
    "# rotate x axis and limit y axis\n",
    "for item in myfig.get_xticklabels():\n",
    "    item.set_rotation(90)\n",
    "plt.ylim(0.40, 0.65)\n",
    "\n",
    "ax.legend_.remove()\n",
    "\n",
    "# filename = '\\cls_test_distortionsdegradations_'+tuning_all.loc[i_best,'classifiers_names']+'_WB_J00ms.png'\n",
    "# myfig.get_figure().savefig(r'.\\figures' + filename, bbox_inches = 'tight')  "
   ]
  },
  {
   "cell_type": "code",
   "execution_count": 41,
   "metadata": {},
   "outputs": [
    {
     "data": {
      "image/png": "[encoded data removed]",
      "text/plain": [
       "<matplotlib.figure.Figure at 0x26468ba9550>"
      ]
     },
     "metadata": {},
     "output_type": "display_data"
    }
   ],
   "source": [
    "# visualize performance across SWB degradations and distortions\n",
    "\n",
    "fig, ax = plt.subplots(figsize=[15, 8])\n",
    "\n",
    "# data to plot\n",
    "mdata = test_performance[test_performance['bandwidth']=='SW']\n",
    "mdata = mdata[mdata['jitterms']==0]\n",
    "ndegs = len(mdata['degradation'].unique())\n",
    "\n",
    "# pointplot\n",
    "myfig = sns.pointplot(\n",
    "    x='degradation', \n",
    "    y='average per-class accuracy',\n",
    "    hue='codec', # distortion\n",
    "    data=mdata\n",
    ") \n",
    "\n",
    "# add dashed line indicating test performance with clean data\n",
    "plt.plot(np.linspace(0,ndegs,1000), [testacc_clean]*1000, 'k--')\n",
    "plt.text(0, testacc_clean-0.005, 'Clean test data')\n",
    "\n",
    "# rotate x axis and limit y axis\n",
    "for item in myfig.get_xticklabels():\n",
    "    item.set_rotation(90)\n",
    "plt.ylim(0.40, 0.65)\n",
    "\n",
    "ax.legend_.remove()\n",
    "\n",
    "# filename = '\\cls_test_distortionsdegradations_'+tuning_all.loc[i_best,'classifiers_names']+'_SWB_J00ms.png'\n",
    "# myfig.get_figure().savefig(r'.\\figures' + filename, bbox_inches = 'tight')  "
   ]
  },
  {
   "cell_type": "markdown",
   "metadata": {},
   "source": [
    "In view of these plots, it seems that:\n",
    "\n",
    "* The performance with a hold-out of training data was 0.83 and it drops to 0.6 (clean data) for some reason.\n",
    "* The performance in NB is worse than that in WB and in SWB, which indicates the influence of transmission bandwidth.\n",
    "* Incresing bitrate seems to lead to better performance in NB, yet this was not observed in WB or SWB.\n",
    "* Only some WB conditions offer equal or better performance compared to that offered by clean test speech. \n",
    "* There is no clear tendency that higher packet loss rates affect the performance.\n"
   ]
  },
  {
   "cell_type": "markdown",
   "metadata": {
    "collapsed": true
   },
   "source": [
    "TODO:\n",
    "    \n",
    "* how to improve the clean performance of 0.60?     \n",
    "    * tune and test other classifiers\n",
    "    * different train/test configuration?\n",
    "* evaluate possible influence of jitter"
   ]
  },
  {
   "cell_type": "code",
   "execution_count": null,
   "metadata": {
    "collapsed": true
   },
   "outputs": [],
   "source": []
  },
  {
   "cell_type": "code",
   "execution_count": null,
   "metadata": {
    "collapsed": true
   },
   "outputs": [],
   "source": []
  },
  {
   "cell_type": "code",
   "execution_count": null,
   "metadata": {
    "collapsed": true
   },
   "outputs": [],
   "source": []
  },
  {
   "cell_type": "code",
   "execution_count": null,
   "metadata": {
    "collapsed": true
   },
   "outputs": [],
   "source": []
  }
 ],
 "metadata": {
  "kernelspec": {
   "display_name": "Python 3",
   "language": "python",
   "name": "python3"
  },
  "language_info": {
   "codemirror_mode": {
    "name": "ipython",
    "version": 3
   },
   "file_extension": ".py",
   "mimetype": "text/x-python",
   "name": "python",
   "nbconvert_exporter": "python",
   "pygments_lexer": "ipython3",
   "version": "3.6.3"
  }
 },
 "nbformat": 4,
 "nbformat_minor": 2
}
