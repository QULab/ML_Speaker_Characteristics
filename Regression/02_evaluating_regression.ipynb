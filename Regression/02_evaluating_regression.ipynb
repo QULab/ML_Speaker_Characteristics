{
 "cells": [
  {
   "cell_type": "markdown",
   "metadata": {},
   "source": [
    "## Evaluating regression techniques for speaker characterization - Part II\n",
    "### Laura Fernández Gallardo\n",
    "\n",
    "In this notebook, I will evaluate the performance of different regression techniques for characterizing the user, given the data explored in Part I."
   ]
  },
  {
   "cell_type": "markdown",
   "metadata": {},
   "source": [
    "\n"
   ]
  },
  {
   "cell_type": "code",
   "execution_count": null,
   "metadata": {
    "collapsed": true
   },
   "outputs": [],
   "source": [
    "from sklearn.preprocessing import StandardScaler"
   ]
  },
  {
   "cell_type": "code",
   "execution_count": null,
   "metadata": {
    "collapsed": true
   },
   "outputs": [],
   "source": [
    "# fix random seed for reproducibility\n",
    "seed = 2302\n",
    "np.random.seed(seed)"
   ]
  },
  {
   "cell_type": "code",
   "execution_count": null,
   "metadata": {
    "collapsed": true
   },
   "outputs": [],
   "source": [
    "# load speech features from male and from female speakers\n",
    "# feats_m = pd.read_csv(\"eGeMAPSv01a_88_malespk.csv\", sep = ',')\n",
    "# feats_f = pd.read_csv(\"eGeMAPSv01a_88_femalespk.csv\", sep = ',')"
   ]
  },
  {
   "cell_type": "code",
   "execution_count": null,
   "metadata": {
    "collapsed": true
   },
   "outputs": [],
   "source": []
  },
  {
   "cell_type": "markdown",
   "metadata": {
    "collapsed": true
   },
   "source": [
    "For features:\n",
    "\n",
    "* center and scale features of all data\n",
    "* join males and females and add 1-hot encoded gender feature\n",
    "* consider train/dev partitions (no test data, since we have too few instances)\n",
    "\n",
    "Within each fold of the cross-validation:\n",
    "\n",
    "* Center and scale ??\n",
    "* Feature selection looking at importance measures\n",
    "* Feature selection removing multicollinearity:\n",
    "\n",
    "    1. Performing PLS (partial least squares) \n",
    "    2. Performing PCA (principal component analysis)\n",
    "    3. Dropping features with high VIF (variance inflation factor) - to be calculated after train/dev/test "
   ]
  },
  {
   "cell_type": "code",
   "execution_count": null,
   "metadata": {
    "collapsed": true
   },
   "outputs": [],
   "source": [
    "feats_m.columns"
   ]
  },
  {
   "cell_type": "code",
   "execution_count": null,
   "metadata": {
    "collapsed": true
   },
   "outputs": [],
   "source": []
  },
  {
   "cell_type": "code",
   "execution_count": null,
   "metadata": {
    "collapsed": true
   },
   "outputs": [],
   "source": [
    "# Standardize features for each gender spearately\n",
    "\n",
    "# male speakers\n",
    "scaler_m = StandardScaler()\n",
    "scaler_m.fit(feats_m.iloc[:,1:])\n",
    "feats_m_scaled = scaler_m.transform(feats_m.iloc[:,1:]) # numpy 126x88\n",
    "\n",
    "# female speakers\n",
    "scaler_f = StandardScaler()\n",
    "scaler_f.fit(feats_f.iloc[:,1:])\n",
    "feats_f_scaled = scaler_f.transform(feats_f.iloc[:,1:]) # numpy 174x88"
   ]
  },
  {
   "cell_type": "code",
   "execution_count": null,
   "metadata": {
    "collapsed": true
   },
   "outputs": [],
   "source": []
  },
  {
   "cell_type": "code",
   "execution_count": null,
   "metadata": {
    "collapsed": true
   },
   "outputs": [],
   "source": []
  },
  {
   "cell_type": "code",
   "execution_count": null,
   "metadata": {
    "collapsed": true
   },
   "outputs": [],
   "source": []
  },
  {
   "cell_type": "code",
   "execution_count": null,
   "metadata": {
    "collapsed": true
   },
   "outputs": [],
   "source": []
  },
  {
   "cell_type": "code",
   "execution_count": null,
   "metadata": {
    "collapsed": true
   },
   "outputs": [],
   "source": []
  },
  {
   "cell_type": "code",
   "execution_count": null,
   "metadata": {
    "collapsed": true
   },
   "outputs": [],
   "source": []
  }
 ],
 "metadata": {
  "kernelspec": {
   "display_name": "Python 3",
   "language": "python",
   "name": "python3"
  },
  "language_info": {
   "codemirror_mode": {
    "name": "ipython",
    "version": 3
   },
   "file_extension": ".py",
   "mimetype": "text/x-python",
   "name": "python",
   "nbconvert_exporter": "python",
   "pygments_lexer": "ipython3",
   "version": "3.6.3"
  }
 },
 "nbformat": 4,
 "nbformat_minor": 2
}
