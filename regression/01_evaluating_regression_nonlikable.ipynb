{
 "cells": [
  {
   "cell_type": "markdown",
   "metadata": {},
   "source": [
    "## Evaluating regression techniques for speaker characterization\n",
    "### Laura Fernández Gallardo\n",
    "\n",
    "In this notebook, I will only only concentrate on the 'non_likable' speaker characteristic (ratings from 0 to 100 given to this item of the questionnaire)."
   ]
  },
  {
   "cell_type": "code",
   "execution_count": 1,
   "metadata": {
    "collapsed": true
   },
   "outputs": [],
   "source": [
    "import io\n",
    "import requests\n",
    "import time # for timestamps\n",
    "\n",
    "import numpy as np\n",
    "import pandas as pd\n",
    "from ast import literal_eval # parsing hp after tuner\n",
    "\n",
    "from reg_tuning import * # my helper functions\n",
    "\n",
    "from sklearn.preprocessing import StandardScaler\n",
    "from sklearn.model_selection import train_test_split\n",
    "\n",
    "import matplotlib.pyplot as plt\n",
    "import seaborn as sns\n",
    "\n",
    "%matplotlib inline"
   ]
  },
  {
   "cell_type": "code",
   "execution_count": 2,
   "metadata": {
    "collapsed": true
   },
   "outputs": [],
   "source": [
    "# fix random seed for reproducibility\n",
    "seed = 2302\n",
    "np.random.seed(seed)"
   ]
  },
  {
   "cell_type": "markdown",
   "metadata": {},
   "source": [
    "## Load features and labels"
   ]
  },
  {
   "cell_type": "code",
   "execution_count": 3,
   "metadata": {
    "collapsed": true
   },
   "outputs": [],
   "source": [
    "path = 'https://raw.githubusercontent.com/laufergall/ML_Speaker_Characteristics/master/data/generated_data/'\n",
    "\n",
    "url = path + \"feats_ratings_scores_train.csv\"\n",
    "s = requests.get(url).content\n",
    "feats_ratings_scores_train = pd.read_csv(io.StringIO(s.decode('utf-8')))\n",
    "\n",
    "url = path + \"feats_ratings_scores_test.csv\"\n",
    "s = requests.get(url).content\n",
    "feats_ratings_scores_test = pd.read_csv(io.StringIO(s.decode('utf-8')))"
   ]
  },
  {
   "cell_type": "code",
   "execution_count": 73,
   "metadata": {},
   "outputs": [],
   "source": [
    "with open(r'..\\data\\generated_data\\feats_names.txt') as f:\n",
    "    feats_names = f.readlines()\n",
    "feats_names = [x.strip().strip('\\'') for x in feats_names] \n",
    "\n",
    "with open(r'..\\data\\generated_data\\items_names.txt') as f:\n",
    "    items_names = f.readlines()\n",
    "items_names = [x.strip().strip('\\'') for x in items_names] \n",
    "\n",
    "with open(r'..\\data\\generated_data\\traits_names.txt') as f:\n",
    "    traits_names = f.readlines()\n",
    "traits_names = [x.strip().strip('\\'') for x in traits_names] "
   ]
  },
  {
   "cell_type": "markdown",
   "metadata": {},
   "source": [
    "## Model tuning with feature selection\n",
    "\n",
    "As done for classification, I perform nested hyperparameter tuning with feature selection.\n",
    "\n",
    "* Feature selection: SelectKBest(f_regression), tuning k\n",
    "* RandomizedSearchCV on hyperparameters with uniform distribution, instead of grid search\n",
    "* metric: neg_mean_squared_error\n"
   ]
  },
  {
   "cell_type": "code",
   "execution_count": null,
   "metadata": {
    "collapsed": true
   },
   "outputs": [],
   "source": [
    "# Standardize speech features  \n",
    "\n",
    "dropcolumns = ['name','spkID','speaker_gender'] + items_names + traits_names\n",
    "\n",
    "# learn transformation on training data\n",
    "scaler = StandardScaler()\n",
    "scaler.fit(feats_ratings_scores_train.drop(dropcolumns, axis=1))\n",
    "\n",
    "# numpy n_instances x n_feats\n",
    "feats_s_train = scaler.transform(feats_ratings_scores_train.drop(dropcolumns, axis=1))\n",
    "feats_s_test = scaler.transform(feats_ratings_scores_test.drop(dropcolumns, axis=1)) "
   ]
  },
  {
   "cell_type": "code",
   "execution_count": 8,
   "metadata": {
    "collapsed": true
   },
   "outputs": [],
   "source": [
    "# select a trait\n",
    "# perform this on a loop later\n",
    "target_trait = items_names[0]"
   ]
  },
  {
   "cell_type": "code",
   "execution_count": null,
   "metadata": {
    "collapsed": true
   },
   "outputs": [],
   "source": [
    "X = feats_s_train # (2700, 88)\n",
    "y = feats_ratings_scores_train[target_trait].as_matrix() # (2700,)\n",
    "\n",
    "Xt = feats_s_test # (891, 88)\n",
    "yt = feats_ratings_scores_test[target_trait].as_matrix() # (891,)\n",
    "\n",
    "# split train data into 80% and 20% subsets - with balance in gender\n",
    "# give subset A to the inner hyperparameter tuner\n",
    "# and hold out subset B for meta-evaluation\n",
    "AX, BX, Ay, By = train_test_split(X, y, test_size=0.20, stratify = feats_ratings_scores_train['speaker_gender'], random_state=2302)\n",
    "\n",
    "print('Number of instances in A (hyperparameter tuning):',AX.shape[0])\n",
    "print('Number of instances in B (meta-evaluation):',BX.shape[0])\n"
   ]
  },
  {
   "cell_type": "code",
   "execution_count": 10,
   "metadata": {
    "collapsed": true
   },
   "outputs": [],
   "source": [
    "# save splits\n",
    "\n",
    "# train/test partitions, features and labels\n",
    "np.save(r'.\\data_while_tuning\\X_' + target_trait + '.npy', X)\n",
    "np.save(r'.\\data_while_tuning\\y_' + target_trait + '.npy', y)\n",
    "np.save(r'.\\data_while_tuning\\Xt_' + target_trait + '.npy', Xt)\n",
    "np.save(r'.\\data_while_tuning\\yt_' + target_trait + '.npy', yt)\n",
    "\n",
    "# # A/B splits, features and labels\n",
    "np.save(r'.\\data_while_tuning\\AX_' + target_trait + '.npy', AX)\n",
    "np.save(r'.\\data_while_tuning\\BX_' + target_trait + '.npy', BX)\n",
    "np.save(r'.\\data_while_tuning\\Ay_' + target_trait + '.npy', Ay)\n",
    "np.save(r'.\\data_while_tuning\\By_' + target_trait + '.npy', By)"
   ]
  },
  {
   "cell_type": "code",
   "execution_count": 3,
   "metadata": {
    "collapsed": true
   },
   "outputs": [],
   "source": [
    "# dataframe with results from hp tuner to be appended\n",
    "tuning_all = pd.DataFrame()\n",
    "\n",
    "# list with tuned classifiers trained on training data, to be appended\n",
    "trained_all = []"
   ]
  },
  {
   "cell_type": "markdown",
   "metadata": {},
   "source": [
    "### Calling hp_tuner() for each target and each regressor"
   ]
  },
  {
   "cell_type": "markdown",
   "metadata": {},
   "source": [
    "** Recover ** when new ipynb session started.\n",
    "\n",
    "(Workaround for working with hyperparameter tuning during several days)"
   ]
  },
  {
   "cell_type": "code",
   "execution_count": 3,
   "metadata": {
    "collapsed": true
   },
   "outputs": [],
   "source": [
    "# original features and ratings\n",
    "\n",
    "path = 'https://raw.githubusercontent.com/laufergall/ML_Speaker_Characteristics/master/data/generated_data/'\n",
    "\n",
    "url = path + \"feats_ratings_scores_train.csv\"\n",
    "s = requests.get(url).content\n",
    "feats_ratings_scores_train = pd.read_csv(io.StringIO(s.decode('utf-8')))\n",
    "\n",
    "url = path + \"feats_ratings_scores_test.csv\"\n",
    "s = requests.get(url).content\n",
    "feats_ratings_scores_test = pd.read_csv(io.StringIO(s.decode('utf-8')))\n",
    "\n",
    "with open(r'..\\data\\generated_data\\feats_names.txt') as f:\n",
    "    feats_names = f.readlines()\n",
    "feats_names = [x.strip().strip('\\'') for x in feats_names] \n",
    "\n",
    "with open(r'..\\data\\generated_data\\items_names.txt') as f:\n",
    "    items_names = f.readlines()\n",
    "items_names = [x.strip().strip('\\'') for x in items_names] \n",
    "\n",
    "with open(r'..\\data\\generated_data\\traits_names.txt') as f:\n",
    "    traits_names = f.readlines()\n",
    "traits_names = [x.strip().strip('\\'') for x in traits_names] \n"
   ]
  },
  {
   "cell_type": "code",
   "execution_count": 4,
   "metadata": {
    "collapsed": true
   },
   "outputs": [],
   "source": [
    "# select a trait\n",
    "# perform this on a loop later\n",
    "target_trait = items_names[0]\n",
    "\n",
    "# train/test partitions, features and labels\n",
    "X = np.load(r'.\\data_while_tuning\\X_' + target_trait + '.npy')\n",
    "y = np.load(r'.\\data_while_tuning\\y_' + target_trait + '.npy')\n",
    "Xt = np.load(r'.\\data_while_tuning\\Xt_' + target_trait + '.npy')\n",
    "yt = np.load(r'.\\data_while_tuning\\yt_' + target_trait + '.npy')\n",
    "\n",
    "# A/B splits, features and labels\n",
    "AX = np.load(r'.\\data_while_tuning\\AX_' + target_trait + '.npy')\n",
    "BX = np.load(r'.\\data_while_tuning\\BX_' + target_trait + '.npy')\n",
    "Ay = np.load(r'.\\data_while_tuning\\Ay_' + target_trait + '.npy')\n",
    "By = np.load(r'.\\data_while_tuning\\By_' + target_trait + '.npy')"
   ]
  },
  {
   "cell_type": "code",
   "execution_count": 5,
   "metadata": {},
   "outputs": [],
   "source": [
    "# Loading outpus of hp tuning from disk\n",
    "tuning_all, trained_all = load_tuning(target_trait)"
   ]
  },
  {
   "cell_type": "markdown",
   "metadata": {},
   "source": [
    "Call this after each experiment **to recover later**: "
   ]
  },
  {
   "cell_type": "code",
   "execution_count": 13,
   "metadata": {
    "collapsed": true
   },
   "outputs": [],
   "source": [
    "# save tuning_all (.csv) and trained_all (nameregressor.sav)\n",
    "save_tuning(tuning_all, trained_all, target_trait)"
   ]
  },
  {
   "cell_type": "markdown",
   "metadata": {},
   "source": [
    "#### Linear regression\n",
    "\n",
    "*class sklearn.linear_model.LinearRegression(fit_intercept=True, normalize=False, copy_X=True, n_jobs=1)*\n",
    "\n",
    "Check performance with linear regression just as baseline.\n",
    "\n",
    "(Need to improve this by removing feature collinearity first)"
   ]
  },
  {
   "cell_type": "code",
   "execution_count": 7,
   "metadata": {
    "scrolled": true
   },
   "outputs": [
    {
     "name": "stdout",
     "output_type": "stream",
     "text": [
      "'LinearRegression' -> Best cross-val score on A set: -78.224839 using {'selecter__k': 87}\n",
      "'LinearRegression' -> Selected features:\n",
      "[[\"'F0semitoneFrom27.5Hz_sma3nz_amean'\"], [\"'F0semitoneFrom27.5Hz_sma3nz_stddevNorm'\"], [\"'F0semitoneFrom27.5Hz_sma3nz_percentile20.0'\"], [\"'F0semitoneFrom27.5Hz_sma3nz_percentile50.0'\"], [\"'F0semitoneFrom27.5Hz_sma3nz_percentile80.0'\"], [\"'F0semitoneFrom27.5Hz_sma3nz_pctlrange0-2'\"], [\"'F0semitoneFrom27.5Hz_sma3nz_meanRisingSlope'\"], [\"'F0semitoneFrom27.5Hz_sma3nz_stddevRisingSlope'\"], [\"'F0semitoneFrom27.5Hz_sma3nz_meanFallingSlope'\"], [\"'F0semitoneFrom27.5Hz_sma3nz_stddevFallingSlope'\"], [\"'loudness_sma3_amean'\"], [\"'loudness_sma3_stddevNorm'\"], [\"'loudness_sma3_percentile20.0'\"], [\"'loudness_sma3_percentile50.0'\"], [\"'loudness_sma3_percentile80.0'\"], [\"'loudness_sma3_pctlrange0-2'\"], [\"'loudness_sma3_meanRisingSlope'\"], [\"'loudness_sma3_stddevRisingSlope'\"], [\"'loudness_sma3_meanFallingSlope'\"], [\"'loudness_sma3_stddevFallingSlope'\"], [\"'spectralFlux_sma3_amean'\"], [\"'spectralFlux_sma3_stddevNorm'\"], [\"'mfcc1_sma3_amean'\"], [\"'mfcc1_sma3_stddevNorm'\"], [\"'mfcc2_sma3_amean'\"], [\"'mfcc2_sma3_stddevNorm'\"], [\"'mfcc3_sma3_amean'\"], [\"'mfcc3_sma3_stddevNorm'\"], [\"'mfcc4_sma3_amean'\"], [\"'mfcc4_sma3_stddevNorm'\"], [\"'jitterLocal_sma3nz_amean'\"], [\"'jitterLocal_sma3nz_stddevNorm'\"], [\"'shimmerLocaldB_sma3nz_amean'\"], [\"'shimmerLocaldB_sma3nz_stddevNorm'\"], [\"'HNRdBACF_sma3nz_amean'\"], [\"'HNRdBACF_sma3nz_stddevNorm'\"], [\"'logRelF0-H1-H2_sma3nz_amean'\"], [\"'logRelF0-H1-H2_sma3nz_stddevNorm'\"], [\"'logRelF0-H1-A3_sma3nz_amean'\"], [\"'logRelF0-H1-A3_sma3nz_stddevNorm'\"], [\"'F1frequency_sma3nz_amean'\"], [\"'F1frequency_sma3nz_stddevNorm'\"], [\"'F1bandwidth_sma3nz_amean'\"], [\"'F1bandwidth_sma3nz_stddevNorm'\"], [\"'F1amplitudeLogRelF0_sma3nz_amean'\"], [\"'F1amplitudeLogRelF0_sma3nz_stddevNorm'\"], [\"'F2frequency_sma3nz_amean'\"], [\"'F2frequency_sma3nz_stddevNorm'\"], [\"'F2bandwidth_sma3nz_amean'\"], [\"'F2bandwidth_sma3nz_stddevNorm'\"], [\"'F2amplitudeLogRelF0_sma3nz_amean'\"], [\"'F2amplitudeLogRelF0_sma3nz_stddevNorm'\"], [\"'F3frequency_sma3nz_amean'\"], [\"'F3frequency_sma3nz_stddevNorm'\"], [\"'F3bandwidth_sma3nz_amean'\"], [\"'F3bandwidth_sma3nz_stddevNorm'\"], [\"'F3amplitudeLogRelF0_sma3nz_amean'\"], [\"'F3amplitudeLogRelF0_sma3nz_stddevNorm'\"], [\"'alphaRatioV_sma3nz_amean'\"], [\"'alphaRatioV_sma3nz_stddevNorm'\"], [\"'hammarbergIndexV_sma3nz_amean'\"], [\"'hammarbergIndexV_sma3nz_stddevNorm'\"], [\"'slopeV0-500_sma3nz_amean'\"], [\"'slopeV0-500_sma3nz_stddevNorm'\"], [\"'slopeV500-1500_sma3nz_amean'\"], [\"'slopeV500-1500_sma3nz_stddevNorm'\"], [\"'spectralFluxV_sma3nz_amean'\"], [\"'spectralFluxV_sma3nz_stddevNorm'\"], [\"'mfcc1V_sma3nz_amean'\"], [\"'mfcc1V_sma3nz_stddevNorm'\"], [\"'mfcc2V_sma3nz_stddevNorm'\"], [\"'mfcc3V_sma3nz_amean'\"], [\"'mfcc3V_sma3nz_stddevNorm'\"], [\"'mfcc4V_sma3nz_amean'\"], [\"'mfcc4V_sma3nz_stddevNorm'\"], [\"'alphaRatioUV_sma3nz_amean'\"], [\"'hammarbergIndexUV_sma3nz_amean'\"], [\"'slopeUV0-500_sma3nz_amean'\"], [\"'slopeUV500-1500_sma3nz_amean'\"], [\"'spectralFluxUV_sma3nz_amean'\"], [\"'loudnessPeaksPerSec'\"], [\"'VoicedSegmentsPerSec'\"], [\"'MeanVoicedSegmentLengthSec'\"], [\"'StddevVoicedSegmentLengthSec'\"], [\"'MeanUnvoicedSegmentLength'\"], [\"'StddevUnvoicedSegmentLength'\"], [\"'equivalentSoundLevel_dBp'\"]]\n",
      "'LinearRegression' -> root mean_squared_error on B set: 9.146486\n",
      "\n"
     ]
    }
   ],
   "source": [
    "from sklearn.linear_model import LinearRegression\n",
    "\n",
    "\"\"\"\n",
    "Linear Regression\n",
    "\"\"\"\n",
    "def get_LinearRegression2tune():\n",
    "\n",
    "    model = LinearRegression()\n",
    "    hp = dict()\n",
    "    return 'LinearRegression', model, hp\n",
    "\n",
    "# Hyperparameter tuning with this model\n",
    "tuning, trained = hp_tuner(AX, BX, Ay, By, \n",
    "                           [get_LinearRegression2tune], \n",
    "                           target_trait,\n",
    "                           feats_names,\n",
    "                           np.arange(1, AX.shape[1]), \n",
    "                           'grid')\n",
    "\n",
    "# update lists of tuning info and trained regressors\n",
    "tuning_all = tuning_all.append(tuning, ignore_index=True)\n",
    "trained_all.append(trained)"
   ]
  },
  {
   "cell_type": "markdown",
   "metadata": {},
   "source": [
    "#### ElasticNet Regression\n",
    "\n",
    "*class sklearn.linear_model.ElasticNet(alpha=1.0, l1_ratio=0.5, fit_intercept=True, normalize=False, precompute=False, max_iter=1000, copy_X=True, tol=0.0001, warm_start=False, positive=False, random_state=None, selection=’cyclic’)*\n",
    "\n",
    "Combines the properties of both Ridge Regression and LASSO regression."
   ]
  },
  {
   "cell_type": "code",
   "execution_count": 8,
   "metadata": {
    "scrolled": true
   },
   "outputs": [
    {
     "name": "stdout",
     "output_type": "stream",
     "text": [
      "'ElasticNet' -> Best cross-val score on A set: -91.034971 using {'selecter__k': 68}\n",
      "'ElasticNet' -> Selected features:\n",
      "[[\"'F0semitoneFrom27.5Hz_sma3nz_stddevNorm'\"], [\"'F0semitoneFrom27.5Hz_sma3nz_percentile20.0'\"], [\"'F0semitoneFrom27.5Hz_sma3nz_percentile80.0'\"], [\"'F0semitoneFrom27.5Hz_sma3nz_pctlrange0-2'\"], [\"'F0semitoneFrom27.5Hz_sma3nz_meanRisingSlope'\"], [\"'F0semitoneFrom27.5Hz_sma3nz_stddevRisingSlope'\"], [\"'F0semitoneFrom27.5Hz_sma3nz_meanFallingSlope'\"], [\"'F0semitoneFrom27.5Hz_sma3nz_stddevFallingSlope'\"], [\"'loudness_sma3_amean'\"], [\"'loudness_sma3_stddevNorm'\"], [\"'loudness_sma3_percentile20.0'\"], [\"'loudness_sma3_percentile50.0'\"], [\"'loudness_sma3_meanRisingSlope'\"], [\"'loudness_sma3_stddevRisingSlope'\"], [\"'loudness_sma3_meanFallingSlope'\"], [\"'loudness_sma3_stddevFallingSlope'\"], [\"'spectralFlux_sma3_amean'\"], [\"'mfcc1_sma3_amean'\"], [\"'mfcc1_sma3_stddevNorm'\"], [\"'mfcc3_sma3_amean'\"], [\"'mfcc3_sma3_stddevNorm'\"], [\"'mfcc4_sma3_amean'\"], [\"'mfcc4_sma3_stddevNorm'\"], [\"'jitterLocal_sma3nz_amean'\"], [\"'jitterLocal_sma3nz_stddevNorm'\"], [\"'shimmerLocaldB_sma3nz_amean'\"], [\"'shimmerLocaldB_sma3nz_stddevNorm'\"], [\"'HNRdBACF_sma3nz_amean'\"], [\"'HNRdBACF_sma3nz_stddevNorm'\"], [\"'logRelF0-H1-H2_sma3nz_amean'\"], [\"'logRelF0-H1-A3_sma3nz_amean'\"], [\"'logRelF0-H1-A3_sma3nz_stddevNorm'\"], [\"'F1frequency_sma3nz_amean'\"], [\"'F1frequency_sma3nz_stddevNorm'\"], [\"'F1bandwidth_sma3nz_amean'\"], [\"'F1bandwidth_sma3nz_stddevNorm'\"], [\"'F1amplitudeLogRelF0_sma3nz_amean'\"], [\"'F1amplitudeLogRelF0_sma3nz_stddevNorm'\"], [\"'F2frequency_sma3nz_amean'\"], [\"'F2bandwidth_sma3nz_stddevNorm'\"], [\"'F2amplitudeLogRelF0_sma3nz_stddevNorm'\"], [\"'F3frequency_sma3nz_amean'\"], [\"'F3frequency_sma3nz_stddevNorm'\"], [\"'F3bandwidth_sma3nz_amean'\"], [\"'F3bandwidth_sma3nz_stddevNorm'\"], [\"'alphaRatioV_sma3nz_stddevNorm'\"], [\"'hammarbergIndexV_sma3nz_amean'\"], [\"'hammarbergIndexV_sma3nz_stddevNorm'\"], [\"'slopeV0-500_sma3nz_amean'\"], [\"'slopeV0-500_sma3nz_stddevNorm'\"], [\"'slopeV500-1500_sma3nz_amean'\"], [\"'spectralFluxV_sma3nz_amean'\"], [\"'spectralFluxV_sma3nz_stddevNorm'\"], [\"'mfcc1V_sma3nz_amean'\"], [\"'mfcc1V_sma3nz_stddevNorm'\"], [\"'mfcc3V_sma3nz_amean'\"], [\"'mfcc4V_sma3nz_amean'\"], [\"'alphaRatioUV_sma3nz_amean'\"], [\"'hammarbergIndexUV_sma3nz_amean'\"], [\"'slopeUV0-500_sma3nz_amean'\"], [\"'spectralFluxUV_sma3nz_amean'\"], [\"'loudnessPeaksPerSec'\"], [\"'VoicedSegmentsPerSec'\"], [\"'MeanVoicedSegmentLengthSec'\"], [\"'StddevVoicedSegmentLengthSec'\"], [\"'MeanUnvoicedSegmentLength'\"], [\"'StddevUnvoicedSegmentLength'\"], [\"'equivalentSoundLevel_dBp'\"]]\n",
      "'ElasticNet' -> root mean_squared_error on B set: 9.060913\n",
      "\n"
     ]
    }
   ],
   "source": [
    "from sklearn.linear_model import ElasticNet\n",
    "\n",
    "\"\"\"\n",
    "ElasticNet Regression\n",
    "\"\"\"\n",
    "def get_ElasticNet2tune():\n",
    "\n",
    "    model = ElasticNet()\n",
    "    hp = dict()\n",
    "    return 'ElasticNet', model, hp\n",
    "\n",
    "# Hyperparameter tuning with this model\n",
    "tuning, trained = hp_tuner(AX, BX, Ay, By, \n",
    "                           [get_ElasticNet2tune], \n",
    "                           target_trait,\n",
    "                           feats_names,\n",
    "                           np.arange(1, AX.shape[1]), \n",
    "                           'grid')\n",
    "\n",
    "# update lists of tuning info and trained regressors\n",
    "tuning_all = tuning_all.append(tuning, ignore_index=True)\n",
    "trained_all.append(trained)"
   ]
  },
  {
   "cell_type": "markdown",
   "metadata": {},
   "source": [
    "#### K Nearest Neighbors\n",
    "\n",
    "*class sklearn.neighbors.KNeighborsRegressor(n_neighbors=5, weights=’uniform’, algorithm=’auto’, leaf_size=30, p=2, metric=’minkowski’, metric_params=None, n_jobs=1, **kwargs)*\n",
    "\n",
    "Tuning number of neighbors."
   ]
  },
  {
   "cell_type": "code",
   "execution_count": 9,
   "metadata": {
    "scrolled": true
   },
   "outputs": [
    {
     "name": "stdout",
     "output_type": "stream",
     "text": [
      "'KNeighborsRegressor' -> Best cross-val score on A set: -49.896760 using {'selecter__k': 61, 'regressor__weights': 'distance', 'regressor__n_neighbors': 4, 'regressor__algorithm': 'brute'}\n",
      "'KNeighborsRegressor' -> Selected features:\n",
      "[[\"'F0semitoneFrom27.5Hz_sma3nz_stddevNorm'\"], [\"'F0semitoneFrom27.5Hz_sma3nz_percentile20.0'\"], [\"'F0semitoneFrom27.5Hz_sma3nz_percentile80.0'\"], [\"'F0semitoneFrom27.5Hz_sma3nz_pctlrange0-2'\"], [\"'F0semitoneFrom27.5Hz_sma3nz_meanRisingSlope'\"], [\"'F0semitoneFrom27.5Hz_sma3nz_meanFallingSlope'\"], [\"'F0semitoneFrom27.5Hz_sma3nz_stddevFallingSlope'\"], [\"'loudness_sma3_amean'\"], [\"'loudness_sma3_stddevNorm'\"], [\"'loudness_sma3_percentile20.0'\"], [\"'loudness_sma3_percentile50.0'\"], [\"'loudness_sma3_meanRisingSlope'\"], [\"'loudness_sma3_stddevRisingSlope'\"], [\"'loudness_sma3_meanFallingSlope'\"], [\"'loudness_sma3_stddevFallingSlope'\"], [\"'spectralFlux_sma3_amean'\"], [\"'mfcc1_sma3_stddevNorm'\"], [\"'mfcc3_sma3_amean'\"], [\"'mfcc3_sma3_stddevNorm'\"], [\"'mfcc4_sma3_amean'\"], [\"'mfcc4_sma3_stddevNorm'\"], [\"'jitterLocal_sma3nz_amean'\"], [\"'jitterLocal_sma3nz_stddevNorm'\"], [\"'shimmerLocaldB_sma3nz_amean'\"], [\"'shimmerLocaldB_sma3nz_stddevNorm'\"], [\"'HNRdBACF_sma3nz_amean'\"], [\"'HNRdBACF_sma3nz_stddevNorm'\"], [\"'logRelF0-H1-H2_sma3nz_amean'\"], [\"'logRelF0-H1-A3_sma3nz_amean'\"], [\"'logRelF0-H1-A3_sma3nz_stddevNorm'\"], [\"'F1frequency_sma3nz_amean'\"], [\"'F1frequency_sma3nz_stddevNorm'\"], [\"'F1bandwidth_sma3nz_amean'\"], [\"'F1bandwidth_sma3nz_stddevNorm'\"], [\"'F1amplitudeLogRelF0_sma3nz_amean'\"], [\"'F2frequency_sma3nz_amean'\"], [\"'F2bandwidth_sma3nz_stddevNorm'\"], [\"'F3frequency_sma3nz_amean'\"], [\"'F3frequency_sma3nz_stddevNorm'\"], [\"'F3bandwidth_sma3nz_amean'\"], [\"'hammarbergIndexV_sma3nz_amean'\"], [\"'hammarbergIndexV_sma3nz_stddevNorm'\"], [\"'slopeV0-500_sma3nz_amean'\"], [\"'slopeV0-500_sma3nz_stddevNorm'\"], [\"'slopeV500-1500_sma3nz_amean'\"], [\"'spectralFluxV_sma3nz_amean'\"], [\"'spectralFluxV_sma3nz_stddevNorm'\"], [\"'mfcc1V_sma3nz_amean'\"], [\"'mfcc1V_sma3nz_stddevNorm'\"], [\"'mfcc3V_sma3nz_amean'\"], [\"'mfcc4V_sma3nz_amean'\"], [\"'alphaRatioUV_sma3nz_amean'\"], [\"'hammarbergIndexUV_sma3nz_amean'\"], [\"'slopeUV0-500_sma3nz_amean'\"], [\"'spectralFluxUV_sma3nz_amean'\"], [\"'loudnessPeaksPerSec'\"], [\"'VoicedSegmentsPerSec'\"], [\"'MeanVoicedSegmentLengthSec'\"], [\"'MeanUnvoicedSegmentLength'\"], [\"'StddevUnvoicedSegmentLength'\"], [\"'equivalentSoundLevel_dBp'\"]]\n",
      "'KNeighborsRegressor' -> root mean_squared_error on B set: 6.334999\n",
      "\n"
     ]
    }
   ],
   "source": [
    "from sklearn.neighbors import KNeighborsRegressor\n",
    "\n",
    "\"\"\"\n",
    "K Nearest Neighbors\n",
    "\"\"\"\n",
    "def get_KNeighborsRegressor2tune():\n",
    "\n",
    "    model = KNeighborsRegressor()\n",
    "    hp = dict(\n",
    "        regressor__n_neighbors = list(range(1,40)),\n",
    "        regressor__weights = ['uniform','distance'],\n",
    "        regressor__algorithm = ['auto', 'ball_tree', 'kd_tree', 'brute']\n",
    "    )\n",
    "    return 'KNeighborsRegressor', model, hp\n",
    "\n",
    "# Hyperparameter tuning with this model\n",
    "tuning, trained = hp_tuner(AX, BX, Ay, By, \n",
    "                           [get_KNeighborsRegressor2tune], \n",
    "                           target_trait,\n",
    "                           feats_names,\n",
    "                           np.arange(1, AX.shape[1]), \n",
    "                           'random',\n",
    "                           n_iter=10\n",
    "                          )\n",
    "\n",
    "# update lists of tuning info and trained regressors\n",
    "tuning_all = tuning_all.append(tuning, ignore_index=True)\n",
    "trained_all.append(trained)"
   ]
  },
  {
   "cell_type": "code",
   "execution_count": 12,
   "metadata": {
    "scrolled": true
   },
   "outputs": [
    {
     "name": "stdout",
     "output_type": "stream",
     "text": [
      "  regressor__algorithm regressor__n_neighbors regressor__weights selecter__k\n",
      "0              kd_tree                      7           distance          81\n",
      "1            ball_tree                     16            uniform          23\n",
      "2                 auto                     10           distance          56\n",
      "3                 auto                     35           distance          73\n",
      "4                brute                     10            uniform          74\n"
     ]
    },
    {
     "data": {
      "text/plain": [
       "<matplotlib.axes._subplots.AxesSubplot at 0x21d609d9908>"
      ]
     },
     "execution_count": 12,
     "metadata": {},
     "output_type": "execute_result"
    },
    {
     "data": {
      "image/png": "[encoded data removed]",
      "text/plain": [
       "<matplotlib.figure.Figure at 0x21d609ca630>"
      ]
     },
     "metadata": {},
     "output_type": "display_data"
    }
   ],
   "source": [
    "# open generated file with results of fitting GridSearchCV\n",
    "\n",
    "sgrid = pd.read_csv(r'.\\data_while_tuning\\KNeighborsRegressor_'+target_trait+'_tuning.csv')\n",
    "\n",
    "# params to dataframe\n",
    "params_dict = sgrid['params'].apply(lambda x: literal_eval(x) ).to_dict()\n",
    "params_df = pd.DataFrame(data = params_dict).transpose()\n",
    "print(params_df.head())\n",
    "\n",
    "# plot acc vs. params\n",
    "params_df = params_df.loc[params_df['regressor__n_neighbors']<10,:] # selecting only lower k\n",
    "sns.pointplot(x='selecter__k', y='mean_acc_A',hue='regressor__n_neighbors', data=sgrid.join(params_df)) "
   ]
  },
  {
   "cell_type": "code",
   "execution_count": 13,
   "metadata": {},
   "outputs": [
    {
     "data": {
      "text/plain": [
       "<matplotlib.axes._subplots.AxesSubplot at 0x21d60a5cef0>"
      ]
     },
     "execution_count": 13,
     "metadata": {},
     "output_type": "execute_result"
    },
    {
     "data": {
      "image/png": "[encoded data removed]",
      "text/plain": [
       "<matplotlib.figure.Figure at 0x21d5a4c92e8>"
      ]
     },
     "metadata": {},
     "output_type": "display_data"
    }
   ],
   "source": [
    "# plot acc vs. params\n",
    "params_df = params_df.loc[params_df['regressor__n_neighbors']<10,:] # selecting only lower k\n",
    "sns.pointplot(x='selecter__k', y='mean_acc_A',hue='regressor__algorithm', data=sgrid.join(params_df)) "
   ]
  },
  {
   "cell_type": "code",
   "execution_count": 14,
   "metadata": {},
   "outputs": [
    {
     "data": {
      "text/plain": [
       "<matplotlib.axes._subplots.AxesSubplot at 0x21d60a62518>"
      ]
     },
     "execution_count": 14,
     "metadata": {},
     "output_type": "execute_result"
    },
    {
     "data": {
      "image/png": "[encoded data removed]",
      "text/plain": [
       "<matplotlib.figure.Figure at 0x21d60792978>"
      ]
     },
     "metadata": {},
     "output_type": "display_data"
    }
   ],
   "source": [
    "# plot acc vs. params\n",
    "params_df = params_df.loc[params_df['regressor__n_neighbors']<10,:] # selecting only lower k\n",
    "sns.pointplot(x='selecter__k', y='mean_acc_A',hue='regressor__weights', data=sgrid.join(params_df)) "
   ]
  },
  {
   "cell_type": "markdown",
   "metadata": {
    "collapsed": true
   },
   "source": [
    "From this quick random search, we can see that this is contributing to the error to be lower:\n",
    "\n",
    "* regressor__algorithm: 'brute' and 'ball_tree' seem to be fine with k>44. Let us stick to 'brute'\n",
    "* regressor__n_neighbors: 4 or 5 neighbors\n",
    "* regressor__weights: 'distance' seems to be fine with k>44\n",
    "* selecter__k: k >= 44"
   ]
  },
  {
   "cell_type": "code",
   "execution_count": 45,
   "metadata": {},
   "outputs": [
    {
     "name": "stdout",
     "output_type": "stream",
     "text": [
      "'KNeighborsRegressor' -> Best cross-val score on A set: -47.882521 using {'regressor__algorithm': 'brute', 'regressor__n_neighbors': 3, 'regressor__weights': 'distance', 'selecter__k': 84}\n",
      "'KNeighborsRegressor' -> Selected features:\n",
      "[[\"'F0semitoneFrom27.5Hz_sma3nz_amean'\"], [\"'F0semitoneFrom27.5Hz_sma3nz_stddevNorm'\"], [\"'F0semitoneFrom27.5Hz_sma3nz_percentile20.0'\"], [\"'F0semitoneFrom27.5Hz_sma3nz_percentile50.0'\"], [\"'F0semitoneFrom27.5Hz_sma3nz_percentile80.0'\"], [\"'F0semitoneFrom27.5Hz_sma3nz_pctlrange0-2'\"], [\"'F0semitoneFrom27.5Hz_sma3nz_meanRisingSlope'\"], [\"'F0semitoneFrom27.5Hz_sma3nz_stddevRisingSlope'\"], [\"'F0semitoneFrom27.5Hz_sma3nz_meanFallingSlope'\"], [\"'F0semitoneFrom27.5Hz_sma3nz_stddevFallingSlope'\"], [\"'loudness_sma3_amean'\"], [\"'loudness_sma3_stddevNorm'\"], [\"'loudness_sma3_percentile20.0'\"], [\"'loudness_sma3_percentile50.0'\"], [\"'loudness_sma3_percentile80.0'\"], [\"'loudness_sma3_pctlrange0-2'\"], [\"'loudness_sma3_meanRisingSlope'\"], [\"'loudness_sma3_stddevRisingSlope'\"], [\"'loudness_sma3_meanFallingSlope'\"], [\"'loudness_sma3_stddevFallingSlope'\"], [\"'spectralFlux_sma3_amean'\"], [\"'spectralFlux_sma3_stddevNorm'\"], [\"'mfcc1_sma3_amean'\"], [\"'mfcc1_sma3_stddevNorm'\"], [\"'mfcc2_sma3_stddevNorm'\"], [\"'mfcc3_sma3_amean'\"], [\"'mfcc3_sma3_stddevNorm'\"], [\"'mfcc4_sma3_amean'\"], [\"'mfcc4_sma3_stddevNorm'\"], [\"'jitterLocal_sma3nz_amean'\"], [\"'jitterLocal_sma3nz_stddevNorm'\"], [\"'shimmerLocaldB_sma3nz_amean'\"], [\"'shimmerLocaldB_sma3nz_stddevNorm'\"], [\"'HNRdBACF_sma3nz_amean'\"], [\"'HNRdBACF_sma3nz_stddevNorm'\"], [\"'logRelF0-H1-H2_sma3nz_amean'\"], [\"'logRelF0-H1-H2_sma3nz_stddevNorm'\"], [\"'logRelF0-H1-A3_sma3nz_amean'\"], [\"'logRelF0-H1-A3_sma3nz_stddevNorm'\"], [\"'F1frequency_sma3nz_amean'\"], [\"'F1frequency_sma3nz_stddevNorm'\"], [\"'F1bandwidth_sma3nz_amean'\"], [\"'F1bandwidth_sma3nz_stddevNorm'\"], [\"'F1amplitudeLogRelF0_sma3nz_amean'\"], [\"'F1amplitudeLogRelF0_sma3nz_stddevNorm'\"], [\"'F2frequency_sma3nz_amean'\"], [\"'F2bandwidth_sma3nz_amean'\"], [\"'F2bandwidth_sma3nz_stddevNorm'\"], [\"'F2amplitudeLogRelF0_sma3nz_amean'\"], [\"'F2amplitudeLogRelF0_sma3nz_stddevNorm'\"], [\"'F3frequency_sma3nz_amean'\"], [\"'F3frequency_sma3nz_stddevNorm'\"], [\"'F3bandwidth_sma3nz_amean'\"], [\"'F3bandwidth_sma3nz_stddevNorm'\"], [\"'F3amplitudeLogRelF0_sma3nz_amean'\"], [\"'F3amplitudeLogRelF0_sma3nz_stddevNorm'\"], [\"'alphaRatioV_sma3nz_stddevNorm'\"], [\"'hammarbergIndexV_sma3nz_amean'\"], [\"'hammarbergIndexV_sma3nz_stddevNorm'\"], [\"'slopeV0-500_sma3nz_amean'\"], [\"'slopeV0-500_sma3nz_stddevNorm'\"], [\"'slopeV500-1500_sma3nz_amean'\"], [\"'slopeV500-1500_sma3nz_stddevNorm'\"], [\"'spectralFluxV_sma3nz_amean'\"], [\"'spectralFluxV_sma3nz_stddevNorm'\"], [\"'mfcc1V_sma3nz_amean'\"], [\"'mfcc1V_sma3nz_stddevNorm'\"], [\"'mfcc2V_sma3nz_stddevNorm'\"], [\"'mfcc3V_sma3nz_amean'\"], [\"'mfcc3V_sma3nz_stddevNorm'\"], [\"'mfcc4V_sma3nz_amean'\"], [\"'mfcc4V_sma3nz_stddevNorm'\"], [\"'alphaRatioUV_sma3nz_amean'\"], [\"'hammarbergIndexUV_sma3nz_amean'\"], [\"'slopeUV0-500_sma3nz_amean'\"], [\"'slopeUV500-1500_sma3nz_amean'\"], [\"'spectralFluxUV_sma3nz_amean'\"], [\"'loudnessPeaksPerSec'\"], [\"'VoicedSegmentsPerSec'\"], [\"'MeanVoicedSegmentLengthSec'\"], [\"'StddevVoicedSegmentLengthSec'\"], [\"'MeanUnvoicedSegmentLength'\"], [\"'StddevUnvoicedSegmentLength'\"], [\"'equivalentSoundLevel_dBp'\"]]\n",
      "'KNeighborsRegressor' -> root mean_squared_error on B set: 6.464051\n",
      "\n"
     ]
    }
   ],
   "source": [
    "\n",
    "# Fine-tuning KNeighborsRegressor with gridsearch\n",
    "\n",
    "def get_KNeighborsRegressor2finetune():\n",
    "\n",
    "    model = KNeighborsRegressor()\n",
    "    hp = dict(\n",
    "        regressor__n_neighbors = list(range(3,7)),\n",
    "        regressor__weights = ['distance'],\n",
    "        regressor__algorithm = ['brute']\n",
    "    )\n",
    "    return 'KNeighborsRegressor', model, hp\n",
    "\n",
    "# Hyperparameter tuning with this model\n",
    "tuning, trained = hp_tuner(AX, BX, Ay, By, \n",
    "                           [get_KNeighborsRegressor2finetune], \n",
    "                           target_trait,\n",
    "                           feats_names,\n",
    "                           np.arange(44, AX.shape[1]), \n",
    "                           'grid'\n",
    "                          )\n",
    "\n",
    "# update lists of tuning info and trained regressors\n",
    "tuning_all = tuning_all.append(tuning, ignore_index=True)\n",
    "trained_all.append(trained)"
   ]
  },
  {
   "cell_type": "code",
   "execution_count": 46,
   "metadata": {
    "scrolled": true
   },
   "outputs": [
    {
     "name": "stdout",
     "output_type": "stream",
     "text": [
      "  regressor__algorithm regressor__n_neighbors regressor__weights selecter__k  \\\n",
      "0                brute                      3           distance          44   \n",
      "1                brute                      3           distance          45   \n",
      "2                brute                      3           distance          46   \n",
      "3                brute                      3           distance          47   \n",
      "4                brute                      3           distance          48   \n",
      "\n",
      "       reg_params  \n",
      "0  brutedistance3  \n",
      "1  brutedistance3  \n",
      "2  brutedistance3  \n",
      "3  brutedistance3  \n",
      "4  brutedistance3  \n"
     ]
    },
    {
     "data": {
      "text/plain": [
       "<matplotlib.axes._subplots.AxesSubplot at 0x21d620b7748>"
      ]
     },
     "execution_count": 46,
     "metadata": {},
     "output_type": "execute_result"
    },
    {
     "data": {
      "image/png": "[encoded data removed]",
      "text/plain": [
       "<matplotlib.figure.Figure at 0x21d61d67ac8>"
      ]
     },
     "metadata": {},
     "output_type": "display_data"
    }
   ],
   "source": [
    "# open generated file with results of fitting GridSearchCV\n",
    "\n",
    "sgrid = pd.read_csv(r'.\\data_while_tuning\\KNeighborsRegressor_'+target_trait+'_tuning.csv')\n",
    "\n",
    "# params to dataframe\n",
    "params_dict = sgrid['params'].apply(lambda x: literal_eval(x) ).to_dict()\n",
    "params_df = pd.DataFrame(data = params_dict).transpose()\n",
    "params_df['reg_params'] = params_df['regressor__algorithm'].values + params_df['regressor__weights'].values + params_df['regressor__n_neighbors'].values.astype(str)\n",
    "print(params_df.head())\n",
    "\n",
    "# plot acc vs. params\n",
    "sns.pointplot(x='selecter__k', y='mean_acc_A',hue='reg_params', data=sgrid.join(params_df)) "
   ]
  },
  {
   "cell_type": "markdown",
   "metadata": {},
   "source": [
    "After fine-tuning, k=3 outperforms k=4. Root mean_squared_error on B set: 6.46 -> this is similar performance as with random search"
   ]
  },
  {
   "cell_type": "markdown",
   "metadata": {},
   "source": [
    "#### Support Vector Machines\n",
    "\n",
    "*class sklearn.svm.SVR(kernel=’rbf’, degree=3, gamma=’auto’, coef0=0.0, tol=0.001, C=1.0, epsilon=0.1, shrinking=True, cache_size=200, verbose=False, max_iter=-1)*\n",
    "\n",
    "Hyperparameter tuning of SVR with different kernels:\n",
    "\n",
    "For 'rbf': Tuning C (penalty of the error term) and gamma. No feature selection (k = [88]), since SVM should work better with higher number of features."
   ]
  },
  {
   "cell_type": "code",
   "execution_count": 6,
   "metadata": {},
   "outputs": [
    {
     "name": "stdout",
     "output_type": "stream",
     "text": [
      "'SVRlinear' -> Best cross-val score on A set: -82.511094 using {'regressor__C': 100.0, 'regressor__kernel': 'linear', 'selecter__k': 88}\n",
      "'SVRlinear' -> root mean_squared_error on B set: 9.264138\n",
      "\n"
     ]
    }
   ],
   "source": [
    "from sklearn.svm import SVR\n",
    "\n",
    "\"\"\"\n",
    "Support Vector Machines with linear kernel\n",
    "\"\"\"\n",
    "def get_SVRlinear2tune():\n",
    "    \n",
    "    model = SVR()\n",
    "    hp = dict(\n",
    "        regressor__C = np.logspace(-5,2,num=8),\n",
    "        regressor__kernel = ['linear']\n",
    "    )\n",
    "    return 'SVRlinear', model, hp\n",
    "\n",
    "# tune with linear kernel\n",
    "tuning, trained = hp_tuner(AX, BX, Ay, By, \n",
    "                           [get_SVRlinear2tune], \n",
    "                           target_trait,\n",
    "                           feats_names,\n",
    "                           [88], \n",
    "                           'grid'\n",
    "                          )\n",
    "\n",
    "# update lists of tuning info and trained regressors\n",
    "tuning_all = tuning_all.append(tuning, ignore_index=True)\n",
    "trained_all.append(trained)"
   ]
  },
  {
   "cell_type": "markdown",
   "metadata": {},
   "source": [
    "Support Vector Machines with rbf kernel. (hp ranges based on a quick random search)"
   ]
  },
  {
   "cell_type": "code",
   "execution_count": 14,
   "metadata": {},
   "outputs": [
    {
     "name": "stdout",
     "output_type": "stream",
     "text": [
      "'SVRrbf' -> Best cross-val score on A set: -59.066775 using {'regressor__C': 10.0, 'regressor__gamma': 0.01, 'regressor__kernel': 'rbf', 'selecter__k': 88}\n",
      "'SVRrbf' -> root mean_squared_error on B set: 7.052087\n",
      "\n"
     ]
    }
   ],
   "source": [
    "from sklearn.svm import SVR\n",
    "\n",
    "\"\"\"\n",
    "Support Vector Machines with rbf kernel\n",
    "\"\"\"\n",
    "def get_SVRrbf2tune():\n",
    "    \n",
    "    model = SVR()\n",
    "    hp = dict(\n",
    "        regressor__C = np.logspace(-3,1,num=5),\n",
    "        regressor__kernel = ['rbf'], \n",
    "        regressor__gamma = np.logspace(-3,-1,num=3)\n",
    "    )\n",
    "    return 'SVRrbf', model, hp\n",
    "\n",
    "\n",
    "# tune with poly kernel\n",
    "tuning, trained = hp_tuner(AX, BX, Ay, By, \n",
    "                           [get_SVRrbf2tune], \n",
    "                           target_trait,\n",
    "                           feats_names,\n",
    "                           [88], \n",
    "                           'grid'\n",
    "                          )\n"
   ]
  },
  {
   "cell_type": "code",
   "execution_count": 15,
   "metadata": {},
   "outputs": [
    {
     "name": "stdout",
     "output_type": "stream",
     "text": [
      "  regressor__C regressor__gamma regressor__kernel selecter__k\n",
      "0        0.001            0.001               rbf          88\n",
      "1        0.001             0.01               rbf          88\n",
      "2        0.001              0.1               rbf          88\n",
      "3         0.01            0.001               rbf          88\n",
      "4         0.01             0.01               rbf          88\n"
     ]
    },
    {
     "data": {
      "text/plain": [
       "<matplotlib.axes._subplots.AxesSubplot at 0x2250a7a41d0>"
      ]
     },
     "execution_count": 15,
     "metadata": {},
     "output_type": "execute_result"
    },
    {
     "data": {
      "image/png": "[encoded data removed]",
      "text/plain": [
       "<matplotlib.figure.Figure at 0x2250a796cf8>"
      ]
     },
     "metadata": {},
     "output_type": "display_data"
    }
   ],
   "source": [
    "# open generated file with results of fitting GridSearchCV\n",
    "\n",
    "sgrid = pd.read_csv(r'.\\data_while_tuning\\SVRrbf_'+target_trait+'_tuning.csv')\n",
    "\n",
    "# params to dataframe\n",
    "params_dict = sgrid['params'].apply(lambda x: literal_eval(x) ).to_dict()\n",
    "params_df = pd.DataFrame(data = params_dict).transpose()\n",
    "print(params_df.head())\n",
    "\n",
    "# plot acc vs. params\n",
    "sns.pointplot(x='regressor__gamma', y='mean_acc_A',hue='regressor__C', data=sgrid.join(params_df)) "
   ]
  },
  {
   "cell_type": "markdown",
   "metadata": {},
   "source": [
    "The value gamma = 0.01 and higher complexity seems promising. Let us perform another gridsearch."
   ]
  },
  {
   "cell_type": "code",
   "execution_count": 9,
   "metadata": {},
   "outputs": [
    {
     "name": "stdout",
     "output_type": "stream",
     "text": [
      "'SVRrbf' -> Best cross-val score on A set: -46.687707 using {'regressor__C': 316.22776601683796, 'regressor__gamma': 0.01, 'regressor__kernel': 'rbf', 'selecter__k': 88}\n",
      "'SVRrbf' -> root mean_squared_error on B set: 6.092025\n",
      "\n"
     ]
    }
   ],
   "source": [
    "from sklearn.svm import SVR\n",
    "\n",
    "\"\"\"\n",
    "Support Vector Machines with rbf kernel\n",
    "\"\"\"\n",
    "def get_SVRrbf2tune():\n",
    "    \n",
    "    model = SVR()\n",
    "    hp = dict(\n",
    "        regressor__C = np.logspace(1,4,num=5),\n",
    "        regressor__kernel = ['rbf'], \n",
    "        regressor__gamma = [0.01]\n",
    "    )\n",
    "    return 'SVRrbf', model, hp\n",
    "\n",
    "\n",
    "# tune with poly kernel\n",
    "tuning, trained = hp_tuner(AX, BX, Ay, By, \n",
    "                           [get_SVRrbf2tune], \n",
    "                           target_trait,\n",
    "                           feats_names,\n",
    "                           [88], \n",
    "                           'grid'\n",
    "                          )"
   ]
  },
  {
   "cell_type": "code",
   "execution_count": 10,
   "metadata": {},
   "outputs": [
    {
     "name": "stdout",
     "output_type": "stream",
     "text": [
      "  regressor__C regressor__gamma regressor__kernel selecter__k\n",
      "0           10             0.01               rbf          88\n",
      "1      56.2341             0.01               rbf          88\n",
      "2      316.228             0.01               rbf          88\n",
      "3      1778.28             0.01               rbf          88\n",
      "4        10000             0.01               rbf          88\n"
     ]
    },
    {
     "data": {
      "text/plain": [
       "<matplotlib.axes._subplots.AxesSubplot at 0x238458d1b70>"
      ]
     },
     "execution_count": 10,
     "metadata": {},
     "output_type": "execute_result"
    },
    {
     "data": {
      "image/png": "[encoded data removed]",
      "text/plain": [
       "<matplotlib.figure.Figure at 0x23844a1c198>"
      ]
     },
     "metadata": {},
     "output_type": "display_data"
    }
   ],
   "source": [
    "# open generated file with results of fitting GridSearchCV\n",
    "\n",
    "sgrid = pd.read_csv(r'.\\data_while_tuning\\SVRrbf_'+target_trait+'_tuning.csv')\n",
    "\n",
    "# params to dataframe\n",
    "params_dict = sgrid['params'].apply(lambda x: literal_eval(x) ).to_dict()\n",
    "params_df = pd.DataFrame(data = params_dict).transpose()\n",
    "print(params_df.head())\n",
    "\n",
    "# plot acc vs. params\n",
    "sns.pointplot(x='regressor__gamma', y='mean_acc_A',hue='regressor__C', data=sgrid.join(params_df)) "
   ]
  },
  {
   "cell_type": "markdown",
   "metadata": {},
   "source": [
    "SVRrbf is now well tuned and trained."
   ]
  },
  {
   "cell_type": "code",
   "execution_count": 11,
   "metadata": {
    "collapsed": true
   },
   "outputs": [],
   "source": [
    "# update lists of tuning info and trained regressors\n",
    "tuning_all = tuning_all.append(tuning, ignore_index=True)\n",
    "trained_all.append(trained)"
   ]
  },
  {
   "cell_type": "code",
   "execution_count": 20,
   "metadata": {},
   "outputs": [
    {
     "name": "stdout",
     "output_type": "stream",
     "text": [
      "'SVRsigmoid' -> Best cross-val score on A set: -83.842604 using {'selecter__k': 88, 'regressor__kernel': 'sigmoid', 'regressor__gamma': 0.0001, 'regressor__C': 1000.0}\n",
      "'SVRsigmoid' -> root mean_squared_error on B set: 9.047092\n",
      "\n"
     ]
    }
   ],
   "source": [
    "from sklearn.svm import SVR\n",
    "\n",
    "\"\"\"\n",
    "Support Vector Machines with sigmoid kernel\n",
    "\"\"\"\n",
    "def get_SVRsigmoid2tune():\n",
    "    \n",
    "    model = SVR()\n",
    "    hp = dict(\n",
    "        regressor__C = np.logspace(-5,3,num=9),\n",
    "        regressor__kernel = ['sigmoid'],\n",
    "        regressor__gamma = np.logspace(-5,5,num=11)\n",
    "    )\n",
    "    return 'SVRsigmoid', model, hp\n",
    "\n",
    "# tune with sigmoid kernel\n",
    "tuning, trained = hp_tuner(AX, BX, Ay, By, \n",
    "                           [get_SVRsigmoid2tune], \n",
    "                           target_trait,\n",
    "                           feats_names,\n",
    "                           [88], \n",
    "                           'random',\n",
    "                           n_iter=50\n",
    "                          )\n",
    "\n",
    "# # update lists of tuning info and trained regressors\n",
    "# tuning_all = tuning_all.append(tuning, ignore_index=True)\n",
    "# trained_all.append(trained)"
   ]
  },
  {
   "cell_type": "code",
   "execution_count": 21,
   "metadata": {},
   "outputs": [
    {
     "name": "stdout",
     "output_type": "stream",
     "text": [
      "  regressor__C regressor__gamma regressor__kernel selecter__k\n",
      "0            1            0.001           sigmoid          88\n",
      "1         0.01              0.1           sigmoid          88\n",
      "2           10              100           sigmoid          88\n",
      "3        1e-05             1000           sigmoid          88\n",
      "4       0.0001              100           sigmoid          88\n"
     ]
    },
    {
     "data": {
      "text/plain": [
       "<matplotlib.axes._subplots.AxesSubplot at 0x23845f844e0>"
      ]
     },
     "execution_count": 21,
     "metadata": {},
     "output_type": "execute_result"
    },
    {
     "data": {
      "image/png": "[encoded data removed]",
      "text/plain": [
       "<matplotlib.figure.Figure at 0x238461a2cf8>"
      ]
     },
     "metadata": {},
     "output_type": "display_data"
    }
   ],
   "source": [
    "# open generated file with results of fitting RandomizedSearchCV\n",
    "\n",
    "sgrid = pd.read_csv(r'.\\data_while_tuning\\SVRsigmoid_'+target_trait+'_tuning.csv')\n",
    "\n",
    "# params to dataframe\n",
    "params_dict = sgrid['params'].apply(lambda x: literal_eval(x) ).to_dict()\n",
    "params_df = pd.DataFrame(data = params_dict).transpose()\n",
    "print(params_df.head())\n",
    "\n",
    "# plot acc vs. params\n",
    "sns.pointplot(x='regressor__gamma', y='mean_acc_A',hue='regressor__C', data=sgrid.join(params_df)) "
   ]
  },
  {
   "cell_type": "code",
   "execution_count": null,
   "metadata": {
    "collapsed": true
   },
   "outputs": [],
   "source": [
    "High C and low gamma tend to provide better results. Let us perform a small gridsearch around those values."
   ]
  },
  {
   "cell_type": "code",
   "execution_count": 23,
   "metadata": {},
   "outputs": [
    {
     "name": "stdout",
     "output_type": "stream",
     "text": [
      "'SVRsigmoid' -> Best cross-val score on A set: -83.155657 using {'regressor__C': 10000.0, 'regressor__gamma': 0.0001, 'regressor__kernel': 'sigmoid', 'selecter__k': 88}\n",
      "'SVRsigmoid' -> root mean_squared_error on B set: 9.254380\n",
      "\n"
     ]
    }
   ],
   "source": [
    "from sklearn.svm import SVR\n",
    "\n",
    "\"\"\"\n",
    "Support Vector Machines with sigmoid kernel\n",
    "\"\"\"\n",
    "def get_SVRsigmoid2tune():\n",
    "    \n",
    "    model = SVR()\n",
    "    hp = dict(\n",
    "        regressor__C = np.logspace(3,4,num=3),\n",
    "        regressor__kernel = ['sigmoid'],\n",
    "        regressor__gamma = [0.0001]\n",
    "    )\n",
    "    return 'SVRsigmoid', model, hp\n",
    "\n",
    "# tune with sigmoid kernel\n",
    "tuning, trained = hp_tuner(AX, BX, Ay, By, \n",
    "                           [get_SVRsigmoid2tune], \n",
    "                           target_trait,\n",
    "                           feats_names,\n",
    "                           [88], \n",
    "                           'grid'\n",
    "                          )\n",
    "\n",
    "# # update lists of tuning info and trained regressors\n",
    "# tuning_all = tuning_all.append(tuning, ignore_index=True)\n",
    "# trained_all.append(trained)"
   ]
  },
  {
   "cell_type": "code",
   "execution_count": 24,
   "metadata": {},
   "outputs": [
    {
     "name": "stdout",
     "output_type": "stream",
     "text": [
      "  regressor__C regressor__gamma regressor__kernel selecter__k\n",
      "0         1000           0.0001           sigmoid          88\n",
      "1      3162.28           0.0001           sigmoid          88\n",
      "2        10000           0.0001           sigmoid          88\n"
     ]
    },
    {
     "data": {
      "text/plain": [
       "<matplotlib.axes._subplots.AxesSubplot at 0x238484e9be0>"
      ]
     },
     "execution_count": 24,
     "metadata": {},
     "output_type": "execute_result"
    },
    {
     "data": {
      "image/png": "[encoded data removed]",
      "text/plain": [
       "<matplotlib.figure.Figure at 0x238485006d8>"
      ]
     },
     "metadata": {},
     "output_type": "display_data"
    }
   ],
   "source": [
    "# open generated file with results of fitting GridSearchCV\n",
    "\n",
    "sgrid = pd.read_csv(r'.\\data_while_tuning\\SVRsigmoid_'+target_trait+'_tuning.csv')\n",
    "\n",
    "# params to dataframe\n",
    "params_dict = sgrid['params'].apply(lambda x: literal_eval(x) ).to_dict()\n",
    "params_df = pd.DataFrame(data = params_dict).transpose()\n",
    "print(params_df.head())\n",
    "\n",
    "# plot acc vs. params\n",
    "sns.pointplot(x='regressor__gamma', y='mean_acc_A',hue='regressor__C', data=sgrid.join(params_df)) "
   ]
  },
  {
   "cell_type": "markdown",
   "metadata": {
    "collapsed": true
   },
   "source": [
    "This (better tuned) SVRsigmoid is too complex and does not provide better results than SVRrbf with the same complexity."
   ]
  },
  {
   "cell_type": "code",
   "execution_count": null,
   "metadata": {
    "collapsed": true
   },
   "outputs": [],
   "source": [
    "# update lists of tuning info and trained regressors\n",
    "tuning_all = tuning_all.append(tuning, ignore_index=True)\n",
    "trained_all.append(trained)\n",
    "\n",
    "# save tuning_all (.csv) and trained_all (nameregressor.sav)\n",
    "save_tuning(tuning_all, trained_all, target_trait)"
   ]
  },
  {
   "cell_type": "markdown",
   "metadata": {
    "collapsed": true
   },
   "source": [
    "#### Decision tree\n",
    "\n",
    "*class sklearn.tree.DecisionTreeRegressor(criterion=’mse’, splitter=’best’, max_depth=None, min_samples_split=2, min_samples_leaf=1, min_weight_fraction_leaf=0.0, max_features=None, random_state=None, max_leaf_nodes=None, min_impurity_decrease=0.0, min_impurity_split=None, presort=False)*\n",
    "\n",
    "Tune: max_depth"
   ]
  },
  {
   "cell_type": "code",
   "execution_count": 44,
   "metadata": {},
   "outputs": [
    {
     "name": "stdout",
     "output_type": "stream",
     "text": [
      "'DecisionTreeRegressor' -> Best cross-val score on A set: -89.445633 using {'selecter__k': 23, 'regressor__min_samples_split': 7, 'regressor__max_depth': 4}\n",
      "'DecisionTreeRegressor' -> root mean_squared_error on B set: 9.221154\n",
      "\n"
     ]
    }
   ],
   "source": [
    "from sklearn.tree import DecisionTreeRegressor\n",
    "\n",
    "\"\"\"\n",
    "Decision Trees\n",
    "\"\"\"\n",
    "def get_DecisionTreeRegressor2tune():\n",
    "    \n",
    "    model = DecisionTreeRegressor(random_state=2302)\n",
    "    hp = dict(\n",
    "        regressor__max_depth = np.arange(3,10), \n",
    "        regressor__min_samples_split = np.arange(2,20) \n",
    "    )\n",
    "    return 'DecisionTreeRegressor', model, hp\n",
    "\n",
    "\n",
    "# tune this model\n",
    "tuning, trained = hp_tuner(AX, BX, Ay, By, \n",
    "                           [get_DecisionTreeRegressor2tune], \n",
    "                           target_trait,\n",
    "                           feats_names,\n",
    "                           np.arange(1, AX.shape[1]), \n",
    "                           mode='random',\n",
    "                           n_iter=50\n",
    "                          )"
   ]
  },
  {
   "cell_type": "code",
   "execution_count": 45,
   "metadata": {
    "scrolled": true
   },
   "outputs": [
    {
     "name": "stdout",
     "output_type": "stream",
     "text": [
      "   regressor__max_depth  regressor__min_samples_split  selecter__k\n",
      "0                     8                            16           81\n",
      "1                     3                            19           60\n",
      "2                     3                            19           71\n",
      "3                     3                             4           38\n",
      "4                     6                            18           39\n"
     ]
    },
    {
     "data": {
      "text/plain": [
       "<matplotlib.axes._subplots.AxesSubplot at 0x238460a1dd8>"
      ]
     },
     "execution_count": 45,
     "metadata": {},
     "output_type": "execute_result"
    },
    {
     "data": {
      "image/png": "[encoded data removed]",
      "text/plain": [
       "<matplotlib.figure.Figure at 0x238460ee2b0>"
      ]
     },
     "metadata": {},
     "output_type": "display_data"
    }
   ],
   "source": [
    "# open generated file with results of fitting RandomizedSearchCV\n",
    "\n",
    "sgrid = pd.read_csv(r'.\\data_while_tuning\\DecisionTreeRegressor_'+target_trait+'_tuning.csv')\n",
    "\n",
    "# params to dataframe\n",
    "params_dict = sgrid['params'].apply(lambda x: literal_eval(x) ).to_dict()\n",
    "params_df = pd.DataFrame(data = params_dict).transpose()\n",
    "print(params_df.head())\n",
    "\n",
    "# plot acc vs. params\n",
    "sns.pointplot(x='selecter__k', y='mean_acc_A',hue='regressor__max_depth', data=sgrid.join(params_df)) "
   ]
  },
  {
   "cell_type": "code",
   "execution_count": 46,
   "metadata": {
    "collapsed": true
   },
   "outputs": [],
   "source": [
    "# update lists of tuning info and trained regressors\n",
    "tuning_all = tuning_all.append(tuning, ignore_index=True)\n",
    "trained_all.append(trained)\n",
    "\n",
    "# save tuning_all (.csv) and trained_all (nameregressor.sav)\n",
    "save_tuning(tuning_all, trained_all, target_trait)"
   ]
  },
  {
   "cell_type": "markdown",
   "metadata": {},
   "source": [
    "max_depth~3 or 4 and low number of features seem to work better. Performance still not very good."
   ]
  },
  {
   "cell_type": "markdown",
   "metadata": {},
   "source": [
    "#### Random Forest\n",
    "\n",
    "*class sklearn.ensemble.RandomForestRegressor(n_estimators=10, criterion=’mse’, max_depth=None, min_samples_split=2, min_samples_leaf=1, min_weight_fraction_leaf=0.0, max_features=’auto’, max_leaf_nodes=None, min_impurity_decrease=0.0, min_impurity_split=None, bootstrap=True, oob_score=False, n_jobs=1, random_state=None, verbose=0, warm_start=False)*\n",
    "\n",
    "Tune: max_depth, min_samples_leaf. Max features taken are those given by the feature selection method."
   ]
  },
  {
   "cell_type": "code",
   "execution_count": 18,
   "metadata": {},
   "outputs": [
    {
     "name": "stdout",
     "output_type": "stream",
     "text": [
      "'RandomForestRegressor' -> Best cross-val score on A set: -66.152647 using {'selecter__k': 62, 'regressor__min_samples_leaf': 2, 'regressor__max_depth': 55}\n",
      "'RandomForestRegressor' -> root mean_squared_error on B set: 7.626334\n",
      "\n"
     ]
    }
   ],
   "source": [
    "from sklearn.ensemble import RandomForestRegressor\n",
    "\n",
    "\"\"\"\n",
    "Random Forest\n",
    "\"\"\"\n",
    "def get_RandomForestRegressor2tune():\n",
    "    \n",
    "    model = RandomForestRegressor(random_state=2302, max_features = None)\n",
    "    hp = dict(\n",
    "        regressor__max_depth = np.arange(30,60), \n",
    "        regressor__min_samples_leaf = np.arange(2,10) \n",
    "    )\n",
    "    return 'RandomForestRegressor', model, hp\n",
    "\n",
    "# feature selection\n",
    "k_array = np.arange(30, 70)\n",
    "\n",
    "# tune this model (multiputput)\n",
    "tuning, trained = hp_tuner(AX, BX, Ay, By, \n",
    "                           [get_RandomForestRegressor2tune], \n",
    "                           target_trait,\n",
    "                           feats_names,\n",
    "                           k_array, \n",
    "                           mode='random',\n",
    "                           n_iter=50\n",
    "                          )"
   ]
  },
  {
   "cell_type": "code",
   "execution_count": 19,
   "metadata": {},
   "outputs": [
    {
     "name": "stdout",
     "output_type": "stream",
     "text": [
      "   regressor__max_depth  regressor__min_samples_leaf  selecter__k\n",
      "0                    35                            9           59\n",
      "1                    48                            4           50\n",
      "2                    37                            4           68\n",
      "3                    59                            8           59\n",
      "4                    44                            2           52\n"
     ]
    },
    {
     "data": {
      "text/plain": [
       "<matplotlib.axes._subplots.AxesSubplot at 0x23b486f9cf8>"
      ]
     },
     "execution_count": 19,
     "metadata": {},
     "output_type": "execute_result"
    },
    {
     "data": {
      "image/png": "[encoded data removed]",
      "text/plain": [
       "<matplotlib.figure.Figure at 0x23b471613c8>"
      ]
     },
     "metadata": {},
     "output_type": "display_data"
    }
   ],
   "source": [
    "# open generated file with results of fitting RandomizedSearchCV\n",
    "\n",
    "sgrid = pd.read_csv(r'.\\data_while_tuning\\RandomForestRegressor_'+target_trait+'_tuning.csv')\n",
    "\n",
    "# params to dataframe\n",
    "params_dict = sgrid['params'].apply(lambda x: literal_eval(x) ).to_dict()\n",
    "params_df = pd.DataFrame(data = params_dict).transpose()\n",
    "print(params_df.head())\n",
    "\n",
    "# plot acc vs. params\n",
    "sns.pointplot(x='regressor__min_samples_leaf', y='mean_acc_A',hue='regressor__max_depth', data=sgrid.join(params_df)) "
   ]
  },
  {
   "cell_type": "markdown",
   "metadata": {},
   "source": [
    "After a couple of random searches, rmse on B is still around 7.6."
   ]
  },
  {
   "cell_type": "code",
   "execution_count": 20,
   "metadata": {
    "collapsed": true
   },
   "outputs": [],
   "source": [
    "# update lists of tuning info and trained regressors\n",
    "tuning_all = tuning_all.append(tuning, ignore_index=True)\n",
    "trained_all.append(trained)\n",
    "\n",
    "# save tuning_all (.csv) and trained_all (nameregressor.sav)\n",
    "save_tuning(tuning_all, trained_all, target_trait)"
   ]
  },
  {
   "cell_type": "markdown",
   "metadata": {},
   "source": [
    "## Testing\n",
    "\n",
    "### RMSE\n",
    "Testing the best model found after hyperparameter tuning.\n",
    "\n",
    "Performance metric: RMSE (see above).\n",
    "    \n",
    "The predictions correspond to the scores of each test segment (3 parts x 4 dialogs) spoken by the same test speaker. I perform the average of the predicted ratings that correspond to the same speaker - to be compared to the true ratings."
   ]
  },
  {
   "cell_type": "code",
   "execution_count": 14,
   "metadata": {},
   "outputs": [
    {
     "data": {
      "text/html": [
       "<div>\n",
       "<style>\n",
       "    .dataframe thead tr:only-child th {\n",
       "        text-align: right;\n",
       "    }\n",
       "\n",
       "    .dataframe thead th {\n",
       "        text-align: left;\n",
       "    }\n",
       "\n",
       "    .dataframe tbody tr th {\n",
       "        vertical-align: top;\n",
       "    }\n",
       "</style>\n",
       "<table border=\"1\" class=\"dataframe\">\n",
       "  <thead>\n",
       "    <tr style=\"text-align: right;\">\n",
       "      <th></th>\n",
       "      <th>best_accs</th>\n",
       "      <th>best_hps</th>\n",
       "      <th>regressors_names</th>\n",
       "      <th>sel_feats</th>\n",
       "      <th>sel_feats_i</th>\n",
       "    </tr>\n",
       "  </thead>\n",
       "  <tbody>\n",
       "    <tr>\n",
       "      <th>0</th>\n",
       "      <td>9.146486</td>\n",
       "      <td>{'selecter__k': 87}</td>\n",
       "      <td>LinearRegression</td>\n",
       "      <td>[[\"'F0semitoneFrom27.5Hz_sma3nz_amean'\"], [\"'F...</td>\n",
       "      <td>[ True  True  True  True  True  True  True  Tr...</td>\n",
       "    </tr>\n",
       "    <tr>\n",
       "      <th>1</th>\n",
       "      <td>9.060913</td>\n",
       "      <td>{'selecter__k': 68}</td>\n",
       "      <td>ElasticNet</td>\n",
       "      <td>[[\"'F0semitoneFrom27.5Hz_sma3nz_stddevNorm'\"],...</td>\n",
       "      <td>[False  True  True False  True  True  True  Tr...</td>\n",
       "    </tr>\n",
       "    <tr>\n",
       "      <th>2</th>\n",
       "      <td>6.334999</td>\n",
       "      <td>{'selecter__k': 61, 'regressor__weights': 'dis...</td>\n",
       "      <td>KNeighborsRegressor</td>\n",
       "      <td>[[\"'F0semitoneFrom27.5Hz_sma3nz_stddevNorm'\"],...</td>\n",
       "      <td>[False  True  True False  True  True  True Fal...</td>\n",
       "    </tr>\n",
       "    <tr>\n",
       "      <th>3</th>\n",
       "      <td>6.464051</td>\n",
       "      <td>{'regressor__algorithm': 'brute', 'regressor__...</td>\n",
       "      <td>KNeighborsRegressor</td>\n",
       "      <td>[[\"'F0semitoneFrom27.5Hz_sma3nz_amean'\"], [\"'F...</td>\n",
       "      <td>[ True  True  True  True  True  True  True  Tr...</td>\n",
       "    </tr>\n",
       "    <tr>\n",
       "      <th>4</th>\n",
       "      <td>9.264138</td>\n",
       "      <td>{'regressor__C': 100.0, 'regressor__kernel': '...</td>\n",
       "      <td>SVClinear</td>\n",
       "      <td>[[\"'F0semitoneFrom27.5Hz_sma3nz_amean'\"], [\"'F...</td>\n",
       "      <td>[ True  True  True  True  True  True  True  Tr...</td>\n",
       "    </tr>\n",
       "    <tr>\n",
       "      <th>5</th>\n",
       "      <td>6.092025</td>\n",
       "      <td>{'regressor__C': 316.22776601683796, 'regresso...</td>\n",
       "      <td>SVRrbf</td>\n",
       "      <td>[[\"'F0semitoneFrom27.5Hz_sma3nz_amean'\"], [\"'F...</td>\n",
       "      <td>[ True  True  True  True  True  True  True  Tr...</td>\n",
       "    </tr>\n",
       "    <tr>\n",
       "      <th>6</th>\n",
       "      <td>9.221154</td>\n",
       "      <td>{'selecter__k': 23, 'regressor__min_samples_sp...</td>\n",
       "      <td>DecisionTreeRegressor</td>\n",
       "      <td>[[\"'F0semitoneFrom27.5Hz_sma3nz_stddevNorm'\"],...</td>\n",
       "      <td>[False  True False False False  True False Fal...</td>\n",
       "    </tr>\n",
       "    <tr>\n",
       "      <th>7</th>\n",
       "      <td>7.626334</td>\n",
       "      <td>{'selecter__k': 62, 'regressor__min_samples_le...</td>\n",
       "      <td>RandomForestRegressor</td>\n",
       "      <td>[[\"'F0semitoneFrom27.5Hz_sma3nz_stddevNorm'\"],...</td>\n",
       "      <td>[False  True  True False  True  True  True  Tr...</td>\n",
       "    </tr>\n",
       "  </tbody>\n",
       "</table>\n",
       "</div>"
      ],
      "text/plain": [
       "   best_accs                                           best_hps  \\\n",
       "0   9.146486                                {'selecter__k': 87}   \n",
       "1   9.060913                                {'selecter__k': 68}   \n",
       "2   6.334999  {'selecter__k': 61, 'regressor__weights': 'dis...   \n",
       "3   6.464051  {'regressor__algorithm': 'brute', 'regressor__...   \n",
       "4   9.264138  {'regressor__C': 100.0, 'regressor__kernel': '...   \n",
       "5   6.092025  {'regressor__C': 316.22776601683796, 'regresso...   \n",
       "6   9.221154  {'selecter__k': 23, 'regressor__min_samples_sp...   \n",
       "7   7.626334  {'selecter__k': 62, 'regressor__min_samples_le...   \n",
       "\n",
       "        regressors_names                                          sel_feats  \\\n",
       "0       LinearRegression  [[\"'F0semitoneFrom27.5Hz_sma3nz_amean'\"], [\"'F...   \n",
       "1             ElasticNet  [[\"'F0semitoneFrom27.5Hz_sma3nz_stddevNorm'\"],...   \n",
       "2    KNeighborsRegressor  [[\"'F0semitoneFrom27.5Hz_sma3nz_stddevNorm'\"],...   \n",
       "3    KNeighborsRegressor  [[\"'F0semitoneFrom27.5Hz_sma3nz_amean'\"], [\"'F...   \n",
       "4              SVClinear  [[\"'F0semitoneFrom27.5Hz_sma3nz_amean'\"], [\"'F...   \n",
       "5                 SVRrbf  [[\"'F0semitoneFrom27.5Hz_sma3nz_amean'\"], [\"'F...   \n",
       "6  DecisionTreeRegressor  [[\"'F0semitoneFrom27.5Hz_sma3nz_stddevNorm'\"],...   \n",
       "7  RandomForestRegressor  [[\"'F0semitoneFrom27.5Hz_sma3nz_stddevNorm'\"],...   \n",
       "\n",
       "                                         sel_feats_i  \n",
       "0  [ True  True  True  True  True  True  True  Tr...  \n",
       "1  [False  True  True False  True  True  True  Tr...  \n",
       "2  [False  True  True False  True  True  True Fal...  \n",
       "3  [ True  True  True  True  True  True  True  Tr...  \n",
       "4  [ True  True  True  True  True  True  True  Tr...  \n",
       "5  [ True  True  True  True  True  True  True  Tr...  \n",
       "6  [False  True False False False  True False Fal...  \n",
       "7  [False  True  True False  True  True  True  Tr...  "
      ]
     },
     "execution_count": 14,
     "metadata": {},
     "output_type": "execute_result"
    }
   ],
   "source": [
    "tuning_all"
   ]
  },
  {
   "cell_type": "code",
   "execution_count": 7,
   "metadata": {},
   "outputs": [
    {
     "name": "stdout",
     "output_type": "stream",
     "text": [
      "Selected classifier based on the best performance on B: 'SVRrbf' (perf. on B = 6.09)\n"
     ]
    }
   ],
   "source": [
    "# select the classifier that gave the maximum acc on B set\n",
    "best_accs = tuning_all['best_accs']\n",
    "i_best = best_accs.idxmin()\n",
    "\n",
    "print('Selected classifier based on the best performance on B: %r (perf. on B = %0.2f)' % (tuning_all.loc[i_best,'regressors_names'], round(best_accs[i_best],2)))"
   ]
  },
  {
   "cell_type": "code",
   "execution_count": 8,
   "metadata": {},
   "outputs": [],
   "source": [
    "# compute predictions with the best tuned regressor\n",
    "\n",
    "yt_pred = trained_all[i_best][0].predict(Xt)\n"
   ]
  },
  {
   "cell_type": "code",
   "execution_count": 18,
   "metadata": {},
   "outputs": [
    {
     "name": "stdout",
     "output_type": "stream",
     "text": [
      "RMSE per instance: 10.78\n",
      "RMSE after averaging over speaker utterances: 9.73\n",
      "       non_likable       pred\n",
      "spkID                        \n",
      "1        36.571429  48.793348\n",
      "9        40.500000  45.279881\n",
      "11       39.466667  43.855061\n",
      "18       43.500000  39.399135\n",
      "22       58.466667  52.507244\n",
      "25       41.250000  48.662647\n",
      "28       63.800000  45.903683\n",
      "32       57.941176  41.818062\n",
      "33       60.500000  45.335919\n",
      "35       34.352941  39.901689\n",
      "38       29.062500  42.925633\n",
      "51       48.437500  46.129525\n",
      "53       55.750000  54.883074\n",
      "55       35.733333  43.196187\n",
      "57       40.066667  40.867028\n",
      "65       39.266667  47.619009\n",
      "66       44.875000  51.738689\n",
      "67       49.733333  48.480670\n",
      "80       42.312500  40.298916\n",
      "87       36.764706  40.730721\n",
      "92       51.750000  43.653303\n",
      "93       42.812500  38.668328\n",
      "94       68.333333  49.551773\n",
      "105      67.600000  45.847028\n",
      "107      60.235294  55.597525\n",
      "108      57.357143  43.654327\n",
      "113      45.875000  45.463421\n",
      "114      44.846154  44.706938\n",
      "118      30.200000  37.762679\n",
      "119      44.235294  48.408756\n",
      "...            ...        ...\n",
      "171      63.500000  46.056948\n",
      "174      68.125000  60.351784\n",
      "181      50.125000  47.432724\n",
      "183      38.933333  40.556007\n",
      "184      41.600000  37.799967\n",
      "191      59.058824  49.193389\n",
      "192      35.533333  40.176391\n",
      "199      33.066667  48.787842\n",
      "201      60.352941  54.726630\n",
      "206      40.000000  47.262905\n",
      "209      52.000000  50.397601\n",
      "215      49.076923  47.795172\n",
      "216      46.812500  48.344182\n",
      "229      61.714286  52.138460\n",
      "232      33.153846  48.288283\n",
      "235      54.812500  46.222637\n",
      "237      54.200000  49.931529\n",
      "242      59.600000  51.935624\n",
      "243      71.846154  43.320238\n",
      "246      44.200000  49.639101\n",
      "252      26.750000  47.350498\n",
      "269      51.333333  54.276323\n",
      "272      35.941176  51.946735\n",
      "274      40.812500  51.354271\n",
      "278      64.266667  49.160999\n",
      "282      26.266667  46.254904\n",
      "285      41.538462  44.700935\n",
      "288      46.937500  53.419849\n",
      "296      50.187500  50.950668\n",
      "298      49.000000  51.215872\n",
      "\n",
      "[75 rows x 2 columns]\n"
     ]
    }
   ],
   "source": [
    "# average of outputs that belong to the same speaker\n",
    "\n",
    "test_scores = pd.DataFrame(data = feats_ratings_test[[target_trait,'spkID']])\n",
    "test_scores['pred'] = yt_pred\n",
    "\n",
    "test_scores_avg = test_scores.groupby('spkID').mean()\n",
    "\n",
    "myrmse = np.sqrt(mean_squared_error(test_scores[target_trait].as_matrix(), \n",
    "             test_scores['pred'].as_matrix()))\n",
    "\n",
    "myrmse_avg = np.sqrt(mean_squared_error(test_scores_avg[target_trait].as_matrix(), \n",
    "             test_scores_avg['pred'].as_matrix()))\n",
    "\n",
    "print('RMSE per instance: %0.2f' % myrmse)   \n",
    "print('RMSE after averaging over speaker utterances: %0.2f' % myrmse_avg)    \n",
    "\n",
    "print(test_scores_avg)"
   ]
  },
  {
   "cell_type": "markdown",
   "metadata": {},
   "source": [
    "Let us examine the RMSE across all trained regressors:"
   ]
  },
  {
   "cell_type": "code",
   "execution_count": 22,
   "metadata": {
    "scrolled": true
   },
   "outputs": [
    {
     "name": "stdout",
     "output_type": "stream",
     "text": [
      "\"'LinearRegression' -> RMSE per instance on B: 9.15\n",
      "\"'LinearRegression' -> RMSE per instance: 9.83\n",
      "\"'LinearRegression' -> RMSE after averaging over speaker utterances: 9.31\n",
      "\"'ElasticNet' -> RMSE per instance on B: 9.06\n",
      "\"'ElasticNet' -> RMSE per instance: 10.46\n",
      "\"'ElasticNet' -> RMSE after averaging over speaker utterances: 10.39\n",
      "\"'KNeighborsRegressor' -> RMSE per instance on B: 6.46\n",
      "\"'KNeighborsRegressor' -> RMSE per instance: 11.28\n",
      "\"'KNeighborsRegressor' -> RMSE after averaging over speaker utterances: 10.00\n",
      "\"'SVClinear' -> RMSE per instance on B: 9.26\n",
      "\"'SVClinear' -> RMSE per instance: 10.14\n",
      "\"'SVClinear' -> RMSE after averaging over speaker utterances: 9.52\n",
      "\"'SVRrbf' -> RMSE per instance on B: 6.09\n",
      "\"'SVRrbf' -> RMSE per instance: 10.78\n",
      "\"'SVRrbf' -> RMSE after averaging over speaker utterances: 9.73\n",
      "\"'DecisionTreeRegressor' -> RMSE per instance on B: 9.22\n",
      "\"'DecisionTreeRegressor' -> RMSE per instance: 10.73\n",
      "\"'DecisionTreeRegressor' -> RMSE after averaging over speaker utterances: 10.11\n",
      "\"'RandomForestRegressor' -> RMSE per instance on B: 7.63\n",
      "\"'RandomForestRegressor' -> RMSE per instance: 10.56\n",
      "\"'RandomForestRegressor' -> RMSE after averaging over speaker utterances: 9.90\n"
     ]
    }
   ],
   "source": [
    "# go through performace ofor all regressors\n",
    "\n",
    "# removing duplicates from tuning_all (same classifier tuned twice with different searchers)\n",
    "indexes = tuning_all['regressors_names'].drop_duplicates(keep='last').index.values\n",
    "\n",
    "# dataframe for summary of performances\n",
    "performances = pd.DataFrame(tuning_all.loc[indexes,['regressors_names','best_accs']])\n",
    "\n",
    "for i in indexes:\n",
    "\n",
    "    yt_pred = trained_all[i][0].predict(Xt)\n",
    "        \n",
    "    # average of outputs that belong to the same speaker\n",
    "\n",
    "    test_scores = pd.DataFrame(data = feats_ratings_test[[target_trait,'spkID']])\n",
    "    test_scores['pred'] = yt_pred\n",
    "\n",
    "    test_scores_avg = test_scores.groupby('spkID').mean()\n",
    "\n",
    "    myrmse = np.sqrt(mean_squared_error(test_scores[target_trait].as_matrix(), \n",
    "                 test_scores['pred'].as_matrix()))\n",
    "\n",
    "    myrmse_avg = np.sqrt(mean_squared_error(test_scores_avg[target_trait].as_matrix(), \n",
    "                 test_scores_avg['pred'].as_matrix()))\n",
    "\n",
    "    print('\"%r -> RMSE per instance on B: %0.2f' % (tuning_all.loc[i,'regressors_names'], tuning_all.loc[i,'best_accs']))   \n",
    "    print('\"%r -> RMSE per instance: %0.2f' % (tuning_all.loc[i,'regressors_names'], myrmse))   \n",
    "    print('\"%r -> RMSE after averaging over speaker utterances: %0.2f' % (tuning_all.loc[i,'regressors_names'], myrmse_avg))   \n"
   ]
  },
  {
   "cell_type": "markdown",
   "metadata": {},
   "source": [
    "The baseline regressor would be predict the mean rating of all instances. The RMSE would then be ."
   ]
  },
  {
   "cell_type": "code",
   "execution_count": 29,
   "metadata": {},
   "outputs": [
    {
     "name": "stdout",
     "output_type": "stream",
     "text": [
      "\"'baseline' -> RMSE per instance: 10.72\n",
      "\"'baseline' -> RMSE after averaging over speaker utterances: 10.67\n"
     ]
    }
   ],
   "source": [
    "yt_pred = np.mean(yt)\n",
    "\n",
    "# average of outputs that belong to the same speaker\n",
    "\n",
    "test_scores = pd.DataFrame(data = feats_ratings_test[[target_trait,'spkID']])\n",
    "test_scores['pred'] = yt_pred\n",
    "\n",
    "test_scores_avg = test_scores.groupby('spkID').mean()\n",
    "\n",
    "myrmse = np.sqrt(mean_squared_error(test_scores[target_trait].as_matrix(), \n",
    " test_scores['pred'].as_matrix()))\n",
    "\n",
    "myrmse_avg = np.sqrt(mean_squared_error(test_scores_avg[target_trait].as_matrix(), \n",
    " test_scores_avg['pred'].as_matrix()))\n",
    "\n",
    "print('\"%r -> RMSE per instance: %0.2f' % ('baseline', myrmse))   \n",
    "print('\"%r -> RMSE after averaging over speaker utterances: %0.2f' % ('baseline', myrmse_avg)) \n",
    " "
   ]
  },
  {
   "cell_type": "markdown",
   "metadata": {},
   "source": [
    "The predictions with the different regressors just slightly improve the baseline. SVRrbf and KNeighborsRegressor are overfitted."
   ]
  }
 ],
 "metadata": {
  "kernelspec": {
   "display_name": "Python 3",
   "language": "python",
   "name": "python3"
  },
  "language_info": {
   "codemirror_mode": {
    "name": "ipython",
    "version": 3
   },
   "file_extension": ".py",
   "mimetype": "text/x-python",
   "name": "python",
   "nbconvert_exporter": "python",
   "pygments_lexer": "ipython3",
   "version": "3.6.3"
  }
 },
 "nbformat": 4,
 "nbformat_minor": 2
}
