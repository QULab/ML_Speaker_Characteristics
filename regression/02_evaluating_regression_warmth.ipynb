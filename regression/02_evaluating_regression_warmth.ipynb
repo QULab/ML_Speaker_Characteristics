{
 "cells": [
  {
   "cell_type": "markdown",
   "metadata": {},
   "source": [
    "## Evaluating regression techniques for speaker characterization\n",
    "### Laura Fernández Gallardo\n",
    "\n",
    "I am addressing the prediction of each of the 5 traits of interpersonal speaker [characteristics](https://github.com/laufergall/Subjective_Speaker_Characteristics): 'warmth', 'attractiveness', 'confidence', 'compliance', and 'maturity'. These were obtained after factor analysis on the 34-dimensional ratings of speaker characteristics.\n",
    "\n",
    "In this notebook, I will only only concentrate on the 'warmth' trait, while other notebooks deal with the detection of other characteristics and traits, or multi-output regression.\n",
    "\n",
    "I will consider the common RMSE (root mean squared error) as evaluation metric."
   ]
  },
  {
   "cell_type": "code",
   "execution_count": 4,
   "metadata": {
    "collapsed": true
   },
   "outputs": [],
   "source": [
    "import io\n",
    "import requests\n",
    "import time # for timestamps\n",
    "\n",
    "import numpy as np\n",
    "import pandas as pd\n",
    "from ast import literal_eval # parsing hp after tuner\n",
    "\n",
    "from reg_tuning import * # my helper functions\n",
    "\n",
    "from sklearn.preprocessing import StandardScaler\n",
    "from sklearn.model_selection import train_test_split\n",
    "\n",
    "import matplotlib.pyplot as plt\n",
    "import seaborn as sns\n",
    "\n",
    "%matplotlib inline"
   ]
  },
  {
   "cell_type": "code",
   "execution_count": 5,
   "metadata": {
    "collapsed": true
   },
   "outputs": [],
   "source": [
    "# fix random seed for reproducibility\n",
    "seed = 2302\n",
    "np.random.seed(seed)"
   ]
  },
  {
   "cell_type": "code",
   "execution_count": 6,
   "metadata": {
    "collapsed": true
   },
   "outputs": [],
   "source": [
    "# features and ratings from the regression task with 1d output\n",
    "\n",
    "feats_ratings_train = pd.read_csv(r'.\\data_while_tuning\\feats_ratings_train.csv')\n",
    "feats_ratings_test = pd.read_csv(r'.\\data_while_tuning\\feats_ratings_test.csv')\n",
    "\n",
    "sc_names = ['non_likable', 'secure', 'attractive', 'unsympathetic', 'indecisive', 'unobtrusive', 'distant', 'bored', 'emotional', 'not_irritated', 'active', 'pleasant', 'characterless', 'sociable', 'relaxed', 'affectionate', 'dominant', 'unaffected', 'hearty', 'old', 'personal', 'calm', 'incompetent', 'ugly', 'friendly', 'masculine', 'submissive', 'indifferent', 'interesting', 'cynical', 'artificial', 'intelligent', 'childish', 'modest']\n",
    "\n",
    "dropcolumns = ['name','spkID','speaker_gender'] + sc_names\n",
    "feats_names = list(feats_ratings_train.drop(dropcolumns, axis=1))"
   ]
  },
  {
   "cell_type": "markdown",
   "metadata": {},
   "source": [
    "## Speakers' WAAT\n",
    "\n",
    "WAAT (warmth-attractiveness) can be seen as the first two dimensions of the perceived speaker characteristics. Scaled scores (with mean = 0 and std = 1) of speakers on these dimensions were already extracted in the [subjective analysis](https://github.com/laufergall/Subjective_Speaker_Characteristics), for males and for females separately."
   ]
  },
  {
   "cell_type": "code",
   "execution_count": 7,
   "metadata": {
    "scrolled": false
   },
   "outputs": [
    {
     "data": {
      "text/html": [
       "<div>\n",
       "<style>\n",
       "    .dataframe thead tr:only-child th {\n",
       "        text-align: right;\n",
       "    }\n",
       "\n",
       "    .dataframe thead th {\n",
       "        text-align: left;\n",
       "    }\n",
       "\n",
       "    .dataframe tbody tr th {\n",
       "        vertical-align: top;\n",
       "    }\n",
       "</style>\n",
       "<table border=\"1\" class=\"dataframe\">\n",
       "  <thead>\n",
       "    <tr style=\"text-align: right;\">\n",
       "      <th></th>\n",
       "      <th>attractiveness</th>\n",
       "      <th>compliance</th>\n",
       "      <th>confidence</th>\n",
       "      <th>maturity</th>\n",
       "      <th>sample_heard</th>\n",
       "      <th>warmth</th>\n",
       "      <th>gender</th>\n",
       "      <th>spkID</th>\n",
       "    </tr>\n",
       "  </thead>\n",
       "  <tbody>\n",
       "    <tr>\n",
       "      <th>0</th>\n",
       "      <td>-0.579301</td>\n",
       "      <td>-0.921918</td>\n",
       "      <td>0.608503</td>\n",
       "      <td>0.276580</td>\n",
       "      <td>m004_linden_stimulus.wav</td>\n",
       "      <td>-0.284638</td>\n",
       "      <td>m</td>\n",
       "      <td>4</td>\n",
       "    </tr>\n",
       "    <tr>\n",
       "      <th>1</th>\n",
       "      <td>0.442865</td>\n",
       "      <td>-0.950212</td>\n",
       "      <td>0.588889</td>\n",
       "      <td>0.630295</td>\n",
       "      <td>m005_nicosia_stimulus.wav</td>\n",
       "      <td>-0.494019</td>\n",
       "      <td>m</td>\n",
       "      <td>5</td>\n",
       "    </tr>\n",
       "    <tr>\n",
       "      <th>2</th>\n",
       "      <td>-0.507534</td>\n",
       "      <td>0.139302</td>\n",
       "      <td>-0.151077</td>\n",
       "      <td>-0.669449</td>\n",
       "      <td>m006_rabat_stimulus.wav</td>\n",
       "      <td>1.533478</td>\n",
       "      <td>m</td>\n",
       "      <td>6</td>\n",
       "    </tr>\n",
       "    <tr>\n",
       "      <th>3</th>\n",
       "      <td>1.180748</td>\n",
       "      <td>-0.108982</td>\n",
       "      <td>0.962166</td>\n",
       "      <td>1.026359</td>\n",
       "      <td>m007_klaksvik_stimulus.wav</td>\n",
       "      <td>0.478983</td>\n",
       "      <td>m</td>\n",
       "      <td>7</td>\n",
       "    </tr>\n",
       "    <tr>\n",
       "      <th>4</th>\n",
       "      <td>1.070247</td>\n",
       "      <td>-0.284278</td>\n",
       "      <td>-0.875589</td>\n",
       "      <td>-1.291311</td>\n",
       "      <td>m016_beirut_stimulus.wav</td>\n",
       "      <td>1.861551</td>\n",
       "      <td>m</td>\n",
       "      <td>16</td>\n",
       "    </tr>\n",
       "  </tbody>\n",
       "</table>\n",
       "</div>"
      ],
      "text/plain": [
       "   attractiveness  compliance  confidence  maturity  \\\n",
       "0       -0.579301   -0.921918    0.608503  0.276580   \n",
       "1        0.442865   -0.950212    0.588889  0.630295   \n",
       "2       -0.507534    0.139302   -0.151077 -0.669449   \n",
       "3        1.180748   -0.108982    0.962166  1.026359   \n",
       "4        1.070247   -0.284278   -0.875589 -1.291311   \n",
       "\n",
       "                 sample_heard    warmth gender  spkID  \n",
       "0    m004_linden_stimulus.wav -0.284638      m      4  \n",
       "1   m005_nicosia_stimulus.wav -0.494019      m      5  \n",
       "2     m006_rabat_stimulus.wav  1.533478      m      6  \n",
       "3  m007_klaksvik_stimulus.wav  0.478983      m      7  \n",
       "4    m016_beirut_stimulus.wav  1.861551      m     16  "
      ]
     },
     "execution_count": 7,
     "metadata": {},
     "output_type": "execute_result"
    }
   ],
   "source": [
    "# speaker scores\n",
    "\n",
    "path = \"https://raw.githubusercontent.com/laufergall/Subjective_Speaker_Characteristics/master/data/generated_data/\"\n",
    "\n",
    "url = path + \"factorscores_malespk.csv\"\n",
    "s = requests.get(url).content\n",
    "scores_m =pd.read_csv(io.StringIO(s.decode('utf-8')))\n",
    "\n",
    "url = path + \"factorscores_femalespk.csv\"\n",
    "s = requests.get(url).content\n",
    "scores_f =pd.read_csv(io.StringIO(s.decode('utf-8')))\n",
    "\n",
    "# rename dimensions\n",
    "scores_m.columns = ['sample_heard', 'warmth', 'attractiveness', 'confidence', 'compliance', 'maturity']\n",
    "scores_f.columns = ['sample_heard', 'warmth', 'attractiveness', 'compliance', 'confidence', 'maturity']\n",
    "\n",
    "# join male and feame scores\n",
    "scores = scores_m.append(scores_f)\n",
    "scores['gender'] = scores['sample_heard'].str.slice(0,1)\n",
    "scores['spkID'] = scores['sample_heard'].str.slice(1,4).astype('int')\n",
    "\n",
    "scores.head()"
   ]
  },
  {
   "cell_type": "code",
   "execution_count": 8,
   "metadata": {
    "collapsed": true
   },
   "outputs": [],
   "source": [
    "# save names of speaker traits\n",
    "\n",
    "traits_names = list(scores.drop(['spkID','gender','sample_heard'], axis=1))\n",
    "\n",
    "myfile = open(r'.\\data_while_tuning\\traits_names.csv', 'w')\n",
    "for item in sc_names:\n",
    "    myfile.write(\"%r\\n\" % item)"
   ]
  },
  {
   "cell_type": "code",
   "execution_count": 9,
   "metadata": {
    "collapsed": true
   },
   "outputs": [],
   "source": [
    "# merge scores and features\n",
    "\n",
    "feats_ratings_scores_train = feats_ratings_train.merge(scores) # (2700, 132)\n",
    "feats_ratings_scores_test = feats_ratings_test.merge(scores) # (891, 132)\n",
    "\n",
    "# drop unnecessary columns\n",
    "feats_ratings_scores_train = feats_ratings_scores_train.drop(['speaker_gender','sample_heard'] + sc_names, axis = 1)\n",
    "feats_ratings_scores_test = feats_ratings_scores_test.drop(['speaker_gender','sample_heard'] + sc_names, axis = 1)\n",
    "\n",
    "# 'name' + 88 features + 5 traits + 'gender' + 'spkID'\n",
    "# shape train: (2700, 96), shape test: (891, 96) "
   ]
  },
  {
   "cell_type": "code",
   "execution_count": 10,
   "metadata": {
    "collapsed": true
   },
   "outputs": [],
   "source": [
    "# Standardize speech features  \n",
    "\n",
    "dropcolumns = ['name','gender','spkID'] + list(scores_m.columns)[1:]\n",
    "\n",
    "# learn transformation on training data\n",
    "scaler = StandardScaler()\n",
    "scaler.fit(feats_ratings_scores_train.drop(dropcolumns, axis=1))\n",
    "\n",
    "# numpy n_instances x n_feats\n",
    "feats_s_train = scaler.transform(feats_ratings_scores_train.drop(dropcolumns, axis=1))\n",
    "feats_s_test = scaler.transform(feats_ratings_scores_test.drop(dropcolumns, axis=1)) "
   ]
  },
  {
   "cell_type": "markdown",
   "metadata": {},
   "source": [
    "## Model tuning with feature selection\n",
    "\n",
    "Use the train data to find the classifier and its hyperparameters leading to the best performance. "
   ]
  },
  {
   "cell_type": "code",
   "execution_count": 11,
   "metadata": {
    "collapsed": true
   },
   "outputs": [],
   "source": [
    "target_trait = 'warmth'"
   ]
  },
  {
   "cell_type": "code",
   "execution_count": 12,
   "metadata": {},
   "outputs": [
    {
     "name": "stdout",
     "output_type": "stream",
     "text": [
      "Number of instances in A (hyperparameter tuning): 2160\n",
      "Number of instances in B (meta-evaluation): 540\n"
     ]
    }
   ],
   "source": [
    "# training data. Features and labels\n",
    "X = feats_s_train # (2700, 88)\n",
    "y = feats_ratings_scores_train[target_trait].as_matrix() # (2700, 2)\n",
    "\n",
    "# test data. Features and labels\n",
    "Xt = feats_s_test # (891, 88)\n",
    "yt = feats_ratings_scores_test[target_trait].as_matrix() # (891, 2)\n",
    "\n",
    "# split train data into 80% and 20% subsets - with balance in trait and gender\n",
    "# give subset A to the inner hyperparameter tuner\n",
    "# and hold out subset B for meta-evaluation\n",
    "AX, BX, Ay, By = train_test_split(X, y, test_size=0.20, stratify = feats_ratings_scores_train['gender'], random_state=2302)\n",
    "\n",
    "print('Number of instances in A (hyperparameter tuning):',AX.shape[0])\n",
    "print('Number of instances in B (meta-evaluation):',BX.shape[0])"
   ]
  },
  {
   "cell_type": "code",
   "execution_count": 13,
   "metadata": {
    "collapsed": true
   },
   "outputs": [],
   "source": [
    "# save splits\n",
    "\n",
    "# train/test partitions, features and labels\n",
    "np.save(r'.\\data_while_tuning\\X_' + target_trait + '.npy', X)\n",
    "np.save(r'.\\data_while_tuning\\y_' + target_trait + '.npy', y)\n",
    "np.save(r'.\\data_while_tuning\\Xt_' + target_trait + '.npy', Xt)\n",
    "np.save(r'.\\data_while_tuning\\yt_' + target_trait + '.npy', yt)\n",
    "\n",
    "# # A/B splits, features and labels\n",
    "np.save(r'.\\data_while_tuning\\AX_' + target_trait + '.npy', AX)\n",
    "np.save(r'.\\data_while_tuning\\BX_' + target_trait + '.npy', BX)\n",
    "np.save(r'.\\data_while_tuning\\Ay_' + target_trait + '.npy', Ay)\n",
    "np.save(r'.\\data_while_tuning\\By_' + target_trait + '.npy', By)"
   ]
  },
  {
   "cell_type": "code",
   "execution_count": 14,
   "metadata": {
    "collapsed": true
   },
   "outputs": [],
   "source": [
    "# dataframe with results from hp tuner to be appended\n",
    "tuning_all = pd.DataFrame()\n",
    "\n",
    "# list with tuned classifiers trained on training data, to be appended\n",
    "trained_all = []"
   ]
  },
  {
   "cell_type": "markdown",
   "metadata": {},
   "source": [
    "### Calling hp_tuner() for each target and each regressor\n",
    "\n",
    "** Recover ** when new ipynb session started.\n",
    "\n",
    "(Workaround for working with hyperparameter tuning during several days)"
   ]
  },
  {
   "cell_type": "code",
   "execution_count": null,
   "metadata": {
    "collapsed": true
   },
   "outputs": [],
   "source": [
    "# original features and ratings\n",
    "\n",
    "feats_ratings_train = pd.read_csv(r'.\\data_while_tuning\\feats_ratings_train.csv')\n",
    "\n",
    "feats_ratings_test = pd.read_csv(r'.\\data_while_tuning\\feats_ratings_test.csv')\n",
    "\n",
    "feats_names = pd.read_csv(r'.\\data_while_tuning\\feats_names.csv', header = None)\n",
    "feats_names = feats_names.values.tolist()\n",
    "\n",
    "traits_names = pd.read_csv(r'.\\data_while_tuning\\sc_names.csv', header = None)\n",
    "traits_names = traits_names.values.tolist()\n"
   ]
  },
  {
   "cell_type": "code",
   "execution_count": null,
   "metadata": {
    "collapsed": true
   },
   "outputs": [],
   "source": [
    "# select a trait\n",
    "# perform this on a loop later\n",
    "target_trait = traits_names[0][0].strip('\"\\'')\n",
    "\n",
    "# train/test partitions, features and labels\n",
    "X = np.load(r'.\\data_while_tuning\\X_' + target_trait + '.npy')\n",
    "y = np.load(r'.\\data_while_tuning\\y_' + target_trait + '.npy')\n",
    "Xt = np.load(r'.\\data_while_tuning\\Xt_' + target_trait + '.npy')\n",
    "yt = np.load(r'.\\data_while_tuning\\yt_' + target_trait + '.npy')\n",
    "\n",
    "# A/B splits, features and labels\n",
    "AX = np.load(r'.\\data_while_tuning\\AX_' + target_trait + '.npy')\n",
    "BX = np.load(r'.\\data_while_tuning\\BX_' + target_trait + '.npy')\n",
    "Ay = np.load(r'.\\data_while_tuning\\Ay_' + target_trait + '.npy')\n",
    "By = np.load(r'.\\data_while_tuning\\By_' + target_trait + '.npy')"
   ]
  },
  {
   "cell_type": "code",
   "execution_count": null,
   "metadata": {
    "collapsed": true
   },
   "outputs": [],
   "source": [
    "# Loading outpus of hp tuning from disk\n",
    "tuning_all, trained_all = load_tuning(target_trait)"
   ]
  },
  {
   "cell_type": "markdown",
   "metadata": {},
   "source": [
    "Call this after each experiment **to recover later**: "
   ]
  },
  {
   "cell_type": "code",
   "execution_count": null,
   "metadata": {
    "collapsed": true
   },
   "outputs": [],
   "source": [
    "# save tuning_all (.csv) and trained_all (nameregressor.sav)\n",
    "save_tuning(tuning_all, trained_all, target_trait)"
   ]
  },
  {
   "cell_type": "code",
   "execution_count": null,
   "metadata": {
    "collapsed": true
   },
   "outputs": [],
   "source": [
    "from sklearn.linear_model import LinearRegression\n",
    "\n",
    "\"\"\"\n",
    "Linear Regression\n",
    "\"\"\"\n",
    "def get_LinearRegression2tune():\n",
    "\n",
    "    model = LinearRegression()\n",
    "    hp = dict()\n",
    "    return 'LinearRegression', model, hp\n",
    "\n",
    "# Hyperparameter tuning with this model\n",
    "tuning, trained = hp_tuner(AX, BX, Ay, By, \n",
    "                           [get_LinearRegression2tune], \n",
    "                           target_trait,\n",
    "                           feats_names,\n",
    "                           np.arange(1, AX.shape[1]), \n",
    "                           'grid')\n",
    "\n",
    "# update lists of tuning info and trained regressors\n",
    "tuning_all = tuning_all.append(tuning, ignore_index=True)\n",
    "trained_all.append(trained)"
   ]
  },
  {
   "cell_type": "code",
   "execution_count": null,
   "metadata": {
    "collapsed": true
   },
   "outputs": [],
   "source": []
  },
  {
   "cell_type": "code",
   "execution_count": null,
   "metadata": {
    "collapsed": true
   },
   "outputs": [],
   "source": []
  },
  {
   "cell_type": "code",
   "execution_count": null,
   "metadata": {
    "collapsed": true
   },
   "outputs": [],
   "source": []
  },
  {
   "cell_type": "code",
   "execution_count": null,
   "metadata": {
    "collapsed": true
   },
   "outputs": [],
   "source": []
  },
  {
   "cell_type": "code",
   "execution_count": null,
   "metadata": {
    "collapsed": true
   },
   "outputs": [],
   "source": []
  },
  {
   "cell_type": "code",
   "execution_count": 2,
   "metadata": {},
   "outputs": [],
   "source": [
    "import pandas as pd\n",
    "\n",
    "feats_ratings_scores_train = pd.read_csv(r'.\\data_while_tuning\\feats_ratings_scores_train.csv')\n",
    "feats_ratings_scores_test = pd.read_csv(r'.\\data_while_tuning\\feats_ratings_scores_test.csv')"
   ]
  },
  {
   "cell_type": "code",
   "execution_count": 3,
   "metadata": {},
   "outputs": [
    {
     "data": {
      "text/html": [
       "<div>\n",
       "<style>\n",
       "    .dataframe thead tr:only-child th {\n",
       "        text-align: right;\n",
       "    }\n",
       "\n",
       "    .dataframe thead th {\n",
       "        text-align: left;\n",
       "    }\n",
       "\n",
       "    .dataframe tbody tr th {\n",
       "        vertical-align: top;\n",
       "    }\n",
       "</style>\n",
       "<table border=\"1\" class=\"dataframe\">\n",
       "  <thead>\n",
       "    <tr style=\"text-align: right;\">\n",
       "      <th></th>\n",
       "      <th>name</th>\n",
       "      <th>F0semitoneFrom27.5Hz_sma3nz_amean</th>\n",
       "      <th>F0semitoneFrom27.5Hz_sma3nz_stddevNorm</th>\n",
       "      <th>F0semitoneFrom27.5Hz_sma3nz_percentile20.0</th>\n",
       "      <th>F0semitoneFrom27.5Hz_sma3nz_percentile50.0</th>\n",
       "      <th>F0semitoneFrom27.5Hz_sma3nz_percentile80.0</th>\n",
       "      <th>F0semitoneFrom27.5Hz_sma3nz_pctlrange0-2</th>\n",
       "      <th>F0semitoneFrom27.5Hz_sma3nz_meanRisingSlope</th>\n",
       "      <th>F0semitoneFrom27.5Hz_sma3nz_stddevRisingSlope</th>\n",
       "      <th>F0semitoneFrom27.5Hz_sma3nz_meanFallingSlope</th>\n",
       "      <th>...</th>\n",
       "      <th>MeanUnvoicedSegmentLength</th>\n",
       "      <th>StddevUnvoicedSegmentLength</th>\n",
       "      <th>equivalentSoundLevel_dBp</th>\n",
       "      <th>spkID</th>\n",
       "      <th>attractiveness</th>\n",
       "      <th>compliance</th>\n",
       "      <th>confidence</th>\n",
       "      <th>maturity</th>\n",
       "      <th>warmth</th>\n",
       "      <th>gender</th>\n",
       "    </tr>\n",
       "  </thead>\n",
       "  <tbody>\n",
       "    <tr>\n",
       "      <th>0</th>\n",
       "      <td>'m018_rotterdam_d5_01.wav'</td>\n",
       "      <td>24.66507</td>\n",
       "      <td>0.154307</td>\n",
       "      <td>21.50342</td>\n",
       "      <td>24.24933</td>\n",
       "      <td>28.13913</td>\n",
       "      <td>6.635715</td>\n",
       "      <td>174.9657</td>\n",
       "      <td>224.69610</td>\n",
       "      <td>56.81863</td>\n",
       "      <td>...</td>\n",
       "      <td>0.192258</td>\n",
       "      <td>0.318299</td>\n",
       "      <td>-33.36011</td>\n",
       "      <td>18</td>\n",
       "      <td>-0.108876</td>\n",
       "      <td>-1.550649</td>\n",
       "      <td>1.035135</td>\n",
       "      <td>-0.723008</td>\n",
       "      <td>-0.754499</td>\n",
       "      <td>m</td>\n",
       "    </tr>\n",
       "    <tr>\n",
       "      <th>1</th>\n",
       "      <td>'m018_rotterdam_d5_02.wav'</td>\n",
       "      <td>26.94494</td>\n",
       "      <td>0.252551</td>\n",
       "      <td>23.42789</td>\n",
       "      <td>25.06512</td>\n",
       "      <td>30.00163</td>\n",
       "      <td>6.573738</td>\n",
       "      <td>347.4387</td>\n",
       "      <td>952.59950</td>\n",
       "      <td>225.47440</td>\n",
       "      <td>...</td>\n",
       "      <td>0.206333</td>\n",
       "      <td>0.288438</td>\n",
       "      <td>-33.65467</td>\n",
       "      <td>18</td>\n",
       "      <td>-0.108876</td>\n",
       "      <td>-1.550649</td>\n",
       "      <td>1.035135</td>\n",
       "      <td>-0.723008</td>\n",
       "      <td>-0.754499</td>\n",
       "      <td>m</td>\n",
       "    </tr>\n",
       "    <tr>\n",
       "      <th>2</th>\n",
       "      <td>'m018_rotterdam_d5_03.wav'</td>\n",
       "      <td>25.49493</td>\n",
       "      <td>0.200455</td>\n",
       "      <td>23.14930</td>\n",
       "      <td>25.76720</td>\n",
       "      <td>28.17774</td>\n",
       "      <td>5.028440</td>\n",
       "      <td>129.9314</td>\n",
       "      <td>96.66322</td>\n",
       "      <td>106.00740</td>\n",
       "      <td>...</td>\n",
       "      <td>0.490588</td>\n",
       "      <td>0.572810</td>\n",
       "      <td>-35.34972</td>\n",
       "      <td>18</td>\n",
       "      <td>-0.108876</td>\n",
       "      <td>-1.550649</td>\n",
       "      <td>1.035135</td>\n",
       "      <td>-0.723008</td>\n",
       "      <td>-0.754499</td>\n",
       "      <td>m</td>\n",
       "    </tr>\n",
       "    <tr>\n",
       "      <th>3</th>\n",
       "      <td>'m018_rotterdam_d6_01.wav'</td>\n",
       "      <td>26.37638</td>\n",
       "      <td>0.269255</td>\n",
       "      <td>23.20990</td>\n",
       "      <td>25.70293</td>\n",
       "      <td>28.59468</td>\n",
       "      <td>5.384777</td>\n",
       "      <td>197.6909</td>\n",
       "      <td>145.60620</td>\n",
       "      <td>73.44101</td>\n",
       "      <td>...</td>\n",
       "      <td>0.291429</td>\n",
       "      <td>0.481637</td>\n",
       "      <td>-33.43142</td>\n",
       "      <td>18</td>\n",
       "      <td>-0.108876</td>\n",
       "      <td>-1.550649</td>\n",
       "      <td>1.035135</td>\n",
       "      <td>-0.723008</td>\n",
       "      <td>-0.754499</td>\n",
       "      <td>m</td>\n",
       "    </tr>\n",
       "    <tr>\n",
       "      <th>4</th>\n",
       "      <td>'m018_rotterdam_d6_02.wav'</td>\n",
       "      <td>26.74776</td>\n",
       "      <td>0.224750</td>\n",
       "      <td>23.83732</td>\n",
       "      <td>25.42774</td>\n",
       "      <td>29.04288</td>\n",
       "      <td>5.205564</td>\n",
       "      <td>107.6499</td>\n",
       "      <td>136.27540</td>\n",
       "      <td>451.42740</td>\n",
       "      <td>...</td>\n",
       "      <td>0.350667</td>\n",
       "      <td>0.495358</td>\n",
       "      <td>-32.69361</td>\n",
       "      <td>18</td>\n",
       "      <td>-0.108876</td>\n",
       "      <td>-1.550649</td>\n",
       "      <td>1.035135</td>\n",
       "      <td>-0.723008</td>\n",
       "      <td>-0.754499</td>\n",
       "      <td>m</td>\n",
       "    </tr>\n",
       "  </tbody>\n",
       "</table>\n",
       "<p>5 rows × 96 columns</p>\n",
       "</div>"
      ],
      "text/plain": [
       "                         name  F0semitoneFrom27.5Hz_sma3nz_amean  \\\n",
       "0  'm018_rotterdam_d5_01.wav'                           24.66507   \n",
       "1  'm018_rotterdam_d5_02.wav'                           26.94494   \n",
       "2  'm018_rotterdam_d5_03.wav'                           25.49493   \n",
       "3  'm018_rotterdam_d6_01.wav'                           26.37638   \n",
       "4  'm018_rotterdam_d6_02.wav'                           26.74776   \n",
       "\n",
       "   F0semitoneFrom27.5Hz_sma3nz_stddevNorm  \\\n",
       "0                                0.154307   \n",
       "1                                0.252551   \n",
       "2                                0.200455   \n",
       "3                                0.269255   \n",
       "4                                0.224750   \n",
       "\n",
       "   F0semitoneFrom27.5Hz_sma3nz_percentile20.0  \\\n",
       "0                                    21.50342   \n",
       "1                                    23.42789   \n",
       "2                                    23.14930   \n",
       "3                                    23.20990   \n",
       "4                                    23.83732   \n",
       "\n",
       "   F0semitoneFrom27.5Hz_sma3nz_percentile50.0  \\\n",
       "0                                    24.24933   \n",
       "1                                    25.06512   \n",
       "2                                    25.76720   \n",
       "3                                    25.70293   \n",
       "4                                    25.42774   \n",
       "\n",
       "   F0semitoneFrom27.5Hz_sma3nz_percentile80.0  \\\n",
       "0                                    28.13913   \n",
       "1                                    30.00163   \n",
       "2                                    28.17774   \n",
       "3                                    28.59468   \n",
       "4                                    29.04288   \n",
       "\n",
       "   F0semitoneFrom27.5Hz_sma3nz_pctlrange0-2  \\\n",
       "0                                  6.635715   \n",
       "1                                  6.573738   \n",
       "2                                  5.028440   \n",
       "3                                  5.384777   \n",
       "4                                  5.205564   \n",
       "\n",
       "   F0semitoneFrom27.5Hz_sma3nz_meanRisingSlope  \\\n",
       "0                                     174.9657   \n",
       "1                                     347.4387   \n",
       "2                                     129.9314   \n",
       "3                                     197.6909   \n",
       "4                                     107.6499   \n",
       "\n",
       "   F0semitoneFrom27.5Hz_sma3nz_stddevRisingSlope  \\\n",
       "0                                      224.69610   \n",
       "1                                      952.59950   \n",
       "2                                       96.66322   \n",
       "3                                      145.60620   \n",
       "4                                      136.27540   \n",
       "\n",
       "   F0semitoneFrom27.5Hz_sma3nz_meanFallingSlope   ...    \\\n",
       "0                                      56.81863   ...     \n",
       "1                                     225.47440   ...     \n",
       "2                                     106.00740   ...     \n",
       "3                                      73.44101   ...     \n",
       "4                                     451.42740   ...     \n",
       "\n",
       "   MeanUnvoicedSegmentLength  StddevUnvoicedSegmentLength  \\\n",
       "0                   0.192258                     0.318299   \n",
       "1                   0.206333                     0.288438   \n",
       "2                   0.490588                     0.572810   \n",
       "3                   0.291429                     0.481637   \n",
       "4                   0.350667                     0.495358   \n",
       "\n",
       "   equivalentSoundLevel_dBp  spkID  attractiveness  compliance  confidence  \\\n",
       "0                 -33.36011     18       -0.108876   -1.550649    1.035135   \n",
       "1                 -33.65467     18       -0.108876   -1.550649    1.035135   \n",
       "2                 -35.34972     18       -0.108876   -1.550649    1.035135   \n",
       "3                 -33.43142     18       -0.108876   -1.550649    1.035135   \n",
       "4                 -32.69361     18       -0.108876   -1.550649    1.035135   \n",
       "\n",
       "   maturity    warmth  gender  \n",
       "0 -0.723008 -0.754499       m  \n",
       "1 -0.723008 -0.754499       m  \n",
       "2 -0.723008 -0.754499       m  \n",
       "3 -0.723008 -0.754499       m  \n",
       "4 -0.723008 -0.754499       m  \n",
       "\n",
       "[5 rows x 96 columns]"
      ]
     },
     "execution_count": 3,
     "metadata": {},
     "output_type": "execute_result"
    }
   ],
   "source": [
    "feats_ratings_scores_test.head()"
   ]
  },
  {
   "cell_type": "code",
   "execution_count": null,
   "metadata": {
    "collapsed": true
   },
   "outputs": [],
   "source": []
  },
  {
   "cell_type": "code",
   "execution_count": null,
   "metadata": {
    "collapsed": true
   },
   "outputs": [],
   "source": []
  },
  {
   "cell_type": "code",
   "execution_count": null,
   "metadata": {
    "collapsed": true
   },
   "outputs": [],
   "source": []
  }
 ],
 "metadata": {
  "kernelspec": {
   "display_name": "Python 3",
   "language": "python",
   "name": "python3"
  },
  "language_info": {
   "codemirror_mode": {
    "name": "ipython",
    "version": 3
   },
   "file_extension": ".py",
   "mimetype": "text/x-python",
   "name": "python",
   "nbconvert_exporter": "python",
   "pygments_lexer": "ipython3",
   "version": "3.6.3"
  }
 },
 "nbformat": 4,
 "nbformat_minor": 2
}
